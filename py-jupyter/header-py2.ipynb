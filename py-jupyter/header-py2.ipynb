{
 "cells": [
  {
   "cell_type": "markdown",
   "metadata": {},
   "source": [
    "### Notebook summary\n",
    "Common header info that is used in multiple notebooks \n"
   ]
  },
  {
   "cell_type": "code",
   "execution_count": 2,
   "metadata": {},
   "outputs": [
    {
     "name": "stdout",
     "output_type": "stream",
     "text": [
      "python.version =  2.7.12\n",
      "ipython.version = (5, 5, 0, '')\n",
      "numpy.version =  1.13.3\n",
      "pandas.version =  0.20.3\n",
      "sklearn.version =  0.19.1\n",
      "matplotlib.version =  2.1.0\n",
      "seaborn.version =  0.8.1\n"
     ]
    }
   ],
   "source": [
    "# display output from all cmds just like Python shell\n",
    "from IPython.core.interactiveshell import InteractiveShell\n",
    "InteractiveShell.ast_node_interactivity = \"all\"\n",
    "\n",
    "import platform\n",
    "import IPython\n",
    "\n",
    "import numpy as np\n",
    "import pandas as pd\n",
    "import sklearn\n",
    "\n",
    "%matplotlib inline\n",
    "%config InlineBackend.figure_format = 'retina'\n",
    "import matplotlib\n",
    "import matplotlib.pyplot as plt\n",
    "import seaborn as sns\n",
    "\n",
    "\n",
    "print 'python.version = ', platform.python_version()\n",
    "print 'ipython.version =', IPython.version_info\n",
    "print 'numpy.version = ', np.__version__\n",
    "print 'pandas.version = ', pd.__version__\n",
    "print 'sklearn.version = ', sklearn.__version__\n",
    "print 'matplotlib.version = ', matplotlib.__version__\n",
    "print 'seaborn.version = ', sns.__version__\n"
   ]
  }
 ],
 "metadata": {
  "kernelspec": {
   "display_name": "Python 2",
   "language": "python",
   "name": "python2"
  },
  "language_info": {
   "codemirror_mode": {
    "name": "ipython",
    "version": 2
   },
   "file_extension": ".py",
   "mimetype": "text/x-python",
   "name": "python",
   "nbconvert_exporter": "python",
   "pygments_lexer": "ipython2",
   "version": "2.7.12"
  }
 },
 "nbformat": 4,
 "nbformat_minor": 1
}
