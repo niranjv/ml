{
 "cells": [
  {
   "cell_type": "markdown",
   "metadata": {},
   "source": [
    "## Task\n",
    "Explore I/O in Python std lib, NumPy & pandas\n",
    "\n",
    "## Notebook summary \n",
    "* **[CSV](#csv)**\n",
    " * Python std lib: `csv` module (converts all fields to strings)\n",
    " * NumPy: `numpy.loadtxt` & `numpy.savetxt` (can handle only numeric fields)\n",
    " * `read_csv` (automatically determines field types), `to_csv`, `from_csv`\n",
    "* **[JSON](#json)** - `loads`, `dumps`, `read_json`\n",
    "* **[HDF5](#hdf5)** \n",
    " * [`h5py`](#h5py)\n",
    " * [`PyTables`](#pytables)\n",
    " * [`pandas.HDFStore`](#pdhdfstore)\n",
    "* **[Binary Serialization](#binary)**\n",
    " * [`pickle`](#pickle)\n",
    " * [`msgpack`](#msgpack)\n",
    "* **[DB](#db)** - import data from DB; requires SQL modules\n",
    "\n",
    "## References\n",
    "* *Python for Data Analysis*, Wes McKinney, O'Reilly, 2012\n",
    "* *Numerical Python*, Robert Johansson, APress, 2015\n",
    "* *Python Data Science Handbook*, Jake VanderPlas, O'Reilly, 2016\n"
   ]
  },
  {
   "cell_type": "code",
   "execution_count": 2,
   "metadata": {
    "collapsed": false
   },
   "outputs": [
    {
     "name": "stdout",
     "output_type": "stream",
     "text": [
      "python.version =  2.7.10\n",
      "ipython.version = (5, 1, 0, '')\n",
      "pandas.version =  0.19.2\n",
      "json.version = 2.0.9\n",
      "h5py.version = 2.6.0\n",
      "msgpack.version = (0, 4, 8)\n",
      "PyTables.version = 3.3.0\n",
      "sqlite3.version = 2.6.0\n"
     ]
    }
   ],
   "source": [
    "# display output from all cmds just like Python shell\n",
    "from IPython.core.interactiveshell import InteractiveShell\n",
    "InteractiveShell.ast_node_interactivity = \"all\"\n",
    "\n",
    "import platform\n",
    "print 'python.version = ', platform.python_version()\n",
    "import IPython\n",
    "print 'ipython.version =', IPython.version_info\n",
    "\n",
    "import pandas as pd\n",
    "print 'pandas.version = ', pd.__version__\n",
    "from pandas import Series, DataFrame\n",
    "\n",
    "import sys\n",
    "import json\n",
    "print 'json.version =', json.__version__\n",
    "\n",
    "import h5py\n",
    "print 'h5py.version =', h5py.__version__\n",
    "\n",
    "import msgpack\n",
    "print 'msgpack.version =', msgpack.version\n",
    "\n",
    "import tables\n",
    "print 'PyTables.version =', tables.__version__\n",
    "\n",
    "import pandas.io.sql as sql\n",
    "import sqlite3\n",
    "print 'sqlite3.version =', sqlite3.version\n",
    "\n",
    "from datetime import datetime\n"
   ]
  },
  {
   "cell_type": "code",
   "execution_count": 8,
   "metadata": {
    "collapsed": false
   },
   "outputs": [
    {
     "name": "stdout",
     "output_type": "stream",
     "text": [
      "\n",
      "----- Data in input file\n",
      ",Col1,Col2,Col3\r\n",
      "Row1,Val11,Val12,Val13\r\n",
      "Row2,Val21,Val22,Val23\r\n",
      "Row3,Val31,Val32,Val33\r\n"
     ]
    }
   ],
   "source": [
    "print '\\n----- Data in input file'\n",
    "!cat sample_data.csv\n"
   ]
  },
  {
   "cell_type": "markdown",
   "metadata": {},
   "source": [
    "<a id='csv' />\n",
    "## CSV"
   ]
  },
  {
   "cell_type": "code",
   "execution_count": 7,
   "metadata": {
    "collapsed": false
   },
   "outputs": [
    {
     "name": "stdout",
     "output_type": "stream",
     "text": [
      "\n",
      "----- read_csv with default options\n"
     ]
    },
    {
     "data": {
      "text/html": [
       "<div>\n",
       "<table border=\"1\" class=\"dataframe\">\n",
       "  <thead>\n",
       "    <tr style=\"text-align: right;\">\n",
       "      <th></th>\n",
       "      <th>Unnamed: 0</th>\n",
       "      <th>Col1</th>\n",
       "      <th>Col2</th>\n",
       "      <th>Col3</th>\n",
       "    </tr>\n",
       "  </thead>\n",
       "  <tbody>\n",
       "    <tr>\n",
       "      <th>0</th>\n",
       "      <td>Row1</td>\n",
       "      <td>Val11</td>\n",
       "      <td>Val12</td>\n",
       "      <td>Val13</td>\n",
       "    </tr>\n",
       "    <tr>\n",
       "      <th>1</th>\n",
       "      <td>Row2</td>\n",
       "      <td>Val21</td>\n",
       "      <td>Val22</td>\n",
       "      <td>Val23</td>\n",
       "    </tr>\n",
       "    <tr>\n",
       "      <th>2</th>\n",
       "      <td>Row3</td>\n",
       "      <td>Val31</td>\n",
       "      <td>Val32</td>\n",
       "      <td>Val33</td>\n",
       "    </tr>\n",
       "  </tbody>\n",
       "</table>\n",
       "</div>"
      ],
      "text/plain": [
       "  Unnamed: 0   Col1   Col2   Col3\n",
       "0       Row1  Val11  Val12  Val13\n",
       "1       Row2  Val21  Val22  Val23\n",
       "2       Row3  Val31  Val32  Val33"
      ]
     },
     "execution_count": 7,
     "metadata": {},
     "output_type": "execute_result"
    },
    {
     "name": "stdout",
     "output_type": "stream",
     "text": [
      "\n",
      "----- read_csv with header=None\n"
     ]
    },
    {
     "data": {
      "text/html": [
       "<div>\n",
       "<table border=\"1\" class=\"dataframe\">\n",
       "  <thead>\n",
       "    <tr style=\"text-align: right;\">\n",
       "      <th></th>\n",
       "      <th>0</th>\n",
       "      <th>1</th>\n",
       "      <th>2</th>\n",
       "      <th>3</th>\n",
       "    </tr>\n",
       "  </thead>\n",
       "  <tbody>\n",
       "    <tr>\n",
       "      <th>0</th>\n",
       "      <td>NaN</td>\n",
       "      <td>Col1</td>\n",
       "      <td>Col2</td>\n",
       "      <td>Col3</td>\n",
       "    </tr>\n",
       "    <tr>\n",
       "      <th>1</th>\n",
       "      <td>Row1</td>\n",
       "      <td>Val11</td>\n",
       "      <td>Val12</td>\n",
       "      <td>Val13</td>\n",
       "    </tr>\n",
       "    <tr>\n",
       "      <th>2</th>\n",
       "      <td>Row2</td>\n",
       "      <td>Val21</td>\n",
       "      <td>Val22</td>\n",
       "      <td>Val23</td>\n",
       "    </tr>\n",
       "    <tr>\n",
       "      <th>3</th>\n",
       "      <td>Row3</td>\n",
       "      <td>Val31</td>\n",
       "      <td>Val32</td>\n",
       "      <td>Val33</td>\n",
       "    </tr>\n",
       "  </tbody>\n",
       "</table>\n",
       "</div>"
      ],
      "text/plain": [
       "      0      1      2      3\n",
       "0   NaN   Col1   Col2   Col3\n",
       "1  Row1  Val11  Val12  Val13\n",
       "2  Row2  Val21  Val22  Val23\n",
       "3  Row3  Val31  Val32  Val33"
      ]
     },
     "execution_count": 7,
     "metadata": {},
     "output_type": "execute_result"
    },
    {
     "name": "stdout",
     "output_type": "stream",
     "text": [
      "\n",
      "----- read_csv with custom header names\n"
     ]
    },
    {
     "data": {
      "text/html": [
       "<div>\n",
       "<table border=\"1\" class=\"dataframe\">\n",
       "  <thead>\n",
       "    <tr style=\"text-align: right;\">\n",
       "      <th></th>\n",
       "      <th>H1</th>\n",
       "      <th>H2</th>\n",
       "      <th>H3</th>\n",
       "      <th>H4</th>\n",
       "    </tr>\n",
       "  </thead>\n",
       "  <tbody>\n",
       "    <tr>\n",
       "      <th>0</th>\n",
       "      <td>NaN</td>\n",
       "      <td>Col1</td>\n",
       "      <td>Col2</td>\n",
       "      <td>Col3</td>\n",
       "    </tr>\n",
       "    <tr>\n",
       "      <th>1</th>\n",
       "      <td>Row1</td>\n",
       "      <td>Val11</td>\n",
       "      <td>Val12</td>\n",
       "      <td>Val13</td>\n",
       "    </tr>\n",
       "    <tr>\n",
       "      <th>2</th>\n",
       "      <td>Row2</td>\n",
       "      <td>Val21</td>\n",
       "      <td>Val22</td>\n",
       "      <td>Val23</td>\n",
       "    </tr>\n",
       "    <tr>\n",
       "      <th>3</th>\n",
       "      <td>Row3</td>\n",
       "      <td>Val31</td>\n",
       "      <td>Val32</td>\n",
       "      <td>Val33</td>\n",
       "    </tr>\n",
       "  </tbody>\n",
       "</table>\n",
       "</div>"
      ],
      "text/plain": [
       "     H1     H2     H3     H4\n",
       "0   NaN   Col1   Col2   Col3\n",
       "1  Row1  Val11  Val12  Val13\n",
       "2  Row2  Val21  Val22  Val23\n",
       "3  Row3  Val31  Val32  Val33"
      ]
     },
     "execution_count": 7,
     "metadata": {},
     "output_type": "execute_result"
    }
   ],
   "source": [
    "# read_csv - import data from CSV file\n",
    "\n",
    "print '\\n----- read_csv with default options'\n",
    "pd.read_csv('sample_data.csv')\n",
    "\n",
    "print '\\n----- read_csv with header=None'\n",
    "pd.read_csv('sample_data.csv', header=None)\n",
    "\n",
    "print '\\n----- read_csv with custom header names'\n",
    "pd.read_csv('sample_data.csv', names=['H1','H2','H3','H4'])\n"
   ]
  },
  {
   "cell_type": "code",
   "execution_count": 8,
   "metadata": {
    "collapsed": false
   },
   "outputs": [
    {
     "name": "stdout",
     "output_type": "stream",
     "text": [
      "\n",
      "----- read_csv with row names in col 0\n"
     ]
    },
    {
     "data": {
      "text/html": [
       "<div>\n",
       "<table border=\"1\" class=\"dataframe\">\n",
       "  <thead>\n",
       "    <tr style=\"text-align: right;\">\n",
       "      <th></th>\n",
       "      <th>Col1</th>\n",
       "      <th>Col2</th>\n",
       "      <th>Col3</th>\n",
       "    </tr>\n",
       "  </thead>\n",
       "  <tbody>\n",
       "    <tr>\n",
       "      <th>Row1</th>\n",
       "      <td>Val11</td>\n",
       "      <td>Val12</td>\n",
       "      <td>Val13</td>\n",
       "    </tr>\n",
       "    <tr>\n",
       "      <th>Row2</th>\n",
       "      <td>Val21</td>\n",
       "      <td>Val22</td>\n",
       "      <td>Val23</td>\n",
       "    </tr>\n",
       "    <tr>\n",
       "      <th>Row3</th>\n",
       "      <td>Val31</td>\n",
       "      <td>Val32</td>\n",
       "      <td>Val33</td>\n",
       "    </tr>\n",
       "  </tbody>\n",
       "</table>\n",
       "</div>"
      ],
      "text/plain": [
       "       Col1   Col2   Col3\n",
       "Row1  Val11  Val12  Val13\n",
       "Row2  Val21  Val22  Val23\n",
       "Row3  Val31  Val32  Val33"
      ]
     },
     "execution_count": 8,
     "metadata": {},
     "output_type": "execute_result"
    },
    {
     "name": "stdout",
     "output_type": "stream",
     "text": [
      "\n",
      "----- read_csv with row names in col 1\n"
     ]
    },
    {
     "data": {
      "text/html": [
       "<div>\n",
       "<table border=\"1\" class=\"dataframe\">\n",
       "  <thead>\n",
       "    <tr style=\"text-align: right;\">\n",
       "      <th></th>\n",
       "      <th>Unnamed: 0</th>\n",
       "      <th>Col2</th>\n",
       "      <th>Col3</th>\n",
       "    </tr>\n",
       "    <tr>\n",
       "      <th>Col1</th>\n",
       "      <th></th>\n",
       "      <th></th>\n",
       "      <th></th>\n",
       "    </tr>\n",
       "  </thead>\n",
       "  <tbody>\n",
       "    <tr>\n",
       "      <th>Val11</th>\n",
       "      <td>Row1</td>\n",
       "      <td>Val12</td>\n",
       "      <td>Val13</td>\n",
       "    </tr>\n",
       "    <tr>\n",
       "      <th>Val21</th>\n",
       "      <td>Row2</td>\n",
       "      <td>Val22</td>\n",
       "      <td>Val23</td>\n",
       "    </tr>\n",
       "    <tr>\n",
       "      <th>Val31</th>\n",
       "      <td>Row3</td>\n",
       "      <td>Val32</td>\n",
       "      <td>Val33</td>\n",
       "    </tr>\n",
       "  </tbody>\n",
       "</table>\n",
       "</div>"
      ],
      "text/plain": [
       "      Unnamed: 0   Col2   Col3\n",
       "Col1                          \n",
       "Val11       Row1  Val12  Val13\n",
       "Val21       Row2  Val22  Val23\n",
       "Val31       Row3  Val32  Val33"
      ]
     },
     "execution_count": 8,
     "metadata": {},
     "output_type": "execute_result"
    },
    {
     "name": "stdout",
     "output_type": "stream",
     "text": [
      "\n",
      "----- read_csv with row names in col 0, skip first 2 rows\n"
     ]
    },
    {
     "data": {
      "text/html": [
       "<div>\n",
       "<table border=\"1\" class=\"dataframe\">\n",
       "  <thead>\n",
       "    <tr style=\"text-align: right;\">\n",
       "      <th></th>\n",
       "      <th>Col1</th>\n",
       "      <th>Col2</th>\n",
       "      <th>Col3</th>\n",
       "    </tr>\n",
       "  </thead>\n",
       "  <tbody>\n",
       "    <tr>\n",
       "      <th>Row1</th>\n",
       "      <td>Val11</td>\n",
       "      <td>Val12</td>\n",
       "      <td>Val13</td>\n",
       "    </tr>\n",
       "    <tr>\n",
       "      <th>Row3</th>\n",
       "      <td>Val31</td>\n",
       "      <td>Val32</td>\n",
       "      <td>Val33</td>\n",
       "    </tr>\n",
       "  </tbody>\n",
       "</table>\n",
       "</div>"
      ],
      "text/plain": [
       "       Col1   Col2   Col3\n",
       "Row1  Val11  Val12  Val13\n",
       "Row3  Val31  Val32  Val33"
      ]
     },
     "execution_count": 8,
     "metadata": {},
     "output_type": "execute_result"
    }
   ],
   "source": [
    "# read_csv - import data from CSV file\n",
    "\n",
    "print '\\n----- read_csv with row names in col 0'\n",
    "pd.read_csv('sample_data.csv', index_col=0)\n",
    "\n",
    "print '\\n----- read_csv with row names in col 1'\n",
    "pd.read_csv('sample_data.csv', index_col=1)\n",
    "\n",
    "print '\\n----- read_csv with row names in col 0, skip first 2 rows'\n",
    "pd.read_csv('sample_data.csv', index_col=0, skiprows=[2])\n",
    "    \n",
    "# Note: \n",
    "# Both Series and DataFrame have a from_csv() function that reads data from CSV file into the Series or DataFrame.\n",
    "# It's use is discouraged in favor of read_csv()\n",
    "\n",
    "# Use pd.info() to see the type to which each column in input file has been converted\n",
    "# ToDo\n"
   ]
  },
  {
   "cell_type": "code",
   "execution_count": 10,
   "metadata": {
    "collapsed": false
   },
   "outputs": [
    {
     "name": "stdout",
     "output_type": "stream",
     "text": [
      "\n",
      "----- read in chunks\n"
     ]
    },
    {
     "data": {
      "text/html": [
       "<div>\n",
       "<table border=\"1\" class=\"dataframe\">\n",
       "  <thead>\n",
       "    <tr style=\"text-align: right;\">\n",
       "      <th></th>\n",
       "      <th>Col1</th>\n",
       "      <th>Col2</th>\n",
       "      <th>Col3</th>\n",
       "    </tr>\n",
       "  </thead>\n",
       "  <tbody>\n",
       "    <tr>\n",
       "      <th>Row1</th>\n",
       "      <td>Val11</td>\n",
       "      <td>Val12</td>\n",
       "      <td>Val13</td>\n",
       "    </tr>\n",
       "    <tr>\n",
       "      <th>Row2</th>\n",
       "      <td>Val21</td>\n",
       "      <td>Val22</td>\n",
       "      <td>Val23</td>\n",
       "    </tr>\n",
       "  </tbody>\n",
       "</table>\n",
       "</div>"
      ],
      "text/plain": [
       "       Col1   Col2   Col3\n",
       "Row1  Val11  Val12  Val13\n",
       "Row2  Val21  Val22  Val23"
      ]
     },
     "execution_count": 10,
     "metadata": {},
     "output_type": "execute_result"
    },
    {
     "name": "stdout",
     "output_type": "stream",
     "text": [
      "part =  <pandas.io.parsers.TextFileReader object at 0x10940cc10>\n",
      "Part  0\n"
     ]
    },
    {
     "data": {
      "text/html": [
       "<div>\n",
       "<table border=\"1\" class=\"dataframe\">\n",
       "  <thead>\n",
       "    <tr style=\"text-align: right;\">\n",
       "      <th></th>\n",
       "      <th>Col1</th>\n",
       "      <th>Col2</th>\n",
       "      <th>Col3</th>\n",
       "    </tr>\n",
       "  </thead>\n",
       "  <tbody>\n",
       "    <tr>\n",
       "      <th>Row1</th>\n",
       "      <td>Val11</td>\n",
       "      <td>Val12</td>\n",
       "      <td>Val13</td>\n",
       "    </tr>\n",
       "    <tr>\n",
       "      <th>Row2</th>\n",
       "      <td>Val21</td>\n",
       "      <td>Val22</td>\n",
       "      <td>Val23</td>\n",
       "    </tr>\n",
       "  </tbody>\n",
       "</table>\n",
       "</div>"
      ],
      "text/plain": [
       "       Col1   Col2   Col3\n",
       "Row1  Val11  Val12  Val13\n",
       "Row2  Val21  Val22  Val23"
      ]
     },
     "execution_count": 10,
     "metadata": {},
     "output_type": "execute_result"
    },
    {
     "name": "stdout",
     "output_type": "stream",
     "text": [
      "Part  1\n"
     ]
    },
    {
     "data": {
      "text/html": [
       "<div>\n",
       "<table border=\"1\" class=\"dataframe\">\n",
       "  <thead>\n",
       "    <tr style=\"text-align: right;\">\n",
       "      <th></th>\n",
       "      <th>Col1</th>\n",
       "      <th>Col2</th>\n",
       "      <th>Col3</th>\n",
       "    </tr>\n",
       "  </thead>\n",
       "  <tbody>\n",
       "    <tr>\n",
       "      <th>Row3</th>\n",
       "      <td>Val31</td>\n",
       "      <td>Val32</td>\n",
       "      <td>Val33</td>\n",
       "    </tr>\n",
       "  </tbody>\n",
       "</table>\n",
       "</div>"
      ],
      "text/plain": [
       "       Col1   Col2   Col3\n",
       "Row3  Val31  Val32  Val33"
      ]
     },
     "execution_count": 10,
     "metadata": {},
     "output_type": "execute_result"
    }
   ],
   "source": [
    "# read csv file in chunks\n",
    "\n",
    "print '\\n----- read in chunks'\n",
    "pd.read_csv('sample_data.csv', index_col=0, nrows=2)\n",
    "part = pd.read_csv('sample_data.csv', index_col=0, chunksize=2)\n",
    "print 'part = ', part\n",
    "\n",
    "for i, p in enumerate(part):\n",
    "    print 'Part ', i\n",
    "    p\n"
   ]
  },
  {
   "cell_type": "code",
   "execution_count": 14,
   "metadata": {
    "collapsed": false,
    "scrolled": false
   },
   "outputs": [
    {
     "name": "stdout",
     "output_type": "stream",
     "text": [
      "\n",
      "----- Write df to CSV file\n",
      ",Unnamed: 0,Col1,Col2,Col3\r\n",
      "0,Row1,Val11,Val12,Val13\r\n",
      "1,Row2,Val21,Val22,Val23\r\n",
      "2,Row3,Val31,Val32,Val33\r\n"
     ]
    }
   ],
   "source": [
    "# to_csv\n",
    "\n",
    "print '\\n----- Write df to CSV file'\n",
    "pd.read_csv('sample_data.csv').to_csv('out.csv')\n",
    "! cat out.csv\n"
   ]
  },
  {
   "cell_type": "code",
   "execution_count": 3,
   "metadata": {
    "collapsed": false
   },
   "outputs": [
    {
     "name": "stdout",
     "output_type": "stream",
     "text": [
      "\n",
      "----- Write df to stdout\n"
     ]
    },
    {
     "ename": "IOError",
     "evalue": "File sample_data.csv does not exist",
     "output_type": "error",
     "traceback": [
      "\u001b[0;31m---------------------------------------------------------------------------\u001b[0m",
      "\u001b[0;31mIOError\u001b[0m                                   Traceback (most recent call last)",
      "\u001b[0;32m<ipython-input-3-f2f07927587d>\u001b[0m in \u001b[0;36m<module>\u001b[0;34m()\u001b[0m\n\u001b[1;32m      2\u001b[0m \u001b[0;34m\u001b[0m\u001b[0m\n\u001b[1;32m      3\u001b[0m \u001b[0;32mprint\u001b[0m \u001b[0;34m'\\n----- Write df to stdout'\u001b[0m\u001b[0;34m\u001b[0m\u001b[0m\n\u001b[0;32m----> 4\u001b[0;31m \u001b[0mpd\u001b[0m\u001b[0;34m.\u001b[0m\u001b[0mread_csv\u001b[0m\u001b[0;34m(\u001b[0m\u001b[0;34m'sample_data.csv'\u001b[0m\u001b[0;34m)\u001b[0m\u001b[0;34m.\u001b[0m\u001b[0mto_csv\u001b[0m\u001b[0;34m(\u001b[0m\u001b[0msys\u001b[0m\u001b[0;34m.\u001b[0m\u001b[0mstdout\u001b[0m\u001b[0;34m)\u001b[0m\u001b[0;34m\u001b[0m\u001b[0m\n\u001b[0m\u001b[1;32m      5\u001b[0m \u001b[0;32mprint\u001b[0m \u001b[0;34m'---'\u001b[0m\u001b[0;34m\u001b[0m\u001b[0m\n\u001b[1;32m      6\u001b[0m \u001b[0;34m\u001b[0m\u001b[0m\n",
      "\u001b[0;32m/Users/vissan1/GitHub/ml-tools-notes/venv/lib/python2.7/site-packages/pandas/io/parsers.pyc\u001b[0m in \u001b[0;36mparser_f\u001b[0;34m(filepath_or_buffer, sep, delimiter, header, names, index_col, usecols, squeeze, prefix, mangle_dupe_cols, dtype, engine, converters, true_values, false_values, skipinitialspace, skiprows, nrows, na_values, keep_default_na, na_filter, verbose, skip_blank_lines, parse_dates, infer_datetime_format, keep_date_col, date_parser, dayfirst, iterator, chunksize, compression, thousands, decimal, lineterminator, quotechar, quoting, escapechar, comment, encoding, dialect, tupleize_cols, error_bad_lines, warn_bad_lines, skipfooter, skip_footer, doublequote, delim_whitespace, as_recarray, compact_ints, use_unsigned, low_memory, buffer_lines, memory_map, float_precision)\u001b[0m\n\u001b[1;32m    644\u001b[0m                     skip_blank_lines=skip_blank_lines)\n\u001b[1;32m    645\u001b[0m \u001b[0;34m\u001b[0m\u001b[0m\n\u001b[0;32m--> 646\u001b[0;31m         \u001b[0;32mreturn\u001b[0m \u001b[0m_read\u001b[0m\u001b[0;34m(\u001b[0m\u001b[0mfilepath_or_buffer\u001b[0m\u001b[0;34m,\u001b[0m \u001b[0mkwds\u001b[0m\u001b[0;34m)\u001b[0m\u001b[0;34m\u001b[0m\u001b[0m\n\u001b[0m\u001b[1;32m    647\u001b[0m \u001b[0;34m\u001b[0m\u001b[0m\n\u001b[1;32m    648\u001b[0m     \u001b[0mparser_f\u001b[0m\u001b[0;34m.\u001b[0m\u001b[0m__name__\u001b[0m \u001b[0;34m=\u001b[0m \u001b[0mname\u001b[0m\u001b[0;34m\u001b[0m\u001b[0m\n",
      "\u001b[0;32m/Users/vissan1/GitHub/ml-tools-notes/venv/lib/python2.7/site-packages/pandas/io/parsers.pyc\u001b[0m in \u001b[0;36m_read\u001b[0;34m(filepath_or_buffer, kwds)\u001b[0m\n\u001b[1;32m    387\u001b[0m \u001b[0;34m\u001b[0m\u001b[0m\n\u001b[1;32m    388\u001b[0m     \u001b[0;31m# Create the parser.\u001b[0m\u001b[0;34m\u001b[0m\u001b[0;34m\u001b[0m\u001b[0m\n\u001b[0;32m--> 389\u001b[0;31m     \u001b[0mparser\u001b[0m \u001b[0;34m=\u001b[0m \u001b[0mTextFileReader\u001b[0m\u001b[0;34m(\u001b[0m\u001b[0mfilepath_or_buffer\u001b[0m\u001b[0;34m,\u001b[0m \u001b[0;34m**\u001b[0m\u001b[0mkwds\u001b[0m\u001b[0;34m)\u001b[0m\u001b[0;34m\u001b[0m\u001b[0m\n\u001b[0m\u001b[1;32m    390\u001b[0m \u001b[0;34m\u001b[0m\u001b[0m\n\u001b[1;32m    391\u001b[0m     \u001b[0;32mif\u001b[0m \u001b[0;34m(\u001b[0m\u001b[0mnrows\u001b[0m \u001b[0;32mis\u001b[0m \u001b[0;32mnot\u001b[0m \u001b[0mNone\u001b[0m\u001b[0;34m)\u001b[0m \u001b[0;32mand\u001b[0m \u001b[0;34m(\u001b[0m\u001b[0mchunksize\u001b[0m \u001b[0;32mis\u001b[0m \u001b[0;32mnot\u001b[0m \u001b[0mNone\u001b[0m\u001b[0;34m)\u001b[0m\u001b[0;34m:\u001b[0m\u001b[0;34m\u001b[0m\u001b[0m\n",
      "\u001b[0;32m/Users/vissan1/GitHub/ml-tools-notes/venv/lib/python2.7/site-packages/pandas/io/parsers.pyc\u001b[0m in \u001b[0;36m__init__\u001b[0;34m(self, f, engine, **kwds)\u001b[0m\n\u001b[1;32m    728\u001b[0m             \u001b[0mself\u001b[0m\u001b[0;34m.\u001b[0m\u001b[0moptions\u001b[0m\u001b[0;34m[\u001b[0m\u001b[0;34m'has_index_names'\u001b[0m\u001b[0;34m]\u001b[0m \u001b[0;34m=\u001b[0m \u001b[0mkwds\u001b[0m\u001b[0;34m[\u001b[0m\u001b[0;34m'has_index_names'\u001b[0m\u001b[0;34m]\u001b[0m\u001b[0;34m\u001b[0m\u001b[0m\n\u001b[1;32m    729\u001b[0m \u001b[0;34m\u001b[0m\u001b[0m\n\u001b[0;32m--> 730\u001b[0;31m         \u001b[0mself\u001b[0m\u001b[0;34m.\u001b[0m\u001b[0m_make_engine\u001b[0m\u001b[0;34m(\u001b[0m\u001b[0mself\u001b[0m\u001b[0;34m.\u001b[0m\u001b[0mengine\u001b[0m\u001b[0;34m)\u001b[0m\u001b[0;34m\u001b[0m\u001b[0m\n\u001b[0m\u001b[1;32m    731\u001b[0m \u001b[0;34m\u001b[0m\u001b[0m\n\u001b[1;32m    732\u001b[0m     \u001b[0;32mdef\u001b[0m \u001b[0mclose\u001b[0m\u001b[0;34m(\u001b[0m\u001b[0mself\u001b[0m\u001b[0;34m)\u001b[0m\u001b[0;34m:\u001b[0m\u001b[0;34m\u001b[0m\u001b[0m\n",
      "\u001b[0;32m/Users/vissan1/GitHub/ml-tools-notes/venv/lib/python2.7/site-packages/pandas/io/parsers.pyc\u001b[0m in \u001b[0;36m_make_engine\u001b[0;34m(self, engine)\u001b[0m\n\u001b[1;32m    921\u001b[0m     \u001b[0;32mdef\u001b[0m \u001b[0m_make_engine\u001b[0m\u001b[0;34m(\u001b[0m\u001b[0mself\u001b[0m\u001b[0;34m,\u001b[0m \u001b[0mengine\u001b[0m\u001b[0;34m=\u001b[0m\u001b[0;34m'c'\u001b[0m\u001b[0;34m)\u001b[0m\u001b[0;34m:\u001b[0m\u001b[0;34m\u001b[0m\u001b[0m\n\u001b[1;32m    922\u001b[0m         \u001b[0;32mif\u001b[0m \u001b[0mengine\u001b[0m \u001b[0;34m==\u001b[0m \u001b[0;34m'c'\u001b[0m\u001b[0;34m:\u001b[0m\u001b[0;34m\u001b[0m\u001b[0m\n\u001b[0;32m--> 923\u001b[0;31m             \u001b[0mself\u001b[0m\u001b[0;34m.\u001b[0m\u001b[0m_engine\u001b[0m \u001b[0;34m=\u001b[0m \u001b[0mCParserWrapper\u001b[0m\u001b[0;34m(\u001b[0m\u001b[0mself\u001b[0m\u001b[0;34m.\u001b[0m\u001b[0mf\u001b[0m\u001b[0;34m,\u001b[0m \u001b[0;34m**\u001b[0m\u001b[0mself\u001b[0m\u001b[0;34m.\u001b[0m\u001b[0moptions\u001b[0m\u001b[0;34m)\u001b[0m\u001b[0;34m\u001b[0m\u001b[0m\n\u001b[0m\u001b[1;32m    924\u001b[0m         \u001b[0;32melse\u001b[0m\u001b[0;34m:\u001b[0m\u001b[0;34m\u001b[0m\u001b[0m\n\u001b[1;32m    925\u001b[0m             \u001b[0;32mif\u001b[0m \u001b[0mengine\u001b[0m \u001b[0;34m==\u001b[0m \u001b[0;34m'python'\u001b[0m\u001b[0;34m:\u001b[0m\u001b[0;34m\u001b[0m\u001b[0m\n",
      "\u001b[0;32m/Users/vissan1/GitHub/ml-tools-notes/venv/lib/python2.7/site-packages/pandas/io/parsers.pyc\u001b[0m in \u001b[0;36m__init__\u001b[0;34m(self, src, **kwds)\u001b[0m\n\u001b[1;32m   1388\u001b[0m         \u001b[0mkwds\u001b[0m\u001b[0;34m[\u001b[0m\u001b[0;34m'allow_leading_cols'\u001b[0m\u001b[0;34m]\u001b[0m \u001b[0;34m=\u001b[0m \u001b[0mself\u001b[0m\u001b[0;34m.\u001b[0m\u001b[0mindex_col\u001b[0m \u001b[0;32mis\u001b[0m \u001b[0;32mnot\u001b[0m \u001b[0mFalse\u001b[0m\u001b[0;34m\u001b[0m\u001b[0m\n\u001b[1;32m   1389\u001b[0m \u001b[0;34m\u001b[0m\u001b[0m\n\u001b[0;32m-> 1390\u001b[0;31m         \u001b[0mself\u001b[0m\u001b[0;34m.\u001b[0m\u001b[0m_reader\u001b[0m \u001b[0;34m=\u001b[0m \u001b[0m_parser\u001b[0m\u001b[0;34m.\u001b[0m\u001b[0mTextReader\u001b[0m\u001b[0;34m(\u001b[0m\u001b[0msrc\u001b[0m\u001b[0;34m,\u001b[0m \u001b[0;34m**\u001b[0m\u001b[0mkwds\u001b[0m\u001b[0;34m)\u001b[0m\u001b[0;34m\u001b[0m\u001b[0m\n\u001b[0m\u001b[1;32m   1391\u001b[0m \u001b[0;34m\u001b[0m\u001b[0m\n\u001b[1;32m   1392\u001b[0m         \u001b[0;31m# XXX\u001b[0m\u001b[0;34m\u001b[0m\u001b[0;34m\u001b[0m\u001b[0m\n",
      "\u001b[0;32mpandas/parser.pyx\u001b[0m in \u001b[0;36mpandas.parser.TextReader.__cinit__ (pandas/parser.c:4184)\u001b[0;34m()\u001b[0m\n",
      "\u001b[0;32mpandas/parser.pyx\u001b[0m in \u001b[0;36mpandas.parser.TextReader._setup_parser_source (pandas/parser.c:8449)\u001b[0;34m()\u001b[0m\n",
      "\u001b[0;31mIOError\u001b[0m: File sample_data.csv does not exist"
     ]
    }
   ],
   "source": [
    "# to_csv\n",
    "\n",
    "print '\\n----- Write df to stdout'\n",
    "pd.read_csv('sample_data.csv').to_csv(sys.stdout)\n",
    "print '---'\n",
    "\n",
    "print '\\n----- Write df to stdout w/o row names & header'\n",
    "pd.read_csv('sample_data.csv').to_csv(sys.stdout, index=False, header=False)\n",
    "print '---' \n",
    "\n",
    "print '\\n----- Write only Col1 to stdout w/o row names'\n",
    "pd.read_csv('sample_data.csv').to_csv(sys.stdout, index=False, columns=['Col1'])\n",
    "\n",
    "\n",
    "# Save to binary format\n",
    "pd.read_csv('sample_data.csv').to_pickle('csv-pickled.out')\n"
   ]
  },
  {
   "cell_type": "markdown",
   "metadata": {},
   "source": [
    "<a id='json' />\n",
    "## JSON"
   ]
  },
  {
   "cell_type": "code",
   "execution_count": 7,
   "metadata": {
    "collapsed": false
   },
   "outputs": [
    {
     "name": "stdout",
     "output_type": "stream",
     "text": [
      "----- import JSON using DataFrame(json.loads)\n"
     ]
    },
    {
     "data": {
      "text/plain": [
       "[{u'age': 99,\n",
       "  u'city': u'MyCity',\n",
       "  u'country': u'MyCountry',\n",
       "  u'name': u'MyName'},\n",
       " {u'age': 100,\n",
       "  u'city': u'YourTown',\n",
       "  u'country': u'YourRepublic',\n",
       "  u'name': u'YourName'}]"
      ]
     },
     "execution_count": 7,
     "metadata": {},
     "output_type": "execute_result"
    },
    {
     "data": {
      "text/html": [
       "<div>\n",
       "<table border=\"1\" class=\"dataframe\">\n",
       "  <thead>\n",
       "    <tr style=\"text-align: right;\">\n",
       "      <th></th>\n",
       "      <th>age</th>\n",
       "      <th>city</th>\n",
       "      <th>country</th>\n",
       "      <th>name</th>\n",
       "    </tr>\n",
       "  </thead>\n",
       "  <tbody>\n",
       "    <tr>\n",
       "      <th>Me</th>\n",
       "      <td>99</td>\n",
       "      <td>MyCity</td>\n",
       "      <td>MyCountry</td>\n",
       "      <td>MyName</td>\n",
       "    </tr>\n",
       "    <tr>\n",
       "      <th>You</th>\n",
       "      <td>100</td>\n",
       "      <td>YourTown</td>\n",
       "      <td>YourRepublic</td>\n",
       "      <td>YourName</td>\n",
       "    </tr>\n",
       "  </tbody>\n",
       "</table>\n",
       "</div>"
      ],
      "text/plain": [
       "     age      city       country      name\n",
       "Me    99    MyCity     MyCountry    MyName\n",
       "You  100  YourTown  YourRepublic  YourName"
      ]
     },
     "execution_count": 7,
     "metadata": {},
     "output_type": "execute_result"
    },
    {
     "name": "stdout",
     "output_type": "stream",
     "text": [
      "\n",
      "----- Import JSON using pd.read_json\n"
     ]
    },
    {
     "data": {
      "text/html": [
       "<div>\n",
       "<table border=\"1\" class=\"dataframe\">\n",
       "  <thead>\n",
       "    <tr style=\"text-align: right;\">\n",
       "      <th></th>\n",
       "      <th>age</th>\n",
       "      <th>city</th>\n",
       "      <th>country</th>\n",
       "      <th>name</th>\n",
       "    </tr>\n",
       "  </thead>\n",
       "  <tbody>\n",
       "    <tr>\n",
       "      <th>0</th>\n",
       "      <td>99</td>\n",
       "      <td>MyCity</td>\n",
       "      <td>MyCountry</td>\n",
       "      <td>MyName</td>\n",
       "    </tr>\n",
       "    <tr>\n",
       "      <th>1</th>\n",
       "      <td>100</td>\n",
       "      <td>YourTown</td>\n",
       "      <td>YourRepublic</td>\n",
       "      <td>YourName</td>\n",
       "    </tr>\n",
       "  </tbody>\n",
       "</table>\n",
       "</div>"
      ],
      "text/plain": [
       "   age      city       country      name\n",
       "0   99    MyCity     MyCountry    MyName\n",
       "1  100  YourTown  YourRepublic  YourName"
      ]
     },
     "execution_count": 7,
     "metadata": {},
     "output_type": "execute_result"
    }
   ],
   "source": [
    "# loads, read_json, to_json\n",
    "\n",
    "myjson = \"\"\"\n",
    "[{\n",
    "\"name\": \"MyName\",\n",
    "\"age\": 99,\n",
    "\"city\": \"MyCity\",\n",
    "\"country\": \"MyCountry\"\n",
    "},\n",
    "{\n",
    "\"name\": \"YourName\",\n",
    "\"age\": 100,\n",
    "\"city\": \"YourTown\",\n",
    "\"country\": \"YourRepublic\"\n",
    "}\n",
    "]\n",
    "\"\"\"\n",
    "\n",
    "print '----- import JSON using DataFrame(json.loads)'\n",
    "json.loads(myjson)\n",
    "DataFrame(json.loads(myjson), index=['Me', 'You']) \n",
    "\n",
    "print '\\n----- Import JSON using pd.read_json'\n",
    "df = pd.read_json(myjson, typ='frame')\n",
    "df\n"
   ]
  },
  {
   "cell_type": "code",
   "execution_count": 48,
   "metadata": {
    "collapsed": false
   },
   "outputs": [
    {
     "name": "stdout",
     "output_type": "stream",
     "text": [
      "\n",
      "----- convert DataFrame to JSON\n"
     ]
    },
    {
     "data": {
      "text/plain": [
       "'{\"age\":{\"0\":99,\"1\":100},\"city\":{\"0\":\"MyCity\",\"1\":\"YourTown\"},\"country\":{\"0\":\"MyCountry\",\"1\":\"YourRepublic\"},\"name\":{\"0\":\"MyName\",\"1\":\"YourName\"}}'"
      ]
     },
     "execution_count": 48,
     "metadata": {},
     "output_type": "execute_result"
    },
    {
     "name": "stdout",
     "output_type": "stream",
     "text": [
      "\n",
      "----- Import JSON time series into pd.Series object\n"
     ]
    },
    {
     "data": {
      "text/plain": [
       "0    {u'2016-01-01': 1.0}\n",
       "1    {u'2016-01-02': 2.1}\n",
       "2    {u'2016-01-03': 3.2}\n",
       "3    {u'2016-01-04': 4.3}\n",
       "4    {u'2016-01-05': 5.4}\n",
       "dtype: object"
      ]
     },
     "execution_count": 48,
     "metadata": {},
     "output_type": "execute_result"
    },
    {
     "data": {
      "text/plain": [
       "0    {u'2016-01-01': 1.0}\n",
       "1    {u'2016-01-02': 2.1}\n",
       "2    {u'2016-01-03': 3.2}\n",
       "3    {u'2016-01-04': 4.3}\n",
       "4    {u'2016-01-05': 5.4}\n",
       "dtype: object"
      ]
     },
     "execution_count": 48,
     "metadata": {},
     "output_type": "execute_result"
    }
   ],
   "source": [
    "\n",
    "print '\\n----- convert DataFrame to JSON'\n",
    "df.to_json()\n",
    "\n",
    "print '\\n----- Import JSON time series into pd.Series object'\n",
    "\n",
    "myjson_ts=\"\"\"\n",
    "[\n",
    "{\"2016-01-01\": 1.0},\n",
    "{\"2016-01-02\": 2.1},\n",
    "{\"2016-01-03\": 3.2},\n",
    "{\"2016-01-04\": 4.3},\n",
    "{\"2016-01-05\": 5.4}\n",
    "]\"\"\"\n",
    "\n",
    "# using json.loads\n",
    "Series(json.loads(myjson_ts))\n",
    "    \n",
    "# using read_json\n",
    "pd.read_json(myjson_ts, typ='series')\n",
    "# ToDo: convert JSON keys into Series index\n"
   ]
  },
  {
   "cell_type": "markdown",
   "metadata": {},
   "source": [
    "<a id='hdf5'></a>\n",
    "\n",
    "## HDF5\n",
    "* Hierarchical data format - cross-platform storage, efficient IO, metadata system, scales up to very large sizes\n",
    "* Format consists of groups (dirs) and datasets (files). Both can have attributes to store metadata\n",
    "* Groups can be nested to create a tree structure, ergo hierarchical\n",
    "* 2 python libraries \n",
    " * **h5py**: lower-level; tries to map HDF5 to NumPy; provides access to almost all of HDF5 C API\n",
    " * **PyTables**: additional database-like data model above HDF5 & NumPy\n",
    "* Pandas uses `HDFStore` which is based on PyTables\n"
   ]
  },
  {
   "cell_type": "markdown",
   "metadata": {},
   "source": [
    "<a id='h5py' />\n",
    "h5py"
   ]
  },
  {
   "cell_type": "code",
   "execution_count": 2,
   "metadata": {
    "collapsed": false
   },
   "outputs": [
    {
     "data": {
      "text/plain": [
       "u'h5py-file.h5'"
      ]
     },
     "execution_count": 2,
     "metadata": {},
     "output_type": "execute_result"
    },
    {
     "data": {
      "text/plain": [
       "'r+'"
      ]
     },
     "execution_count": 2,
     "metadata": {},
     "output_type": "execute_result"
    },
    {
     "data": {
      "text/plain": [
       "u'/'"
      ]
     },
     "execution_count": 2,
     "metadata": {},
     "output_type": "execute_result"
    },
    {
     "data": {
      "text/plain": [
       "u'/g1'"
      ]
     },
     "execution_count": 2,
     "metadata": {},
     "output_type": "execute_result"
    },
    {
     "data": {
      "text/plain": [
       "u'/g2/g21'"
      ]
     },
     "execution_count": 2,
     "metadata": {},
     "output_type": "execute_result"
    }
   ],
   "source": [
    "# h5py - create groups in HDF file\n",
    "f = h5py.File('h5py-file.h5', mode='w')\n",
    "\n",
    "f.filename\n",
    "f.mode\n",
    "f.name\n",
    "\n",
    "g1 = f.create_group('g1')\n",
    "g1.name\n",
    "\n",
    "g21 = f.create_group('g2/g21') # parent groups are created automatically\n",
    "g21.name\n",
    "\n",
    "f.flush()\n",
    "f.close()\n"
   ]
  },
  {
   "cell_type": "code",
   "execution_count": 3,
   "metadata": {
    "collapsed": false
   },
   "outputs": [
    {
     "data": {
      "text/plain": [
       "'r'"
      ]
     },
     "execution_count": 3,
     "metadata": {},
     "output_type": "execute_result"
    },
    {
     "data": {
      "text/plain": [
       "<HDF5 group \"/g1\" (0 members)>"
      ]
     },
     "execution_count": 3,
     "metadata": {},
     "output_type": "execute_result"
    },
    {
     "data": {
      "text/plain": [
       "<HDF5 group \"/g2\" (1 members)>"
      ]
     },
     "execution_count": 3,
     "metadata": {},
     "output_type": "execute_result"
    },
    {
     "data": {
      "text/plain": [
       "<HDF5 group \"/g2/g21\" (0 members)>"
      ]
     },
     "execution_count": 3,
     "metadata": {},
     "output_type": "execute_result"
    }
   ],
   "source": [
    "# h5py - access groups in HDF file - like python dictionary\n",
    "f = h5py.File('h5py-file.h5', mode='r')\n",
    "f.mode\n",
    "\n",
    "f['g1']\n",
    "g2 = f['g2']\n",
    "g2\n",
    "g2['g21']\n"
   ]
  },
  {
   "cell_type": "code",
   "execution_count": 4,
   "metadata": {
    "collapsed": false
   },
   "outputs": [
    {
     "data": {
      "text/plain": [
       "[u'g1', u'g2']"
      ]
     },
     "execution_count": 4,
     "metadata": {},
     "output_type": "execute_result"
    },
    {
     "data": {
      "text/plain": [
       "[(u'g1', <HDF5 group \"/g1\" (0 members)>),\n",
       " (u'g2', <HDF5 group \"/g2\" (1 members)>)]"
      ]
     },
     "execution_count": 4,
     "metadata": {},
     "output_type": "execute_result"
    },
    {
     "name": "stdout",
     "output_type": "stream",
     "text": [
      "-----\n",
      "visit():\n",
      "[u'g1']\n",
      "[u'g2']\n",
      "[u'g2/g21']\n",
      "\n",
      "visititems():\n",
      "[u'g1', <HDF5 group \"/g1\" (0 members)>]\n",
      "[u'g2', <HDF5 group \"/g2\" (1 members)>]\n",
      "[u'g2/g21', <HDF5 group \"/g2/g21\" (0 members)>]\n"
     ]
    }
   ],
   "source": [
    "# h5py - iterate over all groups in HDF file\n",
    "\n",
    "f.keys() # return names only\n",
    "f.items() # return (name, value) tuples\n",
    "\n",
    "print '-----'\n",
    "def printlist(x):\n",
    "    print x\n",
    "\n",
    "print 'visit():'\n",
    "f.visit(lambda x: printlist([x]))\n",
    "\n",
    "print '\\nvisititems():'\n",
    "f.visititems(lambda name, val: printlist([name, val]))\n"
   ]
  },
  {
   "cell_type": "code",
   "execution_count": 5,
   "metadata": {
    "collapsed": false
   },
   "outputs": [
    {
     "data": {
      "text/plain": [
       "True"
      ]
     },
     "execution_count": 5,
     "metadata": {},
     "output_type": "execute_result"
    },
    {
     "data": {
      "text/plain": [
       "False"
      ]
     },
     "execution_count": 5,
     "metadata": {},
     "output_type": "execute_result"
    },
    {
     "data": {
      "text/plain": [
       "True"
      ]
     },
     "execution_count": 5,
     "metadata": {},
     "output_type": "execute_result"
    }
   ],
   "source": [
    "# h5py - test group membership\n",
    "\n",
    "'g1' in f\n",
    "'g3' in f\n",
    "\n",
    "'g21' in f['g2']\n",
    "\n",
    "f.flush()\n",
    "f.close()\n"
   ]
  },
  {
   "cell_type": "code",
   "execution_count": 26,
   "metadata": {
    "collapsed": false
   },
   "outputs": [
    {
     "data": {
      "text/plain": [
       "<Attributes of HDF5 object at 4608806336>"
      ]
     },
     "execution_count": 26,
     "metadata": {},
     "output_type": "execute_result"
    },
    {
     "data": {
      "text/plain": [
       "[u'desc']"
      ]
     },
     "execution_count": 26,
     "metadata": {},
     "output_type": "execute_result"
    },
    {
     "data": {
      "text/plain": [
       "[(u'desc', 'My first group')]"
      ]
     },
     "execution_count": 26,
     "metadata": {},
     "output_type": "execute_result"
    },
    {
     "data": {
      "text/plain": [
       "[(u'desc', 'G21 is a sub-group of G2'),\n",
       " (u'date', '2017-01-27 12:40:32.104677')]"
      ]
     },
     "execution_count": 26,
     "metadata": {},
     "output_type": "execute_result"
    },
    {
     "data": {
      "text/plain": [
       "True"
      ]
     },
     "execution_count": 26,
     "metadata": {},
     "output_type": "execute_result"
    },
    {
     "data": {
      "text/plain": [
       "False"
      ]
     },
     "execution_count": 26,
     "metadata": {},
     "output_type": "execute_result"
    }
   ],
   "source": [
    "# h5py - attributes of groups\n",
    "\n",
    "f = h5py.File('h5py-file.h5', mode='r+')\n",
    "f.attrs\n",
    "f.attrs['desc'] = 'My first group'\n",
    "\n",
    "f['g2']['g21'].attrs['desc'] = 'G21 is a sub-group of G2'\n",
    "f['g2']['g21'].attrs['date'] = str(datetime.now())\n",
    "\n",
    "f.attrs.keys() # keys only\n",
    "f.attrs.items() # (key, val) tuples\n",
    "\n",
    "f['g2']['g21'].attrs.items()\n",
    "\n",
    "'desc' in f['g2']['g21'].attrs\n",
    "del f['g2']['g21'].attrs['desc']\n",
    "'desc' in f['g2']['g21'].attrs\n",
    "\n",
    "f.flush()\n",
    "f.close()\n"
   ]
  },
  {
   "cell_type": "code",
   "execution_count": 35,
   "metadata": {
    "collapsed": false,
    "scrolled": true
   },
   "outputs": [
    {
     "name": "stdout",
     "output_type": "stream",
     "text": [
      "[u'g1', <HDF5 group \"/g1\" (1 members)>]\n",
      "[u'g1/g1data', <HDF5 dataset \"g1data\": shape (4,), type \"<i8\">]\n",
      "[u'g2', <HDF5 group \"/g2\" (1 members)>]\n",
      "[u'g2/g21', <HDF5 group \"/g2/g21\" (0 members)>]\n",
      "[u'g1', <HDF5 group \"/g1\" (1 members)>]\n",
      "[u'g1/g1data', <HDF5 dataset \"g1data\": shape (4,), type \"<i8\">]\n",
      "[u'g2', <HDF5 group \"/g2\" (1 members)>]\n",
      "[u'g2/g21', <HDF5 group \"/g2/g21\" (1 members)>]\n",
      "[u'g2/g21/g21data', <HDF5 dataset \"g21data\": shape (3,), type \"|S1\">]\n"
     ]
    }
   ],
   "source": [
    "# h5py - create dataset\n",
    "\n",
    "f = h5py.File('h5py-file.h5', mode='r+')\n",
    "f.visititems(lambda name, val: printlist([name, val]))\n",
    "\n",
    "g1 = f['g1']\n",
    "g1['g1data'] = [1,2,3,4]\n",
    "\n",
    "g21 = f['g2']['g21']\n",
    "g21['g21data'] = ['a','b','c']\n",
    "\n",
    "f.visititems(lambda name, val: printlist([name, val]))\n",
    "f.flush()\n",
    "f.close()\n",
    "\n",
    "# See also Group.create_dataset() - more control over dataset including dtype, compression, etc.\n"
   ]
  },
  {
   "cell_type": "code",
   "execution_count": 43,
   "metadata": {
    "collapsed": false
   },
   "outputs": [
    {
     "data": {
      "text/plain": [
       "<HDF5 dataset \"g1data\": shape (4,), type \"<i8\">"
      ]
     },
     "execution_count": 43,
     "metadata": {},
     "output_type": "execute_result"
    },
    {
     "data": {
      "text/plain": [
       "(u'/g1/g1data', dtype('int64'), (4,), 4)"
      ]
     },
     "execution_count": 43,
     "metadata": {},
     "output_type": "execute_result"
    },
    {
     "data": {
      "text/plain": [
       "array([1, 2, 3, 4])"
      ]
     },
     "execution_count": 43,
     "metadata": {},
     "output_type": "execute_result"
    },
    {
     "data": {
      "text/plain": [
       "numpy.ndarray"
      ]
     },
     "execution_count": 43,
     "metadata": {},
     "output_type": "execute_result"
    }
   ],
   "source": [
    "# h5py - access datasets\n",
    "\n",
    "f = h5py.File('h5py-file.h5', mode='r')\n",
    "arr = f['g1']['g1data']\n",
    "arr # this is a Dataset object, not a list or NumPy array\n",
    "\n",
    "arr.name, arr.dtype, arr.shape, arr.len()\n",
    "arr.value\n",
    "type(arr.value)\n",
    "\n",
    "# most operations on Datasets are similar to NumPy arrays\n",
    "# with Datasets only necessary data is loaded into memory, unlike operations on the underlying NumPy array\n"
   ]
  },
  {
   "cell_type": "markdown",
   "metadata": {},
   "source": [
    "<a id='pytables' /a>\n",
    "PyTables\n"
   ]
  },
  {
   "cell_type": "code",
   "execution_count": null,
   "metadata": {
    "collapsed": true
   },
   "outputs": [],
   "source": [
    "# PyTables - ?\n",
    "\n",
    "# ToDo\n"
   ]
  },
  {
   "cell_type": "markdown",
   "metadata": {},
   "source": [
    "<a id='pdhdfstore' />\n",
    "pd.HDFStore"
   ]
  },
  {
   "cell_type": "code",
   "execution_count": 54,
   "metadata": {
    "collapsed": false
   },
   "outputs": [
    {
     "name": "stdout",
     "output_type": "stream",
     "text": [
      "----- Empty HDF5 file\n"
     ]
    },
    {
     "data": {
      "text/plain": [
       "<class 'pandas.io.pytables.HDFStore'>\n",
       "File path: pandas-hdfstore-file.h5\n",
       "/df            frame        (shape->[2,2])"
      ]
     },
     "execution_count": 54,
     "metadata": {},
     "output_type": "execute_result"
    },
    {
     "name": "stdout",
     "output_type": "stream",
     "text": [
      "\n",
      "----- HDF5 file with items\n"
     ]
    },
    {
     "name": "stderr",
     "output_type": "stream",
     "text": [
      "/Users/vissan1/GitHub/ml-tools-notes/venv/lib/python2.7/site-packages/ipykernel/__main__.py:9: PerformanceWarning: \n",
      "your performance may suffer as PyTables will pickle object types that it cannot\n",
      "map directly to c-types [inferred_type->unicode,key->axis0] [items->None]\n",
      "\n",
      "/Users/vissan1/GitHub/ml-tools-notes/venv/lib/python2.7/site-packages/ipykernel/__main__.py:9: PerformanceWarning: \n",
      "your performance may suffer as PyTables will pickle object types that it cannot\n",
      "map directly to c-types [inferred_type->unicode,key->block0_items] [items->None]\n",
      "\n",
      "/Users/vissan1/GitHub/ml-tools-notes/venv/lib/python2.7/site-packages/ipykernel/__main__.py:9: PerformanceWarning: \n",
      "your performance may suffer as PyTables will pickle object types that it cannot\n",
      "map directly to c-types [inferred_type->unicode,key->block1_items] [items->None]\n",
      "\n"
     ]
    },
    {
     "data": {
      "text/plain": [
       "<class 'pandas.io.pytables.HDFStore'>\n",
       "File path: pandas-hdfstore-file.h5\n",
       "/df            frame        (shape->[2,2])\n",
       "/s             series       (shape->[5])  "
      ]
     },
     "execution_count": 54,
     "metadata": {},
     "output_type": "execute_result"
    },
    {
     "data": {
      "text/plain": [
       "/ (RootGroup) ''\n",
       "  children := ['df' (Group), 's' (Group)]"
      ]
     },
     "execution_count": 54,
     "metadata": {},
     "output_type": "execute_result"
    },
    {
     "data": {
      "text/plain": [
       "['/df', '/s']"
      ]
     },
     "execution_count": 54,
     "metadata": {},
     "output_type": "execute_result"
    },
    {
     "data": {
      "text/plain": [
       "True"
      ]
     },
     "execution_count": 54,
     "metadata": {},
     "output_type": "execute_result"
    },
    {
     "name": "stdout",
     "output_type": "stream",
     "text": [
      "-----\n",
      "s:\n"
     ]
    },
    {
     "data": {
      "text/plain": [
       "0    0\n",
       "1    1\n",
       "2    2\n",
       "3    3\n",
       "4    4\n",
       "dtype: int64"
      ]
     },
     "execution_count": 54,
     "metadata": {},
     "output_type": "execute_result"
    },
    {
     "name": "stdout",
     "output_type": "stream",
     "text": [
      "df:\n"
     ]
    },
    {
     "data": {
      "text/html": [
       "<div>\n",
       "<table border=\"1\" class=\"dataframe\">\n",
       "  <thead>\n",
       "    <tr style=\"text-align: right;\">\n",
       "      <th></th>\n",
       "      <th>age</th>\n",
       "      <th>city</th>\n",
       "      <th>country</th>\n",
       "      <th>name</th>\n",
       "    </tr>\n",
       "  </thead>\n",
       "  <tbody>\n",
       "    <tr>\n",
       "      <th>Me</th>\n",
       "      <td>99</td>\n",
       "      <td>MyCity</td>\n",
       "      <td>MyCountry</td>\n",
       "      <td>MyName</td>\n",
       "    </tr>\n",
       "    <tr>\n",
       "      <th>You</th>\n",
       "      <td>100</td>\n",
       "      <td>YourTown</td>\n",
       "      <td>YourRepublic</td>\n",
       "      <td>YourName</td>\n",
       "    </tr>\n",
       "  </tbody>\n",
       "</table>\n",
       "</div>"
      ],
      "text/plain": [
       "     age      city       country      name\n",
       "Me    99    MyCity     MyCountry    MyName\n",
       "You  100  YourTown  YourRepublic  YourName"
      ]
     },
     "execution_count": 54,
     "metadata": {},
     "output_type": "execute_result"
    },
    {
     "data": {
      "text/plain": [
       "<class 'pandas.io.pytables.HDFStore'>\n",
       "File path: pandas-hdfstore-file.h5\n",
       "/df            frame        (shape->[2,2])"
      ]
     },
     "execution_count": 54,
     "metadata": {},
     "output_type": "execute_result"
    }
   ],
   "source": [
    "# HDF5 - pandas uses PyTables module to read/write HDF5\n",
    "\n",
    "print '----- Empty HDF5 file'\n",
    "myHDF5Store = pd.HDFStore('pandas-hdfstore-file.h5')\n",
    "myHDF5Store\n",
    "\n",
    "print '\\n----- HDF5 file with items'\n",
    "myHDF5Store['s'] = Series(range(5))\n",
    "myHDF5Store['df'] = DataFrame(json.loads(myjson), index=['Me', 'You'])\n",
    "\n",
    "myHDF5Store\n",
    "myHDF5Store.root\n",
    "myHDF5Store.keys()\n",
    "'s' in myHDF5Store\n",
    "\n",
    "print '-----'\n",
    "print 's:'\n",
    "myHDF5Store['s']\n",
    "\n",
    "print 'df:'\n",
    "myHDF5Store['df']\n",
    "\n",
    "del myHDF5Store['s']\n",
    "myHDF5Store\n",
    "\n",
    "myHDF5Store.close()\n"
   ]
  },
  {
   "cell_type": "code",
   "execution_count": 20,
   "metadata": {
    "collapsed": false
   },
   "outputs": [
    {
     "data": {
      "text/html": [
       "<div>\n",
       "<table border=\"1\" class=\"dataframe\">\n",
       "  <thead>\n",
       "    <tr style=\"text-align: right;\">\n",
       "      <th></th>\n",
       "      <th>age</th>\n",
       "      <th>city</th>\n",
       "      <th>country</th>\n",
       "      <th>name</th>\n",
       "    </tr>\n",
       "  </thead>\n",
       "  <tbody>\n",
       "    <tr>\n",
       "      <th>Me</th>\n",
       "      <td>99</td>\n",
       "      <td>MyCity</td>\n",
       "      <td>MyCountry</td>\n",
       "      <td>MyName</td>\n",
       "    </tr>\n",
       "    <tr>\n",
       "      <th>You</th>\n",
       "      <td>100</td>\n",
       "      <td>YourTown</td>\n",
       "      <td>YourRepublic</td>\n",
       "      <td>YourName</td>\n",
       "    </tr>\n",
       "  </tbody>\n",
       "</table>\n",
       "</div>"
      ],
      "text/plain": [
       "     age      city       country      name\n",
       "Me    99    MyCity     MyCountry    MyName\n",
       "You  100  YourTown  YourRepublic  YourName"
      ]
     },
     "execution_count": 20,
     "metadata": {},
     "output_type": "execute_result"
    },
    {
     "data": {
      "text/plain": [
       "<class 'pandas.io.pytables.HDFStore'>\n",
       "File path: MyData.h5\n",
       "/df                  frame        (shape->[2,2])\n",
       "/df/again            frame        (shape->[2,2])"
      ]
     },
     "execution_count": 20,
     "metadata": {},
     "output_type": "execute_result"
    }
   ],
   "source": [
    "# read_hdf, to_hdf\n",
    "\n",
    "df = pd.read_hdf('MyData.h5', 'df')\n",
    "df\n",
    "\n",
    "df.to_hdf('MyData.h5', 'df/again')\n",
    "\n",
    "pd.HDFStore('MyData.h5')\n"
   ]
  },
  {
   "cell_type": "markdown",
   "metadata": {},
   "source": [
    "<a id='binary' />\n",
    "## Binary Serialization"
   ]
  },
  {
   "cell_type": "markdown",
   "metadata": {},
   "source": [
    "<a id='pickle'>pickle</a>\n",
    "\n",
    "* Any type of Python object can be serialized \n",
    "* But pickled objects cannot be read outside Python and sometimes even with different versions of Python\n",
    "* Larger compressed size than `msgpack`"
   ]
  },
  {
   "cell_type": "code",
   "execution_count": 13,
   "metadata": {
    "collapsed": false,
    "scrolled": false
   },
   "outputs": [
    {
     "data": {
      "text/plain": [
       "A    0\n",
       "B    1\n",
       "C    2\n",
       "D    3\n",
       "E    4\n",
       "F    5\n",
       "dtype: int64"
      ]
     },
     "execution_count": 13,
     "metadata": {},
     "output_type": "execute_result"
    },
    {
     "data": {
      "text/plain": [
       "A    0\n",
       "B    1\n",
       "C    2\n",
       "D    3\n",
       "E    4\n",
       "F    5\n",
       "dtype: int64"
      ]
     },
     "execution_count": 13,
     "metadata": {},
     "output_type": "execute_result"
    }
   ],
   "source": [
    "# pickle\n",
    "\n",
    "s = Series(range(6), index=['A','B','C','D','E','F'])\n",
    "s\n",
    "s.to_pickle('MySeries.pkl')\n",
    "\n",
    "s2 = pd.read_pickle('MySeries.pkl')\n",
    "s2\n"
   ]
  },
  {
   "cell_type": "markdown",
   "metadata": {},
   "source": [
    "<a id='msgpack'>msgpack</a>\n",
    "* Binary protocol for storing JSON-like data efficiently\n",
    "* operators on byte lists (packb / unpackb) & file handles (pack / unpack)\n",
    "* Requires much less space than equivalent JSON format and `pickle`"
   ]
  },
  {
   "cell_type": "code",
   "execution_count": 14,
   "metadata": {
    "collapsed": false
   },
   "outputs": [
    {
     "data": {
      "text/plain": [
       "'\\n[{\\n\"name\": \"MyName\",\\n\"age\": 99,\\n\"city\": \"MyCity\",\\n\"country\": \"MyCountry\"\\n},\\n{\\n\"name\": \"YourName\",\\n\"age\": 100,\\n\"city\": \"YourTown\",\\n\"country\": \"YourRepublic\"\\n}\\n]\\n'"
      ]
     },
     "execution_count": 14,
     "metadata": {},
     "output_type": "execute_result"
    },
    {
     "data": {
      "text/plain": [
       "'\\xda\\x00\\xa1\\n[{\\n\"name\": \"MyName\",\\n\"age\": 99,\\n\"city\": \"MyCity\",\\n\"country\": \"MyCountry\"\\n},\\n{\\n\"name\": \"YourName\",\\n\"age\": 100,\\n\"city\": \"YourTown\",\\n\"country\": \"YourRepublic\"\\n}\\n]\\n'"
      ]
     },
     "execution_count": 14,
     "metadata": {},
     "output_type": "execute_result"
    },
    {
     "data": {
      "text/plain": [
       "'\\n[{\\n\"name\": \"MyName\",\\n\"age\": 99,\\n\"city\": \"MyCity\",\\n\"country\": \"MyCountry\"\\n},\\n{\\n\"name\": \"YourName\",\\n\"age\": 100,\\n\"city\": \"YourTown\",\\n\"country\": \"YourRepublic\"\\n}\\n]\\n'"
      ]
     },
     "execution_count": 14,
     "metadata": {},
     "output_type": "execute_result"
    }
   ],
   "source": [
    "# msgpack\n",
    "myjson\n",
    "b = msgpack.packb(myjson)\n",
    "b\n",
    "j = msgpack.unpackb(b)\n",
    "j\n"
   ]
  },
  {
   "cell_type": "markdown",
   "metadata": {},
   "source": [
    "<a id='db' />\n",
    "## DB"
   ]
  },
  {
   "cell_type": "code",
   "execution_count": 23,
   "metadata": {
    "collapsed": false
   },
   "outputs": [
    {
     "data": {
      "text/plain": [
       "<sqlite3.Cursor at 0x109a6ee30>"
      ]
     },
     "execution_count": 23,
     "metadata": {},
     "output_type": "execute_result"
    },
    {
     "data": {
      "text/plain": [
       "<function commit>"
      ]
     },
     "execution_count": 23,
     "metadata": {},
     "output_type": "execute_result"
    },
    {
     "data": {
      "text/plain": [
       "<sqlite3.Cursor at 0x109a6ef80>"
      ]
     },
     "execution_count": 23,
     "metadata": {},
     "output_type": "execute_result"
    }
   ],
   "source": [
    "# SQL \n",
    "\n",
    "# Create DB with SQLite\n",
    "query = \"\"\"\n",
    "CREATE TABLE MyTable (\n",
    "Col1 INT,\n",
    "Col2 VARCHAR(50),\n",
    "Col3 FLOAT\n",
    ");\n",
    "\"\"\"\n",
    "\n",
    "conn = sqlite3.connect(\":memory:\")\n",
    "conn.execute(query)\n",
    "conn.commit\n",
    "\n",
    "\n",
    "# Load data to DB\n",
    "data = [\n",
    "    (1, 'This is Row 1', 3.14),\n",
    "    (2, 'This is Row 2', 4.15),\n",
    "    (3, 'This is Row 3', 5.16),\n",
    "    (4, 'This is Row 4', 6.17)\n",
    "]\n",
    "statement = \"INSERT INTO MyTable VALUES(?,?,?)\"\n",
    "conn.executemany(statement, data)\n",
    "conn.commit()\n"
   ]
  },
  {
   "cell_type": "code",
   "execution_count": 24,
   "metadata": {
    "collapsed": false
   },
   "outputs": [
    {
     "name": "stdout",
     "output_type": "stream",
     "text": [
      "cursor description:\n"
     ]
    },
    {
     "data": {
      "text/plain": [
       "(('Col1', None, None, None, None, None, None),\n",
       " ('Col2', None, None, None, None, None, None),\n",
       " ('Col3', None, None, None, None, None, None))"
      ]
     },
     "execution_count": 24,
     "metadata": {},
     "output_type": "execute_result"
    },
    {
     "data": {
      "text/plain": [
       "('Col1', 'Col2', 'Col3')"
      ]
     },
     "execution_count": 24,
     "metadata": {},
     "output_type": "execute_result"
    },
    {
     "data": {
      "text/plain": [
       "[(1, u'This is Row 1', 3.14),\n",
       " (2, u'This is Row 2', 4.15),\n",
       " (3, u'This is Row 3', 5.16),\n",
       " (4, u'This is Row 4', 6.17)]"
      ]
     },
     "execution_count": 24,
     "metadata": {},
     "output_type": "execute_result"
    },
    {
     "data": {
      "text/html": [
       "<div>\n",
       "<table border=\"1\" class=\"dataframe\">\n",
       "  <thead>\n",
       "    <tr style=\"text-align: right;\">\n",
       "      <th></th>\n",
       "      <th>Col1</th>\n",
       "      <th>Col2</th>\n",
       "      <th>Col3</th>\n",
       "    </tr>\n",
       "  </thead>\n",
       "  <tbody>\n",
       "    <tr>\n",
       "      <th>0</th>\n",
       "      <td>1</td>\n",
       "      <td>This is Row 1</td>\n",
       "      <td>3.14</td>\n",
       "    </tr>\n",
       "    <tr>\n",
       "      <th>1</th>\n",
       "      <td>2</td>\n",
       "      <td>This is Row 2</td>\n",
       "      <td>4.15</td>\n",
       "    </tr>\n",
       "    <tr>\n",
       "      <th>2</th>\n",
       "      <td>3</td>\n",
       "      <td>This is Row 3</td>\n",
       "      <td>5.16</td>\n",
       "    </tr>\n",
       "    <tr>\n",
       "      <th>3</th>\n",
       "      <td>4</td>\n",
       "      <td>This is Row 4</td>\n",
       "      <td>6.17</td>\n",
       "    </tr>\n",
       "  </tbody>\n",
       "</table>\n",
       "</div>"
      ],
      "text/plain": [
       "   Col1           Col2  Col3\n",
       "0     1  This is Row 1  3.14\n",
       "1     2  This is Row 2  4.15\n",
       "2     3  This is Row 3  5.16\n",
       "3     4  This is Row 4  6.17"
      ]
     },
     "execution_count": 24,
     "metadata": {},
     "output_type": "execute_result"
    },
    {
     "name": "stdout",
     "output_type": "stream",
     "text": [
      "\n",
      "----- Alternately, get DataFrame from SQL using read_sql_query()\n"
     ]
    },
    {
     "data": {
      "text/plain": [
       "pandas.core.frame.DataFrame"
      ]
     },
     "execution_count": 24,
     "metadata": {},
     "output_type": "execute_result"
    },
    {
     "data": {
      "text/html": [
       "<div>\n",
       "<table border=\"1\" class=\"dataframe\">\n",
       "  <thead>\n",
       "    <tr style=\"text-align: right;\">\n",
       "      <th></th>\n",
       "      <th>Col1</th>\n",
       "      <th>Col2</th>\n",
       "      <th>Col3</th>\n",
       "    </tr>\n",
       "  </thead>\n",
       "  <tbody>\n",
       "    <tr>\n",
       "      <th>0</th>\n",
       "      <td>1</td>\n",
       "      <td>This is Row 1</td>\n",
       "      <td>3.14</td>\n",
       "    </tr>\n",
       "    <tr>\n",
       "      <th>1</th>\n",
       "      <td>2</td>\n",
       "      <td>This is Row 2</td>\n",
       "      <td>4.15</td>\n",
       "    </tr>\n",
       "    <tr>\n",
       "      <th>2</th>\n",
       "      <td>3</td>\n",
       "      <td>This is Row 3</td>\n",
       "      <td>5.16</td>\n",
       "    </tr>\n",
       "    <tr>\n",
       "      <th>3</th>\n",
       "      <td>4</td>\n",
       "      <td>This is Row 4</td>\n",
       "      <td>6.17</td>\n",
       "    </tr>\n",
       "  </tbody>\n",
       "</table>\n",
       "</div>"
      ],
      "text/plain": [
       "   Col1           Col2  Col3\n",
       "0     1  This is Row 1  3.14\n",
       "1     2  This is Row 2  4.15\n",
       "2     3  This is Row 3  5.16\n",
       "3     4  This is Row 4  6.17"
      ]
     },
     "execution_count": 24,
     "metadata": {},
     "output_type": "execute_result"
    }
   ],
   "source": [
    "# Get data from this DB\n",
    "cursor = conn.execute('Select * from MyTable')\n",
    "print 'cursor description:'\n",
    "cursor.description\n",
    "\n",
    "colnames = zip(*cursor.description)[0]\n",
    "colnames\n",
    "\n",
    "rows = cursor.fetchall()\n",
    "rows\n",
    "\n",
    "DataFrame(rows, columns=colnames)\n",
    "\n",
    "print '\\n----- Alternately, get DataFrame from SQL using read_sql_query()'\n",
    "# Using pandas function requires only a single statement\n",
    "df = sql.read_sql_query('SELECT * from MyTable', conn)\n",
    "type(df)\n",
    "df\n"
   ]
  }
 ],
 "metadata": {
  "kernelspec": {
   "display_name": "Python 2",
   "language": "python",
   "name": "python2"
  },
  "language_info": {
   "codemirror_mode": {
    "name": "ipython",
    "version": 2
   },
   "file_extension": ".py",
   "mimetype": "text/x-python",
   "name": "python",
   "nbconvert_exporter": "python",
   "pygments_lexer": "ipython2",
   "version": "2.7.10"
  }
 },
 "nbformat": 4,
 "nbformat_minor": 1
}
