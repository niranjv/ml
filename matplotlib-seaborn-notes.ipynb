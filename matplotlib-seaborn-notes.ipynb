{
 "cells": [
  {
   "cell_type": "markdown",
   "metadata": {},
   "source": [
    "## Task\n",
    "Some notes about matplotlib/Seaborn\n",
    "\n",
    "## Notebook summary\n",
    "* Importing\n",
    "* Plot styles & stylesheets\n",
    "* Jupyter notebooks - static vs interactive\n",
    "* Saving figures, supported file types\n",
    "* OO-interface vs. MATLAB (aka PyLab) interface\n",
    "* Create figures & axes\n",
    "* Colors, line styles, axis limits & labels, legend & title, color bars\n",
    "* Scatter plots: `plt.scatter` vs. `plt.plot`\n",
    "* Error bars\n",
    "* Contour plots\n",
    "* Histograms, binning, KDE plots\n",
    "* Subplots - `plt.axes`, `plt.subplot`, `plt.subplots`, `plt.GridSpec`\n",
    "* Text, Annotation\n",
    "* Ticks\n",
    "* 3d plots\n",
    "* Geo maps with Basemap toolkit\n",
    "\n",
    "\n",
    "## References\n",
    "* *Python for Data Analysis*, Wes McKinney, O'Reilly, 2012\n",
    "* *Numerical Python*, Robert Johansson, APress, 2015\n",
    "* *Python Data Science Handbook*, Jake VanderPlas, O'Reilly, 2016\n",
    "* [PLOS Computational Biology - 10 simple rules for better figures](http://journals.plos.org/ploscompbiol/article?id=10.1371/journal.pcbi.1003833)\n",
    "* [matplotlib - Choosing colors](http://matplotlib.org/1.4.1/users/colormaps.html#color-vision-deficiencies)\n"
   ]
  },
  {
   "cell_type": "code",
   "execution_count": 9,
   "metadata": {
    "collapsed": false
   },
   "outputs": [],
   "source": [
    "# embed static PNG images\n",
    "%matplotlib inline \n",
    "\n",
    "# Import libs\n",
    "import matplotlib as mpl\n",
    "import matplotlib.pyplot as plt\n"
   ]
  },
  {
   "cell_type": "markdown",
   "metadata": {},
   "source": [
    "## Styles\n",
    "\n",
    "**Modify with rcParams**\n",
    "* Default styles are defined in the runtime configuration\n",
    "* Get current style settings using `plt.rcParams.copy()`\n",
    "* Update style settings using `plt.rcParams.update()`\n",
    "* Modify this runtime config using `plt.rc()` as `plt.rc(attribute, new_value)`\n",
    "* New default settings can be saved in `.matplotlib.rc` file\n",
    "\n",
    "**Modify with Stylesheets**\n",
    "* `style` module allows use of various stylesheets\n",
    "* Stylesheet files must have `.mplstyle` extension\n",
    "* Change style for entire session: `plt.style.use(stylename)`\n",
    "* Change style temporarily: \n",
    "```\n",
    "with plt.style.context(stylename)\n",
    "    plot(<something>)\n",
    "```\n",
    "\n",
    "---\n"
   ]
  },
  {
   "cell_type": "code",
   "execution_count": 19,
   "metadata": {
    "collapsed": false,
    "scrolled": false
   },
   "outputs": [
    {
     "data": {
      "text/plain": [
       "[u'seaborn-darkgrid',\n",
       " u'seaborn-notebook',\n",
       " u'classic',\n",
       " u'seaborn-ticks',\n",
       " u'grayscale',\n",
       " u'bmh',\n",
       " u'seaborn-talk',\n",
       " u'dark_background',\n",
       " u'ggplot',\n",
       " u'fivethirtyeight',\n",
       " u'seaborn-colorblind',\n",
       " u'seaborn-deep',\n",
       " u'seaborn-whitegrid',\n",
       " u'seaborn-bright',\n",
       " u'seaborn-poster',\n",
       " u'seaborn-muted',\n",
       " u'seaborn-paper',\n",
       " u'seaborn-white',\n",
       " u'seaborn-pastel',\n",
       " u'seaborn-dark',\n",
       " u'seaborn-dark-palette']"
      ]
     },
     "execution_count": 19,
     "metadata": {},
     "output_type": "execute_result"
    }
   ],
   "source": [
    "# List available styles (each of which is defined in a separate stylesheet)\n",
    "plt.style.available\n",
    "\n",
    "# Use a style - will change style for rest of session\n",
    "plt.style.use('classic')\n",
    "plt.style.use('seaborn-whitegrid')\n"
   ]
  },
  {
   "cell_type": "markdown",
   "metadata": {},
   "source": [
    "---\n",
    "\n",
    "## Jupyter notebooks\n",
    "* use `%matplotlib inline` at the beginning for embedded static PNG images\n",
    "* use `%matplotlib notebook` for embedded interactive plots\n",
    "* no need to use `plt.show()`\n",
    "\n",
    "## Save figure\n",
    "\n",
    "File format is inferred from filename extension\n",
    "```\n",
    "fig = plt.figure()\n",
    "plt.plot(<whatever>)\n",
    "fig.savefig(<filename>)\n",
    "```\n",
    "---"
   ]
  },
  {
   "cell_type": "code",
   "execution_count": 13,
   "metadata": {
    "collapsed": false,
    "scrolled": true
   },
   "outputs": [
    {
     "data": {
      "text/plain": [
       "{u'eps': u'Encapsulated Postscript',\n",
       " u'pdf': u'Portable Document Format',\n",
       " u'pgf': u'PGF code for LaTeX',\n",
       " u'png': u'Portable Network Graphics',\n",
       " u'ps': u'Postscript',\n",
       " u'raw': u'Raw RGBA bitmap',\n",
       " u'rgba': u'Raw RGBA bitmap',\n",
       " u'svg': u'Scalable Vector Graphics',\n",
       " u'svgz': u'Scalable Vector Graphics'}"
      ]
     },
     "execution_count": 13,
     "metadata": {},
     "output_type": "execute_result"
    },
    {
     "data": {
      "text/plain": [
       "<matplotlib.figure.Figure at 0x10bbf81d0>"
      ]
     },
     "metadata": {},
     "output_type": "display_data"
    }
   ],
   "source": [
    "# get supported file types for saving figure\n",
    "fig = plt.figure();\n",
    "fig.canvas.get_supported_filetypes()\n"
   ]
  },
  {
   "cell_type": "markdown",
   "metadata": {},
   "source": [
    "---\n",
    "**OO-interface to fig & plot**\n",
    "```\n",
    "fig, ax = plt.subplots(2)\n",
    "ax[0].plot(<something>)\n",
    "ax[1].plot(<something_else>)\n",
    "```\n",
    "\n",
    "**MATLAB-interface**\n",
    "```\n",
    "plt.figure()\n",
    "plt.subplot(2,1,1) # create 1st subplot, set active axis\n",
    "plt.plot(<something>)\n",
    "\n",
    "plt.subplot(2,1,2) # create 2nd subplot, set active axis\n",
    "plt.plot(<something_else>)\n",
    "```\n",
    "---"
   ]
  },
  {
   "cell_type": "code",
   "execution_count": 16,
   "metadata": {
    "collapsed": false
   },
   "outputs": [
    {
     "data": {
      "image/png": "[encoded data removed]",
      "text/plain": [
       "<matplotlib.figure.Figure at 0x10bbf8250>"
      ]
     },
     "metadata": {},
     "output_type": "display_data"
    }
   ],
   "source": [
    "# Initialize figures & styles - create empty figure with axes\n",
    "fig = plt.figure() # container for all elements\n",
    "ax = plt.axes() # box, ticks, labels, etc.\n",
    "\n",
    "# plot(<something>)\n",
    "# plot(<something_else>)\n"
   ]
  },
  {
   "cell_type": "markdown",
   "metadata": {},
   "source": [
    "## Colors\n",
    "\n",
    "* by name - `blue`\n",
    "* by HTML color name - `red`\n",
    "* by rgbcymk short color code - `g`\n",
    "* by grayscale - `0.75`\n",
    "* by hex code - `#FFDE12`\n",
    "* by RGB tuple - `(1, 0.4, 0.2)`\n",
    "\n",
    "If no color specified, cycle through default colors as needed\n",
    "\n",
    "## Line styles\n",
    "\n",
    "* `solid`, `-`\n",
    "* `dashed`, `--`\n",
    "* `dashdot`, `-.`\n",
    "* `dotted`, `:`\n",
    "* `o` - for scatter plots\n",
    "* `-o` - for line plots with markers\n",
    "\n",
    "## Both\n",
    "* `-g` - solid green\n",
    "* `--k`\n",
    "* `-.c`\n",
    "* `:r`\n",
    "\n",
    "---\n"
   ]
  },
  {
   "cell_type": "markdown",
   "metadata": {},
   "source": [
    "## Axis limits\n",
    "\n",
    "* `plt.xlim(a,b)` or `ax.set_xlim(a,b)`\n",
    "* `plt.ylim(a,b)` or `ax.set_ylim(a,b)`\n",
    "* Alternatively, use `plt.axis(xmin, xmax, ymin, ymax)` after `plt.plot()`. Also has many other params\n",
    "\n",
    "## Axis labels\n",
    "\n",
    "* `plt.xlabel('something')` or `ax.set_xlabel()`\n",
    "* `plt.ylabel('something')` or `ax.set_ylabel()`\n",
    "\n",
    "## Legends\n",
    "\n",
    "* first: `plt.plot(x, y, linestyle, legend='something')`\n",
    "* then: `plt.legend()`\n",
    "* Can customize location, box, # columns, shadow, padding, element shown\n",
    "* Legend ignores all attributes without a `label` attribute\n",
    "* Legend will always reference objects in the plot, so it objects in legend are not in plot, then plot empty lists with legend\n",
    "* Multiple legends can be created using `matplotlib.legend.Legend` & `ax.add_artist()`\n",
    "\n",
    "## Title\n",
    "* `plt.title()` or `ax.set_title()`\n",
    "\n",
    "## Color bars\n",
    "* Legend is for discrete labels of discrete points; Use color bar for continuous labels\n",
    "* Color bar is on separate axes (is an instance of plt.Axes)\n",
    "* `plt.colorbar()` - default: no args\n",
    "* Cutomize bar by customizing colors in plot (before color bar is generated); can use color maps for this (`pl.cm.<TAB>`)\n",
    "* Types of color maps: sequential, diverging, qualitative. Use `view_colormap` to view sample color map.\n",
    "* Some color maps: `viridis` (uniform brightness across range), `cubehelix` (rainbow scheme), `RdBu`, etc.\n",
    "* Use `extend` param to show outliers (which might affect color scale in plot), i.e., narrow color limit. Useful for noisy images.\n",
    "* For discete bars in color map, use bins param in `plt.cm.get_cmap(cmap, #bins)`\n",
    "* `plt.clim` - limit color bar values\n",
    "\n",
    "## OO: Set multiple properties at once\n",
    "```\n",
    "ax = plt.axes()\n",
    "ax.plot(x,y)\n",
    "ax.set(xlim=(a,b), ylim=(c,d), xlabel='', ylabel='', title='')\n",
    "```\n",
    "---\n"
   ]
  },
  {
   "cell_type": "markdown",
   "metadata": {},
   "source": [
    "## Scatter plots\n",
    "\n",
    "* `plt.scatter` - can set style of each point individually\n",
    "* `plt.plot` - all points have the same style\n",
    "\n",
    "`plt.plot` is more effcient for large data sets compared to `plt.scatter`\n",
    "\n",
    "---\n"
   ]
  },
  {
   "cell_type": "markdown",
   "metadata": {},
   "source": [
    "## Error bars\n",
    "\n",
    "* Use `plt.errorbar()`\n",
    "* Interpolate for continuous errors: use `plt.plot()` and `plt.fill_between()`, where `fill_between()` values are generated using, for instance, non-parametric methods like `Gaussian Process Regression`\n",
    "```\n",
    "plt.plot(x, y) # data points\n",
    "plt.plot(xfit, yfit) # line connecting data points\n",
    "plt.fill_between(xfit, lower, upper) # fill area between lower & upper\n",
    "```\n",
    "* See also: `plt.fill()` in matplotlib and error bars in Seaborn\n",
    "---\n"
   ]
  },
  {
   "cell_type": "markdown",
   "metadata": {},
   "source": [
    "## Contour plots\n",
    "\n",
    "* Use `plt.contour(x, y, z)`\n",
    "* `np.meshgrid` can be used to generate coordinates for contour plots\n",
    "* Color maps to use for contour plots: plt.cm.<TAB>\n",
    "* Filled contour plots: `plt.contourf()`; add color bar with `plt.colorbar()`\n",
    "* `plt.imshow()` to show 'smoothed' contour plot\n",
    "* Contour labels: `plt.clabel()`\n",
    "* Can overplot contours over image plot\n",
    "\n",
    "---\n"
   ]
  },
  {
   "cell_type": "markdown",
   "metadata": {},
   "source": [
    "## Histograms\n",
    "\n",
    "**1d**\n",
    "* `plt.hist(x)` to plot histogram; call multiple times to overplot (after setting suitable alpha-level)\n",
    "* `counts, bin_edges = np.histogram(data)` to compute histogram w/o plotting\n",
    "\n",
    "**2d** - tesselation of squares\n",
    "* Bin along X & Y axes\n",
    "* `plt.hist_2d(x, y)`\n",
    "* `counts, xedges, yedges = np.histogram2d()`\n",
    "* See also `np.histogramdd()`\n",
    "\n",
    "**Hexagonal binning** - tessalation of hexagons\n",
    "* `plt.hexbin(x, y)`\n",
    "\n",
    "**Kernel density estimation** - smoothed density plots\n",
    "* `scipy.stats.gaussian_kde(array[n.dim, n.samples])`\n",
    "* `sklearn.neighbors.KernelDensity` \n",
    "* `statsmodels.nonparametrics.kernel_density.KDEMultivariate`\n",
    "* See also Seaborn KDE plots\n",
    "\n",
    "---\n"
   ]
  },
  {
   "cell_type": "markdown",
   "metadata": {},
   "source": [
    "## Subplots\n",
    "\n",
    "Note: origin (0,0) of subplots seems to be in top left corner\n",
    "\n",
    "`plt.axes()` - manually specify location of subplots\n",
    "* PyLab: `plt.axes()` or `plt.axes(bottom, left, width, height)`\n",
    "* OO:\n",
    "```\n",
    "fig =  plt.figure()\n",
    "ax1 = fig.add_axes(bottom, left, width, height)\n",
    "ax1.plot()\n",
    "ax2 = fig.add_axes()\n",
    "ax2.plot()\n",
    "```\n",
    "\n",
    "`plt.subplot()` - create a subplot within a grid\n",
    "* PyLab: `plt.subplot()`\n",
    "* OO: `fig.add_subplot()`\n",
    "* `plt.subplot(1,2,1)` or `fig.add_subplot(1,2,1)` - left subplot\n",
    "* `plt.subplot(1,2,2)` or `fig.add_subplot(1,2,2)` - right subplot\n",
    "* To adjust spacing between plots: `plt.subplots_adjust(hspace, wspace)` hspace = wspace = fraction of subplot width\n",
    "\n",
    "`plt.subplots()` - create multiple subplots at once\n",
    "* `plt.subplots(#rows, #cols, sharex, sharey)` - Use sharex, sharey to remove inner labels\n",
    "* Returns 2d numpy array with row & col index\n",
    "\n",
    "`plt.GridSpec` - create specification of grid to be used by `plt.subplot()`\n",
    "```\n",
    "grid = plt.GridSpec(#rows, #cols, wspace, hspace)\n",
    "plt.subplot(grid[0,0])\n",
    "plt.subplot(grid[0,1:])\n",
    "plt.subplot(grid[0,:2])\n",
    "plt.subplot(grid[0,2])\n",
    "```\n",
    "---\n"
   ]
  },
  {
   "cell_type": "markdown",
   "metadata": {},
   "source": [
    "## Text, Annotation\n",
    "\n",
    "* Use `plt.text()` or `ax.text()`. See `matplotlib.text.Text()` for style options.\n",
    "```\n",
    "fig, ax = plt.plot(<something>)\n",
    "ax.text(x, y, str, style) - where (x,y) represents data location\n",
    "```\n",
    "* Tools to perform coordinate transforms: `matplotlib.transforms` sub-module\n",
    "* Location of text can be specified w.r.t. data, axis or figure and the associated transforms are:\n",
    " * `ax.transData` - data coordinates transform\n",
    " * `ax.transAxes` - axes transform (units of axes dimensions)\n",
    " * `fig.transFigure` - figure transforms (units of figure dimensions)\n",
    "* These transforms can be specified in the `transform` param of `ax.text()`\n",
    "\n",
    "* Don't use `plt.arrow()` to draw arrows; Instead, use `plt.annotate()` and set `arrowprops` as needed; much manual tweaking might be needed!\n",
    "\n",
    "---\n"
   ]
  },
  {
   "cell_type": "markdown",
   "metadata": {},
   "source": [
    "## Ticks\n",
    "\n",
    "* Plot object hierarchy: Figure -> Axes -> XAxis, YAxis -> lines, ticks, labels, etc\n",
    "* Customize ticks using the `locator` & `formatter` objects of each axis\n",
    "* Hide ticks: `ax.xaxis.set_major_locator(plt.NullLocation())` - removing ticks will also remove labels\n",
    "* Hide labels: `ax.yaxis.set_major_formatter(plt.NullFormatter())`\n",
    "* Reduce ticks: `ax.xaxis.set_major_locator(plt.MaxNLocator(#ticks)` - specify max # ticks on axis\n",
    "* Specify Tick location: `ax.xaxis.set_major_locator(plt.MajorLocator(n))` - major ticks only at multiples of `n`\n",
    "* Specify Tick location: `ax.xaxis.set_minor_locator(plt.MajorLocator(n))` - minor ticks only at multiples of `n/2`\n",
    "* Use `ax.xaxis.set_major_formatter(plt.FuncFormatter(format_function))` to set label for ticks\n",
    "\n",
    "---\n"
   ]
  },
  {
   "cell_type": "markdown",
   "metadata": {},
   "source": [
    "## 3d plots\n",
    "\n",
    "* Required import: `from mpl_toolkits import mplot3d`\n",
    "* Create 3d axes as:\n",
    "```\n",
    "fig = plt.figure()\n",
    "ax = plt.axes(projection='3d')\n",
    "```\n",
    "* 3d line plots: `ax.plot3D(x,y,z)` \n",
    "* 3d scatter plots: `ax.scatter3D(x,y,z)` - point transparency is automatically adjusted for depth effect\n",
    "* 3d contour plots: `ax.contour3D(x,y,z)` - x,y represent grid, z is value at each point of grid\n",
    "* Use `ax.view(elevation, azimuthal_angle)` to rotate plot\n",
    "* Wire frame plot: `ax.plot_wireframe(x,y,z)`\n",
    "* Surface plot: `ax.plot_surface(x,y,z)` - each face of wireframe is a filled polygon\n",
    "* Surface triangulation: `ax.plot_trisurf(x,y,z)` - create a surface using a set of triangles between adjacent points\n",
    "\n",
    "---\n"
   ]
  },
  {
   "cell_type": "code",
   "execution_count": 22,
   "metadata": {
    "collapsed": false
   },
   "outputs": [
    {
     "data": {
      "image/png": "[encoded data removed]",
      "text/plain": [
       "<matplotlib.figure.Figure at 0x10c32eb50>"
      ]
     },
     "metadata": {},
     "output_type": "display_data"
    }
   ],
   "source": [
    "# Create 3d axes\n",
    "from mpl_toolkits import mplot3d\n",
    "fig = plt.figure()\n",
    "ax = plt.axes(projection='3d')\n"
   ]
  },
  {
   "cell_type": "markdown",
   "metadata": {},
   "source": [
    "---\n",
    "\n",
    "## Geo maps\n",
    "\n",
    "* Required import: `from mpl_toolkits.basemap import Basemap`\n",
    "* Might also need `PIL` package (Python2) or `pillow` package (Python3) - PIL = Python Imaging Library\n",
    "\n",
    "```\n",
    "fir = plt.figure()\n",
    "m = Basemap(projection, resolution, width, height, lat_0, long_0)\n",
    "m.bluemarble()\n",
    "m.etopo()\n",
    "...\n",
    "```\n",
    "\n",
    "Common projections include: \n",
    "* **Cylindrical** - equatorial regions are OK, poles are distorted. Sub-types: equidistant cylindrical, Mercator & cylindrical area\n",
    "* **Pseudo-Cylindrical** - meridians don't have to be vertical => less distortion at the poles\n",
    "* **Perspective** - view from a certain point; can only show part of map. Good for small parts of the globe. Sub-types: orthographic, gnomonic, stereographic\n",
    "* **Conic** - project map onto a cone and unroll cone. Focus area is OK, more distant areas are distorted. Good for small parts of the globe. Sub-types: Lambert Confirmal Conic, Equidistant conic, Albers Equal Area\n",
    "\n",
    "Map Background options include\n",
    "* Physical boundaries\n",
    "* Political boundaries\n",
    "* Map features\n",
    "* Whole-globe images\n",
    "\n",
    "`resolution` param sets level of detail in map. Required for boundary-based features. Higher resolution requires more drawing time\n",
    "\n",
    "Plotting data on Maps\n",
    "* Project lat, long coords to (x, y) and use any plot\n",
    "* Some plotting functions have `latlon` param that accepts lat, long coords without conversion\n"
   ]
  }
 ],
 "metadata": {
  "kernelspec": {
   "display_name": "Python 2",
   "language": "python",
   "name": "python2"
  },
  "language_info": {
   "codemirror_mode": {
    "name": "ipython",
    "version": 2
   },
   "file_extension": ".py",
   "mimetype": "text/x-python",
   "name": "python",
   "nbconvert_exporter": "python",
   "pygments_lexer": "ipython2",
   "version": "2.7.10"
  }
 },
 "nbformat": 4,
 "nbformat_minor": 2
}
