{
 "cells": [
  {
   "cell_type": "markdown",
   "metadata": {},
   "source": [
    "## Task\n",
    "Explore ufuncs in NumPy\n",
    "\n",
    "## Notebook Summary\n",
    "* unuary ufuncs (single input)\n",
    "* use `out` param to write output to specific memory location\n",
    "* `reduce`, `accumulate`\n",
    "* Broadcasting rules for binary ufuncs\n",
    "* Generate histogram\n",
    "* Custom ufuncs\n",
    "\n",
    "## References\n",
    "* *Python for Data Analysis*, Wes McKinney, O'Reilly, 2012\n",
    "* *Numerical Python*, Robert Johansson, APress, 2015\n",
    "* *Python Data Science Handbook*, Jake VanderPlas, O'Reilly, 2016\n"
   ]
  },
  {
   "cell_type": "code",
   "execution_count": 2,
   "metadata": {
    "collapsed": false
   },
   "outputs": [
    {
     "name": "stdout",
     "output_type": "stream",
     "text": [
      "python.version =  2.7.10\n",
      "ipython.version = (5, 1, 0, '')\n",
      "numpy.version =  1.11.3\n"
     ]
    }
   ],
   "source": [
    "# display output from all cmds just like Python shell\n",
    "from IPython.core.interactiveshell import InteractiveShell\n",
    "InteractiveShell.ast_node_interactivity = \"all\"\n",
    "\n",
    "import platform\n",
    "print 'python.version = ', platform.python_version()\n",
    "import IPython\n",
    "print 'ipython.version =', IPython.version_info\n",
    "\n",
    "import numpy as np\n",
    "print 'numpy.version = ', np.__version__\n"
   ]
  },
  {
   "cell_type": "code",
   "execution_count": 11,
   "metadata": {
    "collapsed": false
   },
   "outputs": [
    {
     "data": {
      "text/plain": [
       "array([0, 1, 2, 3, 4, 5, 6, 7, 8, 9])"
      ]
     },
     "execution_count": 11,
     "metadata": {},
     "output_type": "execute_result"
    },
    {
     "name": "stdout",
     "output_type": "stream",
     "text": [
      "-----\n"
     ]
    },
    {
     "data": {
      "text/plain": [
       "array([-1,  1,  5, 11, 19, 29, 41, 55, 71, 89])"
      ]
     },
     "execution_count": 11,
     "metadata": {},
     "output_type": "execute_result"
    },
    {
     "data": {
      "text/plain": [
       "array([ 1.,  1.,  1.,  1.,  1.,  1.,  1.,  1.,  1.,  1.])"
      ]
     },
     "execution_count": 11,
     "metadata": {},
     "output_type": "execute_result"
    }
   ],
   "source": [
    "# unary ufuncs\n",
    "\n",
    "x = np.arange(10)\n",
    "x\n",
    "\n",
    "print '-----'\n",
    "x**2 + x - 1\n",
    "np.sin(x)**2 + np.cos(x)**2\n"
   ]
  },
  {
   "cell_type": "code",
   "execution_count": 15,
   "metadata": {
    "collapsed": false
   },
   "outputs": [
    {
     "data": {
      "text/plain": [
       "array([0, 1, 2, 3, 4, 5, 6, 7, 8, 9])"
      ]
     },
     "execution_count": 15,
     "metadata": {},
     "output_type": "execute_result"
    },
    {
     "data": {
      "text/plain": [
       "array([ 0.,  0.,  0.,  0.,  0.,  0.,  0.,  0.,  0.,  0.])"
      ]
     },
     "execution_count": 15,
     "metadata": {},
     "output_type": "execute_result"
    },
    {
     "data": {
      "text/plain": [
       "array([  0.,   1.,   4.,   9.,  16.,  25.,  36.,  49.,  64.,  81.])"
      ]
     },
     "execution_count": 15,
     "metadata": {},
     "output_type": "execute_result"
    },
    {
     "data": {
      "text/plain": [
       "array([  0.,   1.,   4.,   9.,  16.,  25.,  36.,  49.,  64.,  81.])"
      ]
     },
     "execution_count": 15,
     "metadata": {},
     "output_type": "execute_result"
    }
   ],
   "source": [
    "# out - use out to save memory for computations on large arrays\n",
    "x = np.arange(10)\n",
    "x\n",
    "y = np.zeros(10)\n",
    "y\n",
    "\n",
    "np.power(x, 2, out=y)\n",
    "y\n"
   ]
  },
  {
   "cell_type": "code",
   "execution_count": 28,
   "metadata": {
    "collapsed": false
   },
   "outputs": [
    {
     "name": "stdout",
     "output_type": "stream",
     "text": [
      "\n",
      "----- 1d array\n"
     ]
    },
    {
     "data": {
      "text/plain": [
       "array([0, 1, 2, 3, 4, 5, 6, 7, 8, 9])"
      ]
     },
     "execution_count": 28,
     "metadata": {},
     "output_type": "execute_result"
    },
    {
     "data": {
      "text/plain": [
       "45"
      ]
     },
     "execution_count": 28,
     "metadata": {},
     "output_type": "execute_result"
    },
    {
     "data": {
      "text/plain": [
       "array([ 0,  1,  3,  6, 10, 15, 21, 28, 36, 45])"
      ]
     },
     "execution_count": 28,
     "metadata": {},
     "output_type": "execute_result"
    },
    {
     "name": "stdout",
     "output_type": "stream",
     "text": [
      "\n",
      "----- 2d array\n"
     ]
    },
    {
     "data": {
      "text/plain": [
       "array([[ 0,  1,  2],\n",
       "       [ 3,  4,  5],\n",
       "       [ 6,  7,  8],\n",
       "       [ 9, 10, 11]])"
      ]
     },
     "execution_count": 28,
     "metadata": {},
     "output_type": "execute_result"
    },
    {
     "data": {
      "text/plain": [
       "array([18, 22, 26])"
      ]
     },
     "execution_count": 28,
     "metadata": {},
     "output_type": "execute_result"
    },
    {
     "data": {
      "text/plain": [
       "array([ 3, 12, 21, 30])"
      ]
     },
     "execution_count": 28,
     "metadata": {},
     "output_type": "execute_result"
    },
    {
     "data": {
      "text/plain": [
       "array([[ 0,  1,  2],\n",
       "       [ 3,  5,  7],\n",
       "       [ 9, 12, 15],\n",
       "       [18, 22, 26]])"
      ]
     },
     "execution_count": 28,
     "metadata": {},
     "output_type": "execute_result"
    },
    {
     "data": {
      "text/plain": [
       "array([[ 0,  1,  3],\n",
       "       [ 3,  7, 12],\n",
       "       [ 6, 13, 21],\n",
       "       [ 9, 19, 30]])"
      ]
     },
     "execution_count": 28,
     "metadata": {},
     "output_type": "execute_result"
    }
   ],
   "source": [
    "# reduce, accumulate\n",
    "\n",
    "print '\\n----- 1d array'\n",
    "arr = np.arange(10)\n",
    "arr\n",
    "np.add.reduce(arr) # sum\n",
    "np.add.accumulate(arr) # cumsum\n",
    "\n",
    "print '\\n----- 2d array'\n",
    "arr = np.arange(12).reshape(4,3)\n",
    "arr\n",
    "np.add.reduce(arr) # default: reduce over axis=0\n",
    "np.add.reduce(arr, axis=1)\n",
    "\n",
    "np.add.accumulate(arr)\n",
    "np.add.accumulate(arr, axis=1)\n"
   ]
  },
  {
   "cell_type": "markdown",
   "metadata": {},
   "source": [
    "### Broadcasting rules\n",
    "\n",
    "Broadcasting is a set of rules to apply binary ufuncs to arrays of different sizes\n",
    "\n",
    "1. If 2 arrays differ in the number of their dimensions, the shape of the array with fewer dimensions is padded with ones on the left side\n",
    "2. If the shape of 3 arrays does not match in a dimension, the array with shape 1 in that dimension is extended to match the shape of the other array in that dimension\n",
    "3. If sizes disagree in any dimension and neither is 1, then an error is raised\n",
    "\n",
    "Ref: Section on Broadcasting in Chap 2 of *Python Data Science Handbook*"
   ]
  },
  {
   "cell_type": "code",
   "execution_count": 23,
   "metadata": {
    "collapsed": false
   },
   "outputs": [
    {
     "data": {
      "text/plain": [
       "array([ 1,  3,  5,  6,  9,  9,  9,  9, 11, 12, 13, 14, 15, 16, 17, 17, 18,\n",
       "       18, 18, 23, 24, 24, 28, 28, 28, 29, 29, 30, 31, 32, 35, 35, 39, 39,\n",
       "       42, 43, 45, 45, 46, 48, 49, 49, 50, 51, 55, 56, 56, 57, 58, 59, 60,\n",
       "       60, 63, 63, 63, 63, 63, 65, 65, 68, 69, 70, 70, 71, 73, 73, 74, 75,\n",
       "       76, 77, 77, 78, 79, 80, 81, 83, 84, 84, 85, 86, 87, 87, 89, 89, 89,\n",
       "       90, 90, 92, 93, 93, 94, 94, 95, 96, 98, 98, 98, 99, 99, 99])"
      ]
     },
     "execution_count": 23,
     "metadata": {},
     "output_type": "execute_result"
    },
    {
     "data": {
      "text/plain": [
       "array([   0.,   10.,   20.,   30.,   40.,   50.,   60.,   70.,   80.,\n",
       "         90.,  100.])"
      ]
     },
     "execution_count": 23,
     "metadata": {},
     "output_type": "execute_result"
    },
    {
     "data": {
      "text/plain": [
       "array([  0.,   8.,  11.,   9.,   6.,   9.,   9.,  11.,  11.,  13.,  13.])"
      ]
     },
     "execution_count": 23,
     "metadata": {},
     "output_type": "execute_result"
    }
   ],
   "source": [
    "# Generate histogram\n",
    "\n",
    "x = np.random.randint(low=1, high=100, size=100)\n",
    "np.sort(x)\n",
    "bin_edges = np.linspace(start=0, stop=100, num=11)\n",
    "bin_edges\n",
    "bins = np.searchsorted(bin_edges, x)\n",
    "freq = np.zeros_like(bin_edges)\n",
    "\n",
    "np.add.at(freq, bins, 1) # this is equivalent to: freq[bins] += 1\n",
    "freq\n"
   ]
  },
  {
   "cell_type": "code",
   "execution_count": 9,
   "metadata": {
    "collapsed": false
   },
   "outputs": [
    {
     "data": {
      "text/plain": [
       "numpy.ndarray"
      ]
     },
     "execution_count": 9,
     "metadata": {},
     "output_type": "execute_result"
    },
    {
     "data": {
      "text/plain": [
       "array([4, 10, 18], dtype=object)"
      ]
     },
     "execution_count": 9,
     "metadata": {},
     "output_type": "execute_result"
    },
    {
     "name": "stdout",
     "output_type": "stream",
     "text": [
      "\n",
      "-----\n"
     ]
    },
    {
     "data": {
      "text/plain": [
       "numpy.ndarray"
      ]
     },
     "execution_count": 9,
     "metadata": {},
     "output_type": "execute_result"
    },
    {
     "data": {
      "text/plain": [
       "array([ 4, 10, 18])"
      ]
     },
     "execution_count": 9,
     "metadata": {},
     "output_type": "execute_result"
    },
    {
     "name": "stdout",
     "output_type": "stream",
     "text": [
      "10000 loops, best of 3: 145 µs per loop\n",
      "1000 loops, best of 3: 222 µs per loop\n"
     ]
    }
   ],
   "source": [
    "# Custom ufuncs - can be slow compared to optimized ufuncs since \n",
    "# Python function has to be called for each value in array compared to calling C func on each value\n",
    "\n",
    "def mult_elem(a, b):\n",
    "    return a * b\n",
    "\n",
    "f1 = np.frompyfunc(mult_elem, 2, 1)\n",
    "a = f1([1,2,3], [4,5,6])\n",
    "type(a)\n",
    "a\n",
    "\n",
    "print '\\n-----'\n",
    "f2 = np.vectorize(mult_elem, otypes=[np.int64])\n",
    "b = f2([1,2,3], [4,5,6])\n",
    "type(b)\n",
    "b\n",
    "\n",
    "arr = np.random.randn(1000)\n",
    "%timeit f1(arr, arr)\n",
    "%timeit f2(arr, arr)\n"
   ]
  }
 ],
 "metadata": {
  "kernelspec": {
   "display_name": "Python 2",
   "language": "python",
   "name": "python2"
  },
  "language_info": {
   "codemirror_mode": {
    "name": "ipython",
    "version": 2
   },
   "file_extension": ".py",
   "mimetype": "text/x-python",
   "name": "python",
   "nbconvert_exporter": "python",
   "pygments_lexer": "ipython2",
   "version": "2.7.10"
  }
 },
 "nbformat": 4,
 "nbformat_minor": 2
}
