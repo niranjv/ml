{
 "cells": [
  {
   "cell_type": "markdown",
   "metadata": {},
   "source": [
    "## Task\n",
    "Explore linear algebrea routines in NumPy\n",
    "\n",
    "## Notebook Summary\n",
    "* Matrix products - dot, inner, cross, outer, kron, einsum, tensordot\n",
    "\n",
    "## References\n",
    "* *Python for Data Analysis*, Wes McKinney, O'Reilly, 2012\n",
    "* *Numerical Python*, Robert Johansson, APress, 2015\n",
    "* *Python Data Science Handbook*, Jake VanderPlas, O'Reilly, 2016\n"
   ]
  },
  {
   "cell_type": "code",
   "execution_count": 2,
   "metadata": {
    "collapsed": false,
    "scrolled": true
   },
   "outputs": [
    {
     "name": "stdout",
     "output_type": "stream",
     "text": [
      "python.version =  2.7.10\n",
      "ipython.version = (5, 1, 0, '')\n",
      "numpy.version =  1.11.3\n"
     ]
    }
   ],
   "source": [
    "# display output from all cmds just like Python shell\n",
    "from IPython.core.interactiveshell import InteractiveShell\n",
    "InteractiveShell.ast_node_interactivity = \"all\"\n",
    "\n",
    "import platform\n",
    "print 'python.version = ', platform.python_version()\n",
    "import IPython\n",
    "print 'ipython.version =', IPython.version_info\n",
    "\n",
    "import numpy as np\n",
    "print 'numpy.version = ', np.__version__\n"
   ]
  },
  {
   "cell_type": "code",
   "execution_count": 10,
   "metadata": {
    "collapsed": false
   },
   "outputs": [
    {
     "name": "stdout",
     "output_type": "stream",
     "text": [
      "\n",
      "-----\n"
     ]
    },
    {
     "data": {
      "text/plain": [
       "array([0])"
      ]
     },
     "execution_count": 10,
     "metadata": {},
     "output_type": "execute_result"
    },
    {
     "data": {
      "text/plain": [
       "0"
      ]
     },
     "execution_count": 10,
     "metadata": {},
     "output_type": "execute_result"
    },
    {
     "name": "stdout",
     "output_type": "stream",
     "text": [
      "\n",
      "-----\n"
     ]
    },
    {
     "data": {
      "text/plain": [
       "(array([0, 1]), (2,))"
      ]
     },
     "execution_count": 10,
     "metadata": {},
     "output_type": "execute_result"
    },
    {
     "data": {
      "text/plain": [
       "1"
      ]
     },
     "execution_count": 10,
     "metadata": {},
     "output_type": "execute_result"
    },
    {
     "name": "stdout",
     "output_type": "stream",
     "text": [
      "\n",
      "-----\n"
     ]
    },
    {
     "data": {
      "text/plain": [
       "array([[ 0.  ,  0.11],\n",
       "       [ 0.22,  0.33],\n",
       "       [ 0.44,  0.56],\n",
       "       [ 0.67,  0.78],\n",
       "       [ 0.89,  1.  ]])"
      ]
     },
     "execution_count": 10,
     "metadata": {},
     "output_type": "execute_result"
    },
    {
     "data": {
      "text/plain": [
       "array([[ 0.  ,  0.11,  0.22,  0.33,  0.44],\n",
       "       [ 0.56,  0.67,  0.78,  0.89,  1.  ]])"
      ]
     },
     "execution_count": 10,
     "metadata": {},
     "output_type": "execute_result"
    },
    {
     "data": {
      "text/plain": [
       "array([[ 0.0616,  0.0737,  0.0858,  0.0979,  0.11  ],\n",
       "       [ 0.1848,  0.2453,  0.3058,  0.3663,  0.4268],\n",
       "       [ 0.3136,  0.4236,  0.5336,  0.6436,  0.7536],\n",
       "       [ 0.4368,  0.5963,  0.7558,  0.9153,  1.0748],\n",
       "       [ 0.56  ,  0.7679,  0.9758,  1.1837,  1.3916]])"
      ]
     },
     "execution_count": 10,
     "metadata": {},
     "output_type": "execute_result"
    },
    {
     "data": {
      "text/plain": [
       "array([[ 0.7337,  0.8569],\n",
       "       [ 1.9769,  2.4137]])"
      ]
     },
     "execution_count": 10,
     "metadata": {},
     "output_type": "execute_result"
    }
   ],
   "source": [
    "# dot\n",
    "\n",
    "print '\\n-----'\n",
    "a = np.arange(1)\n",
    "a\n",
    "a.dot(a)\n",
    "\n",
    "print '\\n-----'\n",
    "a = np.arange(2)\n",
    "a, a.shape\n",
    "a.dot(a)\n",
    "\n",
    "print '\\n-----'\n",
    "a = np.round(np.linspace(0,1,10),2).reshape(5,2)\n",
    "a\n",
    "b = np.round(np.linspace(0,1,10),2).reshape(2,5)\n",
    "b\n",
    "\n",
    "a.dot(b) # ndarray method\n",
    "np.dot(b,a) # np method\n",
    "\n",
    "# ToDo\n"
   ]
  }
 ],
 "metadata": {
  "kernelspec": {
   "display_name": "Python 2",
   "language": "python",
   "name": "python2"
  },
  "language_info": {
   "codemirror_mode": {
    "name": "ipython",
    "version": 2
   },
   "file_extension": ".py",
   "mimetype": "text/x-python",
   "name": "python",
   "nbconvert_exporter": "python",
   "pygments_lexer": "ipython2",
   "version": "2.7.10"
  }
 },
 "nbformat": 4,
 "nbformat_minor": 2
}
