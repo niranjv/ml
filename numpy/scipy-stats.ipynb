{
 "cells": [
  {
   "cell_type": "markdown",
   "metadata": {},
   "source": [
    "## Task\n",
    "Explore basic statistical methods in SciPy\n",
    "\n",
    "## Notebook Summary\n",
    "* ?\n",
    "\n",
    "## References\n",
    "* *Numerical Python*, Robert Johansson, APress, 2015\n"
   ]
  },
  {
   "cell_type": "code",
   "execution_count": 8,
   "metadata": {
    "collapsed": false
   },
   "outputs": [
    {
     "name": "stdout",
     "output_type": "stream",
     "text": [
      "python.version = 2.7.10\n",
      "ipython.version = (5, 1, 0, '')\n",
      "numpy.version = 1.11.3\n",
      "scipy.version = 0.18.1\n",
      "matplotlib.version = 1.5.3\n",
      "seaborn.version =  0.7.1\n"
     ]
    }
   ],
   "source": [
    "# display output from all cmds just like Python shell\n",
    "from IPython.core.interactiveshell import InteractiveShell\n",
    "InteractiveShell.ast_node_interactivity = \"all\"\n",
    "\n",
    "import platform\n",
    "print 'python.version =', platform.python_version()\n",
    "import IPython\n",
    "print 'ipython.version =', IPython.version_info\n",
    "\n",
    "import numpy as np\n",
    "print 'numpy.version =', np.__version__\n",
    "import scipy\n",
    "from scipy import stats\n",
    "print 'scipy.version =', scipy.__version__\n",
    "\n",
    "%matplotlib inline \n",
    "%config InlineBackend.figure_format = 'retina'\n",
    "\n",
    "import matplotlib as mpl\n",
    "print 'matplotlib.version =', mpl.__version__\n",
    "import matplotlib.pyplot as plt\n",
    "\n",
    "import seaborn as sns\n",
    "print 'seaborn.version = ', sns.__version__\n"
   ]
  }
 ],
 "metadata": {
  "kernelspec": {
   "display_name": "Python 2",
   "language": "python",
   "name": "python2"
  },
  "language_info": {
   "codemirror_mode": {
    "name": "ipython",
    "version": 2
   },
   "file_extension": ".py",
   "mimetype": "text/x-python",
   "name": "python",
   "nbconvert_exporter": "python",
   "pygments_lexer": "ipython2",
   "version": "2.7.10"
  }
 },
 "nbformat": 4,
 "nbformat_minor": 2
}
