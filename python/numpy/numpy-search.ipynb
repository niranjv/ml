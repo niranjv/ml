{
 "cells": [
  {
   "cell_type": "markdown",
   "metadata": {},
   "source": [
    "## Task\n",
    "Explore searching arrays in NumPy\n",
    "\n",
    "## Notebook Summary\n",
    "* argmax, argmin\n",
    "* where, argwhere\n",
    "* nonzero, count_nonzero\n",
    "* searchsorted\n",
    "* extract\n",
    "\n",
    "## References\n",
    "* *Python for Data Analysis*, Wes McKinney, O'Reilly, 2012\n",
    "* *Numerical Python*, Robert Johansson, APress, 2015\n",
    "* *Python Data Science Handbook*, Jake VanderPlas, O'Reilly, 2016\n"
   ]
  },
  {
   "cell_type": "code",
   "execution_count": 1,
   "metadata": {
    "collapsed": false
   },
   "outputs": [
    {
     "name": "stdout",
     "output_type": "stream",
     "text": [
      "python.version =  2.7.10\n",
      "ipython.version = (5, 1, 0, '')\n",
      "numpy.version =  1.11.3\n"
     ]
    }
   ],
   "source": [
    "# display output from all cmds just like Python shell\n",
    "from IPython.core.interactiveshell import InteractiveShell\n",
    "InteractiveShell.ast_node_interactivity = \"all\"\n",
    "\n",
    "import platform\n",
    "print 'python.version = ', platform.python_version()\n",
    "import IPython\n",
    "print 'ipython.version =', IPython.version_info\n",
    "\n",
    "import numpy as np\n",
    "print 'numpy.version = ', np.__version__\n"
   ]
  },
  {
   "cell_type": "code",
   "execution_count": 3,
   "metadata": {
    "collapsed": false
   },
   "outputs": [
    {
     "data": {
      "text/plain": [
       "array([[ 0.34, -2.07,  0.27,  2.4 ],\n",
       "       [-0.05,  0.97, -0.28, -0.77],\n",
       "       [-0.48,  1.  , -0.32,  0.13],\n",
       "       [-0.23, -0.26,  0.42, -0.71]])"
      ]
     },
     "execution_count": 3,
     "metadata": {},
     "output_type": "execute_result"
    },
    {
     "data": {
      "text/plain": [
       "array([[99,  0, 99, 99],\n",
       "       [ 0, 99,  0,  0],\n",
       "       [ 0, 99,  0, 99],\n",
       "       [ 0,  0, 99,  0]])"
      ]
     },
     "execution_count": 3,
     "metadata": {},
     "output_type": "execute_result"
    },
    {
     "data": {
      "text/plain": [
       "array([[ 0.34,  0.  ,  0.27,  2.4 ],\n",
       "       [ 0.  ,  0.97,  0.  ,  0.  ],\n",
       "       [ 0.  ,  1.  ,  0.  ,  0.13],\n",
       "       [ 0.  ,  0.  ,  0.42,  0.  ]])"
      ]
     },
     "execution_count": 3,
     "metadata": {},
     "output_type": "execute_result"
    },
    {
     "name": "stdout",
     "output_type": "stream",
     "text": [
      "---\n"
     ]
    },
    {
     "data": {
      "text/plain": [
       "array([[ 0.34,  0.  ,  0.27,  2.4 ],\n",
       "       [ 0.  ,  0.97,  0.  ,  0.  ],\n",
       "       [ 0.  ,  1.  ,  0.  ,  0.13],\n",
       "       [ 0.  ,  0.  ,  0.42,  0.  ]])"
      ]
     },
     "execution_count": 3,
     "metadata": {},
     "output_type": "execute_result"
    },
    {
     "data": {
      "text/plain": [
       "array([[ 1. ,  0. ,  1. ,  2.4],\n",
       "       [ 0. ,  1. ,  0. ,  0. ],\n",
       "       [ 0. ,  1. ,  0. ,  1. ],\n",
       "       [ 0. ,  0. ,  1. ,  0. ]])"
      ]
     },
     "execution_count": 3,
     "metadata": {},
     "output_type": "execute_result"
    },
    {
     "name": "stdout",
     "output_type": "stream",
     "text": [
      "---\n"
     ]
    },
    {
     "data": {
      "text/plain": [
       "array([11, 11, 12, 12, 13, 13])"
      ]
     },
     "execution_count": 3,
     "metadata": {},
     "output_type": "execute_result"
    },
    {
     "data": {
      "text/plain": [
       "(array([0, 0, 0, 0, 1, 1, 1, 1, 2, 2, 2, 2, 3, 3, 3, 3]),\n",
       " array([0, 1, 2, 3, 0, 1, 2, 3, 0, 1, 2, 3, 0, 1, 2, 3]))"
      ]
     },
     "execution_count": 3,
     "metadata": {},
     "output_type": "execute_result"
    },
    {
     "data": {
      "text/plain": [
       "array([], dtype=float64)"
      ]
     },
     "execution_count": 3,
     "metadata": {},
     "output_type": "execute_result"
    },
    {
     "data": {
      "text/plain": [
       "array([ 0.34, -2.07,  0.27,  2.4 , -0.05,  0.97, -0.28, -0.77, -0.48,\n",
       "        1.  , -0.32,  0.13, -0.23, -0.26,  0.42, -0.71])"
      ]
     },
     "execution_count": 3,
     "metadata": {},
     "output_type": "execute_result"
    }
   ],
   "source": [
    "# where\n",
    "\n",
    "myarr = np.round(np.random.randn(4,4),2)\n",
    "myarr\n",
    "\n",
    "np.where(myarr < 0, 0, 99) # replace -ve values with 0 and non-neg values with 99\n",
    "np.where(myarr < 0, 0, myarr) # replace -ve values with 0; leave non-neg values as-is\n",
    "\n",
    "print '---'\n",
    "\n",
    "# select\n",
    "np.select([myarr<0, myarr>= 0], [0, myarr]) # same as using where above\n",
    "np.select([myarr<0, myarr<1, myarr>= 1], [0, 1, myarr]) # same as using where above\n",
    "\n",
    "print '---'\n",
    "\n",
    "# choose \n",
    "np.choose([0,0,1,1,2,2], [11,12,13])\n",
    "\n",
    "# nonzero\n",
    "np.nonzero(myarr)\n",
    "myarr[np.nonzero(np.zeros_like(myarr))]\n",
    "myarr[np.nonzero(np.ones_like(myarr))]\n"
   ]
  },
  {
   "cell_type": "code",
   "execution_count": 2,
   "metadata": {
    "collapsed": false
   },
   "outputs": [
    {
     "data": {
      "text/plain": [
       "array([0, 1, 2, 3, 4, 5, 6, 7, 8, 9])"
      ]
     },
     "execution_count": 2,
     "metadata": {},
     "output_type": "execute_result"
    },
    {
     "data": {
      "text/plain": [
       "0"
      ]
     },
     "execution_count": 2,
     "metadata": {},
     "output_type": "execute_result"
    },
    {
     "data": {
      "text/plain": [
       "10"
      ]
     },
     "execution_count": 2,
     "metadata": {},
     "output_type": "execute_result"
    },
    {
     "data": {
      "text/plain": [
       "array([1, 2, 1, 2])"
      ]
     },
     "execution_count": 2,
     "metadata": {},
     "output_type": "execute_result"
    },
    {
     "data": {
      "text/plain": [
       "array([-0.07,  0.52,  0.51, -0.53,  1.21, -1.53,  1.45,  0.97, -0.24,\n",
       "       -0.39,  0.4 ,  0.71, -0.88, -0.65, -0.05,  1.57,  1.14,  0.23,\n",
       "        1.63, -0.73, -1.32, -0.33, -1.5 ,  1.  , -1.17,  1.41,  0.57,\n",
       "       -1.46, -0.31, -0.02,  1.72,  0.01,  0.28,  0.77,  0.26,  0.5 ,\n",
       "        0.54,  0.37,  0.48, -0.68,  0.27, -0.26, -0.06, -1.13,  0.11,\n",
       "        0.7 , -1.08, -1.63, -1.13, -0.69])"
      ]
     },
     "execution_count": 2,
     "metadata": {},
     "output_type": "execute_result"
    },
    {
     "data": {
      "text/plain": [
       "(-1.6299999999999999, 1.72)"
      ]
     },
     "execution_count": 2,
     "metadata": {},
     "output_type": "execute_result"
    },
    {
     "data": {
      "text/plain": [
       "array([2, 3, 3, 2, 4, 1, 4, 3, 2, 2, 3, 3, 2, 2, 2, 4, 4, 3, 4, 2, 1, 2, 1,\n",
       "       3, 1, 4, 3, 1, 2, 2, 4, 3, 3, 3, 3, 3, 3, 3, 3, 2, 3, 2, 2, 1, 3, 3,\n",
       "       1, 1, 1, 2])"
      ]
     },
     "execution_count": 2,
     "metadata": {},
     "output_type": "execute_result"
    },
    {
     "data": {
      "text/plain": [
       "array([2, 3, 3, 2, 4, 1, 4, 3, 2, 2, 3, 3, 2, 2, 2, 4, 4, 3, 4, 2, 1, 2, 1,\n",
       "       4, 1, 4, 3, 1, 2, 2, 4, 3, 3, 3, 3, 3, 3, 3, 3, 2, 3, 2, 2, 1, 3, 3,\n",
       "       1, 1, 1, 2])"
      ]
     },
     "execution_count": 2,
     "metadata": {},
     "output_type": "execute_result"
    },
    {
     "data": {
      "text/plain": [
       "False"
      ]
     },
     "execution_count": 2,
     "metadata": {},
     "output_type": "execute_result"
    }
   ],
   "source": [
    "# searchsorted - find indices where new items must be inserted in a sorted array to maintain sorted-ness\n",
    "\n",
    "arr = np.arange(10)\n",
    "arr\n",
    "\n",
    "arr.searchsorted(0) # return index to left of existing 0\n",
    "arr.searchsorted(10)\n",
    "arr.searchsorted([1,2,1,2])\n",
    "\n",
    "\n",
    "# Bin data using searchsorted\n",
    "values = np.round(np.random.randn(50),2)\n",
    "values\n",
    "values.min(), values.max()\n",
    "\n",
    "bins = np.array([-5,-1,0,1,5])\n",
    "\n",
    "bins.searchsorted(values)\n",
    "\n",
    "# compare with np.digitize\n",
    "np.digitize(values, bins)\n",
    "\n",
    "# verify both methods generate the same result\n",
    "np.array_equal(bins.searchsorted(values), np.digitize(values, bins))\n"
   ]
  }
 ],
 "metadata": {
  "kernelspec": {
   "display_name": "Python 2",
   "language": "python",
   "name": "python2"
  },
  "language_info": {
   "codemirror_mode": {
    "name": "ipython",
    "version": 2
   },
   "file_extension": ".py",
   "mimetype": "text/x-python",
   "name": "python",
   "nbconvert_exporter": "python",
   "pygments_lexer": "ipython2",
   "version": "2.7.10"
  }
 },
 "nbformat": 4,
 "nbformat_minor": 2
}
