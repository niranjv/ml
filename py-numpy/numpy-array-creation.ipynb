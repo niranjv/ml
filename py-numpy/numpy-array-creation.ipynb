{
 "cells": [
  {
   "cell_type": "markdown",
   "metadata": {},
   "source": [
    "## Task\n",
    "Explore array creation in NumPy\n",
    "\n",
    "## Notebook Summary\n",
    "* `array`, \n",
    "* `asarray`\n",
    "---\n",
    "* `zeros`\n",
    "* `ones` \n",
    "* `full` \n",
    "* `fill` \n",
    "* `empty`\n",
    "* `eye`\n",
    "* `identity`\n",
    "* `diag`\n",
    "---\n",
    "* `arange`\n",
    "* `linspace`\n",
    "* `logspace`\n",
    "* `fromfunction`\n",
    "* `meshgrid`\n",
    "\n",
    "## References\n",
    "* *Python for Data Analysis*, Wes McKinney, O'Reilly, 2012\n",
    "* *Numerical Python*, Robert Johansson, APress, 2015\n",
    "* *Python Data Science Handbook*, Jake VanderPlas, O'Reilly, 2016\n"
   ]
  },
  {
   "cell_type": "code",
   "execution_count": 1,
   "metadata": {
    "collapsed": false
   },
   "outputs": [
    {
     "name": "stdout",
     "output_type": "stream",
     "text": [
      "python.version =  2.7.10\n",
      "ipython.version = (5, 1, 0, '')\n",
      "numpy.version =  1.11.3\n"
     ]
    }
   ],
   "source": [
    "# display output from all cmds just like Python shell\n",
    "from IPython.core.interactiveshell import InteractiveShell\n",
    "InteractiveShell.ast_node_interactivity = \"all\"\n",
    "\n",
    "import platform\n",
    "print 'python.version = ', platform.python_version()\n",
    "import IPython\n",
    "print 'ipython.version =', IPython.version_info\n",
    "\n",
    "import numpy as np\n",
    "print 'numpy.version = ', np.__version__\n"
   ]
  },
  {
   "cell_type": "code",
   "execution_count": 21,
   "metadata": {
    "collapsed": false
   },
   "outputs": [
    {
     "name": "stdout",
     "output_type": "stream",
     "text": [
      "----- Create 1d array from list\n"
     ]
    },
    {
     "data": {
      "text/plain": [
       "array([1, 2, 3, 4])"
      ]
     },
     "execution_count": 21,
     "metadata": {},
     "output_type": "execute_result"
    },
    {
     "name": "stdout",
     "output_type": "stream",
     "text": [
      "----- Create 2d array from list of lists\n"
     ]
    },
    {
     "data": {
      "text/plain": [
       "array([[ 5.1,  6.2],\n",
       "       [ 7.3,  8.4]])"
      ]
     },
     "execution_count": 21,
     "metadata": {},
     "output_type": "execute_result"
    },
    {
     "data": {
      "text/plain": [
       "dtype('float64')"
      ]
     },
     "execution_count": 21,
     "metadata": {},
     "output_type": "execute_result"
    },
    {
     "name": "stdout",
     "output_type": "stream",
     "text": [
      "----- Create 2d array from array & update\n"
     ]
    },
    {
     "data": {
      "text/plain": [
       "array([[   5.1,  999. ],\n",
       "       [   7.3,    8.4]])"
      ]
     },
     "execution_count": 21,
     "metadata": {},
     "output_type": "execute_result"
    },
    {
     "name": "stdout",
     "output_type": "stream",
     "text": [
      "myarr is myarr2 =  False\n",
      "----- Array attributes\n"
     ]
    },
    {
     "data": {
      "text/plain": [
       "array([[1, 2, 3],\n",
       "       [4, 5, 6],\n",
       "       [7, 8, 9]])"
      ]
     },
     "execution_count": 21,
     "metadata": {},
     "output_type": "execute_result"
    },
    {
     "name": "stdout",
     "output_type": "stream",
     "text": [
      "ndim=2, shape=(3, 3), size=9, dtype=int64\n",
      "['T', 'all', 'any', 'argmax', 'argmin', 'argpartition', 'argsort', 'astype', 'base', 'byteswap', 'choose', 'clip', 'compress', 'conj', 'conjugate', 'copy', 'ctypes', 'cumprod', 'cumsum', 'data', 'diagonal', 'dot', 'dtype', 'dump', 'dumps', 'fill', 'flags', 'flat', 'flatten', 'getfield', 'imag', 'item', 'itemset', 'itemsize', 'max', 'mean', 'min', 'nbytes', 'ndim', 'newbyteorder', 'nonzero', 'partition', 'prod', 'ptp', 'put', 'ravel', 'real', 'repeat', 'reshape', 'resize', 'round', 'searchsorted', 'setfield', 'setflags', 'shape', 'size', 'sort', 'squeeze', 'std', 'strides', 'sum', 'swapaxes', 'take', 'tobytes', 'tofile', 'tolist', 'tostring', 'trace', 'transpose', 'var', 'view']\n",
      "\n",
      "----- Change array dtype\n",
      "float: \n",
      "[[ 1.  2.  3.]\n",
      " [ 4.  5.  6.]\n",
      " [ 7.  8.  9.]]\n",
      "str: \n",
      "[['1' '2' '3']\n",
      " ['4' '5' '6']\n",
      " ['7' '8' '9']]\n",
      "original: \n",
      "[[1 2 3]\n",
      " [4 5 6]\n",
      " [7 8 9]]\n"
     ]
    }
   ],
   "source": [
    "# Creating arrays from lists using array() & asarray()\n",
    "\n",
    "print '----- Create 1d array from list'\n",
    "mylist = [1,2,3,4]\n",
    "myarr = np.array(mylist) \n",
    "myarr\n",
    "\n",
    "print '----- Create 2d array from list of lists'\n",
    "myarr = np.array([[5.1,6.2],[7.3,8.4]])\n",
    "myarr\n",
    "myarr.dtype\n",
    "\n",
    "print '----- Create 2d array from array & update'\n",
    "myarr2 = np.array(myarr) # copy=True by default; else copy made only if necessary\n",
    "myarr2[0,1] = 999\n",
    "myarr2\n",
    "print 'myarr is myarr2 = ', myarr is myarr2\n",
    "\n",
    "print '----- Array attributes'\n",
    "myarr = np.array([[1,2,3],[4,5,6],[7,8,9]])\n",
    "myarr\n",
    "print 'ndim={}, shape={}, size={}, dtype={}'.format(myarr.ndim, myarr.shape, myarr.size, myarr.dtype)\n",
    "print [attr for attr in dir(myarr) if not attr.startswith('_')]\n",
    "\n",
    "print ''\n",
    "print '----- Change array dtype'\n",
    "print 'float: \\n', myarr.astype(float)\n",
    "print 'str: \\n', myarr.astype(str)\n",
    "print 'original: \\n', myarr\n"
   ]
  },
  {
   "cell_type": "code",
   "execution_count": 9,
   "metadata": {
    "collapsed": false
   },
   "outputs": [
    {
     "data": {
      "text/plain": [
       "array([1, 2, 3, 4])"
      ]
     },
     "execution_count": 9,
     "metadata": {},
     "output_type": "execute_result"
    },
    {
     "name": "stdout",
     "output_type": "stream",
     "text": [
      "myarr is myarr2 =  True\n"
     ]
    }
   ],
   "source": [
    "# asarray\n",
    "\n",
    "myarr = np.asarray([1, 2, 3,4]) # no copy if input is an ndarray \n",
    "myarr\n",
    "\n",
    "myarr2 = np.asarray(myarr)\n",
    "print 'myarr is myarr2 = ', myarr is myarr2 # verify that both array variables point to the same object\n"
   ]
  },
  {
   "cell_type": "code",
   "execution_count": 32,
   "metadata": {
    "collapsed": false
   },
   "outputs": [
    {
     "data": {
      "text/plain": [
       "array([ 0.+0.j])"
      ]
     },
     "execution_count": 32,
     "metadata": {},
     "output_type": "execute_result"
    },
    {
     "data": {
      "text/plain": [
       "array([[[ 0.,  0.],\n",
       "        [ 0.,  0.],\n",
       "        [ 0.,  0.]],\n",
       "\n",
       "       [[ 0.,  0.],\n",
       "        [ 0.,  0.],\n",
       "        [ 0.,  0.]]])"
      ]
     },
     "execution_count": 32,
     "metadata": {},
     "output_type": "execute_result"
    },
    {
     "data": {
      "text/plain": [
       "array([[0, 0, 0],\n",
       "       [0, 0, 0],\n",
       "       [0, 0, 0]])"
      ]
     },
     "execution_count": 32,
     "metadata": {},
     "output_type": "execute_result"
    }
   ],
   "source": [
    "# zeros\n",
    "\n",
    "np.zeros(1, dtype='complex')\n",
    "np.zeros([2,3,2])\n",
    "np.zeros_like(myarr)\n"
   ]
  },
  {
   "cell_type": "code",
   "execution_count": 23,
   "metadata": {
    "collapsed": false
   },
   "outputs": [
    {
     "data": {
      "text/plain": [
       "array([ 1.,  1.])"
      ]
     },
     "execution_count": 23,
     "metadata": {},
     "output_type": "execute_result"
    },
    {
     "data": {
      "text/plain": [
       "array([[[1, 1, 1],\n",
       "        [1, 1, 1]]])"
      ]
     },
     "execution_count": 23,
     "metadata": {},
     "output_type": "execute_result"
    },
    {
     "data": {
      "text/plain": [
       "array([[1, 1, 1],\n",
       "       [1, 1, 1],\n",
       "       [1, 1, 1]])"
      ]
     },
     "execution_count": 23,
     "metadata": {},
     "output_type": "execute_result"
    }
   ],
   "source": [
    "# ones\n",
    "\n",
    "np.ones(2)\n",
    "np.ones([1,2,3], dtype='int')\n",
    "np.ones_like(myarr)\n"
   ]
  },
  {
   "cell_type": "code",
   "execution_count": 24,
   "metadata": {
    "collapsed": false
   },
   "outputs": [
    {
     "data": {
      "text/plain": [
       "array([[ 9.9]])"
      ]
     },
     "execution_count": 24,
     "metadata": {},
     "output_type": "execute_result"
    },
    {
     "data": {
      "text/plain": [
       "array([['a', 'a'],\n",
       "       ['a', 'a'],\n",
       "       ['a', 'a']], \n",
       "      dtype='|S1')"
      ]
     },
     "execution_count": 24,
     "metadata": {},
     "output_type": "execute_result"
    },
    {
     "data": {
      "text/plain": [
       "array([[99, 99, 99],\n",
       "       [99, 99, 99],\n",
       "       [99, 99, 99]])"
      ]
     },
     "execution_count": 24,
     "metadata": {},
     "output_type": "execute_result"
    }
   ],
   "source": [
    "# full\n",
    "\n",
    "np.full((1,1), 9.9)\n",
    "np.full([3,2], 'a', dtype='str')\n",
    "np.full_like(myarr, 99, dtype='int')\n"
   ]
  },
  {
   "cell_type": "code",
   "execution_count": 25,
   "metadata": {
    "collapsed": false
   },
   "outputs": [
    {
     "data": {
      "text/plain": [
       "array([[ 0.,  0.,  0.],\n",
       "       [ 0.,  0.,  0.]])"
      ]
     },
     "execution_count": 25,
     "metadata": {},
     "output_type": "execute_result"
    },
    {
     "data": {
      "text/plain": [
       "array([[-50., -50., -50.],\n",
       "       [-50., -50., -50.]])"
      ]
     },
     "execution_count": 25,
     "metadata": {},
     "output_type": "execute_result"
    }
   ],
   "source": [
    "# fill\n",
    "\n",
    "myarr2 = np.zeros([2,3])\n",
    "myarr2\n",
    "myarr2.fill(-50)\n",
    "myarr2\n"
   ]
  },
  {
   "cell_type": "code",
   "execution_count": 28,
   "metadata": {
    "collapsed": false
   },
   "outputs": [
    {
     "data": {
      "text/plain": [
       "array([  4.94065646e-324,   9.88131292e-324,   1.48219694e-323])"
      ]
     },
     "execution_count": 28,
     "metadata": {},
     "output_type": "execute_result"
    },
    {
     "data": {
      "text/plain": [
       "array([[0, 0, 0],\n",
       "       [0, 0, 0]])"
      ]
     },
     "execution_count": 28,
     "metadata": {},
     "output_type": "execute_result"
    },
    {
     "data": {
      "text/plain": [
       "array([[0, 0, 0],\n",
       "       [0, 0, 0],\n",
       "       [0, 0, 0]])"
      ]
     },
     "execution_count": 28,
     "metadata": {},
     "output_type": "execute_result"
    }
   ],
   "source": [
    "# empty\n",
    "\n",
    "np.empty(3)\n",
    "np.empty([2,3], dtype=int)\n",
    "np.empty_like(myarr)\n"
   ]
  },
  {
   "cell_type": "code",
   "execution_count": 29,
   "metadata": {
    "collapsed": false
   },
   "outputs": [
    {
     "data": {
      "text/plain": [
       "array([[ 1.,  0.,  0.,  0.],\n",
       "       [ 0.,  1.,  0.,  0.],\n",
       "       [ 0.,  0.,  1.,  0.],\n",
       "       [ 0.,  0.,  0.,  1.]])"
      ]
     },
     "execution_count": 29,
     "metadata": {},
     "output_type": "execute_result"
    },
    {
     "data": {
      "text/plain": [
       "array([[ 0.,  0.,  0.],\n",
       "       [ 1.,  0.,  0.],\n",
       "       [ 0.,  1.,  0.],\n",
       "       [ 0.,  0.,  1.]])"
      ]
     },
     "execution_count": 29,
     "metadata": {},
     "output_type": "execute_result"
    },
    {
     "data": {
      "text/plain": [
       "array([[ 1.,  0.,  0.,  0.],\n",
       "       [ 0.,  1.,  0.,  0.],\n",
       "       [ 0.,  0.,  1.,  0.],\n",
       "       [ 0.,  0.,  0.,  1.]])"
      ]
     },
     "execution_count": 29,
     "metadata": {},
     "output_type": "execute_result"
    }
   ],
   "source": [
    "# eye, identity\n",
    "\n",
    "np.eye(4)\n",
    "np.eye(4,3, k=-1)\n",
    "np.identity(4)\n"
   ]
  },
  {
   "cell_type": "code",
   "execution_count": 36,
   "metadata": {
    "collapsed": false
   },
   "outputs": [
    {
     "data": {
      "text/plain": [
       "array([[1, 0, 0],\n",
       "       [0, 2, 0],\n",
       "       [0, 0, 3]])"
      ]
     },
     "execution_count": 36,
     "metadata": {},
     "output_type": "execute_result"
    },
    {
     "data": {
      "text/plain": [
       "array([[0, 0, 0, 0, 0, 0],\n",
       "       [0, 1, 0, 0, 0, 0],\n",
       "       [0, 0, 2, 0, 0, 0],\n",
       "       [0, 0, 0, 3, 0, 0],\n",
       "       [0, 0, 0, 0, 4, 0],\n",
       "       [0, 0, 0, 0, 0, 5]])"
      ]
     },
     "execution_count": 36,
     "metadata": {},
     "output_type": "execute_result"
    },
    {
     "data": {
      "text/plain": [
       "array([[0, 0, 0, 0, 0, 0],\n",
       "       [0, 0, 2, 0, 0, 0],\n",
       "       [0, 0, 0, 0, 4, 0]])"
      ]
     },
     "execution_count": 36,
     "metadata": {},
     "output_type": "execute_result"
    },
    {
     "data": {
      "text/plain": [
       "array([[0, 0, 0],\n",
       "       [0, 0, 0],\n",
       "       [0, 2, 0],\n",
       "       [0, 0, 0],\n",
       "       [0, 0, 4],\n",
       "       [0, 0, 0]])"
      ]
     },
     "execution_count": 36,
     "metadata": {},
     "output_type": "execute_result"
    }
   ],
   "source": [
    "# diag\n",
    "\n",
    "np.diag([1,2,3])\n",
    "np.diag(np.arange(6))\n",
    "\n",
    "np.diag(np.arange(6))[::2] # get every other row\n",
    "np.diag(np.arange(6))[:,::2] # get every other column\n"
   ]
  },
  {
   "cell_type": "code",
   "execution_count": 42,
   "metadata": {
    "collapsed": false,
    "scrolled": false
   },
   "outputs": [
    {
     "data": {
      "text/plain": [
       "array([], dtype=int64)"
      ]
     },
     "execution_count": 42,
     "metadata": {},
     "output_type": "execute_result"
    },
    {
     "data": {
      "text/plain": [
       "array([0])"
      ]
     },
     "execution_count": 42,
     "metadata": {},
     "output_type": "execute_result"
    },
    {
     "data": {
      "text/plain": [
       "array([0, 1, 2, 3, 4])"
      ]
     },
     "execution_count": 42,
     "metadata": {},
     "output_type": "execute_result"
    },
    {
     "data": {
      "text/plain": [
       "array([ 1,  4,  7, 10, 13, 16, 19])"
      ]
     },
     "execution_count": 42,
     "metadata": {},
     "output_type": "execute_result"
    },
    {
     "data": {
      "text/plain": [
       "array([ 1.5  ,  1.833,  2.166,  2.499,  2.832,  3.165,  3.498,  3.831,\n",
       "        4.164,  4.497,  4.83 ,  5.163])"
      ]
     },
     "execution_count": 42,
     "metadata": {},
     "output_type": "execute_result"
    }
   ],
   "source": [
    "# arange - evenly spaced points in an interval\n",
    "\n",
    "np.arange(0)\n",
    "np.arange(1)\n",
    "np.arange(5)\n",
    "np.arange(1,20,3)\n",
    "np.arange(1.5,5.2,0.333)\n"
   ]
  },
  {
   "cell_type": "code",
   "execution_count": 37,
   "metadata": {
    "collapsed": false
   },
   "outputs": [
    {
     "data": {
      "text/plain": [
       "array([ 0.        ,  0.02040816,  0.04081633,  0.06122449,  0.08163265,\n",
       "        0.10204082,  0.12244898,  0.14285714,  0.16326531,  0.18367347,\n",
       "        0.20408163,  0.2244898 ,  0.24489796,  0.26530612,  0.28571429,\n",
       "        0.30612245,  0.32653061,  0.34693878,  0.36734694,  0.3877551 ,\n",
       "        0.40816327,  0.42857143,  0.44897959,  0.46938776,  0.48979592,\n",
       "        0.51020408,  0.53061224,  0.55102041,  0.57142857,  0.59183673,\n",
       "        0.6122449 ,  0.63265306,  0.65306122,  0.67346939,  0.69387755,\n",
       "        0.71428571,  0.73469388,  0.75510204,  0.7755102 ,  0.79591837,\n",
       "        0.81632653,  0.83673469,  0.85714286,  0.87755102,  0.89795918,\n",
       "        0.91836735,  0.93877551,  0.95918367,  0.97959184,  1.        ])"
      ]
     },
     "execution_count": 37,
     "metadata": {},
     "output_type": "execute_result"
    },
    {
     "data": {
      "text/plain": [
       "array([ 1,  2,  3,  4,  5,  6,  7,  8,  9, 10])"
      ]
     },
     "execution_count": 37,
     "metadata": {},
     "output_type": "execute_result"
    },
    {
     "data": {
      "text/plain": [
       "(array([ 2. ,  2.1,  2.2,  2.3,  2.4,  2.5,  2.6,  2.7,  2.8,  2.9,  3. ,\n",
       "         3.1,  3.2,  3.3,  3.4,  3.5,  3.6,  3.7,  3.8,  3.9]), 0.1)"
      ]
     },
     "execution_count": 37,
     "metadata": {},
     "output_type": "execute_result"
    },
    {
     "data": {
      "text/plain": [
       "(array([ 2.        ,  2.10526316,  2.21052632,  2.31578947,  2.42105263,\n",
       "         2.52631579,  2.63157895,  2.73684211,  2.84210526,  2.94736842,\n",
       "         3.05263158,  3.15789474,  3.26315789,  3.36842105,  3.47368421,\n",
       "         3.57894737,  3.68421053,  3.78947368,  3.89473684,  4.        ]),\n",
       " 0.10526315789473684)"
      ]
     },
     "execution_count": 37,
     "metadata": {},
     "output_type": "execute_result"
    }
   ],
   "source": [
    "# linspace - evenly spaced points in an interval\n",
    "\n",
    "np.linspace(0,1) # return 50 pts by default\n",
    "np.linspace(start=1, stop=10, num=10, dtype='int')\n",
    "np.linspace(2,4, num=20, endpoint=False, retstep=True)\n",
    "np.linspace(2,4, num=20, endpoint=True, retstep=True)\n"
   ]
  },
  {
   "cell_type": "code",
   "execution_count": 43,
   "metadata": {
    "collapsed": false
   },
   "outputs": [
    {
     "data": {
      "text/plain": [
       "array([  10.        ,   10.48113134,   10.98541142,   11.51395399,\n",
       "         12.06792641,   12.64855217,   13.25711366,   13.89495494,\n",
       "         14.56348478,   15.26417967,   15.9985872 ,   16.76832937,\n",
       "         17.57510625,   18.42069969,   19.30697729,   20.23589648,\n",
       "         21.20950888,   22.22996483,   23.29951811,   24.42053095,\n",
       "         25.59547923,   26.82695795,   28.11768698,   29.47051703,\n",
       "         30.88843596,   32.37457543,   33.93221772,   35.56480306,\n",
       "         37.2759372 ,   39.06939937,   40.94915062,   42.9193426 ,\n",
       "         44.98432669,   47.14866363,   49.41713361,   51.79474679,\n",
       "         54.28675439,   56.89866029,   59.63623317,   62.50551925,\n",
       "         65.51285569,   68.6648845 ,   71.9685673 ,   75.43120063,\n",
       "         79.06043211,   82.86427729,   86.85113738,   91.0298178 ,\n",
       "         95.40954763,  100.        ])"
      ]
     },
     "execution_count": 43,
     "metadata": {},
     "output_type": "execute_result"
    },
    {
     "data": {
      "text/plain": [
       "(50,)"
      ]
     },
     "execution_count": 43,
     "metadata": {},
     "output_type": "execute_result"
    },
    {
     "data": {
      "text/plain": [
       "array([  10.        ,   12.91549665,   16.68100537,   21.5443469 ,\n",
       "         27.82559402,   35.93813664,   46.41588834,   59.94842503,\n",
       "         77.42636827,  100.        ])"
      ]
     },
     "execution_count": 43,
     "metadata": {},
     "output_type": "execute_result"
    },
    {
     "data": {
      "text/plain": [
       "array([ 2.71828183,  3.03773178,  3.39472319,  3.79366789,  4.23949621,\n",
       "        4.73771786,  5.29449005,  5.91669359,  6.61201791,  7.3890561 ])"
      ]
     },
     "execution_count": 43,
     "metadata": {},
     "output_type": "execute_result"
    },
    {
     "data": {
      "text/plain": [
       "array([ 2.        ,  2.16011948,  2.33305808,  2.5198421 ,  2.72158   ,\n",
       "        2.93946898,  3.1748021 ,  3.42897593,  3.70349885,  4.        ])"
      ]
     },
     "execution_count": 43,
     "metadata": {},
     "output_type": "execute_result"
    }
   ],
   "source": [
    "# logspace\n",
    "\n",
    "np.logspace(1,2) # return 50 pts by default with base=10\n",
    "np.logspace(1,2).shape\n",
    "\n",
    "np.logspace(1,2, num=10) # base=10\n",
    "np.logspace(1,2, num=10, base=np.exp(1)) # base=e\n",
    "np.logspace(1,2, num=10, base=2)\n"
   ]
  },
  {
   "cell_type": "code",
   "execution_count": 44,
   "metadata": {
    "collapsed": false
   },
   "outputs": [
    {
     "data": {
      "text/plain": [
       "array([[ 0.  ,  0.84,  0.91],\n",
       "       [ 0.84,  0.91,  0.14],\n",
       "       [ 0.91,  0.14, -0.76]])"
      ]
     },
     "execution_count": 44,
     "metadata": {},
     "output_type": "execute_result"
    }
   ],
   "source": [
    "# fromfunction - from function at each coordinate\n",
    "\n",
    "f = lambda x,y: np.round(np.sin(x+y),2)\n",
    "np.fromfunction(f, (3,3))\n"
   ]
  },
  {
   "cell_type": "code",
   "execution_count": 2,
   "metadata": {
    "collapsed": false
   },
   "outputs": [
    {
     "data": {
      "text/plain": [
       "array([ 1.,  2.,  3.,  4.])"
      ]
     },
     "execution_count": 2,
     "metadata": {},
     "output_type": "execute_result"
    },
    {
     "data": {
      "text/plain": [
       "array([ 11. ,  11.8,  12.6,  13.4,  14.2,  15. ])"
      ]
     },
     "execution_count": 2,
     "metadata": {},
     "output_type": "execute_result"
    },
    {
     "data": {
      "text/plain": [
       "array([[ 1.,  2.,  3.,  4.],\n",
       "       [ 1.,  2.,  3.,  4.],\n",
       "       [ 1.,  2.,  3.,  4.],\n",
       "       [ 1.,  2.,  3.,  4.],\n",
       "       [ 1.,  2.,  3.,  4.],\n",
       "       [ 1.,  2.,  3.,  4.]])"
      ]
     },
     "execution_count": 2,
     "metadata": {},
     "output_type": "execute_result"
    },
    {
     "data": {
      "text/plain": [
       "array([[ 11. ,  11. ,  11. ,  11. ],\n",
       "       [ 11.8,  11.8,  11.8,  11.8],\n",
       "       [ 12.6,  12.6,  12.6,  12.6],\n",
       "       [ 13.4,  13.4,  13.4,  13.4],\n",
       "       [ 14.2,  14.2,  14.2,  14.2],\n",
       "       [ 15. ,  15. ,  15. ,  15. ]])"
      ]
     },
     "execution_count": 2,
     "metadata": {},
     "output_type": "execute_result"
    },
    {
     "name": "stdout",
     "output_type": "stream",
     "text": [
      "-\n"
     ]
    },
    {
     "data": {
      "text/plain": [
       "array([[ 144.  ,  169.  ,  196.  ,  225.  ],\n",
       "       [ 163.84,  190.44,  219.04,  249.64],\n",
       "       [ 184.96,  213.16,  243.36,  275.56],\n",
       "       [ 207.36,  237.16,  268.96,  302.76],\n",
       "       [ 231.04,  262.44,  295.84,  331.24],\n",
       "       [ 256.  ,  289.  ,  324.  ,  361.  ]])"
      ]
     },
     "execution_count": 2,
     "metadata": {},
     "output_type": "execute_result"
    },
    {
     "name": "stdout",
     "output_type": "stream",
     "text": [
      "-\n"
     ]
    },
    {
     "data": {
      "text/plain": [
       "array([[ 1.,  1.,  1.,  1.,  1.,  1.],\n",
       "       [ 2.,  2.,  2.,  2.,  2.,  2.],\n",
       "       [ 3.,  3.,  3.,  3.,  3.,  3.],\n",
       "       [ 4.,  4.,  4.,  4.,  4.,  4.]])"
      ]
     },
     "execution_count": 2,
     "metadata": {},
     "output_type": "execute_result"
    },
    {
     "data": {
      "text/plain": [
       "array([[ 11. ,  11.8,  12.6,  13.4,  14.2,  15. ],\n",
       "       [ 11. ,  11.8,  12.6,  13.4,  14.2,  15. ],\n",
       "       [ 11. ,  11.8,  12.6,  13.4,  14.2,  15. ],\n",
       "       [ 11. ,  11.8,  12.6,  13.4,  14.2,  15. ]])"
      ]
     },
     "execution_count": 2,
     "metadata": {},
     "output_type": "execute_result"
    }
   ],
   "source": [
    "# Meshgrid\n",
    "\n",
    "x = np.linspace(1,4, num=4)\n",
    "y = np.linspace(11,15, num=6)\n",
    "x\n",
    "y\n",
    "\n",
    "x_coords, y_coords = np.meshgrid(x,y)\n",
    "x_coords\n",
    "y_coords\n",
    "\n",
    "print '-'\n",
    "\n",
    "a = x_coords + y_coords\n",
    "(x_coords + y_coords)**2\n",
    "\n",
    "print '-'\n",
    "\n",
    "x_coords, y_coords = np.meshgrid(x,y, indexing='ij')\n",
    "x_coords\n",
    "y_coords\n"
   ]
  }
 ],
 "metadata": {
  "kernelspec": {
   "display_name": "Python 2",
   "language": "python",
   "name": "python2"
  },
  "language_info": {
   "codemirror_mode": {
    "name": "ipython",
    "version": 2
   },
   "file_extension": ".py",
   "mimetype": "text/x-python",
   "name": "python",
   "nbconvert_exporter": "python",
   "pygments_lexer": "ipython2",
   "version": "2.7.10"
  }
 },
 "nbformat": 4,
 "nbformat_minor": 2
}
