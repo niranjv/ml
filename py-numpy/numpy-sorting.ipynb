{
 "cells": [
  {
   "cell_type": "markdown",
   "metadata": {},
   "source": [
    "## Task\n",
    "Explore sorting in NumPy\n",
    "\n",
    "## Notebook summary\n",
    "* `ndarray.sort` - sorts array in-place\n",
    "* `np.sort` - makes a copy of array, then sorts\n",
    "* Sort descending\n",
    "* `argsort` - get indices in sorted order\n",
    "* `lexsort` - sort multiple arrays together\n",
    "* Other sorting algorithms - stable sort with with argsort + mergesort\n",
    "* `partition` - find K smallest/largest elements\n",
    "\n",
    "## References\n",
    "* *Python for Data Analysis*, Wes McKinney, O'Reilly, 2012\n",
    "* *Numerical Python*, Robert Johansson, APress, 2015\n",
    "* *Python Data Science Handbook*, Jake VanderPlas, O'Reilly, 2016\n"
   ]
  },
  {
   "cell_type": "code",
   "execution_count": 2,
   "metadata": {
    "collapsed": false
   },
   "outputs": [
    {
     "name": "stdout",
     "output_type": "stream",
     "text": [
      "python.version =  2.7.10\n",
      "ipython.version = (5, 1, 0, '')\n",
      "numpy.version =  1.11.3\n"
     ]
    }
   ],
   "source": [
    "# display output from all cmds just like Python shell\n",
    "from IPython.core.interactiveshell import InteractiveShell\n",
    "InteractiveShell.ast_node_interactivity = \"all\"\n",
    "\n",
    "import platform\n",
    "print 'python.version = ', platform.python_version()\n",
    "import IPython\n",
    "print 'ipython.version =', IPython.version_info\n",
    "\n",
    "import numpy as np\n",
    "print 'numpy.version = ', np.__version__\n"
   ]
  },
  {
   "cell_type": "code",
   "execution_count": 2,
   "metadata": {
    "collapsed": false
   },
   "outputs": [
    {
     "data": {
      "text/plain": [
       "array([[ 0,  8,  7,  2, 16],\n",
       "       [ 9, 17, 12,  5, 18],\n",
       "       [10, 11,  3, 14, 13],\n",
       "       [ 1, 19,  4,  6, 15]])"
      ]
     },
     "execution_count": 2,
     "metadata": {},
     "output_type": "execute_result"
    },
    {
     "data": {
      "text/plain": [
       "array([[ 0,  2,  7,  8, 16],\n",
       "       [ 5,  9, 12, 17, 18],\n",
       "       [ 3, 10, 11, 13, 14],\n",
       "       [ 1,  4,  6, 15, 19]])"
      ]
     },
     "execution_count": 2,
     "metadata": {},
     "output_type": "execute_result"
    },
    {
     "data": {
      "text/plain": [
       "array([[ 0,  2,  6,  8, 14],\n",
       "       [ 1,  4,  7, 13, 16],\n",
       "       [ 3,  9, 11, 15, 18],\n",
       "       [ 5, 10, 12, 17, 19]])"
      ]
     },
     "execution_count": 2,
     "metadata": {},
     "output_type": "execute_result"
    },
    {
     "name": "stdout",
     "output_type": "stream",
     "text": [
      "---\n"
     ]
    },
    {
     "data": {
      "text/plain": [
       "array([ 0,  9, 10,  1])"
      ]
     },
     "execution_count": 2,
     "metadata": {},
     "output_type": "execute_result"
    },
    {
     "data": {
      "text/plain": [
       "array([[ 0,  8,  7,  2, 16],\n",
       "       [ 1, 17, 12,  5, 18],\n",
       "       [ 9, 11,  3, 14, 13],\n",
       "       [10, 19,  4,  6, 15]])"
      ]
     },
     "execution_count": 2,
     "metadata": {},
     "output_type": "execute_result"
    }
   ],
   "source": [
    "# ndarray.sort\n",
    "\n",
    "# Sort copy of array\n",
    "arr = np.arange(20) # 1:20 generated in asc order\n",
    "\n",
    "arr = arr[np.random.permutation(20)].reshape(4,5) # shuffle array elements & reshape\n",
    "arr\n",
    "\n",
    "arr1 = arr.copy()\n",
    "arr1.sort() # by default, sorts along last axis (here: within a row; each row separately)\n",
    "arr1\n",
    "\n",
    "arr1.sort(axis=0) # sort in-place, each column independently; sort() returns None\n",
    "arr1\n",
    "\n",
    "print '---'\n",
    "\n",
    "# Sorting array views sorts associated elements in underlying array\n",
    "arr[:,0] # get view of 1st column in array\n",
    "arr[:,0].sort() # udnerlying array is modified\n",
    "arr\n"
   ]
  },
  {
   "cell_type": "code",
   "execution_count": 3,
   "metadata": {
    "collapsed": false
   },
   "outputs": [
    {
     "name": "stdout",
     "output_type": "stream",
     "text": [
      "Original array\n"
     ]
    },
    {
     "data": {
      "text/plain": [
       "array([[15, 13, 17, 10, 12],\n",
       "       [19,  3, 14,  1,  2],\n",
       "       [ 7,  5,  4,  0, 16],\n",
       "       [18, 11,  8,  9,  6]])"
      ]
     },
     "execution_count": 3,
     "metadata": {},
     "output_type": "execute_result"
    },
    {
     "name": "stdout",
     "output_type": "stream",
     "text": [
      "Sort within rows\n"
     ]
    },
    {
     "data": {
      "text/plain": [
       "array([[10, 12, 13, 15, 17],\n",
       "       [ 1,  2,  3, 14, 19],\n",
       "       [ 0,  4,  5,  7, 16],\n",
       "       [ 6,  8,  9, 11, 18]])"
      ]
     },
     "execution_count": 3,
     "metadata": {},
     "output_type": "execute_result"
    },
    {
     "name": "stdout",
     "output_type": "stream",
     "text": [
      "Sort within rows descending\n"
     ]
    },
    {
     "data": {
      "text/plain": [
       "array([[17, 15, 13, 12, 10],\n",
       "       [19, 14,  3,  2,  1],\n",
       "       [16,  7,  5,  4,  0],\n",
       "       [18, 11,  9,  8,  6]])"
      ]
     },
     "execution_count": 3,
     "metadata": {},
     "output_type": "execute_result"
    },
    {
     "name": "stdout",
     "output_type": "stream",
     "text": [
      "---\n",
      "Sort within columns\n"
     ]
    },
    {
     "data": {
      "text/plain": [
       "array([[ 7,  3,  4,  0,  2],\n",
       "       [15,  5,  8,  1,  6],\n",
       "       [18, 11, 14,  9, 12],\n",
       "       [19, 13, 17, 10, 16]])"
      ]
     },
     "execution_count": 3,
     "metadata": {},
     "output_type": "execute_result"
    },
    {
     "name": "stdout",
     "output_type": "stream",
     "text": [
      "Sort within columns descending\n",
      "ToDo\n",
      "---\n",
      "Original array\n"
     ]
    },
    {
     "data": {
      "text/plain": [
       "array([[15, 13, 17, 10, 12],\n",
       "       [19,  3, 14,  1,  2],\n",
       "       [ 7,  5,  4,  0, 16],\n",
       "       [18, 11,  8,  9,  6]])"
      ]
     },
     "execution_count": 3,
     "metadata": {},
     "output_type": "execute_result"
    }
   ],
   "source": [
    "# np.sort - same params as ndarray.sort\n",
    "\n",
    "arr = np.arange(20)[np.random.permutation(20)].reshape(4,5) # generate 1:20 in random order\n",
    "print 'Original array'\n",
    "arr\n",
    "\n",
    "print 'Sort within rows'\n",
    "np.sort(arr) # copy array, then sort asc within each row\n",
    "\n",
    "print 'Sort within rows descending'\n",
    "np.sort(arr)[:,::-1]\n",
    "\n",
    "print '---'\n",
    "\n",
    "print 'Sort within columns'\n",
    "np.sort(arr, axis=0)\n",
    "\n",
    "print 'Sort within columns descending'\n",
    "print 'ToDo'\n",
    "\n",
    "print '---'\n",
    "\n",
    "print 'Original array'\n",
    "arr # original array is not sorted\n"
   ]
  },
  {
   "cell_type": "code",
   "execution_count": 4,
   "metadata": {
    "collapsed": false
   },
   "outputs": [
    {
     "data": {
      "text/plain": [
       "array([-0.721, -0.667, -0.619,  0.072,  0.405,  0.153, -0.261,  1.055,\n",
       "        0.015, -0.635])"
      ]
     },
     "execution_count": 4,
     "metadata": {},
     "output_type": "execute_result"
    },
    {
     "data": {
      "text/plain": [
       "array([0, 1, 9, 2, 6, 8, 3, 5, 4, 7])"
      ]
     },
     "execution_count": 4,
     "metadata": {},
     "output_type": "execute_result"
    },
    {
     "data": {
      "text/plain": [
       "array([-0.721, -0.667, -0.635, -0.619, -0.261,  0.015,  0.072,  0.153,\n",
       "        0.405,  1.055])"
      ]
     },
     "execution_count": 4,
     "metadata": {},
     "output_type": "execute_result"
    },
    {
     "name": "stdout",
     "output_type": "stream",
     "text": [
      "---\n",
      "Original array\n"
     ]
    },
    {
     "data": {
      "text/plain": [
       "array([[11,  1,  6, 12,  0],\n",
       "       [ 8, 14, 13,  7, 18],\n",
       "       [ 9, 17,  4,  2, 10],\n",
       "       [19, 16, 15,  5,  3]])"
      ]
     },
     "execution_count": 4,
     "metadata": {},
     "output_type": "execute_result"
    },
    {
     "name": "stdout",
     "output_type": "stream",
     "text": [
      "Indices in sorted array\n"
     ]
    },
    {
     "data": {
      "text/plain": [
       "array([[4, 1, 2, 0, 3],\n",
       "       [3, 0, 2, 1, 4],\n",
       "       [3, 2, 0, 4, 1],\n",
       "       [4, 3, 2, 1, 0]])"
      ]
     },
     "execution_count": 4,
     "metadata": {},
     "output_type": "execute_result"
    },
    {
     "data": {
      "text/plain": [
       "array([4, 1, 2, 0, 3])"
      ]
     },
     "execution_count": 4,
     "metadata": {},
     "output_type": "execute_result"
    },
    {
     "name": "stdout",
     "output_type": "stream",
     "text": [
      "Sort by order of sorted 1st row; other rows won't be sorted within row\n"
     ]
    },
    {
     "data": {
      "text/plain": [
       "array([[ 0,  1,  6, 11, 12],\n",
       "       [18, 14, 13,  8,  7],\n",
       "       [10, 17,  4,  9,  2],\n",
       "       [ 3, 16, 15, 19,  5]])"
      ]
     },
     "execution_count": 4,
     "metadata": {},
     "output_type": "execute_result"
    }
   ],
   "source": [
    "# argsort - indirect sorting, returns indices in sorted order\n",
    "\n",
    "arr = np.round(np.random.randn(10),3)\n",
    "arr\n",
    "arr.argsort() # indices of sorted array\n",
    "arr[arr.argsort()]\n",
    "\n",
    "print '---'\n",
    "\n",
    "n = 20\n",
    "r,c=(4,5)\n",
    "arr = np.arange(n)[np.random.permutation(n)].reshape(r,c)\n",
    "\n",
    "print 'Original array'\n",
    "arr\n",
    "\n",
    "print 'Indices in sorted array'\n",
    "arr.argsort() # indices of array sorted by last axis (here: within each row)\n",
    "arr[0].argsort() # indices of sorted 1st row \n",
    "\n",
    "print 'Sort by order of sorted 1st row; other rows won\\'t be sorted within row'\n",
    "arr[:,arr[0].argsort()]\n"
   ]
  },
  {
   "cell_type": "code",
   "execution_count": 5,
   "metadata": {
    "collapsed": false
   },
   "outputs": [
    {
     "name": "stdout",
     "output_type": "stream",
     "text": [
      "Original array\n"
     ]
    },
    {
     "data": {
      "text/plain": [
       "array([2, 4, 6, 1, 3, 7, 9, 0, 8, 5])"
      ]
     },
     "execution_count": 5,
     "metadata": {},
     "output_type": "execute_result"
    },
    {
     "data": {
      "text/plain": [
       "array([12, 13, 14, 16, 15, 10, 17, 18, 19, 11])"
      ]
     },
     "execution_count": 5,
     "metadata": {},
     "output_type": "execute_result"
    },
    {
     "data": {
      "text/plain": [
       "[(7, 10),\n",
       " (5, 11),\n",
       " (2, 12),\n",
       " (4, 13),\n",
       " (6, 14),\n",
       " (3, 15),\n",
       " (1, 16),\n",
       " (9, 17),\n",
       " (0, 18),\n",
       " (8, 19)]"
      ]
     },
     "execution_count": 5,
     "metadata": {},
     "output_type": "execute_result"
    },
    {
     "data": {
      "text/plain": [
       "[(0, 18),\n",
       " (1, 16),\n",
       " (2, 12),\n",
       " (3, 15),\n",
       " (4, 13),\n",
       " (5, 11),\n",
       " (6, 14),\n",
       " (7, 10),\n",
       " (8, 19),\n",
       " (9, 17)]"
      ]
     },
     "execution_count": 5,
     "metadata": {},
     "output_type": "execute_result"
    },
    {
     "name": "stdout",
     "output_type": "stream",
     "text": [
      "---\n",
      "lexsort strings\n"
     ]
    },
    {
     "data": {
      "text/plain": [
       "array(['A', 'A', 'A', 'B', 'B', 'B'], \n",
       "      dtype='|S1')"
      ]
     },
     "execution_count": 5,
     "metadata": {},
     "output_type": "execute_result"
    },
    {
     "data": {
      "text/plain": [
       "array(['X', 'Y', 'Z', 'X', 'Y', 'Z'], \n",
       "      dtype='|S1')"
      ]
     },
     "execution_count": 5,
     "metadata": {},
     "output_type": "execute_result"
    },
    {
     "data": {
      "text/plain": [
       "[('A', 'X'), ('A', 'Y'), ('A', 'Z'), ('B', 'X'), ('B', 'Y'), ('B', 'Z')]"
      ]
     },
     "execution_count": 5,
     "metadata": {},
     "output_type": "execute_result"
    }
   ],
   "source": [
    "# lexsort - indirect sorting; sort multiple columns together and return indices\n",
    "\n",
    "print 'Original array'\n",
    "n = 10\n",
    "arr1 = np.arange(n)[np.random.permutation(n)]\n",
    "arr1\n",
    "arr2 = np.arange(n)[np.random.permutation(n)] + 10\n",
    "arr2\n",
    "\n",
    "idx = np.lexsort([arr1, arr2]) # sort by arr2 first and then arr1\n",
    "[(arr1[i], arr2[i]) for i in idx]\n",
    "\n",
    "idx = np.lexsort([arr2, arr1]) # sort by arr1 first and then arr1\n",
    "[(arr1[i], arr2[i]) for i in idx]\n",
    "\n",
    "print '---'\n",
    "print 'lexsort strings'\n",
    "arr1 = np.array(['A']*3 + ['B']*3)\n",
    "arr1\n",
    "arr2 = np.array(['X','Y','Z']*2)\n",
    "arr2\n",
    "\n",
    "idx = np.lexsort([arr2, arr1])\n",
    "[(arr1[i], arr2[i]) for i in idx]\n"
   ]
  },
  {
   "cell_type": "code",
   "execution_count": 6,
   "metadata": {
    "collapsed": false
   },
   "outputs": [
    {
     "data": {
      "text/plain": [
       "array(['3;1', '1;1', '2;1', '1;2', '4;2', '2;3', '3;2'], \n",
       "      dtype='|S3')"
      ]
     },
     "execution_count": 6,
     "metadata": {},
     "output_type": "execute_result"
    },
    {
     "data": {
      "text/plain": [
       "array(['1;1', '1;2', '2;1', '2;3', '3;1', '3;2', '4;2'], \n",
       "      dtype='|S3')"
      ]
     },
     "execution_count": 6,
     "metadata": {},
     "output_type": "execute_result"
    },
    {
     "data": {
      "text/plain": [
       "array([1, 3, 2, 5, 0, 6, 4])"
      ]
     },
     "execution_count": 6,
     "metadata": {},
     "output_type": "execute_result"
    },
    {
     "data": {
      "text/plain": [
       "array(['1;1', '1;2', '2;1', '2;3', '3;1', '3;2', '4;2'], \n",
       "      dtype='|S3')"
      ]
     },
     "execution_count": 6,
     "metadata": {},
     "output_type": "execute_result"
    }
   ],
   "source": [
    "# argsort with mergesort\n",
    "# - only stable sorting algorithm available in numpy\n",
    "# - cannot sort objects in arrays (dtype=object)\n",
    "\n",
    "\n",
    "arr = np.array(['3;1', '1;1', '2;1', '1;2', '4;2', '2;3', '3;2'])\n",
    "arr\n",
    "np.sort(arr)\n",
    "\n",
    "keys = np.array([3,1,2,1,4,2,3])\n",
    "idx = keys.argsort(kind='mergesort')\n",
    "idx\n",
    "arr[idx]\n"
   ]
  },
  {
   "cell_type": "code",
   "execution_count": 22,
   "metadata": {
    "collapsed": false
   },
   "outputs": [
    {
     "data": {
      "text/plain": [
       "array([8, 1, 6, 3, 5, 7, 4, 9, 2, 0])"
      ]
     },
     "execution_count": 22,
     "metadata": {},
     "output_type": "execute_result"
    },
    {
     "data": {
      "text/plain": [
       "array([0, 1, 2, 3, 4, 5, 7, 9, 6, 8])"
      ]
     },
     "execution_count": 22,
     "metadata": {},
     "output_type": "execute_result"
    },
    {
     "name": "stdout",
     "output_type": "stream",
     "text": [
      "\n",
      "----- partition 2d array\n"
     ]
    },
    {
     "data": {
      "text/plain": [
       "array([[ 9, 13, 29,  0, 14, 25],\n",
       "       [35, 26,  2, 18, 30, 11],\n",
       "       [ 8, 22,  4, 27, 20, 32],\n",
       "       [23,  1, 34, 12,  3, 33],\n",
       "       [21, 15, 24,  6,  5, 10],\n",
       "       [28,  7, 17, 16, 19, 31]])"
      ]
     },
     "execution_count": 22,
     "metadata": {},
     "output_type": "execute_result"
    },
    {
     "data": {
      "text/plain": [
       "array([[ 0,  9, 13, 29, 14, 25],\n",
       "       [ 2, 11, 18, 35, 30, 26],\n",
       "       [ 4,  8, 20, 27, 22, 32],\n",
       "       [ 1,  3, 12, 34, 23, 33],\n",
       "       [ 5,  6, 10, 15, 21, 24],\n",
       "       [ 7, 16, 17, 28, 19, 31]])"
      ]
     },
     "execution_count": 22,
     "metadata": {},
     "output_type": "execute_result"
    },
    {
     "data": {
      "text/plain": [
       "array([[ 0,  3, 10, 15, 14, 24],\n",
       "       [ 1,  6, 12, 27, 19, 25],\n",
       "       [ 2,  8, 13, 28, 21, 26],\n",
       "       [ 4,  9, 18, 34, 23, 33],\n",
       "       [ 5, 11, 20, 29, 22, 32],\n",
       "       [ 7, 16, 17, 35, 30, 31]])"
      ]
     },
     "execution_count": 22,
     "metadata": {},
     "output_type": "execute_result"
    }
   ],
   "source": [
    "# partition - find K smallest/largest elements in array\n",
    "\n",
    "arr = np.arange(10)\n",
    "np.random.shuffle(arr) # shuffle array in-place\n",
    "arr\n",
    "\n",
    "arr.partition(3)\n",
    "arr\n",
    "\n",
    "print '\\n----- partition 2d array'\n",
    "\n",
    "arr = np.arange(36)\n",
    "np.random.shuffle(arr)\n",
    "arr = arr.reshape(6,6)\n",
    "arr\n",
    "\n",
    "arr.partition(2) # default: sort along last axis (here: within each row)\n",
    "arr\n",
    "\n",
    "arr.partition(2, axis=0)\n",
    "arr\n"
   ]
  }
 ],
 "metadata": {
  "kernelspec": {
   "display_name": "Python 2",
   "language": "python",
   "name": "python2"
  },
  "language_info": {
   "codemirror_mode": {
    "name": "ipython",
    "version": 2
   },
   "file_extension": ".py",
   "mimetype": "text/x-python",
   "name": "python",
   "nbconvert_exporter": "python",
   "pygments_lexer": "ipython2",
   "version": "2.7.10"
  }
 },
 "nbformat": 4,
 "nbformat_minor": 2
}
