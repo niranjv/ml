{
 "cells": [
  {
   "cell_type": "markdown",
   "metadata": {},
   "source": [
    "## Task\n",
    "Explore I/O in pandas\n",
    "\n",
    "## Notebook summary\n",
    "* CSV - `read_csv`, `to_csv`, `from_csv`\n",
    "* JSON - `loads`, `dumps`, `read_json`\n",
    "* HDF5 - read/write using PyTables\n",
    "* Binary - pickle files\n",
    "* DB - import data from DB; requires SQL modules\n",
    "\n",
    "## References\n",
    "* *Python for Data Analysis*, Wes McKinney, O'Reilly, 2012\n",
    "* *Numerical Python*, Robert Johansson, APress, 2015\n",
    "* *Python Data Science Handbook*, Jake VanderPlas, O'Reilly, 2016\n"
   ]
  },
  {
   "cell_type": "code",
   "execution_count": 32,
   "metadata": {
    "collapsed": false
   },
   "outputs": [
    {
     "name": "stdout",
     "output_type": "stream",
     "text": [
      "python.version =  2.7.10\n",
      "ipython.version = (5, 1, 0, '')\n",
      "pandas.version =  0.19.2\n"
     ]
    }
   ],
   "source": [
    "# display output from all cmds just like Python shell\n",
    "from IPython.core.interactiveshell import InteractiveShell\n",
    "InteractiveShell.ast_node_interactivity = \"all\"\n",
    "\n",
    "import platform\n",
    "print 'python.version = ', platform.python_version()\n",
    "import IPython\n",
    "print 'ipython.version =', IPython.version_info\n",
    "\n",
    "import pandas as pd\n",
    "print 'pandas.version = ', pd.__version__\n",
    "from pandas import Series, DataFrame\n",
    "\n",
    "import sys\n",
    "import json\n",
    "import tables\n",
    "import pandas.io.sql as sql\n",
    "import sqlite3\n"
   ]
  },
  {
   "cell_type": "code",
   "execution_count": 15,
   "metadata": {
    "collapsed": false
   },
   "outputs": [
    {
     "name": "stdout",
     "output_type": "stream",
     "text": [
      "\n",
      "----- Data in input file\n",
      ",Col1,Col2,Col3\n",
      "Row1,Val11,Val12,Val13\n",
      "Row2,Val21,Val22,Val23\n",
      "Row3,Val31,Val32,Val33\n",
      "\n",
      "----- read_csv with default options\n"
     ]
    },
    {
     "data": {
      "text/html": [
       "<div>\n",
       "<table border=\"1\" class=\"dataframe\">\n",
       "  <thead>\n",
       "    <tr style=\"text-align: right;\">\n",
       "      <th></th>\n",
       "      <th>Unnamed: 0</th>\n",
       "      <th>Col1</th>\n",
       "      <th>Col2</th>\n",
       "      <th>Col3</th>\n",
       "    </tr>\n",
       "  </thead>\n",
       "  <tbody>\n",
       "    <tr>\n",
       "      <th>0</th>\n",
       "      <td>Row1</td>\n",
       "      <td>Val11</td>\n",
       "      <td>Val12</td>\n",
       "      <td>Val13</td>\n",
       "    </tr>\n",
       "    <tr>\n",
       "      <th>1</th>\n",
       "      <td>Row2</td>\n",
       "      <td>Val21</td>\n",
       "      <td>Val22</td>\n",
       "      <td>Val23</td>\n",
       "    </tr>\n",
       "    <tr>\n",
       "      <th>2</th>\n",
       "      <td>Row3</td>\n",
       "      <td>Val31</td>\n",
       "      <td>Val32</td>\n",
       "      <td>Val33</td>\n",
       "    </tr>\n",
       "  </tbody>\n",
       "</table>\n",
       "</div>"
      ],
      "text/plain": [
       "  Unnamed: 0   Col1   Col2   Col3\n",
       "0       Row1  Val11  Val12  Val13\n",
       "1       Row2  Val21  Val22  Val23\n",
       "2       Row3  Val31  Val32  Val33"
      ]
     },
     "execution_count": 15,
     "metadata": {},
     "output_type": "execute_result"
    },
    {
     "name": "stdout",
     "output_type": "stream",
     "text": [
      "\n",
      "----- read_csv with header=None\n"
     ]
    },
    {
     "data": {
      "text/html": [
       "<div>\n",
       "<table border=\"1\" class=\"dataframe\">\n",
       "  <thead>\n",
       "    <tr style=\"text-align: right;\">\n",
       "      <th></th>\n",
       "      <th>0</th>\n",
       "      <th>1</th>\n",
       "      <th>2</th>\n",
       "      <th>3</th>\n",
       "    </tr>\n",
       "  </thead>\n",
       "  <tbody>\n",
       "    <tr>\n",
       "      <th>0</th>\n",
       "      <td>NaN</td>\n",
       "      <td>Col1</td>\n",
       "      <td>Col2</td>\n",
       "      <td>Col3</td>\n",
       "    </tr>\n",
       "    <tr>\n",
       "      <th>1</th>\n",
       "      <td>Row1</td>\n",
       "      <td>Val11</td>\n",
       "      <td>Val12</td>\n",
       "      <td>Val13</td>\n",
       "    </tr>\n",
       "    <tr>\n",
       "      <th>2</th>\n",
       "      <td>Row2</td>\n",
       "      <td>Val21</td>\n",
       "      <td>Val22</td>\n",
       "      <td>Val23</td>\n",
       "    </tr>\n",
       "    <tr>\n",
       "      <th>3</th>\n",
       "      <td>Row3</td>\n",
       "      <td>Val31</td>\n",
       "      <td>Val32</td>\n",
       "      <td>Val33</td>\n",
       "    </tr>\n",
       "  </tbody>\n",
       "</table>\n",
       "</div>"
      ],
      "text/plain": [
       "      0      1      2      3\n",
       "0   NaN   Col1   Col2   Col3\n",
       "1  Row1  Val11  Val12  Val13\n",
       "2  Row2  Val21  Val22  Val23\n",
       "3  Row3  Val31  Val32  Val33"
      ]
     },
     "execution_count": 15,
     "metadata": {},
     "output_type": "execute_result"
    },
    {
     "name": "stdout",
     "output_type": "stream",
     "text": [
      "\n",
      "----- read_csv with custom header names\n"
     ]
    },
    {
     "data": {
      "text/html": [
       "<div>\n",
       "<table border=\"1\" class=\"dataframe\">\n",
       "  <thead>\n",
       "    <tr style=\"text-align: right;\">\n",
       "      <th></th>\n",
       "      <th>H1</th>\n",
       "      <th>H2</th>\n",
       "      <th>H3</th>\n",
       "      <th>H4</th>\n",
       "    </tr>\n",
       "  </thead>\n",
       "  <tbody>\n",
       "    <tr>\n",
       "      <th>0</th>\n",
       "      <td>NaN</td>\n",
       "      <td>Col1</td>\n",
       "      <td>Col2</td>\n",
       "      <td>Col3</td>\n",
       "    </tr>\n",
       "    <tr>\n",
       "      <th>1</th>\n",
       "      <td>Row1</td>\n",
       "      <td>Val11</td>\n",
       "      <td>Val12</td>\n",
       "      <td>Val13</td>\n",
       "    </tr>\n",
       "    <tr>\n",
       "      <th>2</th>\n",
       "      <td>Row2</td>\n",
       "      <td>Val21</td>\n",
       "      <td>Val22</td>\n",
       "      <td>Val23</td>\n",
       "    </tr>\n",
       "    <tr>\n",
       "      <th>3</th>\n",
       "      <td>Row3</td>\n",
       "      <td>Val31</td>\n",
       "      <td>Val32</td>\n",
       "      <td>Val33</td>\n",
       "    </tr>\n",
       "  </tbody>\n",
       "</table>\n",
       "</div>"
      ],
      "text/plain": [
       "     H1     H2     H3     H4\n",
       "0   NaN   Col1   Col2   Col3\n",
       "1  Row1  Val11  Val12  Val13\n",
       "2  Row2  Val21  Val22  Val23\n",
       "3  Row3  Val31  Val32  Val33"
      ]
     },
     "execution_count": 15,
     "metadata": {},
     "output_type": "execute_result"
    },
    {
     "name": "stdout",
     "output_type": "stream",
     "text": [
      "\n",
      "----- read_csv with row names in col 0\n"
     ]
    },
    {
     "data": {
      "text/html": [
       "<div>\n",
       "<table border=\"1\" class=\"dataframe\">\n",
       "  <thead>\n",
       "    <tr style=\"text-align: right;\">\n",
       "      <th></th>\n",
       "      <th>Col1</th>\n",
       "      <th>Col2</th>\n",
       "      <th>Col3</th>\n",
       "    </tr>\n",
       "  </thead>\n",
       "  <tbody>\n",
       "    <tr>\n",
       "      <th>Row1</th>\n",
       "      <td>Val11</td>\n",
       "      <td>Val12</td>\n",
       "      <td>Val13</td>\n",
       "    </tr>\n",
       "    <tr>\n",
       "      <th>Row2</th>\n",
       "      <td>Val21</td>\n",
       "      <td>Val22</td>\n",
       "      <td>Val23</td>\n",
       "    </tr>\n",
       "    <tr>\n",
       "      <th>Row3</th>\n",
       "      <td>Val31</td>\n",
       "      <td>Val32</td>\n",
       "      <td>Val33</td>\n",
       "    </tr>\n",
       "  </tbody>\n",
       "</table>\n",
       "</div>"
      ],
      "text/plain": [
       "       Col1   Col2   Col3\n",
       "Row1  Val11  Val12  Val13\n",
       "Row2  Val21  Val22  Val23\n",
       "Row3  Val31  Val32  Val33"
      ]
     },
     "execution_count": 15,
     "metadata": {},
     "output_type": "execute_result"
    },
    {
     "name": "stdout",
     "output_type": "stream",
     "text": [
      "\n",
      "----- read_csv with row names in col 1\n"
     ]
    },
    {
     "data": {
      "text/html": [
       "<div>\n",
       "<table border=\"1\" class=\"dataframe\">\n",
       "  <thead>\n",
       "    <tr style=\"text-align: right;\">\n",
       "      <th></th>\n",
       "      <th>Unnamed: 0</th>\n",
       "      <th>Col2</th>\n",
       "      <th>Col3</th>\n",
       "    </tr>\n",
       "    <tr>\n",
       "      <th>Col1</th>\n",
       "      <th></th>\n",
       "      <th></th>\n",
       "      <th></th>\n",
       "    </tr>\n",
       "  </thead>\n",
       "  <tbody>\n",
       "    <tr>\n",
       "      <th>Val11</th>\n",
       "      <td>Row1</td>\n",
       "      <td>Val12</td>\n",
       "      <td>Val13</td>\n",
       "    </tr>\n",
       "    <tr>\n",
       "      <th>Val21</th>\n",
       "      <td>Row2</td>\n",
       "      <td>Val22</td>\n",
       "      <td>Val23</td>\n",
       "    </tr>\n",
       "    <tr>\n",
       "      <th>Val31</th>\n",
       "      <td>Row3</td>\n",
       "      <td>Val32</td>\n",
       "      <td>Val33</td>\n",
       "    </tr>\n",
       "  </tbody>\n",
       "</table>\n",
       "</div>"
      ],
      "text/plain": [
       "      Unnamed: 0   Col2   Col3\n",
       "Col1                          \n",
       "Val11       Row1  Val12  Val13\n",
       "Val21       Row2  Val22  Val23\n",
       "Val31       Row3  Val32  Val33"
      ]
     },
     "execution_count": 15,
     "metadata": {},
     "output_type": "execute_result"
    },
    {
     "name": "stdout",
     "output_type": "stream",
     "text": [
      "\n",
      "----- read_csv with row names in col 0, skip first 2 rows\n"
     ]
    },
    {
     "data": {
      "text/html": [
       "<div>\n",
       "<table border=\"1\" class=\"dataframe\">\n",
       "  <thead>\n",
       "    <tr style=\"text-align: right;\">\n",
       "      <th></th>\n",
       "      <th>Col1</th>\n",
       "      <th>Col2</th>\n",
       "      <th>Col3</th>\n",
       "    </tr>\n",
       "  </thead>\n",
       "  <tbody>\n",
       "    <tr>\n",
       "      <th>Row1</th>\n",
       "      <td>Val11</td>\n",
       "      <td>Val12</td>\n",
       "      <td>Val13</td>\n",
       "    </tr>\n",
       "    <tr>\n",
       "      <th>Row3</th>\n",
       "      <td>Val31</td>\n",
       "      <td>Val32</td>\n",
       "      <td>Val33</td>\n",
       "    </tr>\n",
       "  </tbody>\n",
       "</table>\n",
       "</div>"
      ],
      "text/plain": [
       "       Col1   Col2   Col3\n",
       "Row1  Val11  Val12  Val13\n",
       "Row3  Val31  Val32  Val33"
      ]
     },
     "execution_count": 15,
     "metadata": {},
     "output_type": "execute_result"
    },
    {
     "name": "stdout",
     "output_type": "stream",
     "text": [
      "\n",
      "----- read in chunks\n"
     ]
    },
    {
     "data": {
      "text/html": [
       "<div>\n",
       "<table border=\"1\" class=\"dataframe\">\n",
       "  <thead>\n",
       "    <tr style=\"text-align: right;\">\n",
       "      <th></th>\n",
       "      <th>Col1</th>\n",
       "      <th>Col2</th>\n",
       "      <th>Col3</th>\n",
       "    </tr>\n",
       "  </thead>\n",
       "  <tbody>\n",
       "    <tr>\n",
       "      <th>Row1</th>\n",
       "      <td>Val11</td>\n",
       "      <td>Val12</td>\n",
       "      <td>Val13</td>\n",
       "    </tr>\n",
       "    <tr>\n",
       "      <th>Row2</th>\n",
       "      <td>Val21</td>\n",
       "      <td>Val22</td>\n",
       "      <td>Val23</td>\n",
       "    </tr>\n",
       "  </tbody>\n",
       "</table>\n",
       "</div>"
      ],
      "text/plain": [
       "       Col1   Col2   Col3\n",
       "Row1  Val11  Val12  Val13\n",
       "Row2  Val21  Val22  Val23"
      ]
     },
     "execution_count": 15,
     "metadata": {},
     "output_type": "execute_result"
    },
    {
     "name": "stdout",
     "output_type": "stream",
     "text": [
      "part =  <pandas.io.parsers.TextFileReader object at 0x10ee3a310>\n",
      "Part  0\n"
     ]
    },
    {
     "data": {
      "text/html": [
       "<div>\n",
       "<table border=\"1\" class=\"dataframe\">\n",
       "  <thead>\n",
       "    <tr style=\"text-align: right;\">\n",
       "      <th></th>\n",
       "      <th>Col1</th>\n",
       "      <th>Col2</th>\n",
       "      <th>Col3</th>\n",
       "    </tr>\n",
       "  </thead>\n",
       "  <tbody>\n",
       "    <tr>\n",
       "      <th>Row1</th>\n",
       "      <td>Val11</td>\n",
       "      <td>Val12</td>\n",
       "      <td>Val13</td>\n",
       "    </tr>\n",
       "    <tr>\n",
       "      <th>Row2</th>\n",
       "      <td>Val21</td>\n",
       "      <td>Val22</td>\n",
       "      <td>Val23</td>\n",
       "    </tr>\n",
       "  </tbody>\n",
       "</table>\n",
       "</div>"
      ],
      "text/plain": [
       "       Col1   Col2   Col3\n",
       "Row1  Val11  Val12  Val13\n",
       "Row2  Val21  Val22  Val23"
      ]
     },
     "execution_count": 15,
     "metadata": {},
     "output_type": "execute_result"
    },
    {
     "name": "stdout",
     "output_type": "stream",
     "text": [
      "Part  1\n"
     ]
    },
    {
     "data": {
      "text/html": [
       "<div>\n",
       "<table border=\"1\" class=\"dataframe\">\n",
       "  <thead>\n",
       "    <tr style=\"text-align: right;\">\n",
       "      <th></th>\n",
       "      <th>Col1</th>\n",
       "      <th>Col2</th>\n",
       "      <th>Col3</th>\n",
       "    </tr>\n",
       "  </thead>\n",
       "  <tbody>\n",
       "    <tr>\n",
       "      <th>Row3</th>\n",
       "      <td>Val31</td>\n",
       "      <td>Val32</td>\n",
       "      <td>Val33</td>\n",
       "    </tr>\n",
       "  </tbody>\n",
       "</table>\n",
       "</div>"
      ],
      "text/plain": [
       "       Col1   Col2   Col3\n",
       "Row3  Val31  Val32  Val33"
      ]
     },
     "execution_count": 15,
     "metadata": {},
     "output_type": "execute_result"
    }
   ],
   "source": [
    "# read_csv - import data from CSV file\n",
    "\n",
    "print '\\n----- Data in input file'\n",
    "!cat sample_data.csv\n",
    "\n",
    "print '\\n----- read_csv with default options'\n",
    "pd.read_csv('sample_data.csv')\n",
    "\n",
    "print '\\n----- read_csv with header=None'\n",
    "pd.read_csv('sample_data.csv', header=None)\n",
    "\n",
    "print '\\n----- read_csv with custom header names'\n",
    "pd.read_csv('sample_data.csv', names=['H1','H2','H3','H4'])\n",
    "\n",
    "print '\\n----- read_csv with row names in col 0'\n",
    "pd.read_csv('sample_data.csv', index_col=0)\n",
    "\n",
    "print '\\n----- read_csv with row names in col 1'\n",
    "pd.read_csv('sample_data.csv', index_col=1)\n",
    "\n",
    "print '\\n----- read_csv with row names in col 0, skip first 2 rows'\n",
    "pd.read_csv('sample_data.csv', index_col=0, skiprows=[2])\n",
    "\n",
    "print '\\n----- read in chunks'\n",
    "pd.read_csv('sample_data.csv', index_col=0, nrows=2)\n",
    "part = pd.read_csv('sample_data.csv', index_col=0, chunksize=2)\n",
    "print 'part = ', part\n",
    "\n",
    "for i, p in enumerate(part):\n",
    "    print 'Part ', i\n",
    "    p\n",
    "    \n",
    "# Note: \n",
    "# Both Series and DataFrame have a from_csv() function that reads data from CSV file into the Series or DataFrame.\n",
    "# It's use is discouraged in favor of read_csv()\n"
   ]
  },
  {
   "cell_type": "code",
   "execution_count": 14,
   "metadata": {
    "collapsed": false,
    "scrolled": false
   },
   "outputs": [
    {
     "name": "stdout",
     "output_type": "stream",
     "text": [
      "\n",
      "----- Write df to CSV file\n",
      ",Unnamed: 0,Col1,Col2,Col3\n",
      "0,Row1,Val11,Val12,Val13\n",
      "1,Row2,Val21,Val22,Val23\n",
      "2,Row3,Val31,Val32,Val33\n",
      "---\n",
      "\n",
      "----- Write df to stdout\n",
      ",Unnamed: 0,Col1,Col2,Col3\n",
      "0,Row1,Val11,Val12,Val13\n",
      "1,Row2,Val21,Val22,Val23\n",
      "2,Row3,Val31,Val32,Val33\n",
      "---\n",
      "\n",
      "----- Write df to stdout w/o row names & header\n",
      "Row1,Val11,Val12,Val13\n",
      "Row2,Val21,Val22,Val23\n",
      "Row3,Val31,Val32,Val33\n",
      "---\n",
      "\n",
      "----- Write only Col1 to stdout w/o row names\n",
      "Col1\n",
      "Val11\n",
      "Val21\n",
      "Val31\n"
     ]
    }
   ],
   "source": [
    "# to_csv\n",
    "\n",
    "print '\\n----- Write df to CSV file'\n",
    "pd.read_csv('sample_data.csv').to_csv('out.csv')\n",
    "! cat out.csv\n",
    "print '---'\n",
    "\n",
    "print '\\n----- Write df to stdout'\n",
    "pd.read_csv('sample_data.csv').to_csv(sys.stdout)\n",
    "print '---'\n",
    "\n",
    "print '\\n----- Write df to stdout w/o row names & header'\n",
    "pd.read_csv('sample_data.csv').to_csv(sys.stdout, index=False, header=False)\n",
    "print '---' \n",
    "\n",
    "print '\\n----- Write only Col1 to stdout w/o row names'\n",
    "pd.read_csv('sample_data.csv').to_csv(sys.stdout, index=False, columns=['Col1'])\n",
    "\n",
    "\n",
    "# Save to binary format\n",
    "pd.read_csv('sample_data.csv').to_pickle('pickled.out')\n"
   ]
  },
  {
   "cell_type": "code",
   "execution_count": 59,
   "metadata": {
    "collapsed": false
   },
   "outputs": [
    {
     "name": "stdout",
     "output_type": "stream",
     "text": [
      "----- import JSON using DataFrame(json.loads)\n"
     ]
    },
    {
     "data": {
      "text/plain": [
       "[{u'age': 99,\n",
       "  u'city': u'MyCity',\n",
       "  u'country': u'MyCountry',\n",
       "  u'name': u'MyName'},\n",
       " {u'age': 100,\n",
       "  u'city': u'YourTown',\n",
       "  u'country': u'YourRepublic',\n",
       "  u'name': u'YourName'}]"
      ]
     },
     "execution_count": 59,
     "metadata": {},
     "output_type": "execute_result"
    },
    {
     "data": {
      "text/html": [
       "<div>\n",
       "<table border=\"1\" class=\"dataframe\">\n",
       "  <thead>\n",
       "    <tr style=\"text-align: right;\">\n",
       "      <th></th>\n",
       "      <th>age</th>\n",
       "      <th>city</th>\n",
       "      <th>country</th>\n",
       "      <th>name</th>\n",
       "    </tr>\n",
       "  </thead>\n",
       "  <tbody>\n",
       "    <tr>\n",
       "      <th>Me</th>\n",
       "      <td>99</td>\n",
       "      <td>MyCity</td>\n",
       "      <td>MyCountry</td>\n",
       "      <td>MyName</td>\n",
       "    </tr>\n",
       "    <tr>\n",
       "      <th>You</th>\n",
       "      <td>100</td>\n",
       "      <td>YourTown</td>\n",
       "      <td>YourRepublic</td>\n",
       "      <td>YourName</td>\n",
       "    </tr>\n",
       "  </tbody>\n",
       "</table>\n",
       "</div>"
      ],
      "text/plain": [
       "     age      city       country      name\n",
       "Me    99    MyCity     MyCountry    MyName\n",
       "You  100  YourTown  YourRepublic  YourName"
      ]
     },
     "execution_count": 59,
     "metadata": {},
     "output_type": "execute_result"
    },
    {
     "name": "stdout",
     "output_type": "stream",
     "text": [
      "\n",
      "----- Import JSON using pd.read_json\n"
     ]
    },
    {
     "data": {
      "text/html": [
       "<div>\n",
       "<table border=\"1\" class=\"dataframe\">\n",
       "  <thead>\n",
       "    <tr style=\"text-align: right;\">\n",
       "      <th></th>\n",
       "      <th>age</th>\n",
       "      <th>city</th>\n",
       "      <th>country</th>\n",
       "      <th>name</th>\n",
       "    </tr>\n",
       "  </thead>\n",
       "  <tbody>\n",
       "    <tr>\n",
       "      <th>0</th>\n",
       "      <td>99</td>\n",
       "      <td>MyCity</td>\n",
       "      <td>MyCountry</td>\n",
       "      <td>MyName</td>\n",
       "    </tr>\n",
       "    <tr>\n",
       "      <th>1</th>\n",
       "      <td>100</td>\n",
       "      <td>YourTown</td>\n",
       "      <td>YourRepublic</td>\n",
       "      <td>YourName</td>\n",
       "    </tr>\n",
       "  </tbody>\n",
       "</table>\n",
       "</div>"
      ],
      "text/plain": [
       "   age      city       country      name\n",
       "0   99    MyCity     MyCountry    MyName\n",
       "1  100  YourTown  YourRepublic  YourName"
      ]
     },
     "execution_count": 59,
     "metadata": {},
     "output_type": "execute_result"
    },
    {
     "name": "stdout",
     "output_type": "stream",
     "text": [
      "\n",
      "----- convert DataFrame to JSON\n"
     ]
    },
    {
     "data": {
      "text/plain": [
       "'{\"age\":{\"0\":99,\"1\":100},\"city\":{\"0\":\"MyCity\",\"1\":\"YourTown\"},\"country\":{\"0\":\"MyCountry\",\"1\":\"YourRepublic\"},\"name\":{\"0\":\"MyName\",\"1\":\"YourName\"}}'"
      ]
     },
     "execution_count": 59,
     "metadata": {},
     "output_type": "execute_result"
    },
    {
     "name": "stdout",
     "output_type": "stream",
     "text": [
      "\n",
      "----- Import JSON time series into pd.Series object\n"
     ]
    },
    {
     "data": {
      "text/plain": [
       "0    {u'2016-01-01': 1.0}\n",
       "1    {u'2016-01-02': 2.1}\n",
       "2    {u'2016-01-03': 3.2}\n",
       "3    {u'2016-01-04': 4.3}\n",
       "4    {u'2016-01-05': 5.4}\n",
       "dtype: object"
      ]
     },
     "execution_count": 59,
     "metadata": {},
     "output_type": "execute_result"
    },
    {
     "data": {
      "text/plain": [
       "0    {u'2016-01-01': 1.0}\n",
       "1    {u'2016-01-02': 2.1}\n",
       "2    {u'2016-01-03': 3.2}\n",
       "3    {u'2016-01-04': 4.3}\n",
       "4    {u'2016-01-05': 5.4}\n",
       "dtype: object"
      ]
     },
     "execution_count": 59,
     "metadata": {},
     "output_type": "execute_result"
    }
   ],
   "source": [
    "# loads, read_json, to_json\n",
    "\n",
    "myjson = \"\"\"\n",
    "[{\n",
    "\"name\": \"MyName\",\n",
    "\"age\": 99,\n",
    "\"city\": \"MyCity\",\n",
    "\"country\": \"MyCountry\"\n",
    "},\n",
    "{\n",
    "\"name\": \"YourName\",\n",
    "\"age\": 100,\n",
    "\"city\": \"YourTown\",\n",
    "\"country\": \"YourRepublic\"\n",
    "}\n",
    "]\n",
    "\"\"\"\n",
    "\n",
    "print '----- import JSON using DataFrame(json.loads)'\n",
    "json.loads(myjson)\n",
    "DataFrame(json.loads(myjson), index=['Me', 'You']) \n",
    "\n",
    "print '\\n----- Import JSON using pd.read_json'\n",
    "df = pd.read_json(myjson, typ='frame')\n",
    "df\n",
    "\n",
    "print '\\n----- convert DataFrame to JSON'\n",
    "df.to_json()\n",
    "\n",
    "print '\\n----- Import JSON time series into pd.Series object'\n",
    "\n",
    "myjson_ts=\"\"\"\n",
    "[\n",
    "{\"2016-01-01\": 1.0},\n",
    "{\"2016-01-02\": 2.1},\n",
    "{\"2016-01-03\": 3.2},\n",
    "{\"2016-01-04\": 4.3},\n",
    "{\"2016-01-05\": 5.4}\n",
    "]\"\"\"\n",
    "\n",
    "# using json.loads\n",
    "Series(json.loads(myjson_ts))\n",
    "    \n",
    "# using read_json\n",
    "pd.read_json(myjson_ts, typ='series')\n",
    "# ToDo: convert JSON keys into Series index\n"
   ]
  },
  {
   "cell_type": "code",
   "execution_count": 70,
   "metadata": {
    "collapsed": false
   },
   "outputs": [
    {
     "name": "stdout",
     "output_type": "stream",
     "text": [
      "----- Empty HDF5 file\n"
     ]
    },
    {
     "data": {
      "text/plain": [
       "<class 'pandas.io.pytables.HDFStore'>\n",
       "File path: MyData.h5\n",
       "/df                frame        (shape->[2,2])\n",
       "/item1             frame        (shape->[2,2])\n",
       "/mylist            series       (shape->[5])  "
      ]
     },
     "execution_count": 70,
     "metadata": {},
     "output_type": "execute_result"
    },
    {
     "name": "stdout",
     "output_type": "stream",
     "text": [
      "\n",
      "----- HDF5 file with items\n"
     ]
    },
    {
     "name": "stderr",
     "output_type": "stream",
     "text": [
      "/Users/niranjan/GitHub/ml/venv/lib/python2.7/site-packages/ipykernel/__main__.py:9: PerformanceWarning: \n",
      "your performance may suffer as PyTables will pickle object types that it cannot\n",
      "map directly to c-types [inferred_type->unicode,key->axis0] [items->None]\n",
      "\n",
      "/Users/niranjan/GitHub/ml/venv/lib/python2.7/site-packages/ipykernel/__main__.py:9: PerformanceWarning: \n",
      "your performance may suffer as PyTables will pickle object types that it cannot\n",
      "map directly to c-types [inferred_type->unicode,key->block0_items] [items->None]\n",
      "\n",
      "/Users/niranjan/GitHub/ml/venv/lib/python2.7/site-packages/ipykernel/__main__.py:9: PerformanceWarning: \n",
      "your performance may suffer as PyTables will pickle object types that it cannot\n",
      "map directly to c-types [inferred_type->unicode,key->block1_items] [items->None]\n",
      "\n"
     ]
    },
    {
     "data": {
      "text/plain": [
       "<class 'pandas.io.pytables.HDFStore'>\n",
       "File path: MyData.h5\n",
       "/df                frame        (shape->[2,2])\n",
       "/item1             frame        (shape->[2,2])\n",
       "/mylist            series       (shape->[5])  \n",
       "/s                 series       (shape->[5])  "
      ]
     },
     "execution_count": 70,
     "metadata": {},
     "output_type": "execute_result"
    },
    {
     "data": {
      "text/plain": [
       "0    0\n",
       "1    1\n",
       "2    2\n",
       "3    3\n",
       "4    4\n",
       "dtype: int64"
      ]
     },
     "execution_count": 70,
     "metadata": {},
     "output_type": "execute_result"
    },
    {
     "data": {
      "text/html": [
       "<div>\n",
       "<table border=\"1\" class=\"dataframe\">\n",
       "  <thead>\n",
       "    <tr style=\"text-align: right;\">\n",
       "      <th></th>\n",
       "      <th>age</th>\n",
       "      <th>city</th>\n",
       "      <th>country</th>\n",
       "      <th>name</th>\n",
       "    </tr>\n",
       "  </thead>\n",
       "  <tbody>\n",
       "    <tr>\n",
       "      <th>Me</th>\n",
       "      <td>99</td>\n",
       "      <td>MyCity</td>\n",
       "      <td>MyCountry</td>\n",
       "      <td>MyName</td>\n",
       "    </tr>\n",
       "    <tr>\n",
       "      <th>You</th>\n",
       "      <td>100</td>\n",
       "      <td>YourTown</td>\n",
       "      <td>YourRepublic</td>\n",
       "      <td>YourName</td>\n",
       "    </tr>\n",
       "  </tbody>\n",
       "</table>\n",
       "</div>"
      ],
      "text/plain": [
       "     age      city       country      name\n",
       "Me    99    MyCity     MyCountry    MyName\n",
       "You  100  YourTown  YourRepublic  YourName"
      ]
     },
     "execution_count": 70,
     "metadata": {},
     "output_type": "execute_result"
    },
    {
     "data": {
      "text/plain": [
       "<class 'pandas.io.pytables.HDFStore'>\n",
       "File path: MyData.h5\n",
       "/df                frame        (shape->[2,2])\n",
       "/item1             frame        (shape->[2,2])\n",
       "/mylist            series       (shape->[5])  "
      ]
     },
     "execution_count": 70,
     "metadata": {},
     "output_type": "execute_result"
    }
   ],
   "source": [
    "# HDF5 - pandas uses PyTables module to read/write HDF5\n",
    "\n",
    "print '----- Empty HDF5 file'\n",
    "myHDF5Store = pd.HDFStore('MyData.h5')\n",
    "myHDF5Store\n",
    "\n",
    "print '\\n----- HDF5 file with items'\n",
    "myHDF5Store['s'] = Series(range(5))\n",
    "myHDF5Store['df'] = DataFrame(json.loads(myjson), index=['Me', 'You'])\n",
    "\n",
    "myHDF5Store\n",
    "\n",
    "myHDF5Store['s']\n",
    "myHDF5Store['df']\n",
    "\n",
    "del myHDF5Store['s']\n",
    "myHDF5Store\n",
    "\n",
    "myHDF5Store.close()\n"
   ]
  },
  {
   "cell_type": "code",
   "execution_count": 75,
   "metadata": {
    "collapsed": false
   },
   "outputs": [
    {
     "data": {
      "text/html": [
       "<div>\n",
       "<table border=\"1\" class=\"dataframe\">\n",
       "  <thead>\n",
       "    <tr style=\"text-align: right;\">\n",
       "      <th></th>\n",
       "      <th>age</th>\n",
       "      <th>city</th>\n",
       "      <th>country</th>\n",
       "      <th>name</th>\n",
       "    </tr>\n",
       "  </thead>\n",
       "  <tbody>\n",
       "    <tr>\n",
       "      <th>Me</th>\n",
       "      <td>99</td>\n",
       "      <td>MyCity</td>\n",
       "      <td>MyCountry</td>\n",
       "      <td>MyName</td>\n",
       "    </tr>\n",
       "    <tr>\n",
       "      <th>You</th>\n",
       "      <td>100</td>\n",
       "      <td>YourTown</td>\n",
       "      <td>YourRepublic</td>\n",
       "      <td>YourName</td>\n",
       "    </tr>\n",
       "  </tbody>\n",
       "</table>\n",
       "</div>"
      ],
      "text/plain": [
       "     age      city       country      name\n",
       "Me    99    MyCity     MyCountry    MyName\n",
       "You  100  YourTown  YourRepublic  YourName"
      ]
     },
     "execution_count": 75,
     "metadata": {},
     "output_type": "execute_result"
    },
    {
     "data": {
      "text/plain": [
       "<class 'pandas.io.pytables.HDFStore'>\n",
       "File path: MyData.h5\n",
       "/df                  frame        (shape->[2,2])\n",
       "/df/again            frame        (shape->[2,2])\n",
       "/item1               frame        (shape->[2,2])\n",
       "/mylist              series       (shape->[5])  "
      ]
     },
     "execution_count": 75,
     "metadata": {},
     "output_type": "execute_result"
    }
   ],
   "source": [
    "# read_hdf, to_hdf\n",
    "\n",
    "df = pd.read_hdf('MyData.h5', 'df')\n",
    "df\n",
    "\n",
    "df.to_hdf('MyData.h5', 'df/again')\n",
    "\n",
    "pd.HDFStore('MyData.h5')\n"
   ]
  },
  {
   "cell_type": "code",
   "execution_count": 80,
   "metadata": {
    "collapsed": false
   },
   "outputs": [
    {
     "data": {
      "text/plain": [
       "A    0\n",
       "B    1\n",
       "C    2\n",
       "D    3\n",
       "E    4\n",
       "F    5\n",
       "dtype: int64"
      ]
     },
     "execution_count": 80,
     "metadata": {},
     "output_type": "execute_result"
    },
    {
     "data": {
      "text/plain": [
       "A    0\n",
       "B    1\n",
       "C    2\n",
       "D    3\n",
       "E    4\n",
       "F    5\n",
       "dtype: int64"
      ]
     },
     "execution_count": 80,
     "metadata": {},
     "output_type": "execute_result"
    }
   ],
   "source": [
    "# pickle\n",
    "\n",
    "s = Series(range(6), index=['A','B','C','D','E','F'])\n",
    "s\n",
    "s.to_pickle('MySeries.pkl')\n",
    "\n",
    "s2 = pd.read_pickle('MySeries.pkl')\n",
    "s2\n"
   ]
  },
  {
   "cell_type": "code",
   "execution_count": 90,
   "metadata": {
    "collapsed": false
   },
   "outputs": [
    {
     "data": {
      "text/plain": [
       "<sqlite3.Cursor at 0x111659ea0>"
      ]
     },
     "execution_count": 90,
     "metadata": {},
     "output_type": "execute_result"
    },
    {
     "data": {
      "text/plain": [
       "<function commit>"
      ]
     },
     "execution_count": 90,
     "metadata": {},
     "output_type": "execute_result"
    },
    {
     "data": {
      "text/plain": [
       "<sqlite3.Cursor at 0x11169f2d0>"
      ]
     },
     "execution_count": 90,
     "metadata": {},
     "output_type": "execute_result"
    },
    {
     "name": "stdout",
     "output_type": "stream",
     "text": [
      "cursor description:\n"
     ]
    },
    {
     "data": {
      "text/plain": [
       "(('Col1', None, None, None, None, None, None),\n",
       " ('Col2', None, None, None, None, None, None),\n",
       " ('Col3', None, None, None, None, None, None))"
      ]
     },
     "execution_count": 90,
     "metadata": {},
     "output_type": "execute_result"
    },
    {
     "data": {
      "text/plain": [
       "('Col1', 'Col2', 'Col3')"
      ]
     },
     "execution_count": 90,
     "metadata": {},
     "output_type": "execute_result"
    },
    {
     "data": {
      "text/plain": [
       "[(1, u'This is Row 1', 3.14),\n",
       " (2, u'This is Row 2', 4.15),\n",
       " (3, u'This is Row 3', 5.16),\n",
       " (4, u'This is Row 4', 6.17)]"
      ]
     },
     "execution_count": 90,
     "metadata": {},
     "output_type": "execute_result"
    },
    {
     "data": {
      "text/html": [
       "<div>\n",
       "<table border=\"1\" class=\"dataframe\">\n",
       "  <thead>\n",
       "    <tr style=\"text-align: right;\">\n",
       "      <th></th>\n",
       "      <th>Col1</th>\n",
       "      <th>Col2</th>\n",
       "      <th>Col3</th>\n",
       "    </tr>\n",
       "  </thead>\n",
       "  <tbody>\n",
       "    <tr>\n",
       "      <th>0</th>\n",
       "      <td>1</td>\n",
       "      <td>This is Row 1</td>\n",
       "      <td>3.14</td>\n",
       "    </tr>\n",
       "    <tr>\n",
       "      <th>1</th>\n",
       "      <td>2</td>\n",
       "      <td>This is Row 2</td>\n",
       "      <td>4.15</td>\n",
       "    </tr>\n",
       "    <tr>\n",
       "      <th>2</th>\n",
       "      <td>3</td>\n",
       "      <td>This is Row 3</td>\n",
       "      <td>5.16</td>\n",
       "    </tr>\n",
       "    <tr>\n",
       "      <th>3</th>\n",
       "      <td>4</td>\n",
       "      <td>This is Row 4</td>\n",
       "      <td>6.17</td>\n",
       "    </tr>\n",
       "  </tbody>\n",
       "</table>\n",
       "</div>"
      ],
      "text/plain": [
       "   Col1           Col2  Col3\n",
       "0     1  This is Row 1  3.14\n",
       "1     2  This is Row 2  4.15\n",
       "2     3  This is Row 3  5.16\n",
       "3     4  This is Row 4  6.17"
      ]
     },
     "execution_count": 90,
     "metadata": {},
     "output_type": "execute_result"
    },
    {
     "name": "stdout",
     "output_type": "stream",
     "text": [
      "\n",
      "----- Alternately, get DataFrame from SQL using read_sql_query()\n"
     ]
    },
    {
     "data": {
      "text/plain": [
       "pandas.core.frame.DataFrame"
      ]
     },
     "execution_count": 90,
     "metadata": {},
     "output_type": "execute_result"
    },
    {
     "data": {
      "text/html": [
       "<div>\n",
       "<table border=\"1\" class=\"dataframe\">\n",
       "  <thead>\n",
       "    <tr style=\"text-align: right;\">\n",
       "      <th></th>\n",
       "      <th>Col1</th>\n",
       "      <th>Col2</th>\n",
       "      <th>Col3</th>\n",
       "    </tr>\n",
       "  </thead>\n",
       "  <tbody>\n",
       "    <tr>\n",
       "      <th>0</th>\n",
       "      <td>1</td>\n",
       "      <td>This is Row 1</td>\n",
       "      <td>3.14</td>\n",
       "    </tr>\n",
       "    <tr>\n",
       "      <th>1</th>\n",
       "      <td>2</td>\n",
       "      <td>This is Row 2</td>\n",
       "      <td>4.15</td>\n",
       "    </tr>\n",
       "    <tr>\n",
       "      <th>2</th>\n",
       "      <td>3</td>\n",
       "      <td>This is Row 3</td>\n",
       "      <td>5.16</td>\n",
       "    </tr>\n",
       "    <tr>\n",
       "      <th>3</th>\n",
       "      <td>4</td>\n",
       "      <td>This is Row 4</td>\n",
       "      <td>6.17</td>\n",
       "    </tr>\n",
       "  </tbody>\n",
       "</table>\n",
       "</div>"
      ],
      "text/plain": [
       "   Col1           Col2  Col3\n",
       "0     1  This is Row 1  3.14\n",
       "1     2  This is Row 2  4.15\n",
       "2     3  This is Row 3  5.16\n",
       "3     4  This is Row 4  6.17"
      ]
     },
     "execution_count": 90,
     "metadata": {},
     "output_type": "execute_result"
    }
   ],
   "source": [
    "# SQL \n",
    "\n",
    "# Create DB with SQLite\n",
    "query = \"\"\"\n",
    "CREATE TABLE MyTable (\n",
    "Col1 INT,\n",
    "Col2 VARCHAR(50),\n",
    "Col3 FLOAT\n",
    ");\n",
    "\"\"\"\n",
    "\n",
    "conn = sqlite3.connect(\":memory:\")\n",
    "conn.execute(query)\n",
    "conn.commit\n",
    "\n",
    "\n",
    "# Load data to DB\n",
    "data = [\n",
    "    (1, 'This is Row 1', 3.14),\n",
    "    (2, 'This is Row 2', 4.15),\n",
    "    (3, 'This is Row 3', 5.16),\n",
    "    (4, 'This is Row 4', 6.17)\n",
    "]\n",
    "statement = \"INSERT INTO MyTable VALUES(?,?,?)\"\n",
    "conn.executemany(statement, data)\n",
    "conn.commit()\n",
    "\n",
    "\n",
    "# Get data from this DB\n",
    "cursor = conn.execute('Select * from MyTable')\n",
    "print 'cursor description:'\n",
    "cursor.description\n",
    "\n",
    "colnames = zip(*cursor.description)[0]\n",
    "colnames\n",
    "\n",
    "rows = cursor.fetchall()\n",
    "rows\n",
    "\n",
    "DataFrame(rows, columns=colnames)\n",
    "\n",
    "print '\\n----- Alternately, get DataFrame from SQL using read_sql_query()'\n",
    "# Using pandas function requires only a single statement\n",
    "df = sql.read_sql_query('SELECT * from MyTable', conn)\n",
    "type(df)\n",
    "df\n"
   ]
  }
 ],
 "metadata": {
  "kernelspec": {
   "display_name": "Python 2",
   "language": "python",
   "name": "python2"
  },
  "language_info": {
   "codemirror_mode": {
    "name": "ipython",
    "version": 2
   },
   "file_extension": ".py",
   "mimetype": "text/x-python",
   "name": "python",
   "nbconvert_exporter": "python",
   "pygments_lexer": "ipython2",
   "version": "2.7.10"
  }
 },
 "nbformat": 4,
 "nbformat_minor": 1
}
