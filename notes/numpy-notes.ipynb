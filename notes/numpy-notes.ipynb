{
 "cells": [
  {
   "cell_type": "markdown",
   "metadata": {},
   "source": [
    "## Task\n",
    "Explore NumPy basics\n",
    "\n",
    "## Notebook Summary\n",
    "* Creating arrays\n",
    " * array(), asarray()\n",
    " * zeroes(), ones(), full(), fill(), empty(), eye(), identity(), diag()\n",
    " * arange(), linspace(), logspace(), fromfunction()\n",
    "* Array data types\n",
    "* Basic indexing\n",
    "* Boolean indexing\n",
    "* Fancy indexing\n",
    "* Transposing\n",
    "* Ravel, flatten\n",
    "* Meshgrid\n",
    "* where, select, choose, nonzero\n",
    "* Random walks\n",
    "* Matrix products - dot, inner, cross, outer, kron, einsum, tensordot\n",
    "* [Sorting](#sorting)\n",
    "\n",
    "## References\n",
    "* *Python for Data Analysis*, Wes McKinney, O'Reilly, 2012\n",
    "* *Numerical Python*, Robert Johansson, APress, 2015\n"
   ]
  },
  {
   "cell_type": "code",
   "execution_count": 3,
   "metadata": {
    "collapsed": false
   },
   "outputs": [
    {
     "name": "stdout",
     "output_type": "stream",
     "text": [
      "python.version =  2.7.10\n",
      "ipython.version = (5, 1, 0, '')\n",
      "numpy.version =  1.11.3\n"
     ]
    }
   ],
   "source": [
    "# display output from all cmds just like Python shell\n",
    "from IPython.core.interactiveshell import InteractiveShell\n",
    "InteractiveShell.ast_node_interactivity = \"all\"\n",
    "\n",
    "import platform\n",
    "print 'python.version = ', platform.python_version()\n",
    "import IPython\n",
    "print 'ipython.version =', IPython.version_info\n",
    "\n",
    "import numpy as np\n",
    "print 'numpy.version = ', np.__version__\n"
   ]
  },
  {
   "cell_type": "code",
   "execution_count": 76,
   "metadata": {
    "collapsed": false
   },
   "outputs": [
    {
     "data": {
      "text/plain": [
       "[1, 2, 3, 4]"
      ]
     },
     "execution_count": 76,
     "metadata": {},
     "output_type": "execute_result"
    },
    {
     "data": {
      "text/plain": [
       "array([1, 2, 3, 4])"
      ]
     },
     "execution_count": 76,
     "metadata": {},
     "output_type": "execute_result"
    },
    {
     "data": {
      "text/plain": [
       "dtype('int64')"
      ]
     },
     "execution_count": 76,
     "metadata": {},
     "output_type": "execute_result"
    },
    {
     "name": "stdout",
     "output_type": "stream",
     "text": [
      "---\n"
     ]
    },
    {
     "data": {
      "text/plain": [
       "array([[ 5.1,  6.2],\n",
       "       [ 7.3,  8.4]])"
      ]
     },
     "execution_count": 76,
     "metadata": {},
     "output_type": "execute_result"
    },
    {
     "data": {
      "text/plain": [
       "dtype('float64')"
      ]
     },
     "execution_count": 76,
     "metadata": {},
     "output_type": "execute_result"
    },
    {
     "data": {
      "text/plain": [
       "array([[   5.1,  999. ],\n",
       "       [   7.3,    8.4]])"
      ]
     },
     "execution_count": 76,
     "metadata": {},
     "output_type": "execute_result"
    },
    {
     "name": "stdout",
     "output_type": "stream",
     "text": [
      "myarr is myarr2 =  False\n",
      "---\n"
     ]
    },
    {
     "data": {
      "text/plain": [
       "[[1, 2, 3], [4, 5, 6], [7, 8, 9]]"
      ]
     },
     "execution_count": 76,
     "metadata": {},
     "output_type": "execute_result"
    },
    {
     "data": {
      "text/plain": [
       "array([[1, 2, 3],\n",
       "       [4, 5, 6],\n",
       "       [7, 8, 9]])"
      ]
     },
     "execution_count": 76,
     "metadata": {},
     "output_type": "execute_result"
    },
    {
     "data": {
      "text/plain": [
       "2"
      ]
     },
     "execution_count": 76,
     "metadata": {},
     "output_type": "execute_result"
    },
    {
     "data": {
      "text/plain": [
       "(3, 3)"
      ]
     },
     "execution_count": 76,
     "metadata": {},
     "output_type": "execute_result"
    },
    {
     "data": {
      "text/plain": [
       "9"
      ]
     },
     "execution_count": 76,
     "metadata": {},
     "output_type": "execute_result"
    },
    {
     "data": {
      "text/plain": [
       "dtype('int64')"
      ]
     },
     "execution_count": 76,
     "metadata": {},
     "output_type": "execute_result"
    },
    {
     "data": {
      "text/plain": [
       "array([[ 1.,  2.,  3.],\n",
       "       [ 4.,  5.,  6.],\n",
       "       [ 7.,  8.,  9.]])"
      ]
     },
     "execution_count": 76,
     "metadata": {},
     "output_type": "execute_result"
    },
    {
     "data": {
      "text/plain": [
       "array([['1', '2', '3'],\n",
       "       ['4', '5', '6'],\n",
       "       ['7', '8', '9']], \n",
       "      dtype='|S21')"
      ]
     },
     "execution_count": 76,
     "metadata": {},
     "output_type": "execute_result"
    },
    {
     "data": {
      "text/plain": [
       "array([[1, 2, 3],\n",
       "       [4, 5, 6],\n",
       "       [7, 8, 9]])"
      ]
     },
     "execution_count": 76,
     "metadata": {},
     "output_type": "execute_result"
    },
    {
     "name": "stdout",
     "output_type": "stream",
     "text": [
      "---\n"
     ]
    },
    {
     "data": {
      "text/plain": [
       "array([1, 2, 3, 4])"
      ]
     },
     "execution_count": 76,
     "metadata": {},
     "output_type": "execute_result"
    },
    {
     "name": "stdout",
     "output_type": "stream",
     "text": [
      "myarr is myarr2 =  True\n"
     ]
    }
   ],
   "source": [
    "# Creating arrays from lists using array() & asarray()\n",
    "\n",
    "mylist = [1,2,3,4]\n",
    "mylist\n",
    "myarr = np.array(mylist) \n",
    "myarr\n",
    "myarr.dtype\n",
    "\n",
    "print '---'\n",
    "\n",
    "myarr = np.array([[5.1,6.2],[7.3,8.4]])\n",
    "myarr\n",
    "myarr.dtype\n",
    "\n",
    "myarr2 = np.array(myarr) # copy=True by default; else copy made only if necessary\n",
    "myarr2[0,1] = 999\n",
    "myarr2\n",
    "print 'myarr is myarr2 = ', myarr is myarr2\n",
    "\n",
    "print '---'\n",
    "\n",
    "mylist = [[1,2,3],[4,5,6],[7,8,9]]\n",
    "mylist\n",
    "myarr = np.array(mylist)\n",
    "myarr\n",
    "myarr.ndim\n",
    "myarr.shape\n",
    "myarr.size\n",
    "myarr.dtype\n",
    "\n",
    "myarr.astype(float)\n",
    "myarr.astype(str)\n",
    "myarr\n",
    "\n",
    "print '---'\n",
    "\n",
    "mylist = [1, 2, 3,4]\n",
    "myarr = np.asarray(mylist) # no copy if input is an ndarray \n",
    "myarr\n",
    "myarr2 = np.asarray(myarr)\n",
    "print 'myarr is myarr2 = ', myarr is myarr2\n"
   ]
  },
  {
   "cell_type": "code",
   "execution_count": 119,
   "metadata": {
    "collapsed": false,
    "scrolled": false
   },
   "outputs": [
    {
     "data": {
      "text/plain": [
       "array([[ 0,  1,  2,  3],\n",
       "       [ 4,  5,  6,  7],\n",
       "       [ 8,  9, 10, 11],\n",
       "       [12, 13, 14, 15],\n",
       "       [16, 17, 18, 19],\n",
       "       [20, 21, 22, 23]])"
      ]
     },
     "execution_count": 119,
     "metadata": {},
     "output_type": "execute_result"
    },
    {
     "name": "stdout",
     "output_type": "stream",
     "text": [
      "---\n"
     ]
    },
    {
     "data": {
      "text/plain": [
       "array([ 0.+0.j])"
      ]
     },
     "execution_count": 119,
     "metadata": {},
     "output_type": "execute_result"
    },
    {
     "data": {
      "text/plain": [
       "array([[[ 0.,  0.],\n",
       "        [ 0.,  0.],\n",
       "        [ 0.,  0.]],\n",
       "\n",
       "       [[ 0.,  0.],\n",
       "        [ 0.,  0.],\n",
       "        [ 0.,  0.]]])"
      ]
     },
     "execution_count": 119,
     "metadata": {},
     "output_type": "execute_result"
    },
    {
     "data": {
      "text/plain": [
       "array([[0, 0, 0, 0],\n",
       "       [0, 0, 0, 0],\n",
       "       [0, 0, 0, 0],\n",
       "       [0, 0, 0, 0],\n",
       "       [0, 0, 0, 0],\n",
       "       [0, 0, 0, 0]])"
      ]
     },
     "execution_count": 119,
     "metadata": {},
     "output_type": "execute_result"
    },
    {
     "name": "stdout",
     "output_type": "stream",
     "text": [
      "---\n"
     ]
    },
    {
     "data": {
      "text/plain": [
       "array([ 1.,  1.])"
      ]
     },
     "execution_count": 119,
     "metadata": {},
     "output_type": "execute_result"
    },
    {
     "data": {
      "text/plain": [
       "array([[[1, 1, 1],\n",
       "        [1, 1, 1]]])"
      ]
     },
     "execution_count": 119,
     "metadata": {},
     "output_type": "execute_result"
    },
    {
     "data": {
      "text/plain": [
       "array([[1, 1, 1, 1],\n",
       "       [1, 1, 1, 1],\n",
       "       [1, 1, 1, 1],\n",
       "       [1, 1, 1, 1],\n",
       "       [1, 1, 1, 1],\n",
       "       [1, 1, 1, 1]])"
      ]
     },
     "execution_count": 119,
     "metadata": {},
     "output_type": "execute_result"
    },
    {
     "name": "stdout",
     "output_type": "stream",
     "text": [
      "---\n"
     ]
    },
    {
     "data": {
      "text/plain": [
       "array([[ 9.9]])"
      ]
     },
     "execution_count": 119,
     "metadata": {},
     "output_type": "execute_result"
    },
    {
     "data": {
      "text/plain": [
       "array([['a', 'a'],\n",
       "       ['a', 'a'],\n",
       "       ['a', 'a']], \n",
       "      dtype='|S1')"
      ]
     },
     "execution_count": 119,
     "metadata": {},
     "output_type": "execute_result"
    },
    {
     "data": {
      "text/plain": [
       "array([[99, 99, 99, 99],\n",
       "       [99, 99, 99, 99],\n",
       "       [99, 99, 99, 99],\n",
       "       [99, 99, 99, 99],\n",
       "       [99, 99, 99, 99],\n",
       "       [99, 99, 99, 99]])"
      ]
     },
     "execution_count": 119,
     "metadata": {},
     "output_type": "execute_result"
    },
    {
     "name": "stdout",
     "output_type": "stream",
     "text": [
      "---\n"
     ]
    },
    {
     "data": {
      "text/plain": [
       "array([[ 0.,  0.,  0.],\n",
       "       [ 0.,  0.,  0.]])"
      ]
     },
     "execution_count": 119,
     "metadata": {},
     "output_type": "execute_result"
    },
    {
     "data": {
      "text/plain": [
       "array([[-50., -50., -50.],\n",
       "       [-50., -50., -50.]])"
      ]
     },
     "execution_count": 119,
     "metadata": {},
     "output_type": "execute_result"
    },
    {
     "name": "stdout",
     "output_type": "stream",
     "text": [
      "---\n"
     ]
    },
    {
     "data": {
      "text/plain": [
       "array([ 0.,  0.,  0.])"
      ]
     },
     "execution_count": 119,
     "metadata": {},
     "output_type": "execute_result"
    },
    {
     "data": {
      "text/plain": [
       "array([[0, 0, 0],\n",
       "       [0, 0, 0]])"
      ]
     },
     "execution_count": 119,
     "metadata": {},
     "output_type": "execute_result"
    },
    {
     "data": {
      "text/plain": [
       "array([[99, 99, 99, 99],\n",
       "       [99, 99, 99, 99],\n",
       "       [99, 99, 99, 99],\n",
       "       [99, 99, 99, 99],\n",
       "       [99, 99, 99, 99],\n",
       "       [99, 99, 99, 99]])"
      ]
     },
     "execution_count": 119,
     "metadata": {},
     "output_type": "execute_result"
    },
    {
     "name": "stdout",
     "output_type": "stream",
     "text": [
      "---\n"
     ]
    },
    {
     "data": {
      "text/plain": [
       "array([[ 1.,  0.,  0.,  0.],\n",
       "       [ 0.,  1.,  0.,  0.],\n",
       "       [ 0.,  0.,  1.,  0.],\n",
       "       [ 0.,  0.,  0.,  1.]])"
      ]
     },
     "execution_count": 119,
     "metadata": {},
     "output_type": "execute_result"
    },
    {
     "data": {
      "text/plain": [
       "array([[ 0.,  0.,  0.],\n",
       "       [ 1.,  0.,  0.],\n",
       "       [ 0.,  1.,  0.],\n",
       "       [ 0.,  0.,  1.]])"
      ]
     },
     "execution_count": 119,
     "metadata": {},
     "output_type": "execute_result"
    },
    {
     "data": {
      "text/plain": [
       "array([[ 1.,  0.,  0.,  0.],\n",
       "       [ 0.,  1.,  0.,  0.],\n",
       "       [ 0.,  0.,  1.,  0.],\n",
       "       [ 0.,  0.,  0.,  1.]])"
      ]
     },
     "execution_count": 119,
     "metadata": {},
     "output_type": "execute_result"
    },
    {
     "name": "stdout",
     "output_type": "stream",
     "text": [
      "---\n"
     ]
    },
    {
     "data": {
      "text/plain": [
       "array([[1, 0, 0],\n",
       "       [0, 2, 0],\n",
       "       [0, 0, 3]])"
      ]
     },
     "execution_count": 119,
     "metadata": {},
     "output_type": "execute_result"
    },
    {
     "data": {
      "text/plain": [
       "array([[0, 0, 0, 0, 0, 0, 0, 0, 0, 0],\n",
       "       [0, 1, 0, 0, 0, 0, 0, 0, 0, 0],\n",
       "       [0, 0, 2, 0, 0, 0, 0, 0, 0, 0],\n",
       "       [0, 0, 0, 3, 0, 0, 0, 0, 0, 0],\n",
       "       [0, 0, 0, 0, 4, 0, 0, 0, 0, 0],\n",
       "       [0, 0, 0, 0, 0, 5, 0, 0, 0, 0],\n",
       "       [0, 0, 0, 0, 0, 0, 6, 0, 0, 0],\n",
       "       [0, 0, 0, 0, 0, 0, 0, 7, 0, 0],\n",
       "       [0, 0, 0, 0, 0, 0, 0, 0, 8, 0],\n",
       "       [0, 0, 0, 0, 0, 0, 0, 0, 0, 9]])"
      ]
     },
     "execution_count": 119,
     "metadata": {},
     "output_type": "execute_result"
    },
    {
     "name": "stdout",
     "output_type": "stream",
     "text": [
      "---\n"
     ]
    },
    {
     "data": {
      "text/plain": [
       "array([[0, 0, 0, 0, 0, 0, 0, 0, 0, 0],\n",
       "       [0, 0, 2, 0, 0, 0, 0, 0, 0, 0],\n",
       "       [0, 0, 0, 0, 4, 0, 0, 0, 0, 0],\n",
       "       [0, 0, 0, 0, 0, 0, 6, 0, 0, 0],\n",
       "       [0, 0, 0, 0, 0, 0, 0, 0, 8, 0]])"
      ]
     },
     "execution_count": 119,
     "metadata": {},
     "output_type": "execute_result"
    },
    {
     "data": {
      "text/plain": [
       "array([[0, 0, 0, 0, 0],\n",
       "       [0, 0, 0, 0, 0],\n",
       "       [0, 2, 0, 0, 0],\n",
       "       [0, 0, 0, 0, 0],\n",
       "       [0, 0, 4, 0, 0],\n",
       "       [0, 0, 0, 0, 0],\n",
       "       [0, 0, 0, 6, 0],\n",
       "       [0, 0, 0, 0, 0],\n",
       "       [0, 0, 0, 0, 8],\n",
       "       [0, 0, 0, 0, 0]])"
      ]
     },
     "execution_count": 119,
     "metadata": {},
     "output_type": "execute_result"
    }
   ],
   "source": [
    "# Creating arrays using zeros(), ones(), full(), fill(), empty(), eye(), identity(), diag()\n",
    "\n",
    "myarr\n",
    "\n",
    "print '---'\n",
    "\n",
    "np.zeros(1, dtype='complex')\n",
    "np.zeros([2,3,2])\n",
    "np.zeros_like(myarr)\n",
    "\n",
    "print '---'\n",
    "\n",
    "np.ones(2)\n",
    "np.ones([1,2,3], dtype='int')\n",
    "np.ones_like(myarr)\n",
    "\n",
    "print '---'\n",
    "\n",
    "np.full((1,1), 9.9)\n",
    "np.full([3,2], 'a', dtype='str')\n",
    "np.full_like(myarr, 99, dtype='int')\n",
    "\n",
    "print '---'\n",
    "\n",
    "myarr2 = np.zeros([2,3])\n",
    "myarr2\n",
    "myarr2.fill(-50)\n",
    "myarr2\n",
    "\n",
    "print '---'\n",
    "\n",
    "np.empty(3)\n",
    "np.empty([2,3], dtype=int)\n",
    "np.empty_like(myarr)\n",
    "\n",
    "print '---'\n",
    "\n",
    "np.eye(4)\n",
    "np.eye(4,3, k=-1)\n",
    "np.identity(4)\n",
    "\n",
    "print '---'\n",
    "\n",
    "np.diag([1,2,3])\n",
    "np.diag(np.arange(10))\n",
    "\n",
    "print '---'\n",
    "\n",
    "np.diag(np.arange(10))[::2] # get every other row\n",
    "np.diag(np.arange(10))[:,::2] # get every other row"
   ]
  },
  {
   "cell_type": "code",
   "execution_count": 117,
   "metadata": {
    "collapsed": false
   },
   "outputs": [
    {
     "data": {
      "text/plain": [
       "array([], dtype=int64)"
      ]
     },
     "execution_count": 117,
     "metadata": {},
     "output_type": "execute_result"
    },
    {
     "data": {
      "text/plain": [
       "array([0])"
      ]
     },
     "execution_count": 117,
     "metadata": {},
     "output_type": "execute_result"
    },
    {
     "data": {
      "text/plain": [
       "array([0, 1, 2, 3, 4])"
      ]
     },
     "execution_count": 117,
     "metadata": {},
     "output_type": "execute_result"
    },
    {
     "data": {
      "text/plain": [
       "array([ 1,  4,  7, 10, 13, 16, 19])"
      ]
     },
     "execution_count": 117,
     "metadata": {},
     "output_type": "execute_result"
    },
    {
     "data": {
      "text/plain": [
       "array([ 1.5  ,  1.833,  2.166,  2.499,  2.832,  3.165,  3.498,  3.831,\n",
       "        4.164,  4.497,  4.83 ,  5.163])"
      ]
     },
     "execution_count": 117,
     "metadata": {},
     "output_type": "execute_result"
    },
    {
     "name": "stdout",
     "output_type": "stream",
     "text": [
      "---\n"
     ]
    },
    {
     "data": {
      "text/plain": [
       "array([ 0.        ,  0.02040816,  0.04081633,  0.06122449,  0.08163265,\n",
       "        0.10204082,  0.12244898,  0.14285714,  0.16326531,  0.18367347,\n",
       "        0.20408163,  0.2244898 ,  0.24489796,  0.26530612,  0.28571429,\n",
       "        0.30612245,  0.32653061,  0.34693878,  0.36734694,  0.3877551 ,\n",
       "        0.40816327,  0.42857143,  0.44897959,  0.46938776,  0.48979592,\n",
       "        0.51020408,  0.53061224,  0.55102041,  0.57142857,  0.59183673,\n",
       "        0.6122449 ,  0.63265306,  0.65306122,  0.67346939,  0.69387755,\n",
       "        0.71428571,  0.73469388,  0.75510204,  0.7755102 ,  0.79591837,\n",
       "        0.81632653,  0.83673469,  0.85714286,  0.87755102,  0.89795918,\n",
       "        0.91836735,  0.93877551,  0.95918367,  0.97959184,  1.        ])"
      ]
     },
     "execution_count": 117,
     "metadata": {},
     "output_type": "execute_result"
    },
    {
     "data": {
      "text/plain": [
       "array([ 1,  2,  3,  4,  5,  6,  7,  8,  9, 10])"
      ]
     },
     "execution_count": 117,
     "metadata": {},
     "output_type": "execute_result"
    },
    {
     "data": {
      "text/plain": [
       "(array([ 2. ,  2.1,  2.2,  2.3,  2.4,  2.5,  2.6,  2.7,  2.8,  2.9,  3. ,\n",
       "         3.1,  3.2,  3.3,  3.4,  3.5,  3.6,  3.7,  3.8,  3.9]), 0.1)"
      ]
     },
     "execution_count": 117,
     "metadata": {},
     "output_type": "execute_result"
    },
    {
     "data": {
      "text/plain": [
       "(array([ 2.        ,  2.10526316,  2.21052632,  2.31578947,  2.42105263,\n",
       "         2.52631579,  2.63157895,  2.73684211,  2.84210526,  2.94736842,\n",
       "         3.05263158,  3.15789474,  3.26315789,  3.36842105,  3.47368421,\n",
       "         3.57894737,  3.68421053,  3.78947368,  3.89473684,  4.        ]),\n",
       " 0.10526315789473684)"
      ]
     },
     "execution_count": 117,
     "metadata": {},
     "output_type": "execute_result"
    },
    {
     "name": "stdout",
     "output_type": "stream",
     "text": [
      "---\n"
     ]
    },
    {
     "data": {
      "text/plain": [
       "array([  10.        ,   10.48113134,   10.98541142,   11.51395399,\n",
       "         12.06792641,   12.64855217,   13.25711366,   13.89495494,\n",
       "         14.56348478,   15.26417967,   15.9985872 ,   16.76832937,\n",
       "         17.57510625,   18.42069969,   19.30697729,   20.23589648,\n",
       "         21.20950888,   22.22996483,   23.29951811,   24.42053095,\n",
       "         25.59547923,   26.82695795,   28.11768698,   29.47051703,\n",
       "         30.88843596,   32.37457543,   33.93221772,   35.56480306,\n",
       "         37.2759372 ,   39.06939937,   40.94915062,   42.9193426 ,\n",
       "         44.98432669,   47.14866363,   49.41713361,   51.79474679,\n",
       "         54.28675439,   56.89866029,   59.63623317,   62.50551925,\n",
       "         65.51285569,   68.6648845 ,   71.9685673 ,   75.43120063,\n",
       "         79.06043211,   82.86427729,   86.85113738,   91.0298178 ,\n",
       "         95.40954763,  100.        ])"
      ]
     },
     "execution_count": 117,
     "metadata": {},
     "output_type": "execute_result"
    },
    {
     "data": {
      "text/plain": [
       "array([  10.        ,   12.91549665,   16.68100537,   21.5443469 ,\n",
       "         27.82559402,   35.93813664,   46.41588834,   59.94842503,\n",
       "         77.42636827,  100.        ])"
      ]
     },
     "execution_count": 117,
     "metadata": {},
     "output_type": "execute_result"
    },
    {
     "data": {
      "text/plain": [
       "array([ 2.72      ,  3.03986529,  3.39734594,  3.79686543,  4.24336744,\n",
       "        4.74237697,  5.30006879,  5.9233438 ,  6.61991441,  7.3984    ])"
      ]
     },
     "execution_count": 117,
     "metadata": {},
     "output_type": "execute_result"
    },
    {
     "name": "stdout",
     "output_type": "stream",
     "text": [
      "---\n"
     ]
    },
    {
     "data": {
      "text/plain": [
       "array([[ 0.  ,  0.84,  0.91],\n",
       "       [ 0.84,  0.91,  0.14],\n",
       "       [ 0.91,  0.14, -0.76]])"
      ]
     },
     "execution_count": 117,
     "metadata": {},
     "output_type": "execute_result"
    }
   ],
   "source": [
    "# Creating arrays using arange(), linspace(), logspace(), fromfunction()\n",
    "\n",
    "np.arange(0)\n",
    "np.arange(1)\n",
    "np.arange(5)\n",
    "np.arange(1,20,3)\n",
    "np.arange(1.5,5.2,0.333)\n",
    "\n",
    "print '---'\n",
    "\n",
    "np.linspace(0,1)# return 50 pts by default\n",
    "np.linspace(start=1, stop=10, num=10, dtype='int')\n",
    "np.linspace(2,4, num=20, endpoint=False, retstep=True)\n",
    "np.linspace(2,4, num=20, endpoint=True, retstep=True)\n",
    "\n",
    "print '---'\n",
    "\n",
    "np.logspace(1,2) # return 450 pts by default with base=10\n",
    "np.logspace(1,2, num=10)\n",
    "np.logspace(1,2, num=10, base=2.72)\n",
    "\n",
    "print '---'\n",
    "\n",
    "f = lambda x,y: np.round(np.sin(x+y),2)\n",
    "np.fromfunction(f, (3,3))\n"
   ]
  },
  {
   "cell_type": "code",
   "execution_count": 79,
   "metadata": {
    "collapsed": false
   },
   "outputs": [
    {
     "data": {
      "text/plain": [
       "array([[ 1.,  1.,  1.],\n",
       "       [ 1.,  1.,  1.]])"
      ]
     },
     "execution_count": 79,
     "metadata": {},
     "output_type": "execute_result"
    },
    {
     "data": {
      "text/plain": [
       "array([[1, 1, 1],\n",
       "       [1, 1, 1]])"
      ]
     },
     "execution_count": 79,
     "metadata": {},
     "output_type": "execute_result"
    },
    {
     "data": {
      "text/plain": [
       "array([['1.0', '1.0', '1.0'],\n",
       "       ['1.0', '1.0', '1.0']], \n",
       "      dtype='|S32')"
      ]
     },
     "execution_count": 79,
     "metadata": {},
     "output_type": "execute_result"
    },
    {
     "name": "stdout",
     "output_type": "stream",
     "text": [
      "---\n"
     ]
    },
    {
     "data": {
      "text/plain": [
       "array([ 3.14,  4.25,  5.36])"
      ]
     },
     "execution_count": 79,
     "metadata": {},
     "output_type": "execute_result"
    },
    {
     "data": {
      "text/plain": [
       "array([3, 4, 5])"
      ]
     },
     "execution_count": 79,
     "metadata": {},
     "output_type": "execute_result"
    },
    {
     "data": {
      "text/plain": [
       "array(['3.14', '4.25', '5.36'], \n",
       "      dtype='|S32')"
      ]
     },
     "execution_count": 79,
     "metadata": {},
     "output_type": "execute_result"
    },
    {
     "name": "stdout",
     "output_type": "stream",
     "text": [
      "---\n"
     ]
    },
    {
     "data": {
      "text/plain": [
       "array([1, 2, 3, 4])"
      ]
     },
     "execution_count": 79,
     "metadata": {},
     "output_type": "execute_result"
    },
    {
     "name": "stdout",
     "output_type": "stream",
     "text": [
      "---\n"
     ]
    },
    {
     "data": {
      "text/plain": [
       "array(['1.1', '2.2', '3', '4'], \n",
       "      dtype='|S3')"
      ]
     },
     "execution_count": 79,
     "metadata": {},
     "output_type": "execute_result"
    },
    {
     "data": {
      "text/plain": [
       "array([ 1.1,  2.2,  3. ,  4. ])"
      ]
     },
     "execution_count": 79,
     "metadata": {},
     "output_type": "execute_result"
    },
    {
     "data": {
      "text/plain": [
       "array(['1.1', '2.2', '3', '4'], \n",
       "      dtype='|S3')"
      ]
     },
     "execution_count": 79,
     "metadata": {},
     "output_type": "execute_result"
    },
    {
     "data": {
      "text/plain": [
       "array([1, 2, 3, 4])"
      ]
     },
     "execution_count": 79,
     "metadata": {},
     "output_type": "execute_result"
    },
    {
     "data": {
      "text/plain": [
       "dtype('int64')"
      ]
     },
     "execution_count": 79,
     "metadata": {},
     "output_type": "execute_result"
    },
    {
     "data": {
      "text/plain": [
       "array([1, 2, 3, 4])"
      ]
     },
     "execution_count": 79,
     "metadata": {},
     "output_type": "execute_result"
    }
   ],
   "source": [
    "# Array data types\n",
    "\n",
    "np.ones([2,3])\n",
    "np.ones([2,3]).astype(int)\n",
    "np.ones([2,3]).astype(str)\n",
    "\n",
    "print '---'\n",
    "\n",
    "np.array([3.14, 4.25, 5.36])\n",
    "np.array([3.14, 4.25, 5.36]).astype(int)\n",
    "np.array([3.14, 4.25, 5.36]).astype(str)\n",
    "\n",
    "print '---'\n",
    "\n",
    "np.array(['1','2','3','4']).astype('int')\n",
    "\n",
    "print '---'\n",
    "\n",
    "np.array(['1.1', '2.2', '3', '4'])\n",
    "np.array(['1.1', '2.2', '3', '4']).astype(float)\n",
    "np.array(['1.1', '2.2', '3', '4']).astype(str)\n",
    "np.array(['1.1', '2.2', '3', '4']).astype(float).astype(int) # can't go directly from float in str to int\n",
    "myarr.dtype\n",
    "np.array(['1.1', '2.2', '3', '4']).astype('float').astype(myarr.dtype)\n"
   ]
  },
  {
   "cell_type": "code",
   "execution_count": 126,
   "metadata": {
    "collapsed": false
   },
   "outputs": [
    {
     "data": {
      "text/plain": [
       "array([0, 1, 2, 3, 4, 5, 6, 7, 8, 9])"
      ]
     },
     "execution_count": 126,
     "metadata": {},
     "output_type": "execute_result"
    },
    {
     "data": {
      "text/plain": [
       "1"
      ]
     },
     "execution_count": 126,
     "metadata": {},
     "output_type": "execute_result"
    },
    {
     "data": {
      "text/plain": [
       "array([7, 8, 9])"
      ]
     },
     "execution_count": 126,
     "metadata": {},
     "output_type": "execute_result"
    },
    {
     "data": {
      "text/plain": [
       "array([1, 3, 5])"
      ]
     },
     "execution_count": 126,
     "metadata": {},
     "output_type": "execute_result"
    },
    {
     "data": {
      "text/plain": [
       "array([9, 8, 7, 6, 5, 4, 3, 2, 1, 0])"
      ]
     },
     "execution_count": 126,
     "metadata": {},
     "output_type": "execute_result"
    },
    {
     "name": "stdout",
     "output_type": "stream",
     "text": [
      "---\n"
     ]
    },
    {
     "data": {
      "text/plain": [
       "array([4, 5])"
      ]
     },
     "execution_count": 126,
     "metadata": {},
     "output_type": "execute_result"
    },
    {
     "data": {
      "text/plain": [
       "array([-999, -999])"
      ]
     },
     "execution_count": 126,
     "metadata": {},
     "output_type": "execute_result"
    },
    {
     "data": {
      "text/plain": [
       "array([   0,    1,    2,    3, -999, -999,    6,    7,    8,    9])"
      ]
     },
     "execution_count": 126,
     "metadata": {},
     "output_type": "execute_result"
    },
    {
     "name": "stdout",
     "output_type": "stream",
     "text": [
      "---\n"
     ]
    },
    {
     "data": {
      "text/plain": [
       "array([-1, -1])"
      ]
     },
     "execution_count": 126,
     "metadata": {},
     "output_type": "execute_result"
    },
    {
     "data": {
      "text/plain": [
       "array([   0,    1,    2,    3, -999, -999,    6,    7,    8,    9])"
      ]
     },
     "execution_count": 126,
     "metadata": {},
     "output_type": "execute_result"
    },
    {
     "name": "stdout",
     "output_type": "stream",
     "text": [
      "---\n"
     ]
    },
    {
     "data": {
      "text/plain": [
       "array([[ 0,  1,  2,  3],\n",
       "       [ 4,  5,  6,  7],\n",
       "       [ 8,  9, 10, 11],\n",
       "       [12, 13, 14, 15],\n",
       "       [16, 17, 18, 19],\n",
       "       [20, 21, 22, 23]])"
      ]
     },
     "execution_count": 126,
     "metadata": {},
     "output_type": "execute_result"
    },
    {
     "data": {
      "text/plain": [
       "(array([20, 21, 22, 23]), (4,))"
      ]
     },
     "execution_count": 126,
     "metadata": {},
     "output_type": "execute_result"
    },
    {
     "data": {
      "text/plain": [
       "(array([[16, 17, 18, 19],\n",
       "        [20, 21, 22, 23]]), (2, 4))"
      ]
     },
     "execution_count": 126,
     "metadata": {},
     "output_type": "execute_result"
    },
    {
     "name": "stdout",
     "output_type": "stream",
     "text": [
      "---\n"
     ]
    },
    {
     "data": {
      "text/plain": [
       "1"
      ]
     },
     "execution_count": 126,
     "metadata": {},
     "output_type": "execute_result"
    },
    {
     "data": {
      "text/plain": [
       "array([ 1,  5,  9, 13, 17, 21])"
      ]
     },
     "execution_count": 126,
     "metadata": {},
     "output_type": "execute_result"
    },
    {
     "data": {
      "text/plain": [
       "array([[ 2,  3],\n",
       "       [ 6,  7],\n",
       "       [10, 11],\n",
       "       [14, 15],\n",
       "       [18, 19],\n",
       "       [22, 23]])"
      ]
     },
     "execution_count": 126,
     "metadata": {},
     "output_type": "execute_result"
    },
    {
     "data": {
      "text/plain": [
       "(array([[ 0,  1,  2],\n",
       "        [ 4,  5,  6],\n",
       "        [ 8,  9, 10],\n",
       "        [12, 13, 14],\n",
       "        [16, 17, 18],\n",
       "        [20, 21, 22]]), (6, 3))"
      ]
     },
     "execution_count": 126,
     "metadata": {},
     "output_type": "execute_result"
    },
    {
     "data": {
      "text/plain": [
       "array([[  0,   1, -99, -99],\n",
       "       [  4,   5, -99, -99],\n",
       "       [  8,   9, -99, -99],\n",
       "       [ 12,  13, -99, -99],\n",
       "       [ 16,  17, -99, -99],\n",
       "       [ 20,  21, -99, -99]])"
      ]
     },
     "execution_count": 126,
     "metadata": {},
     "output_type": "execute_result"
    },
    {
     "data": {
      "text/plain": [
       "array([4, 5, 6, 7])"
      ]
     },
     "execution_count": 126,
     "metadata": {},
     "output_type": "execute_result"
    },
    {
     "data": {
      "text/plain": [
       "array([[ 8,  9, 10, 11],\n",
       "       [12, 13, 14, 15]])"
      ]
     },
     "execution_count": 126,
     "metadata": {},
     "output_type": "execute_result"
    },
    {
     "data": {
      "text/plain": [
       "array([[ 2,  3],\n",
       "       [ 6,  7],\n",
       "       [10, 11]])"
      ]
     },
     "execution_count": 126,
     "metadata": {},
     "output_type": "execute_result"
    },
    {
     "data": {
      "text/plain": [
       "(array([[2, 3],\n",
       "        [6, 7]]), (2, 2))"
      ]
     },
     "execution_count": 126,
     "metadata": {},
     "output_type": "execute_result"
    },
    {
     "name": "stdout",
     "output_type": "stream",
     "text": [
      "---\n"
     ]
    },
    {
     "data": {
      "text/plain": [
       "10"
      ]
     },
     "execution_count": 126,
     "metadata": {},
     "output_type": "execute_result"
    },
    {
     "data": {
      "text/plain": [
       "10"
      ]
     },
     "execution_count": 126,
     "metadata": {},
     "output_type": "execute_result"
    }
   ],
   "source": [
    "# Basic indexing & slicing\n",
    "\n",
    "myarr = np.arange(10)\n",
    "myarr\n",
    "myarr[1]\n",
    "myarr[[-3,-2,-1]]\n",
    "myarr[1:6:2]\n",
    "myarr[::-1] # reverse elements\n",
    "\n",
    "print '---'\n",
    "\n",
    "myslice = myarr[4:6] # this is a view, not a copy\n",
    "myslice\n",
    "myslice[:] = -999\n",
    "myslice\n",
    "myarr # original array is also modified\n",
    "\n",
    "print '---'\n",
    "\n",
    "myslice = myarr[4:6].copy()\n",
    "myslice[:] = -1\n",
    "myslice\n",
    "myarr # original array is not modified\n",
    "\n",
    "print '---'\n",
    "\n",
    "myarr = np.arange(24).reshape(6,4)\n",
    "myarr\n",
    "\n",
    "myarr[5], myarr[5].shape\n",
    "myarr[4:,:], myarr[4:,:].shape\n",
    "\n",
    "print '---'\n",
    "\n",
    "myarr[0,1]\n",
    "\n",
    "myarr[:,1]\n",
    "myarr[:,[2,3]]\n",
    "myarr[:,:3], myarr[:,:3].shape\n",
    "\n",
    "myarr2 = myarr.copy()\n",
    "myarr2[:,[2,3]] = -99\n",
    "myarr2\n",
    "\n",
    "myarr[1,:]\n",
    "myarr[[2,3],:]\n",
    "myarr[[0,1,2],2:]\n",
    "myarr[:2, 2:], myarr[:2, 2:].shape\n",
    "\n",
    "print '---'\n",
    "\n",
    "myarr[2,2]\n",
    "myarr[2][2]\n",
    "\n",
    "# Need to mix integer and slices to get lower dimensional slices\n",
    "# See Fig 4.2 on pg 90 in 'Python for Data Analysis'\n"
   ]
  },
  {
   "cell_type": "code",
   "execution_count": 125,
   "metadata": {
    "collapsed": false
   },
   "outputs": [
    {
     "data": {
      "text/plain": [
       "array([ 0,  1,  2,  3,  4,  5,  6,  7,  8,  9, 10, 11, 12, 13, 14, 15, 16,\n",
       "       17, 18, 19])"
      ]
     },
     "execution_count": 125,
     "metadata": {},
     "output_type": "execute_result"
    },
    {
     "data": {
      "text/plain": [
       "array([ True, False, False, False,  True, False, False, False,  True,\n",
       "       False, False, False,  True, False, False, False,  True, False,\n",
       "       False, False], dtype=bool)"
      ]
     },
     "execution_count": 125,
     "metadata": {},
     "output_type": "execute_result"
    },
    {
     "data": {
      "text/plain": [
       "array([ 0,  4,  8, 12, 16])"
      ]
     },
     "execution_count": 125,
     "metadata": {},
     "output_type": "execute_result"
    },
    {
     "data": {
      "text/plain": [
       "array([ 0,  4,  8, 12, 16])"
      ]
     },
     "execution_count": 125,
     "metadata": {},
     "output_type": "execute_result"
    },
    {
     "name": "stdout",
     "output_type": "stream",
     "text": [
      "---\n"
     ]
    },
    {
     "data": {
      "text/plain": [
       "array([[ 0,  1,  2,  3],\n",
       "       [ 4,  5,  6,  7],\n",
       "       [ 8,  9, 10, 11],\n",
       "       [12, 13, 14, 15],\n",
       "       [16, 17, 18, 19],\n",
       "       [20, 21, 22, 23],\n",
       "       [24, 25, 26, 27],\n",
       "       [28, 29, 30, 31]])"
      ]
     },
     "execution_count": 125,
     "metadata": {},
     "output_type": "execute_result"
    },
    {
     "name": "stderr",
     "output_type": "stream",
     "text": [
      "/Users/vissan1/GitHub/ml/venv/lib/python2.7/site-packages/ipykernel/__main__.py:17: FutureWarning: in the future, boolean array-likes will be handled as a boolean array index\n"
     ]
    },
    {
     "data": {
      "text/plain": [
       "array([[ 1,  0,  1,  0],\n",
       "       [ 5,  4,  5,  4],\n",
       "       [ 9,  8,  9,  8],\n",
       "       [13, 12, 13, 12],\n",
       "       [17, 16, 17, 16],\n",
       "       [21, 20, 21, 20],\n",
       "       [25, 24, 25, 24],\n",
       "       [29, 28, 29, 28]])"
      ]
     },
     "execution_count": 125,
     "metadata": {},
     "output_type": "execute_result"
    },
    {
     "data": {
      "text/plain": [
       "array([[ 0,  2],\n",
       "       [ 4,  6],\n",
       "       [ 8, 10],\n",
       "       [12, 14],\n",
       "       [16, 18],\n",
       "       [20, 22],\n",
       "       [24, 26],\n",
       "       [28, 30]])"
      ]
     },
     "execution_count": 125,
     "metadata": {},
     "output_type": "execute_result"
    },
    {
     "name": "stdout",
     "output_type": "stream",
     "text": [
      "---\n"
     ]
    },
    {
     "data": {
      "text/plain": [
       "array([[ 0.  ,  0.  ,  1.41,  0.51],\n",
       "       [ 7.  ,  7.  ,  7.  ,  7.  ],\n",
       "       [ 0.  ,  1.87,  0.  ,  0.18],\n",
       "       [ 0.  ,  0.  ,  0.42,  1.77],\n",
       "       [ 0.55,  0.  ,  0.33,  0.  ],\n",
       "       [ 0.  ,  0.31,  0.91,  0.  ]])"
      ]
     },
     "execution_count": 125,
     "metadata": {},
     "output_type": "execute_result"
    }
   ],
   "source": [
    "# Boolean indexing - index with arrays of True & False\n",
    "\n",
    "myarr = np.arange(20)\n",
    "myarr\n",
    "idx = myarr % 4 == 0\n",
    "idx\n",
    "myarr[idx]\n",
    "myarr[myarr % 4 == 0]\n",
    "\n",
    "print '---'\n",
    "\n",
    "myarr = np.arange(32).reshape(8,4)\n",
    "myarr\n",
    "\n",
    "# statement below will not return 1st & 3rd cols because True, False are interpreted as 1, 0 \n",
    "# resulting in myarr[:,[1,0,1,0]]\n",
    "myarr[:,[True, False, True, False]] \n",
    "# instead, do this\n",
    "myarr[:,np.array([True, False, True, False])]\n",
    "\n",
    "print '---'\n",
    "\n",
    "myarr = np.random.randn(24).reshape(6,4)\n",
    "myarr[myarr<0] = 0\n",
    "myarr = myarr.round(2)\n",
    "myarr[1] = 7\n",
    "myarr\n"
   ]
  },
  {
   "cell_type": "code",
   "execution_count": 123,
   "metadata": {
    "collapsed": false
   },
   "outputs": [
    {
     "data": {
      "text/plain": [
       "array([[ 0,  1,  2,  3],\n",
       "       [ 4,  5,  6,  7],\n",
       "       [ 8,  9, 10, 11],\n",
       "       [12, 13, 14, 15],\n",
       "       [16, 17, 18, 19],\n",
       "       [20, 21, 22, 23],\n",
       "       [24, 25, 26, 27],\n",
       "       [28, 29, 30, 31]])"
      ]
     },
     "execution_count": 123,
     "metadata": {},
     "output_type": "execute_result"
    },
    {
     "data": {
      "text/plain": [
       "array([[0, 1, 2, 3],\n",
       "       [4, 5, 6, 7]])"
      ]
     },
     "execution_count": 123,
     "metadata": {},
     "output_type": "execute_result"
    },
    {
     "data": {
      "text/plain": [
       "array([[0, 1, 2, 3],\n",
       "       [4, 5, 6, 7]])"
      ]
     },
     "execution_count": 123,
     "metadata": {},
     "output_type": "execute_result"
    },
    {
     "data": {
      "text/plain": [
       "array([[0, 1, 2, 3],\n",
       "       [4, 5, 6, 7]])"
      ]
     },
     "execution_count": 123,
     "metadata": {},
     "output_type": "execute_result"
    },
    {
     "data": {
      "text/plain": [
       "array([[4, 5, 6, 7],\n",
       "       [0, 1, 2, 3],\n",
       "       [4, 5, 6, 7]])"
      ]
     },
     "execution_count": 123,
     "metadata": {},
     "output_type": "execute_result"
    },
    {
     "data": {
      "text/plain": [
       "array([[99, 99, 99, 99],\n",
       "       [99, 99, 99, 99]])"
      ]
     },
     "execution_count": 123,
     "metadata": {},
     "output_type": "execute_result"
    },
    {
     "data": {
      "text/plain": [
       "array([[ 0,  1,  2,  3],\n",
       "       [ 4,  5,  6,  7],\n",
       "       [ 8,  9, 10, 11],\n",
       "       [12, 13, 14, 15],\n",
       "       [16, 17, 18, 19],\n",
       "       [20, 21, 22, 23],\n",
       "       [24, 25, 26, 27],\n",
       "       [28, 29, 30, 31]])"
      ]
     },
     "execution_count": 123,
     "metadata": {},
     "output_type": "execute_result"
    },
    {
     "data": {
      "text/plain": [
       "array([[99, 99, 99, 99],\n",
       "       [99, 99, 99, 99],\n",
       "       [ 8,  9, 10, 11],\n",
       "       [12, 13, 14, 15],\n",
       "       [16, 17, 18, 19],\n",
       "       [20, 21, 22, 23],\n",
       "       [24, 25, 26, 27],\n",
       "       [28, 29, 30, 31]])"
      ]
     },
     "execution_count": 123,
     "metadata": {},
     "output_type": "execute_result"
    },
    {
     "name": "stdout",
     "output_type": "stream",
     "text": [
      "---\n"
     ]
    },
    {
     "data": {
      "text/plain": [
       "array([[99, 99],\n",
       "       [99, 99],\n",
       "       [ 8,  9],\n",
       "       [12, 13],\n",
       "       [16, 17],\n",
       "       [20, 21],\n",
       "       [24, 25],\n",
       "       [28, 29]])"
      ]
     },
     "execution_count": 123,
     "metadata": {},
     "output_type": "execute_result"
    },
    {
     "data": {
      "text/plain": [
       "array([[99, 99],\n",
       "       [99, 99],\n",
       "       [11, 10],\n",
       "       [15, 14],\n",
       "       [19, 18],\n",
       "       [23, 22],\n",
       "       [27, 26],\n",
       "       [31, 30]])"
      ]
     },
     "execution_count": 123,
     "metadata": {},
     "output_type": "execute_result"
    },
    {
     "name": "stdout",
     "output_type": "stream",
     "text": [
      "---\n"
     ]
    },
    {
     "data": {
      "text/plain": [
       "array([99, 99])"
      ]
     },
     "execution_count": 123,
     "metadata": {},
     "output_type": "execute_result"
    },
    {
     "data": {
      "text/plain": [
       "array([[99, 99],\n",
       "       [99, 99]])"
      ]
     },
     "execution_count": 123,
     "metadata": {},
     "output_type": "execute_result"
    },
    {
     "data": {
      "text/plain": [
       "array([[99, 99],\n",
       "       [99, 99]])"
      ]
     },
     "execution_count": 123,
     "metadata": {},
     "output_type": "execute_result"
    }
   ],
   "source": [
    "# Fancy indexing - indexing using integer arrays / lists / seq of integers\n",
    "\n",
    "myarr = np.arange(32).reshape(8,4)\n",
    "myarr\n",
    "\n",
    "myarr[[0,1],:]\n",
    "myarr[[0,1]]\n",
    "myarr[np.array([0,1])]\n",
    "myarr[[1,0,1],:]\n",
    "\n",
    "myslice = myarr[[0,1],:] # fancy indexing returns a copy, not a view\n",
    "myslice[:] = 99\n",
    "myslice\n",
    "myarr\n",
    "myarr[[0,1],:] = 99 # assign values with fancy indexing\n",
    "myarr\n",
    "\n",
    "print '---'\n",
    "\n",
    "myarr[:,[0,1]]\n",
    "myarr[:,[-1, -2]]\n",
    "\n",
    "print '---'\n",
    "\n",
    "myarr[[0,1],[-3,1]] # values returned are those @ [0,-3] & [1,1]\n",
    "# compare to\n",
    "myarr[[0,1]][:,[-3,1]] \n",
    "# and see also\n",
    "myarr[np.ix_([0,1],[-3,1])]\n"
   ]
  },
  {
   "cell_type": "code",
   "execution_count": 141,
   "metadata": {
    "collapsed": false
   },
   "outputs": [
    {
     "data": {
      "text/plain": [
       "array([[ 0.56,  0.89,  0.78],\n",
       "       [ 0.79,  0.61,  0.7 ],\n",
       "       [ 0.95,  0.94,  0.18],\n",
       "       [ 0.07,  0.41,  0.48]])"
      ]
     },
     "execution_count": 141,
     "metadata": {},
     "output_type": "execute_result"
    },
    {
     "data": {
      "text/plain": [
       "array([ 0.56,  0.89,  0.78,  0.79,  0.61,  0.7 ,  0.95,  0.94,  0.18,\n",
       "        0.07,  0.41,  0.48])"
      ]
     },
     "execution_count": 141,
     "metadata": {},
     "output_type": "execute_result"
    },
    {
     "data": {
      "text/plain": [
       "array([ 0.56,  0.89,  0.78,  0.79,  0.61,  0.7 ,  0.95,  0.94,  0.18,\n",
       "        0.07,  0.41,  0.48])"
      ]
     },
     "execution_count": 141,
     "metadata": {},
     "output_type": "execute_result"
    },
    {
     "data": {
      "text/plain": [
       "(12,)"
      ]
     },
     "execution_count": 141,
     "metadata": {},
     "output_type": "execute_result"
    },
    {
     "data": {
      "text/plain": [
       "array([  5.60000000e-01,  -9.90000000e+01,   7.80000000e-01,\n",
       "        -9.90000000e+01,   6.10000000e-01,  -9.90000000e+01,\n",
       "         9.50000000e-01,  -9.90000000e+01,   1.80000000e-01,\n",
       "         7.00000000e-02,   4.10000000e-01,   4.80000000e-01])"
      ]
     },
     "execution_count": 141,
     "metadata": {},
     "output_type": "execute_result"
    },
    {
     "data": {
      "text/plain": [
       "array([[  5.60000000e-01,  -9.90000000e+01,   7.80000000e-01],\n",
       "       [ -9.90000000e+01,   6.10000000e-01,  -9.90000000e+01],\n",
       "       [  9.50000000e-01,  -9.90000000e+01,   1.80000000e-01],\n",
       "       [  7.00000000e-02,   4.10000000e-01,   4.80000000e-01]])"
      ]
     },
     "execution_count": 141,
     "metadata": {},
     "output_type": "execute_result"
    },
    {
     "data": {
      "text/plain": [
       "array([  5.60000000e-01,  -9.90000000e+01,   7.80000000e-01,\n",
       "        -9.90000000e+01,   6.10000000e-01,  -9.90000000e+01,\n",
       "         9.50000000e-01,  -9.90000000e+01,   1.80000000e-01,\n",
       "         7.00000000e-02,   4.10000000e-01,   4.80000000e-01])"
      ]
     },
     "execution_count": 141,
     "metadata": {},
     "output_type": "execute_result"
    },
    {
     "data": {
      "text/plain": [
       "array([ -8.80000000e+01,  -9.90000000e+01,  -8.80000000e+01,\n",
       "        -9.90000000e+01,  -8.80000000e+01,  -9.90000000e+01,\n",
       "         9.50000000e-01,  -9.90000000e+01,   1.80000000e-01,\n",
       "         7.00000000e-02,   4.10000000e-01,   4.80000000e-01])"
      ]
     },
     "execution_count": 141,
     "metadata": {},
     "output_type": "execute_result"
    },
    {
     "data": {
      "text/plain": [
       "array([[  5.60000000e-01,  -9.90000000e+01,   7.80000000e-01],\n",
       "       [ -9.90000000e+01,   6.10000000e-01,  -9.90000000e+01],\n",
       "       [  9.50000000e-01,  -9.90000000e+01,   1.80000000e-01],\n",
       "       [  7.00000000e-02,   4.10000000e-01,   4.80000000e-01]])"
      ]
     },
     "execution_count": 141,
     "metadata": {},
     "output_type": "execute_result"
    }
   ],
   "source": [
    "# ravel, flatten \n",
    "# ravel - returns a view when possible; is a library-level and array-level function\n",
    "# flatten - always returns a copy; is an array-level function only\n",
    "\n",
    "myarr = np.round(np.random.rand(12),2).reshape(4,3)\n",
    "myarr\n",
    "\n",
    "np.ravel(myarr)\n",
    "r = myarr.ravel()\n",
    "r\n",
    "r.shape\n",
    "\n",
    "r[[1,3,5,7]] = -99 # modified original array since r is a view\n",
    "r\n",
    "myarr\n",
    "\n",
    "f = myarr.flatten()\n",
    "f\n",
    "f[[0,2,4]] = -88 # does not modify original array\n",
    "f\n",
    "myarr\n"
   ]
  },
  {
   "cell_type": "code",
   "execution_count": 173,
   "metadata": {
    "collapsed": false
   },
   "outputs": [
    {
     "data": {
      "text/plain": [
       "array([0, 1, 2, 3, 4])"
      ]
     },
     "execution_count": 173,
     "metadata": {},
     "output_type": "execute_result"
    },
    {
     "data": {
      "text/plain": [
       "array([[0, 1, 2, 3, 4],\n",
       "       [0, 1, 2, 3, 4],\n",
       "       [0, 1, 2, 3, 4]])"
      ]
     },
     "execution_count": 173,
     "metadata": {},
     "output_type": "execute_result"
    },
    {
     "data": {
      "text/plain": [
       "array([0, 1, 2, 3, 4, 0, 1, 2, 3, 4, 0, 1, 2, 3, 4])"
      ]
     },
     "execution_count": 173,
     "metadata": {},
     "output_type": "execute_result"
    },
    {
     "data": {
      "text/plain": [
       "array([0, 1, 2, 3, 4, 0, 1, 2, 3, 4])"
      ]
     },
     "execution_count": 173,
     "metadata": {},
     "output_type": "execute_result"
    },
    {
     "data": {
      "text/plain": [
       "array([[0, 1, 2, 3, 4, 0, 1, 2, 3, 4]])"
      ]
     },
     "execution_count": 173,
     "metadata": {},
     "output_type": "execute_result"
    },
    {
     "data": {
      "text/plain": [
       "array([[0, 0],\n",
       "       [1, 1],\n",
       "       [2, 2],\n",
       "       [3, 3],\n",
       "       [4, 4]])"
      ]
     },
     "execution_count": 173,
     "metadata": {},
     "output_type": "execute_result"
    },
    {
     "name": "stdout",
     "output_type": "stream",
     "text": [
      "---\n"
     ]
    },
    {
     "data": {
      "text/plain": [
       "array([[[ 0,  1,  2,  3],\n",
       "        [ 4,  5,  6,  7],\n",
       "        [ 8,  9, 10, 11]],\n",
       "\n",
       "       [[12, 13, 14, 15],\n",
       "        [16, 17, 18, 19],\n",
       "        [20, 21, 22, 23]]])"
      ]
     },
     "execution_count": 173,
     "metadata": {},
     "output_type": "execute_result"
    },
    {
     "data": {
      "text/plain": [
       "(2, 3, 4)"
      ]
     },
     "execution_count": 173,
     "metadata": {},
     "output_type": "execute_result"
    },
    {
     "data": {
      "text/plain": [
       "array([[[ 0,  1,  2,  3],\n",
       "        [ 4,  5,  6,  7],\n",
       "        [ 8,  9, 10, 11],\n",
       "        [ 0,  1,  2,  3],\n",
       "        [ 4,  5,  6,  7],\n",
       "        [ 8,  9, 10, 11]],\n",
       "\n",
       "       [[12, 13, 14, 15],\n",
       "        [16, 17, 18, 19],\n",
       "        [20, 21, 22, 23],\n",
       "        [12, 13, 14, 15],\n",
       "        [16, 17, 18, 19],\n",
       "        [20, 21, 22, 23]]])"
      ]
     },
     "execution_count": 173,
     "metadata": {},
     "output_type": "execute_result"
    },
    {
     "data": {
      "text/plain": [
       "(2, 6, 4)"
      ]
     },
     "execution_count": 173,
     "metadata": {},
     "output_type": "execute_result"
    },
    {
     "data": {
      "text/plain": [
       "array([[[ 0,  1,  2,  3],\n",
       "        [ 4,  5,  6,  7],\n",
       "        [ 8,  9, 10, 11]],\n",
       "\n",
       "       [[12, 13, 14, 15],\n",
       "        [16, 17, 18, 19],\n",
       "        [20, 21, 22, 23]],\n",
       "\n",
       "       [[ 0,  1,  2,  3],\n",
       "        [ 4,  5,  6,  7],\n",
       "        [ 8,  9, 10, 11]],\n",
       "\n",
       "       [[12, 13, 14, 15],\n",
       "        [16, 17, 18, 19],\n",
       "        [20, 21, 22, 23]]])"
      ]
     },
     "execution_count": 173,
     "metadata": {},
     "output_type": "execute_result"
    },
    {
     "data": {
      "text/plain": [
       "(4, 3, 4)"
      ]
     },
     "execution_count": 173,
     "metadata": {},
     "output_type": "execute_result"
    },
    {
     "name": "stdout",
     "output_type": "stream",
     "text": [
      "---\n"
     ]
    },
    {
     "data": {
      "text/plain": [
       "array([[[ 0,  1,  2,  3],\n",
       "        [ 4,  5,  6,  7],\n",
       "        [ 8,  9, 10, 11]],\n",
       "\n",
       "       [[12, 13, 14, 15],\n",
       "        [16, 17, 18, 19],\n",
       "        [20, 21, 22, 23]],\n",
       "\n",
       "       [[ 0,  1,  2,  3],\n",
       "        [ 4,  5,  6,  7],\n",
       "        [ 8,  9, 10, 11]],\n",
       "\n",
       "       [[12, 13, 14, 15],\n",
       "        [16, 17, 18, 19],\n",
       "        [20, 21, 22, 23]]])"
      ]
     },
     "execution_count": 173,
     "metadata": {},
     "output_type": "execute_result"
    },
    {
     "data": {
      "text/plain": [
       "(4, 3, 4)"
      ]
     },
     "execution_count": 173,
     "metadata": {},
     "output_type": "execute_result"
    },
    {
     "data": {
      "text/plain": [
       "array([[[ 0,  1,  2,  3],\n",
       "        [ 4,  5,  6,  7],\n",
       "        [ 8,  9, 10, 11],\n",
       "        [ 0,  1,  2,  3],\n",
       "        [ 4,  5,  6,  7],\n",
       "        [ 8,  9, 10, 11]],\n",
       "\n",
       "       [[12, 13, 14, 15],\n",
       "        [16, 17, 18, 19],\n",
       "        [20, 21, 22, 23],\n",
       "        [12, 13, 14, 15],\n",
       "        [16, 17, 18, 19],\n",
       "        [20, 21, 22, 23]]])"
      ]
     },
     "execution_count": 173,
     "metadata": {},
     "output_type": "execute_result"
    },
    {
     "data": {
      "text/plain": [
       "(2, 6, 4)"
      ]
     },
     "execution_count": 173,
     "metadata": {},
     "output_type": "execute_result"
    },
    {
     "data": {
      "text/plain": [
       "array([[[ 0,  1,  2,  3,  0,  1,  2,  3],\n",
       "        [ 4,  5,  6,  7,  4,  5,  6,  7],\n",
       "        [ 8,  9, 10, 11,  8,  9, 10, 11]],\n",
       "\n",
       "       [[12, 13, 14, 15, 12, 13, 14, 15],\n",
       "        [16, 17, 18, 19, 16, 17, 18, 19],\n",
       "        [20, 21, 22, 23, 20, 21, 22, 23]]])"
      ]
     },
     "execution_count": 173,
     "metadata": {},
     "output_type": "execute_result"
    },
    {
     "data": {
      "text/plain": [
       "(2, 3, 8)"
      ]
     },
     "execution_count": 173,
     "metadata": {},
     "output_type": "execute_result"
    },
    {
     "data": {
      "text/plain": [
       "array([[[ 0,  1,  2,  3,  0,  1,  2,  3],\n",
       "        [ 4,  5,  6,  7,  4,  5,  6,  7],\n",
       "        [ 8,  9, 10, 11,  8,  9, 10, 11]],\n",
       "\n",
       "       [[12, 13, 14, 15, 12, 13, 14, 15],\n",
       "        [16, 17, 18, 19, 16, 17, 18, 19],\n",
       "        [20, 21, 22, 23, 20, 21, 22, 23]]])"
      ]
     },
     "execution_count": 173,
     "metadata": {},
     "output_type": "execute_result"
    },
    {
     "data": {
      "text/plain": [
       "(2, 3, 8)"
      ]
     },
     "execution_count": 173,
     "metadata": {},
     "output_type": "execute_result"
    }
   ],
   "source": [
    "# stacking\n",
    "\n",
    "myarr = np.arange(5)\n",
    "myarr # row vector\n",
    "\n",
    "np.vstack([myarr, myarr, myarr]) # row vector as rows of matrix\n",
    "\n",
    "# row vector as columns of matrix\n",
    "np.hstack([myarr, myarr, myarr])\n",
    "np.hstack([myarr.T, myarr.T]) # transpose will not work to convert row vectors to column vectors\n",
    "np.hstack([myarr.reshape(1,5), myarr.reshape(1,5)]) # reshape also will not work\n",
    "np.hstack([myarr[:,np.newaxis], myarr[:,np.newaxis]]) # must use newaxis \n",
    "\n",
    "print '---'\n",
    "\n",
    "myarr = np.arange(24).reshape(2,3,4)\n",
    "myarr\n",
    "myarr.shape\n",
    "\n",
    "h = np.hstack([myarr, myarr])\n",
    "h\n",
    "h.shape\n",
    "\n",
    "v = np.vstack([myarr, myarr])\n",
    "v\n",
    "v.shape\n",
    "\n",
    "print '---'\n",
    "\n",
    "c = np.concatenate([myarr, myarr], axis=0) # same as vstack\n",
    "c\n",
    "c.shape\n",
    "\n",
    "c = np.concatenate([myarr, myarr], axis=1) # same as hstack\n",
    "c\n",
    "c.shape\n",
    "\n",
    "c = np.concatenate([myarr, myarr], axis=2) # same as dstack\n",
    "c\n",
    "c.shape\n",
    "\n",
    "d = np.dstack([myarr, myarr]) \n",
    "d \n",
    "d.shape\n"
   ]
  },
  {
   "cell_type": "code",
   "execution_count": 10,
   "metadata": {
    "collapsed": false,
    "scrolled": true
   },
   "outputs": [
    {
     "data": {
      "text/plain": [
       "array([[ 0,  1,  2],\n",
       "       [ 3,  4,  5],\n",
       "       [ 6,  7,  8],\n",
       "       [ 9, 10, 11],\n",
       "       [12, 13, 14]])"
      ]
     },
     "execution_count": 10,
     "metadata": {},
     "output_type": "execute_result"
    },
    {
     "data": {
      "text/plain": [
       "array([[ 0,  3,  6,  9, 12],\n",
       "       [ 1,  4,  7, 10, 13],\n",
       "       [ 2,  5,  8, 11, 14]])"
      ]
     },
     "execution_count": 10,
     "metadata": {},
     "output_type": "execute_result"
    },
    {
     "data": {
      "text/plain": [
       "array([[ 0,  3,  6,  9, 12],\n",
       "       [ 1,  4,  7, 10, 13],\n",
       "       [ 2,  5,  8, 11, 14]])"
      ]
     },
     "execution_count": 10,
     "metadata": {},
     "output_type": "execute_result"
    },
    {
     "data": {
      "text/plain": [
       "(5, 3)"
      ]
     },
     "execution_count": 10,
     "metadata": {},
     "output_type": "execute_result"
    },
    {
     "data": {
      "text/plain": [
       "(3, 5)"
      ]
     },
     "execution_count": 10,
     "metadata": {},
     "output_type": "execute_result"
    },
    {
     "data": {
      "text/plain": [
       "array([[270, 300, 330],\n",
       "       [300, 335, 370],\n",
       "       [330, 370, 410]])"
      ]
     },
     "execution_count": 10,
     "metadata": {},
     "output_type": "execute_result"
    },
    {
     "data": {
      "text/plain": [
       "array([[ 0,  3,  6,  9, 12],\n",
       "       [ 1,  4,  7, 10, 13],\n",
       "       [ 2,  5,  8, 11, 14]])"
      ]
     },
     "execution_count": 10,
     "metadata": {},
     "output_type": "execute_result"
    },
    {
     "data": {
      "text/plain": [
       "array([[ 0,  3,  6,  9, 12],\n",
       "       [ 1,  4,  7, 10, 13],\n",
       "       [ 2,  5,  8, 11, 14]])"
      ]
     },
     "execution_count": 10,
     "metadata": {},
     "output_type": "execute_result"
    },
    {
     "data": {
      "text/plain": [
       "array([[[ 0,  1,  2,  3],\n",
       "        [ 4,  5,  6,  7],\n",
       "        [ 8,  9, 10, 11]],\n",
       "\n",
       "       [[12, 13, 14, 15],\n",
       "        [16, 17, 18, 19],\n",
       "        [20, 21, 22, 23]]])"
      ]
     },
     "execution_count": 10,
     "metadata": {},
     "output_type": "execute_result"
    },
    {
     "data": {
      "text/plain": [
       "array([[[ 0, 12],\n",
       "        [ 4, 16],\n",
       "        [ 8, 20]],\n",
       "\n",
       "       [[ 1, 13],\n",
       "        [ 5, 17],\n",
       "        [ 9, 21]],\n",
       "\n",
       "       [[ 2, 14],\n",
       "        [ 6, 18],\n",
       "        [10, 22]],\n",
       "\n",
       "       [[ 3, 15],\n",
       "        [ 7, 19],\n",
       "        [11, 23]]])"
      ]
     },
     "execution_count": 10,
     "metadata": {},
     "output_type": "execute_result"
    },
    {
     "ename": "ValueError",
     "evalue": "invalid axis for this array",
     "output_type": "error",
     "traceback": [
      "\u001b[0;31m---------------------------------------------------------------------------\u001b[0m",
      "\u001b[0;31mValueError\u001b[0m                                Traceback (most recent call last)",
      "\u001b[0;32m<ipython-input-10-e2f9e926508f>\u001b[0m in \u001b[0;36m<module>\u001b[0;34m()\u001b[0m\n\u001b[1;32m     21\u001b[0m \u001b[0mmyarr\u001b[0m\u001b[0;34m.\u001b[0m\u001b[0mswapaxes\u001b[0m\u001b[0;34m(\u001b[0m\u001b[0;36m0\u001b[0m\u001b[0;34m,\u001b[0m\u001b[0;36m2\u001b[0m\u001b[0;34m)\u001b[0m\u001b[0;34m\u001b[0m\u001b[0m\n\u001b[1;32m     22\u001b[0m \u001b[0;34m\u001b[0m\u001b[0m\n\u001b[0;32m---> 23\u001b[0;31m \u001b[0mmyarr\u001b[0m\u001b[0;34m.\u001b[0m\u001b[0mtranspose\u001b[0m\u001b[0;34m(\u001b[0m\u001b[0;36m4\u001b[0m\u001b[0;34m,\u001b[0m\u001b[0;36m2\u001b[0m\u001b[0;34m,\u001b[0m\u001b[0;36m3\u001b[0m\u001b[0;34m)\u001b[0m\u001b[0;34m\u001b[0m\u001b[0m\n\u001b[0m",
      "\u001b[0;31mValueError\u001b[0m: invalid axis for this array"
     ]
    }
   ],
   "source": [
    "# Transposing arrays\n",
    "# all transposing return a view on the array and not a copy\n",
    "\n",
    "myarr = np.arange(15).reshape(5,3)\n",
    "myarr\n",
    "\n",
    "myarr.transpose()\n",
    "myarr.T\n",
    "\n",
    "myarr.shape\n",
    "myarr.T.shape\n",
    "\n",
    "np.dot(myarr.T, myarr) # X'X\n",
    "\n",
    "# swapaxes - both statements below are equivalent\n",
    "myarr.swapaxes(0,1)\n",
    "myarr.swapaxes(1,0)\n",
    "\n",
    "myarr = np.arange(24).reshape(2,3,4)\n",
    "myarr\n",
    "myarr.swapaxes(0,2)\n",
    "\n",
    "myarr.transpose(4,2,3)\n"
   ]
  },
  {
   "cell_type": "code",
   "execution_count": 95,
   "metadata": {
    "collapsed": false
   },
   "outputs": [
    {
     "data": {
      "text/plain": [
       "array([ 1.,  2.,  3.,  4.])"
      ]
     },
     "execution_count": 95,
     "metadata": {},
     "output_type": "execute_result"
    },
    {
     "data": {
      "text/plain": [
       "array([ 11. ,  11.8,  12.6,  13.4,  14.2,  15. ])"
      ]
     },
     "execution_count": 95,
     "metadata": {},
     "output_type": "execute_result"
    },
    {
     "data": {
      "text/plain": [
       "array([[ 1.,  2.,  3.,  4.],\n",
       "       [ 1.,  2.,  3.,  4.],\n",
       "       [ 1.,  2.,  3.,  4.],\n",
       "       [ 1.,  2.,  3.,  4.],\n",
       "       [ 1.,  2.,  3.,  4.],\n",
       "       [ 1.,  2.,  3.,  4.]])"
      ]
     },
     "execution_count": 95,
     "metadata": {},
     "output_type": "execute_result"
    },
    {
     "data": {
      "text/plain": [
       "array([[ 11. ,  11. ,  11. ,  11. ],\n",
       "       [ 11.8,  11.8,  11.8,  11.8],\n",
       "       [ 12.6,  12.6,  12.6,  12.6],\n",
       "       [ 13.4,  13.4,  13.4,  13.4],\n",
       "       [ 14.2,  14.2,  14.2,  14.2],\n",
       "       [ 15. ,  15. ,  15. ,  15. ]])"
      ]
     },
     "execution_count": 95,
     "metadata": {},
     "output_type": "execute_result"
    },
    {
     "name": "stdout",
     "output_type": "stream",
     "text": [
      "-\n"
     ]
    },
    {
     "data": {
      "text/plain": [
       "array([[ 144.  ,  169.  ,  196.  ,  225.  ],\n",
       "       [ 163.84,  190.44,  219.04,  249.64],\n",
       "       [ 184.96,  213.16,  243.36,  275.56],\n",
       "       [ 207.36,  237.16,  268.96,  302.76],\n",
       "       [ 231.04,  262.44,  295.84,  331.24],\n",
       "       [ 256.  ,  289.  ,  324.  ,  361.  ]])"
      ]
     },
     "execution_count": 95,
     "metadata": {},
     "output_type": "execute_result"
    },
    {
     "name": "stdout",
     "output_type": "stream",
     "text": [
      "-\n"
     ]
    },
    {
     "data": {
      "text/plain": [
       "array([[ 1.,  1.,  1.,  1.,  1.,  1.],\n",
       "       [ 2.,  2.,  2.,  2.,  2.,  2.],\n",
       "       [ 3.,  3.,  3.,  3.,  3.,  3.],\n",
       "       [ 4.,  4.,  4.,  4.,  4.,  4.]])"
      ]
     },
     "execution_count": 95,
     "metadata": {},
     "output_type": "execute_result"
    },
    {
     "data": {
      "text/plain": [
       "array([[ 11. ,  11.8,  12.6,  13.4,  14.2,  15. ],\n",
       "       [ 11. ,  11.8,  12.6,  13.4,  14.2,  15. ],\n",
       "       [ 11. ,  11.8,  12.6,  13.4,  14.2,  15. ],\n",
       "       [ 11. ,  11.8,  12.6,  13.4,  14.2,  15. ]])"
      ]
     },
     "execution_count": 95,
     "metadata": {},
     "output_type": "execute_result"
    },
    {
     "name": "stdout",
     "output_type": "stream",
     "text": [
      "---\n"
     ]
    },
    {
     "data": {
      "text/plain": [
       "array([[[0, 0],\n",
       "        [1, 1]],\n",
       "\n",
       "       [[0, 1],\n",
       "        [0, 1]]])"
      ]
     },
     "execution_count": 95,
     "metadata": {},
     "output_type": "execute_result"
    }
   ],
   "source": [
    "# Meshgrid\n",
    "\n",
    "x = np.linspace(1,4, num=4)\n",
    "y = np.linspace(11,15, num=6)\n",
    "x\n",
    "y\n",
    "\n",
    "x_coords, y_coords = np.meshgrid(x,y)\n",
    "x_coords\n",
    "y_coords\n",
    "\n",
    "print '-'\n",
    "\n",
    "a = x_coords + y_coords\n",
    "(x_coords + y_coords)**2\n",
    "\n",
    "print '-'\n",
    "\n",
    "x_coords, y_coords = np.meshgrid(x,y, indexing='ij')\n",
    "x_coords\n",
    "y_coords\n",
    "\n"
   ]
  },
  {
   "cell_type": "code",
   "execution_count": 195,
   "metadata": {
    "collapsed": false
   },
   "outputs": [
    {
     "data": {
      "text/plain": [
       "array([[-1.68, -0.4 ,  0.14, -0.59],\n",
       "       [ 1.79,  0.52, -0.87,  0.88],\n",
       "       [-0.51, -1.01, -0.13, -0.19],\n",
       "       [-0.41,  0.01, -0.51, -0.78]])"
      ]
     },
     "execution_count": 195,
     "metadata": {},
     "output_type": "execute_result"
    },
    {
     "data": {
      "text/plain": [
       "array([[ 0,  0, 99,  0],\n",
       "       [99, 99,  0, 99],\n",
       "       [ 0,  0,  0,  0],\n",
       "       [ 0, 99,  0,  0]])"
      ]
     },
     "execution_count": 195,
     "metadata": {},
     "output_type": "execute_result"
    },
    {
     "data": {
      "text/plain": [
       "array([[ 0.  ,  0.  ,  0.14,  0.  ],\n",
       "       [ 1.79,  0.52,  0.  ,  0.88],\n",
       "       [ 0.  ,  0.  ,  0.  ,  0.  ],\n",
       "       [ 0.  ,  0.01,  0.  ,  0.  ]])"
      ]
     },
     "execution_count": 195,
     "metadata": {},
     "output_type": "execute_result"
    },
    {
     "name": "stdout",
     "output_type": "stream",
     "text": [
      "---\n"
     ]
    },
    {
     "data": {
      "text/plain": [
       "array([[ 0.  ,  0.  ,  0.14,  0.  ],\n",
       "       [ 1.79,  0.52,  0.  ,  0.88],\n",
       "       [ 0.  ,  0.  ,  0.  ,  0.  ],\n",
       "       [ 0.  ,  0.01,  0.  ,  0.  ]])"
      ]
     },
     "execution_count": 195,
     "metadata": {},
     "output_type": "execute_result"
    },
    {
     "data": {
      "text/plain": [
       "array([[ 0.  ,  0.  ,  1.  ,  0.  ],\n",
       "       [ 1.79,  1.  ,  0.  ,  1.  ],\n",
       "       [ 0.  ,  0.  ,  0.  ,  0.  ],\n",
       "       [ 0.  ,  1.  ,  0.  ,  0.  ]])"
      ]
     },
     "execution_count": 195,
     "metadata": {},
     "output_type": "execute_result"
    },
    {
     "name": "stdout",
     "output_type": "stream",
     "text": [
      "---\n"
     ]
    },
    {
     "data": {
      "text/plain": [
       "array([11, 11, 12, 12, 13, 13])"
      ]
     },
     "execution_count": 195,
     "metadata": {},
     "output_type": "execute_result"
    },
    {
     "data": {
      "text/plain": [
       "(array([0, 0, 0, 0, 1, 1, 1, 1, 2, 2, 2, 2, 3, 3, 3, 3]),\n",
       " array([0, 1, 2, 3, 0, 1, 2, 3, 0, 1, 2, 3, 0, 1, 2, 3]))"
      ]
     },
     "execution_count": 195,
     "metadata": {},
     "output_type": "execute_result"
    },
    {
     "data": {
      "text/plain": [
       "array([], dtype=float64)"
      ]
     },
     "execution_count": 195,
     "metadata": {},
     "output_type": "execute_result"
    },
    {
     "data": {
      "text/plain": [
       "array([-1.68, -0.4 ,  0.14, -0.59,  1.79,  0.52, -0.87,  0.88, -0.51,\n",
       "       -1.01, -0.13, -0.19, -0.41,  0.01, -0.51, -0.78])"
      ]
     },
     "execution_count": 195,
     "metadata": {},
     "output_type": "execute_result"
    }
   ],
   "source": [
    "# where\n",
    "\n",
    "myarr = np.round(np.random.randn(4,4),2)\n",
    "myarr\n",
    "\n",
    "np.where(myarr < 0, 0, 99) # replace -ve values with 0 and non-neg values with 99\n",
    "np.where(myarr < 0, 0, myarr) # replace -ve values with 0; leave non-neg values as-is\n",
    "\n",
    "print '---'\n",
    "\n",
    "# select\n",
    "np.select([myarr<0, myarr>= 0], [0, myarr]) # same as using where above\n",
    "np.select([myarr<0, myarr<1, myarr>= 1], [0, 1, myarr]) # same as using where above\n",
    "\n",
    "print '---'\n",
    "\n",
    "# choose \n",
    "np.choose([0,0,1,1,2,2], [11,12,13])\n",
    "\n",
    "# nonzero\n",
    "np.nonzero(myarr)\n",
    "myarr[np.nonzero(np.zeros_like(myarr))]\n",
    "myarr[np.nonzero(np.ones_like(myarr))]\n"
   ]
  },
  {
   "cell_type": "code",
   "execution_count": 13,
   "metadata": {
    "collapsed": false,
    "scrolled": false
   },
   "outputs": [
    {
     "name": "stdout",
     "output_type": "stream",
     "text": [
      "Single random walk\n"
     ]
    },
    {
     "data": {
      "text/plain": [
       "-7"
      ]
     },
     "execution_count": 13,
     "metadata": {},
     "output_type": "execute_result"
    },
    {
     "data": {
      "text/plain": [
       "34"
      ]
     },
     "execution_count": 13,
     "metadata": {},
     "output_type": "execute_result"
    },
    {
     "data": {
      "text/plain": [
       "178"
      ]
     },
     "execution_count": 13,
     "metadata": {},
     "output_type": "execute_result"
    },
    {
     "name": "stdout",
     "output_type": "stream",
     "text": [
      "---\n",
      "Multiple random walks\n"
     ]
    },
    {
     "data": {
      "text/plain": [
       "(100, 1000)"
      ]
     },
     "execution_count": 13,
     "metadata": {},
     "output_type": "execute_result"
    },
    {
     "data": {
      "text/plain": [
       "(100, 1000)"
      ]
     },
     "execution_count": 13,
     "metadata": {},
     "output_type": "execute_result"
    },
    {
     "data": {
      "text/plain": [
       "array([[  0.31802541,  -1.33957098,  -0.21431708, ..., -51.3492799 ,\n",
       "        -50.85109417, -51.28332017],\n",
       "       [  0.77011331,   0.60729373,  -0.80297991, ..., -20.64113584,\n",
       "        -21.89226311, -21.94830822],\n",
       "       [ -1.09356511,  -1.72763304,  -2.08986624, ...,  39.43550392,\n",
       "         38.70066617,  38.51549964],\n",
       "       ..., \n",
       "       [ -0.67689754,   1.28182846,   0.76756105, ...,  46.18079709,\n",
       "         46.16942317,  46.26582822],\n",
       "       [ -1.79755416,  -2.65035402,  -2.10296836, ...,  -8.74279536,\n",
       "         -7.36441623,  -8.05095313],\n",
       "       [  0.22783953,  -2.26614744,  -4.4429862 , ...,   4.36115223,\n",
       "          4.03182597,   3.89883578]])"
      ]
     },
     "execution_count": 13,
     "metadata": {},
     "output_type": "execute_result"
    },
    {
     "data": {
      "text/plain": [
       "array([False, False,  True,  True, False, False,  True,  True,  True,\n",
       "        True,  True,  True,  True,  True,  True,  True,  True,  True,\n",
       "        True,  True, False,  True,  True,  True,  True,  True,  True,\n",
       "        True,  True, False,  True,  True, False,  True,  True,  True,\n",
       "       False, False,  True,  True,  True, False, False, False,  True,\n",
       "        True,  True,  True,  True,  True,  True,  True,  True, False,\n",
       "        True,  True,  True,  True,  True,  True, False,  True, False,\n",
       "        True,  True,  True,  True,  True, False, False,  True,  True,\n",
       "        True,  True, False,  True,  True,  True,  True, False,  True,\n",
       "        True,  True, False,  True,  True, False,  True, False,  True,\n",
       "        True,  True,  True,  True,  True, False, False,  True, False,  True], dtype=bool)"
      ]
     },
     "execution_count": 13,
     "metadata": {},
     "output_type": "execute_result"
    },
    {
     "data": {
      "text/plain": [
       "75"
      ]
     },
     "execution_count": 13,
     "metadata": {},
     "output_type": "execute_result"
    },
    {
     "data": {
      "text/plain": [
       "array([786, 949, 822, 909, 993, 862, 956, 171, 499, 691, 557,  50, 923,\n",
       "       601, 771, 227, 300, 957, 408, 998, 918, 677, 994, 261, 905, 619,\n",
       "       880, 351, 983, 679, 877, 891, 914, 940,  88,  69, 614, 840, 985,\n",
       "       155, 169, 760, 558, 632, 618, 960, 510, 242, 997, 700, 999, 809,\n",
       "       463, 252, 989, 995, 654, 961, 932, 304, 790, 404, 696, 578, 639,\n",
       "       608, 965, 662, 195, 970, 652, 939, 207, 985, 356])"
      ]
     },
     "execution_count": 13,
     "metadata": {},
     "output_type": "execute_result"
    },
    {
     "data": {
      "text/plain": [
       "669.60000000000002"
      ]
     },
     "execution_count": 13,
     "metadata": {},
     "output_type": "execute_result"
    }
   ],
   "source": [
    "# Random walks\n",
    "\n",
    "print 'Single random walk'\n",
    "walk = np.random.randint(0,2,1000)\n",
    "walk = np.where(walk>0, 1, -1)\n",
    "walk = walk.cumsum()\n",
    "\n",
    "# plt.plot(walk);\n",
    "\n",
    "walk.min()\n",
    "walk.max()\n",
    "\n",
    "# time for walk to exceed 10 from origin\n",
    "(abs(walk)>10).argmax()\n",
    "\n",
    "print '---'\n",
    "print 'Multiple random walks'\n",
    "\n",
    "steps = np.random.randn(100, 1000)\n",
    "steps.shape\n",
    "walk = steps.cumsum(axis=1)\n",
    "walk.shape\n",
    "\n",
    "walk\n",
    "(walk > 10).any(1) # get all walks that cross +10\n",
    "(walk > 10).any(1).sum() # how many walks cross +10?\n",
    "\n",
    "crossing_times = walk[(walk > 10).any(1)].argmax(axis=1) # when does each walk that cross +10 cross +10?\n",
    "crossing_times\n",
    "crossing_times.mean()\n"
   ]
  },
  {
   "cell_type": "code",
   "execution_count": 204,
   "metadata": {
    "collapsed": false,
    "scrolled": false
   },
   "outputs": [
    {
     "data": {
      "text/plain": [
       "array([[ 0.  ,  0.11],\n",
       "       [ 0.22,  0.33],\n",
       "       [ 0.44,  0.56],\n",
       "       [ 0.67,  0.78],\n",
       "       [ 0.89,  1.  ]])"
      ]
     },
     "execution_count": 204,
     "metadata": {},
     "output_type": "execute_result"
    },
    {
     "data": {
      "text/plain": [
       "array([[ 0.  ,  0.11,  0.22,  0.33,  0.44],\n",
       "       [ 0.56,  0.67,  0.78,  0.89,  1.  ]])"
      ]
     },
     "execution_count": 204,
     "metadata": {},
     "output_type": "execute_result"
    },
    {
     "data": {
      "text/plain": [
       "array([[ 0.0616,  0.0737,  0.0858,  0.0979,  0.11  ],\n",
       "       [ 0.1848,  0.2453,  0.3058,  0.3663,  0.4268],\n",
       "       [ 0.3136,  0.4236,  0.5336,  0.6436,  0.7536],\n",
       "       [ 0.4368,  0.5963,  0.7558,  0.9153,  1.0748],\n",
       "       [ 0.56  ,  0.7679,  0.9758,  1.1837,  1.3916]])"
      ]
     },
     "execution_count": 204,
     "metadata": {},
     "output_type": "execute_result"
    },
    {
     "data": {
      "text/plain": [
       "array([[ 0.7337,  0.8569],\n",
       "       [ 1.9769,  2.4137]])"
      ]
     },
     "execution_count": 204,
     "metadata": {},
     "output_type": "execute_result"
    }
   ],
   "source": [
    "# dot\n",
    "\n",
    "a = np.round(np.linspace(0,1,10),2).reshape(5,2)\n",
    "a\n",
    "\n",
    "b = np.round(np.linspace(0,1,10),2).reshape(2,5)\n",
    "b\n",
    "\n",
    "a.dot(b)\n",
    "np.dot(b,a)\n",
    "\n",
    "# ToDo\n"
   ]
  }
 ],
 "metadata": {
  "kernelspec": {
   "display_name": "Python 2",
   "language": "python",
   "name": "python2"
  },
  "language_info": {
   "codemirror_mode": {
    "name": "ipython",
    "version": 2
   },
   "file_extension": ".py",
   "mimetype": "text/x-python",
   "name": "python",
   "nbconvert_exporter": "python",
   "pygments_lexer": "ipython2",
   "version": "2.7.10"
  }
 },
 "nbformat": 4,
 "nbformat_minor": 1
}
