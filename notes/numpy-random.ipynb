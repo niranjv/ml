{
 "cells": [
  {
   "cell_type": "markdown",
   "metadata": {},
   "source": [
    "## Task\n",
    "Explore random number generation in NumPy\n",
    "\n",
    "## Notebook Summary\n",
    "* `rand`\n",
    "* `randn`\n",
    "* `randint`\n",
    "* `choice`\n",
    "* `shuffle`\n",
    "* `permutation`\n",
    "* `gamma`\n",
    "* `poisson`\n",
    "* `seed`\n",
    "* Random walks\n",
    "\n",
    "## References\n",
    "* *Python for Data Analysis*, Wes McKinney, O'Reilly, 2012\n",
    "* *Numerical Python*, Robert Johansson, APress, 2015\n",
    "* *Python Data Science Handbook*, Jake VanderPlas, O'Reilly, 2016\n"
   ]
  },
  {
   "cell_type": "code",
   "execution_count": 2,
   "metadata": {
    "collapsed": false
   },
   "outputs": [
    {
     "name": "stdout",
     "output_type": "stream",
     "text": [
      "python.version =  2.7.10\n",
      "ipython.version = (5, 1, 0, '')\n",
      "numpy.version =  1.11.3\n"
     ]
    }
   ],
   "source": [
    "# display output from all cmds just like Python shell\n",
    "from IPython.core.interactiveshell import InteractiveShell\n",
    "InteractiveShell.ast_node_interactivity = \"all\"\n",
    "\n",
    "import platform\n",
    "print 'python.version = ', platform.python_version()\n",
    "import IPython\n",
    "print 'ipython.version =', IPython.version_info\n",
    "\n",
    "import numpy as np\n",
    "print 'numpy.version = ', np.__version__\n"
   ]
  },
  {
   "cell_type": "code",
   "execution_count": 18,
   "metadata": {
    "collapsed": false
   },
   "outputs": [
    {
     "data": {
      "text/plain": [
       "array([ 0.68527978,  0.38675501,  0.12979784,  0.78103449,  0.47269334,\n",
       "        0.29333284,  0.25124237,  0.23457237,  0.25320983,  0.74820916])"
      ]
     },
     "execution_count": 18,
     "metadata": {},
     "output_type": "execute_result"
    },
    {
     "data": {
      "text/plain": [
       "array([[ 0.20093211,  0.8917277 ],\n",
       "       [ 0.32579079,  0.90018881],\n",
       "       [ 0.83999556,  0.53446941],\n",
       "       [ 0.10777899,  0.24352932]])"
      ]
     },
     "execution_count": 18,
     "metadata": {},
     "output_type": "execute_result"
    },
    {
     "data": {
      "text/plain": [
       "array([[[ 0.08103232,  0.5761672 ,  0.1677006 ,  0.53979708],\n",
       "        [ 0.88857487,  0.68970079,  0.60344579,  0.92681365],\n",
       "        [ 0.22432591,  0.58919888,  0.15620342,  0.67908012]],\n",
       "\n",
       "       [[ 0.66533586,  0.59162164,  0.20062504,  0.44332842],\n",
       "        [ 0.6761853 ,  0.304335  ,  0.65106719,  0.59270327],\n",
       "        [ 0.44593167,  0.05757666,  0.97408014,  0.71598765]]])"
      ]
     },
     "execution_count": 18,
     "metadata": {},
     "output_type": "execute_result"
    },
    {
     "name": "stdout",
     "output_type": "stream",
     "text": [
      "Random numbers in [4,6]\n"
     ]
    },
    {
     "data": {
      "text/plain": [
       "array([ 5.50645713,  4.19624603,  4.05104358,  4.90076008,  5.70061338,\n",
       "        5.28921037,  4.20464588,  4.97326536,  5.58194756,  4.56906826])"
      ]
     },
     "execution_count": 18,
     "metadata": {},
     "output_type": "execute_result"
    },
    {
     "name": "stdout",
     "output_type": "stream",
     "text": [
      "mean (10000) =  5.01124372424\n",
      "var (10000) =  0.332024496684\n"
     ]
    }
   ],
   "source": [
    "# rand - Create array of given shape with random numbers in [0,1]\n",
    "\n",
    "np.random.rand(10)\n",
    "np.random.rand(4,2)\n",
    "np.random.rand(2,3,4)\n",
    "\n",
    "print 'Random numbers in [4,6]'\n",
    "4 + 2*np.random.rand(10)\n",
    "\n",
    "print 'mean (10000) = ', np.mean(4+2*np.random.rand(10000)) # (4+6)/2\n",
    "print 'var (10000) = ', np.var(4+2*np.random.rand(10000)) # (1/12)(6-4)^2\n"
   ]
  },
  {
   "cell_type": "code",
   "execution_count": 19,
   "metadata": {
    "collapsed": false
   },
   "outputs": [
    {
     "data": {
      "text/plain": [
       "array([-1.50701753,  0.61812751, -0.58773453,  1.93087647, -1.42487689])"
      ]
     },
     "execution_count": 19,
     "metadata": {},
     "output_type": "execute_result"
    },
    {
     "data": {
      "text/plain": [
       "array([[ 1.22343589,  2.02868299],\n",
       "       [-0.10849001,  0.99704455],\n",
       "       [-1.71355775,  1.45763419]])"
      ]
     },
     "execution_count": 19,
     "metadata": {},
     "output_type": "execute_result"
    },
    {
     "name": "stdout",
     "output_type": "stream",
     "text": [
      "mean (10000) =  -0.00439901356092\n",
      "var (10000) =  0.993428478441\n",
      "std (10000) =  0.996708823299\n"
     ]
    }
   ],
   "source": [
    "# randn - Create array of given shape with random numbers from N(0,1)\n",
    "\n",
    "np.random.randn(5)\n",
    "np.random.randn(3,2)\n",
    "\n",
    "temp = np.random.randn(10000)\n",
    "print 'mean (10000) = ', np.mean(temp)\n",
    "print 'var (10000) = ', np.var(temp)\n",
    "print 'std (10000) = ', np.std(temp)\n"
   ]
  },
  {
   "cell_type": "code",
   "execution_count": 29,
   "metadata": {
    "collapsed": false
   },
   "outputs": [
    {
     "data": {
      "text/plain": [
       "array([0, 0, 1, 1, 1, 1, 1, 1, 1, 1, 1, 1, 1, 0, 1, 0, 0, 1, 0, 1])"
      ]
     },
     "execution_count": 29,
     "metadata": {},
     "output_type": "execute_result"
    },
    {
     "data": {
      "text/plain": [
       "array([[[1, 3, 8, 0],\n",
       "        [3, 2, 6, 4],\n",
       "        [5, 0, 8, 1]],\n",
       "\n",
       "       [[4, 8, 5, 3],\n",
       "        [8, 2, 4, 9],\n",
       "        [5, 8, 9, 4]],\n",
       "\n",
       "       [[2, 4, 7, 2],\n",
       "        [1, 4, 6, 5],\n",
       "        [4, 6, 9, 7]],\n",
       "\n",
       "       [[5, 3, 0, 7],\n",
       "        [1, 4, 5, 8],\n",
       "        [5, 4, 3, 4]]])"
      ]
     },
     "execution_count": 29,
     "metadata": {},
     "output_type": "execute_result"
    }
   ],
   "source": [
    "# randint - Create array of given shape with random integers in [start, stop)\n",
    "\n",
    "np.random.randint(low=0, high=2, size=20)\n",
    "np.random.randint(low=0, high=10, size=(4,3,4))\n"
   ]
  },
  {
   "cell_type": "code",
   "execution_count": 39,
   "metadata": {
    "collapsed": false
   },
   "outputs": [
    {
     "data": {
      "text/plain": [
       "array([5, 6, 3, 5, 2, 7, 6, 4, 9, 0, 6, 8, 6, 8, 2])"
      ]
     },
     "execution_count": 39,
     "metadata": {},
     "output_type": "execute_result"
    }
   ],
   "source": [
    "# choice - random sample from a 1d array\n",
    "\n",
    "np.random.choice(range(10), size=15) # sample with replacement by default\n"
   ]
  },
  {
   "cell_type": "code",
   "execution_count": 49,
   "metadata": {
    "collapsed": false
   },
   "outputs": [
    {
     "name": "stdout",
     "output_type": "stream",
     "text": [
      "Before shuffle:  [ 0  1  2  3  4  5  6  7  8  9 10 11]\n",
      "After shuffle:  [ 7  0 10  6 11  4  1  2  8  5  9  3]\n",
      "\n",
      "-----\n"
     ]
    },
    {
     "data": {
      "text/plain": [
       "array([[ 0,  1],\n",
       "       [ 2,  3],\n",
       "       [ 4,  5],\n",
       "       [ 6,  7],\n",
       "       [ 8,  9],\n",
       "       [10, 11]])"
      ]
     },
     "execution_count": 49,
     "metadata": {},
     "output_type": "execute_result"
    },
    {
     "data": {
      "text/plain": [
       "array([[ 4,  5],\n",
       "       [10, 11],\n",
       "       [ 2,  3],\n",
       "       [ 6,  7],\n",
       "       [ 8,  9],\n",
       "       [ 0,  1]])"
      ]
     },
     "execution_count": 49,
     "metadata": {},
     "output_type": "execute_result"
    },
    {
     "name": "stdout",
     "output_type": "stream",
     "text": [
      "\n",
      "-----\n"
     ]
    },
    {
     "data": {
      "text/plain": [
       "array([[[ 0,  1,  2],\n",
       "        [ 3,  4,  5]],\n",
       "\n",
       "       [[ 6,  7,  8],\n",
       "        [ 9, 10, 11]],\n",
       "\n",
       "       [[12, 13, 14],\n",
       "        [15, 16, 17]],\n",
       "\n",
       "       [[18, 19, 20],\n",
       "        [21, 22, 23]]])"
      ]
     },
     "execution_count": 49,
     "metadata": {},
     "output_type": "execute_result"
    },
    {
     "data": {
      "text/plain": [
       "array([[[ 6,  7,  8],\n",
       "        [ 9, 10, 11]],\n",
       "\n",
       "       [[ 0,  1,  2],\n",
       "        [ 3,  4,  5]],\n",
       "\n",
       "       [[12, 13, 14],\n",
       "        [15, 16, 17]],\n",
       "\n",
       "       [[18, 19, 20],\n",
       "        [21, 22, 23]]])"
      ]
     },
     "execution_count": 49,
     "metadata": {},
     "output_type": "execute_result"
    }
   ],
   "source": [
    "# shuffle - permute items in place\n",
    "\n",
    "arr = np.arange(12)\n",
    "print 'Before shuffle: ', arr\n",
    "np.random.shuffle(arr)\n",
    "print 'After shuffle: ', arr\n",
    "\n",
    "# shuffle only shuffles along 1st axis (here: rows are moved around but columns are not)\n",
    "print '\\n-----'\n",
    "arr = np.arange(12).reshape(6,2)\n",
    "arr\n",
    "np.random.shuffle(arr)\n",
    "arr\n",
    "\n",
    "print '\\n-----'\n",
    "arr = np.arange(24).reshape(4,2,3)\n",
    "arr\n",
    "np.random.shuffle(arr)\n",
    "arr\n"
   ]
  },
  {
   "cell_type": "code",
   "execution_count": 58,
   "metadata": {
    "collapsed": false
   },
   "outputs": [
    {
     "data": {
      "text/plain": [
       "array([1, 2, 3, 4, 0])"
      ]
     },
     "execution_count": 58,
     "metadata": {},
     "output_type": "execute_result"
    },
    {
     "data": {
      "text/plain": [
       "array([ 0.29,  0.02,  0.34,  0.9 ,  0.38,  0.12])"
      ]
     },
     "execution_count": 58,
     "metadata": {},
     "output_type": "execute_result"
    },
    {
     "data": {
      "text/plain": [
       "array([ 0.12,  0.38,  0.9 ,  0.29,  0.34,  0.02])"
      ]
     },
     "execution_count": 58,
     "metadata": {},
     "output_type": "execute_result"
    },
    {
     "data": {
      "text/plain": [
       "array([[ 0,  1,  2],\n",
       "       [ 3,  4,  5],\n",
       "       [ 6,  7,  8],\n",
       "       [ 9, 10, 11]])"
      ]
     },
     "execution_count": 58,
     "metadata": {},
     "output_type": "execute_result"
    },
    {
     "data": {
      "text/plain": [
       "array([[ 3,  4,  5],\n",
       "       [ 9, 10, 11],\n",
       "       [ 0,  1,  2],\n",
       "       [ 6,  7,  8]])"
      ]
     },
     "execution_count": 58,
     "metadata": {},
     "output_type": "execute_result"
    }
   ],
   "source": [
    "# permutation - return a permuted range or array\n",
    "\n",
    "np.random.permutation(5) # generates seq automatically\n",
    "\n",
    "arr = np.round(np.random.rand(6),2)\n",
    "arr\n",
    "np.random.permutation(arr)\n",
    "\n",
    "arr = np.arange(12).reshape(4,3)\n",
    "arr\n",
    "np.random.permutation(arr) # permute only along 1st axis (here: rows are shuffled but columns are not)\n"
   ]
  },
  {
   "cell_type": "code",
   "execution_count": 63,
   "metadata": {
    "collapsed": false
   },
   "outputs": [
    {
     "data": {
      "text/plain": [
       "0.43202193039032655"
      ]
     },
     "execution_count": 63,
     "metadata": {},
     "output_type": "execute_result"
    },
    {
     "data": {
      "text/plain": [
       "array([[ 22.09919642,   5.43004342,   6.16639606],\n",
       "       [  6.33749405,   3.38752609,   8.78035352]])"
      ]
     },
     "execution_count": 63,
     "metadata": {},
     "output_type": "execute_result"
    },
    {
     "name": "stdout",
     "output_type": "stream",
     "text": [
      "mean =  5.98433677897\n",
      "var =  17.9156543681\n"
     ]
    }
   ],
   "source": [
    "# gamma\n",
    "\n",
    "np.random.gamma(1,4)\n",
    "np.random.gamma(2,3,size=(2,3))\n",
    "\n",
    "s = np.random.gamma(2,3,size=10000)\n",
    "print 'mean = ', np.mean(s) # mean = shape * scale\n",
    "print 'var = ', np.var(s) # var = shape * (scale^2)\n"
   ]
  },
  {
   "cell_type": "code",
   "execution_count": 66,
   "metadata": {
    "collapsed": false
   },
   "outputs": [
    {
     "data": {
      "text/plain": [
       "array([19, 15,  9, 13,  9, 12, 15,  8, 11, 11])"
      ]
     },
     "execution_count": 66,
     "metadata": {},
     "output_type": "execute_result"
    },
    {
     "name": "stdout",
     "output_type": "stream",
     "text": [
      "mean =  3.0454\n",
      "var =  2.97953884\n"
     ]
    }
   ],
   "source": [
    "# poisson\n",
    "\n",
    "np.random.poisson(10, 10)\n",
    "\n",
    "arr = np.random.poisson(3, 10000)\n",
    "print 'mean = ', np.mean(arr) # mean = lambda\n",
    "print 'var = ', np.var(arr) # var = lambda\n"
   ]
  },
  {
   "cell_type": "code",
   "execution_count": 67,
   "metadata": {
    "collapsed": true
   },
   "outputs": [],
   "source": [
    "# seed - set seed of RNG\n",
    "np.random.seed(1234)\n"
   ]
  },
  {
   "cell_type": "code",
   "execution_count": 68,
   "metadata": {
    "collapsed": false
   },
   "outputs": [
    {
     "name": "stdout",
     "output_type": "stream",
     "text": [
      "Single random walk\n"
     ]
    },
    {
     "data": {
      "text/plain": [
       "-9"
      ]
     },
     "execution_count": 68,
     "metadata": {},
     "output_type": "execute_result"
    },
    {
     "data": {
      "text/plain": [
       "60"
      ]
     },
     "execution_count": 68,
     "metadata": {},
     "output_type": "execute_result"
    },
    {
     "data": {
      "text/plain": [
       "298"
      ]
     },
     "execution_count": 68,
     "metadata": {},
     "output_type": "execute_result"
    },
    {
     "name": "stdout",
     "output_type": "stream",
     "text": [
      "---\n",
      "Multiple random walks\n"
     ]
    },
    {
     "data": {
      "text/plain": [
       "(100, 1000)"
      ]
     },
     "execution_count": 68,
     "metadata": {},
     "output_type": "execute_result"
    },
    {
     "data": {
      "text/plain": [
       "(100, 1000)"
      ]
     },
     "execution_count": 68,
     "metadata": {},
     "output_type": "execute_result"
    },
    {
     "data": {
      "text/plain": [
       "array([[  0.33250662,   0.86145103,  -0.25906996, ...,   2.78357118,\n",
       "          2.46428059,   3.41281484],\n",
       "       [ -0.53969804,  -0.83603432,  -0.9080009 , ...,  48.35592745,\n",
       "         48.64769692,  48.90149869],\n",
       "       [ -0.58068658,  -0.79373792,  -2.48054905, ...,  29.08755196,\n",
       "         28.95800264,  31.18961975],\n",
       "       ..., \n",
       "       [  0.39634224,   0.8298613 ,   1.70357966, ...,   9.76451616,\n",
       "         10.60776335,   8.89954917],\n",
       "       [ -0.16167694,  -0.29715851,  -1.07924155, ...,  18.86350067,\n",
       "         19.34341387,  20.14712186],\n",
       "       [  0.66286232,   0.58815452,   1.07282867, ...,  10.7144828 ,\n",
       "         10.3109053 ,   9.85833362]])"
      ]
     },
     "execution_count": 68,
     "metadata": {},
     "output_type": "execute_result"
    },
    {
     "data": {
      "text/plain": [
       "array([False,  True,  True, False,  True,  True,  True,  True,  True,\n",
       "        True,  True,  True, False,  True,  True, False,  True,  True,\n",
       "       False,  True,  True,  True, False,  True,  True, False,  True,\n",
       "       False,  True,  True, False,  True, False, False,  True,  True,\n",
       "        True,  True,  True,  True,  True,  True,  True,  True,  True,\n",
       "        True, False,  True,  True,  True, False, False, False,  True,\n",
       "        True,  True,  True,  True,  True,  True,  True,  True, False,\n",
       "       False, False,  True,  True, False,  True,  True,  True,  True,\n",
       "        True, False,  True, False,  True,  True,  True,  True, False,\n",
       "        True,  True,  True,  True,  True,  True,  True, False, False,\n",
       "        True,  True,  True, False,  True,  True,  True,  True,  True,  True], dtype=bool)"
      ]
     },
     "execution_count": 68,
     "metadata": {},
     "output_type": "execute_result"
    },
    {
     "data": {
      "text/plain": [
       "75"
      ]
     },
     "execution_count": 68,
     "metadata": {},
     "output_type": "execute_result"
    },
    {
     "data": {
      "text/plain": [
       "array([990, 147, 738, 826, 871,  91, 998, 429, 425, 728, 722, 280, 487,\n",
       "       608,  39, 870, 986, 369, 630, 313, 870, 722, 999, 146, 956,  80,\n",
       "       468, 247, 989, 857, 270, 871, 693, 857, 900, 538,  73, 740,  66,\n",
       "       808, 985, 502, 293, 469, 110, 569, 499, 999, 683, 999, 890,  77,\n",
       "       977, 334, 189, 962, 106, 978, 497, 325, 604, 670, 801, 526, 947,\n",
       "       393, 690, 991, 265, 967, 969, 174, 359, 748, 726])"
      ]
     },
     "execution_count": 68,
     "metadata": {},
     "output_type": "execute_result"
    },
    {
     "data": {
      "text/plain": [
       "599.60000000000002"
      ]
     },
     "execution_count": 68,
     "metadata": {},
     "output_type": "execute_result"
    }
   ],
   "source": [
    "# Random walks\n",
    "\n",
    "print 'Single random walk'\n",
    "walk = np.random.randint(0,2,1000)\n",
    "walk = np.where(walk>0, 1, -1)\n",
    "walk = walk.cumsum()\n",
    "\n",
    "# plt.plot(walk);\n",
    "\n",
    "walk.min()\n",
    "walk.max()\n",
    "\n",
    "# time for walk to exceed 10 from origin\n",
    "(abs(walk)>10).argmax()\n",
    "\n",
    "print '---'\n",
    "print 'Multiple random walks'\n",
    "\n",
    "steps = np.random.randn(100, 1000)\n",
    "steps.shape\n",
    "walk = steps.cumsum(axis=1)\n",
    "walk.shape\n",
    "\n",
    "walk\n",
    "(walk > 10).any(1) # get all walks that cross +10\n",
    "(walk > 10).any(1).sum() # how many walks cross +10?\n",
    "\n",
    "crossing_times = walk[(walk > 10).any(1)].argmax(axis=1) # when does each walk that cross +10 cross +10?\n",
    "crossing_times\n",
    "crossing_times.mean()\n"
   ]
  }
 ],
 "metadata": {
  "kernelspec": {
   "display_name": "Python 2",
   "language": "python",
   "name": "python2"
  },
  "language_info": {
   "codemirror_mode": {
    "name": "ipython",
    "version": 2
   },
   "file_extension": ".py",
   "mimetype": "text/x-python",
   "name": "python",
   "nbconvert_exporter": "python",
   "pygments_lexer": "ipython2",
   "version": "2.7.10"
  }
 },
 "nbformat": 4,
 "nbformat_minor": 2
}
