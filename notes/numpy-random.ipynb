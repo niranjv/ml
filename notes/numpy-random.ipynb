{
 "cells": [
  {
   "cell_type": "markdown",
   "metadata": {},
   "source": [
    "## Task\n",
    "Explore random number generation in NumPy\n",
    "\n",
    "## Notebook Summary\n",
    "* Random walks\n",
    "\n",
    "## References\n",
    "* *Python for Data Analysis*, Wes McKinney, O'Reilly, 2012\n",
    "* *Numerical Python*, Robert Johansson, APress, 2015\n",
    "* *Python Data Science Handbook*, Jake VanderPlas, O'Reilly, 2016\n"
   ]
  },
  {
   "cell_type": "code",
   "execution_count": 2,
   "metadata": {
    "collapsed": false
   },
   "outputs": [
    {
     "name": "stdout",
     "output_type": "stream",
     "text": [
      "python.version =  2.7.10\n",
      "ipython.version = (5, 1, 0, '')\n",
      "numpy.version =  1.11.3\n"
     ]
    }
   ],
   "source": [
    "# display output from all cmds just like Python shell\n",
    "from IPython.core.interactiveshell import InteractiveShell\n",
    "InteractiveShell.ast_node_interactivity = \"all\"\n",
    "\n",
    "import platform\n",
    "print 'python.version = ', platform.python_version()\n",
    "import IPython\n",
    "print 'ipython.version =', IPython.version_info\n",
    "\n",
    "import numpy as np\n",
    "print 'numpy.version = ', np.__version__\n"
   ]
  },
  {
   "cell_type": "code",
   "execution_count": 3,
   "metadata": {
    "collapsed": false
   },
   "outputs": [
    {
     "name": "stdout",
     "output_type": "stream",
     "text": [
      "Single random walk\n"
     ]
    },
    {
     "data": {
      "text/plain": [
       "-48"
      ]
     },
     "execution_count": 3,
     "metadata": {},
     "output_type": "execute_result"
    },
    {
     "data": {
      "text/plain": [
       "3"
      ]
     },
     "execution_count": 3,
     "metadata": {},
     "output_type": "execute_result"
    },
    {
     "data": {
      "text/plain": [
       "98"
      ]
     },
     "execution_count": 3,
     "metadata": {},
     "output_type": "execute_result"
    },
    {
     "name": "stdout",
     "output_type": "stream",
     "text": [
      "---\n",
      "Multiple random walks\n"
     ]
    },
    {
     "data": {
      "text/plain": [
       "(100, 1000)"
      ]
     },
     "execution_count": 3,
     "metadata": {},
     "output_type": "execute_result"
    },
    {
     "data": {
      "text/plain": [
       "(100, 1000)"
      ]
     },
     "execution_count": 3,
     "metadata": {},
     "output_type": "execute_result"
    },
    {
     "data": {
      "text/plain": [
       "array([[ -1.75090308e+00,  -1.63058808e+00,  -1.11245831e-02, ...,\n",
       "         -1.80377062e+01,  -1.80133240e+01,  -1.76645308e+01],\n",
       "       [ -1.39164510e-02,   9.73018315e-01,   2.10742618e+00, ...,\n",
       "          2.75197777e+01,   2.84727032e+01,   2.76397340e+01],\n",
       "       [  7.56829165e-01,   6.48223104e-01,  -4.98727943e-01, ...,\n",
       "         -7.97490125e+00,  -8.39964355e+00,  -9.26446598e+00],\n",
       "       ..., \n",
       "       [ -8.75788610e-01,  -1.77906777e+00,  -1.12859872e+00, ...,\n",
       "         -3.75146106e+01,  -3.81272246e+01,  -3.83312244e+01],\n",
       "       [  1.72527088e+00,   1.16505563e+00,   2.97493818e+00, ...,\n",
       "          2.41798342e+01,   2.34959386e+01,   2.20775023e+01],\n",
       "       [  5.21020445e-01,   9.99531401e-01,  -1.07626098e-01, ...,\n",
       "          3.88409878e+01,   4.00980467e+01,   4.14098887e+01]])"
      ]
     },
     "execution_count": 3,
     "metadata": {},
     "output_type": "execute_result"
    },
    {
     "data": {
      "text/plain": [
       "array([ True,  True, False,  True,  True,  True,  True,  True,  True,\n",
       "        True,  True,  True,  True,  True,  True,  True,  True, False,\n",
       "        True, False,  True, False, False,  True,  True, False,  True,\n",
       "        True, False,  True, False,  True,  True, False,  True,  True,\n",
       "        True,  True,  True,  True, False,  True,  True, False, False,\n",
       "        True,  True,  True,  True, False,  True,  True,  True,  True,\n",
       "       False,  True,  True,  True,  True,  True,  True, False, False,\n",
       "       False, False,  True,  True,  True, False,  True,  True,  True,\n",
       "        True,  True,  True,  True, False,  True,  True, False,  True,\n",
       "        True,  True,  True,  True,  True,  True,  True,  True, False,\n",
       "       False,  True,  True,  True, False,  True,  True, False,  True,  True], dtype=bool)"
      ]
     },
     "execution_count": 3,
     "metadata": {},
     "output_type": "execute_result"
    },
    {
     "data": {
      "text/plain": [
       "75"
      ]
     },
     "execution_count": 3,
     "metadata": {},
     "output_type": "execute_result"
    },
    {
     "data": {
      "text/plain": [
       "array([661, 444,  58, 335, 851, 476, 919, 434, 426, 308, 528, 923, 155,\n",
       "       526, 393, 975, 373, 514, 909, 105, 721, 538, 403, 236, 205, 999,\n",
       "       350, 296, 428,  28, 486, 486, 861, 806, 453, 184, 929, 724, 732,\n",
       "       152, 639, 350, 966, 982, 708, 913, 502, 862, 147, 996, 996, 882,\n",
       "       994, 351, 373, 947, 741, 233, 574, 187, 665, 471, 997, 729, 183,\n",
       "       113, 685, 986, 206, 165, 938, 187, 966, 834, 801])"
      ]
     },
     "execution_count": 3,
     "metadata": {},
     "output_type": "execute_result"
    },
    {
     "data": {
      "text/plain": [
       "567.98666666666668"
      ]
     },
     "execution_count": 3,
     "metadata": {},
     "output_type": "execute_result"
    }
   ],
   "source": [
    "# Random walks\n",
    "\n",
    "print 'Single random walk'\n",
    "walk = np.random.randint(0,2,1000)\n",
    "walk = np.where(walk>0, 1, -1)\n",
    "walk = walk.cumsum()\n",
    "\n",
    "# plt.plot(walk);\n",
    "\n",
    "walk.min()\n",
    "walk.max()\n",
    "\n",
    "# time for walk to exceed 10 from origin\n",
    "(abs(walk)>10).argmax()\n",
    "\n",
    "print '---'\n",
    "print 'Multiple random walks'\n",
    "\n",
    "steps = np.random.randn(100, 1000)\n",
    "steps.shape\n",
    "walk = steps.cumsum(axis=1)\n",
    "walk.shape\n",
    "\n",
    "walk\n",
    "(walk > 10).any(1) # get all walks that cross +10\n",
    "(walk > 10).any(1).sum() # how many walks cross +10?\n",
    "\n",
    "crossing_times = walk[(walk > 10).any(1)].argmax(axis=1) # when does each walk that cross +10 cross +10?\n",
    "crossing_times\n",
    "crossing_times.mean()\n"
   ]
  }
 ],
 "metadata": {
  "kernelspec": {
   "display_name": "Python 2",
   "language": "python",
   "name": "python2"
  },
  "language_info": {
   "codemirror_mode": {
    "name": "ipython",
    "version": 2
   },
   "file_extension": ".py",
   "mimetype": "text/x-python",
   "name": "python",
   "nbconvert_exporter": "python",
   "pygments_lexer": "ipython2",
   "version": "2.7.10"
  }
 },
 "nbformat": 4,
 "nbformat_minor": 2
}
