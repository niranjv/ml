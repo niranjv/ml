{
 "cells": [
  {
   "cell_type": "markdown",
   "metadata": {},
   "source": [
    "## Task\n",
    "Explore sorting in pandas\n",
    "\n",
    "## Notebook Summary\n",
    "* Series\n",
    " * `sort_values`\n",
    " * `sort_index`\n",
    " * `sortlevel`\n",
    " * `argsort`\n",
    " * `searchsorted`\n",
    " * `rank`\n",
    "\n",
    "## References\n",
    "* *Python for Data Analysis*, Wes McKinney, O'Reilly, 2012\n",
    "* *Numerical Python*, Robert Johansson, APress, 2015\n",
    "* *Python Data Science Handbook*, Jake VanderPlas, O'Reilly, 2016\n"
   ]
  },
  {
   "cell_type": "code",
   "execution_count": 2,
   "metadata": {
    "collapsed": false,
    "scrolled": true
   },
   "outputs": [
    {
     "name": "stdout",
     "output_type": "stream",
     "text": [
      "python.version =  2.7.10\n",
      "ipython.version = (5, 1, 0, '')\n",
      "numpy.version = 1.11.3\n",
      "pandas.version = 0.19.2\n"
     ]
    }
   ],
   "source": [
    "# display output from all cmds just like Python shell\n",
    "from IPython.core.interactiveshell import InteractiveShell\n",
    "InteractiveShell.ast_node_interactivity = \"all\"\n",
    "\n",
    "import platform\n",
    "print 'python.version = ', platform.python_version()\n",
    "import IPython\n",
    "print 'ipython.version =', IPython.version_info\n",
    "\n",
    "import numpy as np\n",
    "print 'numpy.version =', np.__version__\n",
    "\n",
    "import pandas as pd\n",
    "print 'pandas.version =', pd.__version__\n",
    "from pandas import Series, DataFrame\n"
   ]
  },
  {
   "cell_type": "code",
   "execution_count": null,
   "metadata": {
    "collapsed": true
   },
   "outputs": [],
   "source": [
    "\n",
    "df\n",
    "df.sort_index(ascending=False)\n",
    "df.sort_index(axis=1, ascending=False)\n",
    "df.sort_values(by='Col1', ascending=False)\n",
    "\n",
    "df.rank()\n",
    "df.rank(axis=1)\n"
   ]
  },
  {
   "cell_type": "code",
   "execution_count": 22,
   "metadata": {
    "collapsed": false,
    "scrolled": false
   },
   "outputs": [
    {
     "data": {
      "text/plain": [
       "E    43\n",
       "H    43\n",
       "D    22\n",
       "B    35\n",
       "J    26\n",
       "C    26\n",
       "I    16\n",
       "G    40\n",
       "A    20\n",
       "F     5\n",
       "dtype: int64"
      ]
     },
     "execution_count": 22,
     "metadata": {},
     "output_type": "execute_result"
    },
    {
     "name": "stdout",
     "output_type": "stream",
     "text": [
      "Sort values asc\n"
     ]
    },
    {
     "data": {
      "text/plain": [
       "F     5\n",
       "I    16\n",
       "A    20\n",
       "D    22\n",
       "J    26\n",
       "C    26\n",
       "B    35\n",
       "G    40\n",
       "E    43\n",
       "H    43\n",
       "dtype: int64"
      ]
     },
     "execution_count": 22,
     "metadata": {},
     "output_type": "execute_result"
    },
    {
     "name": "stdout",
     "output_type": "stream",
     "text": [
      "Sort values desc\n"
     ]
    },
    {
     "data": {
      "text/plain": [
       "H    43\n",
       "E    43\n",
       "G    40\n",
       "B    35\n",
       "C    26\n",
       "J    26\n",
       "D    22\n",
       "A    20\n",
       "I    16\n",
       "F     5\n",
       "dtype: int64"
      ]
     },
     "execution_count": 22,
     "metadata": {},
     "output_type": "execute_result"
    },
    {
     "name": "stdout",
     "output_type": "stream",
     "text": [
      "Sort values asc in-place\n"
     ]
    },
    {
     "data": {
      "text/plain": [
       "F     5\n",
       "I    16\n",
       "A    20\n",
       "D    22\n",
       "J    26\n",
       "C    26\n",
       "B    35\n",
       "G    40\n",
       "E    43\n",
       "H    43\n",
       "dtype: int64"
      ]
     },
     "execution_count": 22,
     "metadata": {},
     "output_type": "execute_result"
    }
   ],
   "source": [
    "# sort_values - Series\n",
    "\n",
    "s = pd.Series(np.random.randint(low=50, size=10), index=['E','H','D','B','J','C','I','G','A','F'])\n",
    "s\n",
    "\n",
    "print 'Sort values asc'\n",
    "s.sort_values()\n",
    "\n",
    "print 'Sort values desc'\n",
    "s.sort_values(ascending=False)\n",
    "\n",
    "print 'Sort values asc in-place'\n",
    "s.sort_values(inplace=True)\n",
    "s\n"
   ]
  },
  {
   "cell_type": "code",
   "execution_count": 61,
   "metadata": {
    "collapsed": false,
    "scrolled": false
   },
   "outputs": [
    {
     "data": {
      "text/plain": [
       "[[3, 3, 3, 1, 1, 1, 4, 2, 2, 2],\n",
       " ['E', 'H', 'D', 'B', 'J', 'C', 'I', 'G', 'A', 'F']]"
      ]
     },
     "execution_count": 61,
     "metadata": {},
     "output_type": "execute_result"
    },
    {
     "data": {
      "text/plain": [
       "[3, 3, 3, 1, 1, 1, 4, 2, 2, 2]"
      ]
     },
     "execution_count": 61,
     "metadata": {},
     "output_type": "execute_result"
    },
    {
     "data": {
      "text/plain": [
       "[(3, 'E'),\n",
       " (3, 'H'),\n",
       " (3, 'D'),\n",
       " (1, 'B'),\n",
       " (1, 'J'),\n",
       " (1, 'C'),\n",
       " (4, 'I'),\n",
       " (2, 'G'),\n",
       " (2, 'A'),\n",
       " (2, 'F')]"
      ]
     },
     "execution_count": 61,
     "metadata": {},
     "output_type": "execute_result"
    },
    {
     "data": {
      "text/plain": [
       "[(3, 'E'),\n",
       " (3, 'H'),\n",
       " (3, 'D'),\n",
       " (1, 'B'),\n",
       " (1, 'J'),\n",
       " (1, 'C'),\n",
       " (4, 'I'),\n",
       " (2, 'G'),\n",
       " (2, 'A'),\n",
       " (2, 'F')]"
      ]
     },
     "execution_count": 61,
     "metadata": {},
     "output_type": "execute_result"
    },
    {
     "data": {
      "text/plain": [
       "MultiIndex(levels=[[1, 2, 3, 4], [u'A', u'B', u'C', u'D', u'E', u'F', u'G', u'H', u'I', u'J']],\n",
       "           labels=[[2, 2, 2, 0, 0, 0, 3, 1, 1, 1], [4, 7, 3, 1, 9, 2, 8, 6, 0, 5]],\n",
       "           names=[u'outer', u'inner'])"
      ]
     },
     "execution_count": 61,
     "metadata": {},
     "output_type": "execute_result"
    },
    {
     "data": {
      "text/plain": [
       "outer  inner\n",
       "3      E        33\n",
       "       H        36\n",
       "       D        21\n",
       "1      B        35\n",
       "       J        25\n",
       "       C        33\n",
       "4      I        28\n",
       "2      G        24\n",
       "       A        31\n",
       "       F        15\n",
       "dtype: int64"
      ]
     },
     "execution_count": 61,
     "metadata": {},
     "output_type": "execute_result"
    },
    {
     "name": "stdout",
     "output_type": "stream",
     "text": [
      "---\n"
     ]
    },
    {
     "data": {
      "text/plain": [
       "outer  inner\n",
       "1      B        35\n",
       "       C        33\n",
       "       J        25\n",
       "2      A        31\n",
       "       F        15\n",
       "       G        24\n",
       "3      D        21\n",
       "       E        33\n",
       "       H        36\n",
       "4      I        28\n",
       "dtype: int64"
      ]
     },
     "execution_count": 61,
     "metadata": {},
     "output_type": "execute_result"
    },
    {
     "data": {
      "text/plain": [
       "outer  inner\n",
       "1      B        35\n",
       "       C        33\n",
       "       J        25\n",
       "2      A        31\n",
       "       F        15\n",
       "       G        24\n",
       "3      D        21\n",
       "       E        33\n",
       "       H        36\n",
       "4      I        28\n",
       "dtype: int64"
      ]
     },
     "execution_count": 61,
     "metadata": {},
     "output_type": "execute_result"
    },
    {
     "data": {
      "text/plain": [
       "outer  inner\n",
       "1      B        35\n",
       "       C        33\n",
       "       J        25\n",
       "2      A        31\n",
       "       F        15\n",
       "       G        24\n",
       "3      D        21\n",
       "       E        33\n",
       "       H        36\n",
       "4      I        28\n",
       "dtype: int64"
      ]
     },
     "execution_count": 61,
     "metadata": {},
     "output_type": "execute_result"
    },
    {
     "name": "stdout",
     "output_type": "stream",
     "text": [
      "---\n"
     ]
    },
    {
     "data": {
      "text/plain": [
       "outer  inner\n",
       "1      J        25\n",
       "4      I        28\n",
       "3      H        36\n",
       "2      G        24\n",
       "       F        15\n",
       "3      E        33\n",
       "       D        21\n",
       "1      C        33\n",
       "       B        35\n",
       "2      A        31\n",
       "dtype: int64"
      ]
     },
     "execution_count": 61,
     "metadata": {},
     "output_type": "execute_result"
    },
    {
     "name": "stdout",
     "output_type": "stream",
     "text": [
      "Before sorting in-place: \n",
      "outer  inner\n",
      "3      E        33\n",
      "       H        36\n",
      "       D        21\n",
      "1      B        35\n",
      "       J        25\n",
      "       C        33\n",
      "4      I        28\n",
      "2      G        24\n",
      "       A        31\n",
      "       F        15\n",
      "dtype: int64\n",
      "After sorting in-place: \n",
      "outer  inner\n",
      "2      A        31\n",
      "1      B        35\n",
      "       C        33\n",
      "3      D        21\n",
      "       E        33\n",
      "2      F        15\n",
      "       G        24\n",
      "3      H        36\n",
      "4      I        28\n",
      "1      J        25\n",
      "dtype: int64\n"
     ]
    }
   ],
   "source": [
    "# sort_index - Series\n",
    "\n",
    "\n",
    "arr = [[3]*3 + [1]*3 + [4] + [2]*3, ['E','H','D','B','J','C','I','G','A','F']]\n",
    "arr\n",
    "arr[0]\n",
    "list(zip(arr[0], arr[1])) # same as...\n",
    "list(zip(*arr))\n",
    "\n",
    "idx = pd.MultiIndex.from_tuples(list(zip(*arr)), names=['outer', 'inner'])\n",
    "idx\n",
    "\n",
    "s = pd.Series(np.random.randint(low=50, size=10), index=idx)\n",
    "s\n",
    "\n",
    "print '---'\n",
    "\n",
    "s.sort_index() # same as...\n",
    "s.sort_index(level=0) # same as...\n",
    "s.sort_index(level='outer')\n",
    "\n",
    "print '---'\n",
    "s.sort_index(level='inner', ascending=False)\n",
    "print 'Before sorting in-place: \\n', s\n",
    "s.sort_index(level='inner', ascending=True, inplace=True)\n",
    "print 'After sorting in-place: \\n', s\n"
   ]
  },
  {
   "cell_type": "code",
   "execution_count": 65,
   "metadata": {
    "collapsed": false,
    "scrolled": false
   },
   "outputs": [
    {
     "data": {
      "text/plain": [
       "outer  inner\n",
       "3      E        25\n",
       "       H        35\n",
       "       D        17\n",
       "1      B         0\n",
       "       J        10\n",
       "       C         6\n",
       "4      I        17\n",
       "2      G        20\n",
       "       A        45\n",
       "       F        15\n",
       "dtype: int64"
      ]
     },
     "execution_count": 65,
     "metadata": {},
     "output_type": "execute_result"
    },
    {
     "data": {
      "text/plain": [
       "outer  inner\n",
       "1      B         0\n",
       "       C         6\n",
       "       J        10\n",
       "2      A        45\n",
       "       F        15\n",
       "       G        20\n",
       "3      D        17\n",
       "       E        25\n",
       "       H        35\n",
       "4      I        17\n",
       "dtype: int64"
      ]
     },
     "execution_count": 65,
     "metadata": {},
     "output_type": "execute_result"
    },
    {
     "data": {
      "text/plain": [
       "outer  inner\n",
       "2      A        45\n",
       "1      B         0\n",
       "       C         6\n",
       "3      D        17\n",
       "       E        25\n",
       "2      F        15\n",
       "       G        20\n",
       "3      H        35\n",
       "4      I        17\n",
       "1      J        10\n",
       "dtype: int64"
      ]
     },
     "execution_count": 65,
     "metadata": {},
     "output_type": "execute_result"
    }
   ],
   "source": [
    "# sortlevel - Series\n",
    "\n",
    "arr = [[3]*3 + [1]*3 + [4] + [2]*3, ['E','H','D','B','J','C','I','G','A','F']]\n",
    "idx = pd.MultiIndex.from_tuples(list(zip(*arr)), names=['outer', 'inner'])\n",
    "s = pd.Series(np.random.randint(low=50, size=10), index=idx)\n",
    "s\n",
    "\n",
    "s.sortlevel() # sort level specified lexicographicall and then other levels\n",
    "s.sortlevel(level=1)\n"
   ]
  },
  {
   "cell_type": "code",
   "execution_count": 75,
   "metadata": {
    "collapsed": false,
    "scrolled": false
   },
   "outputs": [
    {
     "data": {
      "text/plain": [
       "E    9\n",
       "H    8\n",
       "D    7\n",
       "B    6\n",
       "J    5\n",
       "C    4\n",
       "I    3\n",
       "G    2\n",
       "A    1\n",
       "F    0\n",
       "dtype: int64"
      ]
     },
     "execution_count": 75,
     "metadata": {},
     "output_type": "execute_result"
    },
    {
     "name": "stdout",
     "output_type": "stream",
     "text": [
      "---\n"
     ]
    },
    {
     "data": {
      "text/plain": [
       "pandas.core.series.Series"
      ]
     },
     "execution_count": 75,
     "metadata": {},
     "output_type": "execute_result"
    },
    {
     "data": {
      "text/plain": [
       "F    0\n",
       "A    1\n",
       "G    2\n",
       "I    3\n",
       "C    4\n",
       "J    5\n",
       "B    6\n",
       "D    7\n",
       "H    8\n",
       "E    9\n",
       "dtype: int64"
      ]
     },
     "execution_count": 75,
     "metadata": {},
     "output_type": "execute_result"
    },
    {
     "data": {
      "text/plain": [
       "F    0\n",
       "A    1\n",
       "G    2\n",
       "I    3\n",
       "C    4\n",
       "J    5\n",
       "B    6\n",
       "D    7\n",
       "H    8\n",
       "E    9\n",
       "dtype: int64"
      ]
     },
     "execution_count": 75,
     "metadata": {},
     "output_type": "execute_result"
    }
   ],
   "source": [
    "# argsort - Series\n",
    "\n",
    "s = Series(np.arange(10)[::-1], index=['E','H','D','B','J','C','I','G','A','F'])\n",
    "s\n",
    "\n",
    "print '---'\n",
    "\n",
    "idx = s.argsort()\n",
    "type(idx)\n",
    "idx.sort_values()\n",
    "\n",
    "s[::-1] # series sorted in reverse\n"
   ]
  },
  {
   "cell_type": "code",
   "execution_count": 83,
   "metadata": {
    "collapsed": false,
    "scrolled": true
   },
   "outputs": [
    {
     "data": {
      "text/plain": [
       "F    0\n",
       "A    1\n",
       "G    2\n",
       "I    3\n",
       "C    4\n",
       "J    5\n",
       "B    6\n",
       "D    7\n",
       "H    8\n",
       "E    9\n",
       "dtype: int64"
      ]
     },
     "execution_count": 83,
     "metadata": {},
     "output_type": "execute_result"
    },
    {
     "data": {
      "text/plain": [
       "array([0])"
      ]
     },
     "execution_count": 83,
     "metadata": {},
     "output_type": "execute_result"
    },
    {
     "data": {
      "text/plain": [
       "array([1])"
      ]
     },
     "execution_count": 83,
     "metadata": {},
     "output_type": "execute_result"
    },
    {
     "data": {
      "text/plain": [
       "array([2])"
      ]
     },
     "execution_count": 83,
     "metadata": {},
     "output_type": "execute_result"
    },
    {
     "data": {
      "text/plain": [
       "array([10])"
      ]
     },
     "execution_count": 83,
     "metadata": {},
     "output_type": "execute_result"
    },
    {
     "data": {
      "text/plain": [
       "array([5])"
      ]
     },
     "execution_count": 83,
     "metadata": {},
     "output_type": "execute_result"
    }
   ],
   "source": [
    "# searchsorted - Series\n",
    "\n",
    "s = Series(np.arange(10)[::-1], index=['E','H','D','B','J','C','I','G','A','F'])\n",
    "s.sort_values(inplace=True)\n",
    "s\n",
    "\n",
    "s.searchsorted(0)\n",
    "s.searchsorted(1)\n",
    "s.searchsorted(2)\n",
    "s.searchsorted(11)\n",
    "s.searchsorted(5)\n"
   ]
  },
  {
   "cell_type": "code",
   "execution_count": 7,
   "metadata": {
    "collapsed": false
   },
   "outputs": [
    {
     "data": {
      "text/plain": [
       "E    1\n",
       "H    1\n",
       "D    2\n",
       "B    4\n",
       "J    6\n",
       "C    4\n",
       "I    4\n",
       "G    3\n",
       "A    3\n",
       "F    3\n",
       "dtype: int64"
      ]
     },
     "execution_count": 7,
     "metadata": {},
     "output_type": "execute_result"
    },
    {
     "name": "stdout",
     "output_type": "stream",
     "text": [
      "---\n"
     ]
    },
    {
     "data": {
      "text/plain": [
       "E     1.5\n",
       "H     1.5\n",
       "D     3.0\n",
       "B     8.0\n",
       "J    10.0\n",
       "C     8.0\n",
       "I     8.0\n",
       "G     5.0\n",
       "A     5.0\n",
       "F     5.0\n",
       "dtype: float64"
      ]
     },
     "execution_count": 7,
     "metadata": {},
     "output_type": "execute_result"
    },
    {
     "data": {
      "text/plain": [
       "E     1.0\n",
       "H     2.0\n",
       "D     3.0\n",
       "B     7.0\n",
       "J    10.0\n",
       "C     8.0\n",
       "I     9.0\n",
       "G     4.0\n",
       "A     5.0\n",
       "F     6.0\n",
       "dtype: float64"
      ]
     },
     "execution_count": 7,
     "metadata": {},
     "output_type": "execute_result"
    },
    {
     "data": {
      "text/plain": [
       "E     2.0\n",
       "H     2.0\n",
       "D     3.0\n",
       "B     9.0\n",
       "J    10.0\n",
       "C     9.0\n",
       "I     9.0\n",
       "G     6.0\n",
       "A     6.0\n",
       "F     6.0\n",
       "dtype: float64"
      ]
     },
     "execution_count": 7,
     "metadata": {},
     "output_type": "execute_result"
    },
    {
     "data": {
      "text/plain": [
       "E     1.0\n",
       "H     1.0\n",
       "D     3.0\n",
       "B     7.0\n",
       "J    10.0\n",
       "C     7.0\n",
       "I     7.0\n",
       "G     4.0\n",
       "A     4.0\n",
       "F     4.0\n",
       "dtype: float64"
      ]
     },
     "execution_count": 7,
     "metadata": {},
     "output_type": "execute_result"
    },
    {
     "data": {
      "text/plain": [
       "E    1.0\n",
       "H    1.0\n",
       "D    2.0\n",
       "B    4.0\n",
       "J    5.0\n",
       "C    4.0\n",
       "I    4.0\n",
       "G    3.0\n",
       "A    3.0\n",
       "F    3.0\n",
       "dtype: float64"
      ]
     },
     "execution_count": 7,
     "metadata": {},
     "output_type": "execute_result"
    }
   ],
   "source": [
    "# rank\n",
    "\n",
    "s = Series([1,1,2,4,6,4,4,3,3,3], index=['E','H','D','B','J','C','I','G','A','F'])\n",
    "s\n",
    "\n",
    "print '---'\n",
    "\n",
    "s.rank() # default method = average\n",
    "s.rank(method='first')\n",
    "s.rank(method='max')\n",
    "s.rank(method='min')\n",
    "s.rank(method='dense') # like min, but rank always increases between groups\n"
   ]
  }
 ],
 "metadata": {
  "kernelspec": {
   "display_name": "Python 2",
   "language": "python",
   "name": "python2"
  },
  "language_info": {
   "codemirror_mode": {
    "name": "ipython",
    "version": 2
   },
   "file_extension": ".py",
   "mimetype": "text/x-python",
   "name": "python",
   "nbconvert_exporter": "python",
   "pygments_lexer": "ipython2",
   "version": "2.7.10"
  }
 },
 "nbformat": 4,
 "nbformat_minor": 2
}
