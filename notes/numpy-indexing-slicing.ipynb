{
 "cells": [
  {
   "cell_type": "markdown",
   "metadata": {},
   "source": [
    "## Task\n",
    "Explore indexing and slicing in NumPy\n",
    "\n",
    "## Notebook Summary\n",
    "* Basic indexing\n",
    "* Assigning values\n",
    "* Boolean indexing\n",
    "* Fancy indexing\n",
    "* `take`, `put`\n",
    "\n",
    "## References\n",
    "* *Python for Data Analysis*, Wes McKinney, O'Reilly, 2012\n",
    "* *Numerical Python*, Robert Johansson, APress, 2015\n",
    "* *Python Data Science Handbook*, Jake VanderPlas, O'Reilly, 2016\n"
   ]
  },
  {
   "cell_type": "code",
   "execution_count": 2,
   "metadata": {
    "collapsed": false
   },
   "outputs": [
    {
     "name": "stdout",
     "output_type": "stream",
     "text": [
      "python.version =  2.7.10\n",
      "ipython.version = (5, 1, 0, '')\n",
      "numpy.version =  1.11.3\n"
     ]
    }
   ],
   "source": [
    "# display output from all cmds just like Python shell\n",
    "from IPython.core.interactiveshell import InteractiveShell\n",
    "InteractiveShell.ast_node_interactivity = \"all\"\n",
    "\n",
    "import platform\n",
    "print 'python.version = ', platform.python_version()\n",
    "import IPython\n",
    "print 'ipython.version =', IPython.version_info\n",
    "\n",
    "import numpy as np\n",
    "print 'numpy.version = ', np.__version__\n"
   ]
  },
  {
   "cell_type": "code",
   "execution_count": 2,
   "metadata": {
    "collapsed": false
   },
   "outputs": [
    {
     "data": {
      "text/plain": [
       "array([0, 1, 2, 3, 4, 5, 6, 7, 8, 9])"
      ]
     },
     "execution_count": 2,
     "metadata": {},
     "output_type": "execute_result"
    },
    {
     "data": {
      "text/plain": [
       "1"
      ]
     },
     "execution_count": 2,
     "metadata": {},
     "output_type": "execute_result"
    },
    {
     "data": {
      "text/plain": [
       "array([7, 8, 9])"
      ]
     },
     "execution_count": 2,
     "metadata": {},
     "output_type": "execute_result"
    },
    {
     "data": {
      "text/plain": [
       "array([1, 3, 5])"
      ]
     },
     "execution_count": 2,
     "metadata": {},
     "output_type": "execute_result"
    },
    {
     "data": {
      "text/plain": [
       "array([9, 8, 7, 6, 5, 4, 3, 2, 1, 0])"
      ]
     },
     "execution_count": 2,
     "metadata": {},
     "output_type": "execute_result"
    },
    {
     "name": "stdout",
     "output_type": "stream",
     "text": [
      "---\n"
     ]
    },
    {
     "data": {
      "text/plain": [
       "array([4, 5])"
      ]
     },
     "execution_count": 2,
     "metadata": {},
     "output_type": "execute_result"
    },
    {
     "data": {
      "text/plain": [
       "array([-999, -999])"
      ]
     },
     "execution_count": 2,
     "metadata": {},
     "output_type": "execute_result"
    },
    {
     "data": {
      "text/plain": [
       "array([   0,    1,    2,    3, -999, -999,    6,    7,    8,    9])"
      ]
     },
     "execution_count": 2,
     "metadata": {},
     "output_type": "execute_result"
    },
    {
     "name": "stdout",
     "output_type": "stream",
     "text": [
      "---\n"
     ]
    },
    {
     "data": {
      "text/plain": [
       "array([-1, -1])"
      ]
     },
     "execution_count": 2,
     "metadata": {},
     "output_type": "execute_result"
    },
    {
     "data": {
      "text/plain": [
       "array([   0,    1,    2,    3, -999, -999,    6,    7,    8,    9])"
      ]
     },
     "execution_count": 2,
     "metadata": {},
     "output_type": "execute_result"
    },
    {
     "name": "stdout",
     "output_type": "stream",
     "text": [
      "---\n"
     ]
    },
    {
     "data": {
      "text/plain": [
       "array([[ 0,  1,  2,  3],\n",
       "       [ 4,  5,  6,  7],\n",
       "       [ 8,  9, 10, 11],\n",
       "       [12, 13, 14, 15],\n",
       "       [16, 17, 18, 19],\n",
       "       [20, 21, 22, 23]])"
      ]
     },
     "execution_count": 2,
     "metadata": {},
     "output_type": "execute_result"
    },
    {
     "data": {
      "text/plain": [
       "(array([20, 21, 22, 23]), (4,))"
      ]
     },
     "execution_count": 2,
     "metadata": {},
     "output_type": "execute_result"
    },
    {
     "data": {
      "text/plain": [
       "(array([[16, 17, 18, 19],\n",
       "        [20, 21, 22, 23]]), (2, 4))"
      ]
     },
     "execution_count": 2,
     "metadata": {},
     "output_type": "execute_result"
    },
    {
     "name": "stdout",
     "output_type": "stream",
     "text": [
      "---\n"
     ]
    },
    {
     "data": {
      "text/plain": [
       "1"
      ]
     },
     "execution_count": 2,
     "metadata": {},
     "output_type": "execute_result"
    },
    {
     "data": {
      "text/plain": [
       "array([ 1,  5,  9, 13, 17, 21])"
      ]
     },
     "execution_count": 2,
     "metadata": {},
     "output_type": "execute_result"
    },
    {
     "data": {
      "text/plain": [
       "array([[ 2,  3],\n",
       "       [ 6,  7],\n",
       "       [10, 11],\n",
       "       [14, 15],\n",
       "       [18, 19],\n",
       "       [22, 23]])"
      ]
     },
     "execution_count": 2,
     "metadata": {},
     "output_type": "execute_result"
    },
    {
     "data": {
      "text/plain": [
       "(array([[ 0,  1,  2],\n",
       "        [ 4,  5,  6],\n",
       "        [ 8,  9, 10],\n",
       "        [12, 13, 14],\n",
       "        [16, 17, 18],\n",
       "        [20, 21, 22]]), (6, 3))"
      ]
     },
     "execution_count": 2,
     "metadata": {},
     "output_type": "execute_result"
    },
    {
     "data": {
      "text/plain": [
       "array([[  0,   1, -99, -99],\n",
       "       [  4,   5, -99, -99],\n",
       "       [  8,   9, -99, -99],\n",
       "       [ 12,  13, -99, -99],\n",
       "       [ 16,  17, -99, -99],\n",
       "       [ 20,  21, -99, -99]])"
      ]
     },
     "execution_count": 2,
     "metadata": {},
     "output_type": "execute_result"
    },
    {
     "data": {
      "text/plain": [
       "array([4, 5, 6, 7])"
      ]
     },
     "execution_count": 2,
     "metadata": {},
     "output_type": "execute_result"
    },
    {
     "data": {
      "text/plain": [
       "array([[ 8,  9, 10, 11],\n",
       "       [12, 13, 14, 15]])"
      ]
     },
     "execution_count": 2,
     "metadata": {},
     "output_type": "execute_result"
    },
    {
     "data": {
      "text/plain": [
       "array([[ 2,  3],\n",
       "       [ 6,  7],\n",
       "       [10, 11]])"
      ]
     },
     "execution_count": 2,
     "metadata": {},
     "output_type": "execute_result"
    },
    {
     "data": {
      "text/plain": [
       "(array([[2, 3],\n",
       "        [6, 7]]), (2, 2))"
      ]
     },
     "execution_count": 2,
     "metadata": {},
     "output_type": "execute_result"
    },
    {
     "name": "stdout",
     "output_type": "stream",
     "text": [
      "---\n"
     ]
    },
    {
     "data": {
      "text/plain": [
       "10"
      ]
     },
     "execution_count": 2,
     "metadata": {},
     "output_type": "execute_result"
    },
    {
     "data": {
      "text/plain": [
       "10"
      ]
     },
     "execution_count": 2,
     "metadata": {},
     "output_type": "execute_result"
    }
   ],
   "source": [
    "# Basic indexing & slicing\n",
    "\n",
    "myarr = np.arange(10)\n",
    "myarr\n",
    "myarr[1]\n",
    "myarr[[-3,-2,-1]]\n",
    "myarr[1:6:2]\n",
    "myarr[::-1] # reverse elements\n",
    "\n",
    "print '---'\n",
    "\n",
    "myslice = myarr[4:6] # this is a view, not a copy\n",
    "myslice\n",
    "myslice[:] = -999\n",
    "myslice\n",
    "myarr # original array is also modified\n",
    "\n",
    "print '---'\n",
    "\n",
    "myslice = myarr[4:6].copy()\n",
    "myslice[:] = -1\n",
    "myslice\n",
    "myarr # original array is not modified\n",
    "\n",
    "print '---'\n",
    "\n",
    "myarr = np.arange(24).reshape(6,4)\n",
    "myarr\n",
    "\n",
    "myarr[5], myarr[5].shape\n",
    "myarr[4:,:], myarr[4:,:].shape\n",
    "\n",
    "print '---'\n",
    "\n",
    "myarr[0,1]\n",
    "\n",
    "myarr[:,1]\n",
    "myarr[:,[2,3]]\n",
    "myarr[:,:3], myarr[:,:3].shape\n",
    "\n",
    "myarr2 = myarr.copy()\n",
    "myarr2[:,[2,3]] = -99\n",
    "myarr2\n",
    "\n",
    "myarr[1,:]\n",
    "myarr[[2,3],:]\n",
    "myarr[[0,1,2],2:]\n",
    "myarr[:2, 2:], myarr[:2, 2:].shape\n",
    "\n",
    "print '---'\n",
    "\n",
    "myarr[2,2]\n",
    "myarr[2][2]\n",
    "\n",
    "# Need to mix integer and slices to get lower dimensional slices\n",
    "# See Fig 4.2 on pg 90 in 'Python for Data Analysis'\n",
    "\n"
   ]
  },
  {
   "cell_type": "code",
   "execution_count": 21,
   "metadata": {
    "collapsed": false
   },
   "outputs": [
    {
     "data": {
      "text/plain": [
       "array([[0, 1, 2],\n",
       "       [3, 4, 5],\n",
       "       [6, 7, 8]])"
      ]
     },
     "execution_count": 21,
     "metadata": {},
     "output_type": "execute_result"
    },
    {
     "data": {
      "text/plain": [
       "array([[3, 1, 2],\n",
       "       [3, 4, 5],\n",
       "       [6, 7, 8]])"
      ]
     },
     "execution_count": 21,
     "metadata": {},
     "output_type": "execute_result"
    },
    {
     "data": {
      "text/plain": [
       "array([[3, 1],\n",
       "       [3, 4]])"
      ]
     },
     "execution_count": 21,
     "metadata": {},
     "output_type": "execute_result"
    },
    {
     "data": {
      "text/plain": [
       "array([[9999,    1],\n",
       "       [   3,    4]])"
      ]
     },
     "execution_count": 21,
     "metadata": {},
     "output_type": "execute_result"
    },
    {
     "data": {
      "text/plain": [
       "array([[9999,    1,    2],\n",
       "       [   3,    4,    5],\n",
       "       [   6,    7,    8]])"
      ]
     },
     "execution_count": 21,
     "metadata": {},
     "output_type": "execute_result"
    },
    {
     "data": {
      "text/plain": [
       "array([[9999,    1],\n",
       "       [   3,    4]])"
      ]
     },
     "execution_count": 21,
     "metadata": {},
     "output_type": "execute_result"
    },
    {
     "data": {
      "text/plain": [
       "array([[-1,  1],\n",
       "       [ 3,  4]])"
      ]
     },
     "execution_count": 21,
     "metadata": {},
     "output_type": "execute_result"
    },
    {
     "data": {
      "text/plain": [
       "array([[9999,    1,    2],\n",
       "       [   3,    4,    5],\n",
       "       [   6,    7,    8]])"
      ]
     },
     "execution_count": 21,
     "metadata": {},
     "output_type": "execute_result"
    }
   ],
   "source": [
    "# Assigning values\n",
    "\n",
    "arr = np.arange(9, dtype='int').reshape(3,3)\n",
    "arr\n",
    "\n",
    "arr[0,0] = 3.14 # assigning float to int array silently truncates float!\n",
    "arr\n",
    "\n",
    "# slices are views of original array\n",
    "sl = arr[:2, :2]\n",
    "sl\n",
    "sl[0,0] = 9999\n",
    "sl\n",
    "\n",
    "arr\n",
    "\n",
    "# create copies to avoid this behavior\n",
    "sl = arr[:2,:2].copy()\n",
    "sl\n",
    "sl[0,0] = -1\n",
    "sl\n",
    "arr # not modified\n"
   ]
  },
  {
   "cell_type": "code",
   "execution_count": 3,
   "metadata": {
    "collapsed": false
   },
   "outputs": [
    {
     "data": {
      "text/plain": [
       "array([ 0,  1,  2,  3,  4,  5,  6,  7,  8,  9, 10, 11, 12, 13, 14, 15, 16,\n",
       "       17, 18, 19])"
      ]
     },
     "execution_count": 3,
     "metadata": {},
     "output_type": "execute_result"
    },
    {
     "data": {
      "text/plain": [
       "array([ True, False, False, False,  True, False, False, False,  True,\n",
       "       False, False, False,  True, False, False, False,  True, False,\n",
       "       False, False], dtype=bool)"
      ]
     },
     "execution_count": 3,
     "metadata": {},
     "output_type": "execute_result"
    },
    {
     "data": {
      "text/plain": [
       "array([ 0,  4,  8, 12, 16])"
      ]
     },
     "execution_count": 3,
     "metadata": {},
     "output_type": "execute_result"
    },
    {
     "data": {
      "text/plain": [
       "array([ 0,  4,  8, 12, 16])"
      ]
     },
     "execution_count": 3,
     "metadata": {},
     "output_type": "execute_result"
    },
    {
     "name": "stdout",
     "output_type": "stream",
     "text": [
      "---\n"
     ]
    },
    {
     "data": {
      "text/plain": [
       "array([[ 0,  1,  2,  3],\n",
       "       [ 4,  5,  6,  7],\n",
       "       [ 8,  9, 10, 11],\n",
       "       [12, 13, 14, 15],\n",
       "       [16, 17, 18, 19],\n",
       "       [20, 21, 22, 23],\n",
       "       [24, 25, 26, 27],\n",
       "       [28, 29, 30, 31]])"
      ]
     },
     "execution_count": 3,
     "metadata": {},
     "output_type": "execute_result"
    },
    {
     "name": "stderr",
     "output_type": "stream",
     "text": [
      "/Users/niranjan/GitHub/ml/venv/lib/python2.7/site-packages/ipykernel/__main__.py:17: FutureWarning: in the future, boolean array-likes will be handled as a boolean array index\n"
     ]
    },
    {
     "data": {
      "text/plain": [
       "array([[ 1,  0,  1,  0],\n",
       "       [ 5,  4,  5,  4],\n",
       "       [ 9,  8,  9,  8],\n",
       "       [13, 12, 13, 12],\n",
       "       [17, 16, 17, 16],\n",
       "       [21, 20, 21, 20],\n",
       "       [25, 24, 25, 24],\n",
       "       [29, 28, 29, 28]])"
      ]
     },
     "execution_count": 3,
     "metadata": {},
     "output_type": "execute_result"
    },
    {
     "data": {
      "text/plain": [
       "array([[ 0,  2],\n",
       "       [ 4,  6],\n",
       "       [ 8, 10],\n",
       "       [12, 14],\n",
       "       [16, 18],\n",
       "       [20, 22],\n",
       "       [24, 26],\n",
       "       [28, 30]])"
      ]
     },
     "execution_count": 3,
     "metadata": {},
     "output_type": "execute_result"
    },
    {
     "name": "stdout",
     "output_type": "stream",
     "text": [
      "---\n"
     ]
    },
    {
     "data": {
      "text/plain": [
       "array([[ 0.  ,  0.75,  0.  ,  0.  ],\n",
       "       [ 7.  ,  7.  ,  7.  ,  7.  ],\n",
       "       [ 0.4 ,  0.  ,  0.49,  0.  ],\n",
       "       [ 0.  ,  0.93,  0.19,  0.  ],\n",
       "       [ 0.  ,  0.  ,  0.  ,  0.  ],\n",
       "       [ 0.  ,  0.25,  0.  ,  0.  ]])"
      ]
     },
     "execution_count": 3,
     "metadata": {},
     "output_type": "execute_result"
    }
   ],
   "source": [
    "# Boolean indexing - index with arrays of True & False\n",
    "\n",
    "myarr = np.arange(20)\n",
    "myarr\n",
    "idx = myarr % 4 == 0\n",
    "idx\n",
    "myarr[idx]\n",
    "myarr[myarr % 4 == 0]\n",
    "\n",
    "print '---'\n",
    "\n",
    "myarr = np.arange(32).reshape(8,4)\n",
    "myarr\n",
    "\n",
    "# statement below will not return 1st & 3rd cols because True, False are interpreted as 1, 0 \n",
    "# resulting in myarr[:,[1,0,1,0]]\n",
    "myarr[:,[True, False, True, False]] \n",
    "# instead, do this\n",
    "myarr[:,np.array([True, False, True, False])]\n",
    "\n",
    "print '---'\n",
    "\n",
    "myarr = np.random.randn(24).reshape(6,4)\n",
    "myarr[myarr<0] = 0\n",
    "myarr = myarr.round(2)\n",
    "myarr[1] = 7\n",
    "myarr\n"
   ]
  },
  {
   "cell_type": "code",
   "execution_count": 4,
   "metadata": {
    "collapsed": false,
    "scrolled": false
   },
   "outputs": [
    {
     "data": {
      "text/plain": [
       "array([[ 0,  1,  2,  3],\n",
       "       [ 4,  5,  6,  7],\n",
       "       [ 8,  9, 10, 11],\n",
       "       [12, 13, 14, 15],\n",
       "       [16, 17, 18, 19],\n",
       "       [20, 21, 22, 23],\n",
       "       [24, 25, 26, 27],\n",
       "       [28, 29, 30, 31]])"
      ]
     },
     "execution_count": 4,
     "metadata": {},
     "output_type": "execute_result"
    },
    {
     "data": {
      "text/plain": [
       "array([[0, 1, 2, 3],\n",
       "       [4, 5, 6, 7]])"
      ]
     },
     "execution_count": 4,
     "metadata": {},
     "output_type": "execute_result"
    },
    {
     "data": {
      "text/plain": [
       "array([[0, 1, 2, 3],\n",
       "       [4, 5, 6, 7]])"
      ]
     },
     "execution_count": 4,
     "metadata": {},
     "output_type": "execute_result"
    },
    {
     "data": {
      "text/plain": [
       "array([[0, 1, 2, 3],\n",
       "       [4, 5, 6, 7]])"
      ]
     },
     "execution_count": 4,
     "metadata": {},
     "output_type": "execute_result"
    },
    {
     "data": {
      "text/plain": [
       "array([[4, 5, 6, 7],\n",
       "       [0, 1, 2, 3],\n",
       "       [4, 5, 6, 7]])"
      ]
     },
     "execution_count": 4,
     "metadata": {},
     "output_type": "execute_result"
    },
    {
     "data": {
      "text/plain": [
       "array([[99, 99, 99, 99],\n",
       "       [99, 99, 99, 99]])"
      ]
     },
     "execution_count": 4,
     "metadata": {},
     "output_type": "execute_result"
    },
    {
     "data": {
      "text/plain": [
       "array([[ 0,  1,  2,  3],\n",
       "       [ 4,  5,  6,  7],\n",
       "       [ 8,  9, 10, 11],\n",
       "       [12, 13, 14, 15],\n",
       "       [16, 17, 18, 19],\n",
       "       [20, 21, 22, 23],\n",
       "       [24, 25, 26, 27],\n",
       "       [28, 29, 30, 31]])"
      ]
     },
     "execution_count": 4,
     "metadata": {},
     "output_type": "execute_result"
    },
    {
     "data": {
      "text/plain": [
       "array([[99, 99, 99, 99],\n",
       "       [99, 99, 99, 99],\n",
       "       [ 8,  9, 10, 11],\n",
       "       [12, 13, 14, 15],\n",
       "       [16, 17, 18, 19],\n",
       "       [20, 21, 22, 23],\n",
       "       [24, 25, 26, 27],\n",
       "       [28, 29, 30, 31]])"
      ]
     },
     "execution_count": 4,
     "metadata": {},
     "output_type": "execute_result"
    },
    {
     "name": "stdout",
     "output_type": "stream",
     "text": [
      "---\n"
     ]
    },
    {
     "data": {
      "text/plain": [
       "array([[99, 99],\n",
       "       [99, 99],\n",
       "       [ 8,  9],\n",
       "       [12, 13],\n",
       "       [16, 17],\n",
       "       [20, 21],\n",
       "       [24, 25],\n",
       "       [28, 29]])"
      ]
     },
     "execution_count": 4,
     "metadata": {},
     "output_type": "execute_result"
    },
    {
     "data": {
      "text/plain": [
       "array([[99, 99],\n",
       "       [99, 99],\n",
       "       [11, 10],\n",
       "       [15, 14],\n",
       "       [19, 18],\n",
       "       [23, 22],\n",
       "       [27, 26],\n",
       "       [31, 30]])"
      ]
     },
     "execution_count": 4,
     "metadata": {},
     "output_type": "execute_result"
    },
    {
     "name": "stdout",
     "output_type": "stream",
     "text": [
      "---\n"
     ]
    },
    {
     "data": {
      "text/plain": [
       "array([99, 99])"
      ]
     },
     "execution_count": 4,
     "metadata": {},
     "output_type": "execute_result"
    },
    {
     "data": {
      "text/plain": [
       "array([[99, 99],\n",
       "       [99, 99]])"
      ]
     },
     "execution_count": 4,
     "metadata": {},
     "output_type": "execute_result"
    },
    {
     "data": {
      "text/plain": [
       "array([[99, 99],\n",
       "       [99, 99]])"
      ]
     },
     "execution_count": 4,
     "metadata": {},
     "output_type": "execute_result"
    }
   ],
   "source": [
    "# Fancy indexing - indexing using integer arrays / lists / seq of integers\n",
    "\n",
    "myarr = np.arange(32).reshape(8,4)\n",
    "myarr\n",
    "\n",
    "myarr[[0,1],:]\n",
    "myarr[[0,1]]\n",
    "myarr[np.array([0,1])]\n",
    "myarr[[1,0,1],:]\n",
    "\n",
    "myslice = myarr[[0,1],:] # fancy indexing returns a copy, not a view\n",
    "myslice[:] = 99\n",
    "myslice\n",
    "myarr\n",
    "myarr[[0,1],:] = 99 # assign values with fancy indexing\n",
    "myarr\n",
    "\n",
    "print '---'\n",
    "\n",
    "myarr[:,[0,1]]\n",
    "myarr[:,[-1, -2]]\n",
    "\n",
    "print '---'\n",
    "\n",
    "myarr[[0,1],[-3,1]] # values returned are those @ [0,-3] & [1,1]\n",
    "# compare to\n",
    "myarr[[0,1]][:,[-3,1]] \n",
    "# and see also\n",
    "myarr[np.ix_([0,1],[-3,1])]\n"
   ]
  },
  {
   "cell_type": "code",
   "execution_count": 10,
   "metadata": {
    "collapsed": false
   },
   "outputs": [
    {
     "data": {
      "text/plain": [
       "array([108, 590, 808, 639, 987])"
      ]
     },
     "execution_count": 10,
     "metadata": {},
     "output_type": "execute_result"
    },
    {
     "data": {
      "text/plain": [
       "array([108, 590, 808, 639, 987])"
      ]
     },
     "execution_count": 10,
     "metadata": {},
     "output_type": "execute_result"
    },
    {
     "name": "stdout",
     "output_type": "stream",
     "text": [
      "The slowest run took 5.51 times longer than the fastest. This could mean that an intermediate result is being cached.\n",
      "1000000 loops, best of 3: 1.08 µs per loop\n",
      "The slowest run took 15.42 times longer than the fastest. This could mean that an intermediate result is being cached.\n",
      "1000000 loops, best of 3: 1.17 µs per loop\n",
      "-----\n",
      "The slowest run took 4.81 times longer than the fastest. This could mean that an intermediate result is being cached.\n",
      "1000000 loops, best of 3: 1.49 µs per loop\n",
      "100000 loops, best of 3: 6.99 µs per loop\n"
     ]
    }
   ],
   "source": [
    "# take, put\n",
    "\n",
    "n = 1000\n",
    "arr = np.arange(n)\n",
    "idx = np.random.permutation(n)[:500]\n",
    "arr[idx][:5]\n",
    "arr.take(idx)[:5]\n",
    "\n",
    "%timeit arr[idx]\n",
    "%timeit arr.take(idx)\n",
    "\n",
    "print '-----'\n",
    "%timeit arr[idx] = 99\n",
    "%timeit arr.put(idx, -1)\n",
    "\n",
    "# performance is almost similar in all 4 cases\n"
   ]
  }
 ],
 "metadata": {
  "kernelspec": {
   "display_name": "Python 2",
   "language": "python",
   "name": "python2"
  },
  "language_info": {
   "codemirror_mode": {
    "name": "ipython",
    "version": 2
   },
   "file_extension": ".py",
   "mimetype": "text/x-python",
   "name": "python",
   "nbconvert_exporter": "python",
   "pygments_lexer": "ipython2",
   "version": "2.7.10"
  }
 },
 "nbformat": 4,
 "nbformat_minor": 2
}
