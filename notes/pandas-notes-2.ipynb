{
 "cells": [
  {
   "cell_type": "markdown",
   "metadata": {},
   "source": [
    "## Task\n",
    "More exploration of pandas basics\n",
    "\n",
    "## Notebook summary\n",
    "* Reading text files\n",
    "* Reading binary files\n",
    "* Getting data from DBs\n",
    "\n",
    "## References\n",
    "* *Python for Data Analysis*, Wes McKinney\n"
   ]
  },
  {
   "cell_type": "code",
   "execution_count": 29,
   "metadata": {
    "collapsed": false
   },
   "outputs": [
    {
     "name": "stdout",
     "output_type": "stream",
     "text": [
      "numpy.version =  1.11.2\n",
      "pandas.version =  0.19.1\n"
     ]
    }
   ],
   "source": [
    "# display output from all cmds just like Python shell\n",
    "from IPython.core.interactiveshell import InteractiveShell\n",
    "InteractiveShell.ast_node_interactivity = \"all\"\n",
    "\n",
    "import numpy as np\n",
    "print 'numpy.version = ', np.__version__\n",
    "import pandas as pd\n",
    "print 'pandas.version = ', pd.__version__\n",
    "from pandas import Series, DataFrame\n",
    "\n",
    "import sys"
   ]
  },
  {
   "cell_type": "code",
   "execution_count": 22,
   "metadata": {
    "collapsed": false
   },
   "outputs": [
    {
     "name": "stdout",
     "output_type": "stream",
     "text": [
      ",Col1,Col2,Col3\r\n",
      "Row1,Val11,Val12,Val13\r\n",
      "Row2,Val21,Val22,Val23\r\n",
      "Row3,Val31,Val32,Val33\r\n"
     ]
    },
    {
     "data": {
      "text/html": [
       "<div>\n",
       "<table border=\"1\" class=\"dataframe\">\n",
       "  <thead>\n",
       "    <tr style=\"text-align: right;\">\n",
       "      <th></th>\n",
       "      <th>Unnamed: 0</th>\n",
       "      <th>Col1</th>\n",
       "      <th>Col2</th>\n",
       "      <th>Col3</th>\n",
       "    </tr>\n",
       "  </thead>\n",
       "  <tbody>\n",
       "    <tr>\n",
       "      <th>0</th>\n",
       "      <td>Row1</td>\n",
       "      <td>Val11</td>\n",
       "      <td>Val12</td>\n",
       "      <td>Val13</td>\n",
       "    </tr>\n",
       "    <tr>\n",
       "      <th>1</th>\n",
       "      <td>Row2</td>\n",
       "      <td>Val21</td>\n",
       "      <td>Val22</td>\n",
       "      <td>Val23</td>\n",
       "    </tr>\n",
       "    <tr>\n",
       "      <th>2</th>\n",
       "      <td>Row3</td>\n",
       "      <td>Val31</td>\n",
       "      <td>Val32</td>\n",
       "      <td>Val33</td>\n",
       "    </tr>\n",
       "  </tbody>\n",
       "</table>\n",
       "</div>"
      ],
      "text/plain": [
       "  Unnamed: 0   Col1   Col2   Col3\n",
       "0       Row1  Val11  Val12  Val13\n",
       "1       Row2  Val21  Val22  Val23\n",
       "2       Row3  Val31  Val32  Val33"
      ]
     },
     "execution_count": 22,
     "metadata": {},
     "output_type": "execute_result"
    },
    {
     "data": {
      "text/html": [
       "<div>\n",
       "<table border=\"1\" class=\"dataframe\">\n",
       "  <thead>\n",
       "    <tr style=\"text-align: right;\">\n",
       "      <th></th>\n",
       "      <th>0</th>\n",
       "      <th>1</th>\n",
       "      <th>2</th>\n",
       "      <th>3</th>\n",
       "    </tr>\n",
       "  </thead>\n",
       "  <tbody>\n",
       "    <tr>\n",
       "      <th>0</th>\n",
       "      <td>NaN</td>\n",
       "      <td>Col1</td>\n",
       "      <td>Col2</td>\n",
       "      <td>Col3</td>\n",
       "    </tr>\n",
       "    <tr>\n",
       "      <th>1</th>\n",
       "      <td>Row1</td>\n",
       "      <td>Val11</td>\n",
       "      <td>Val12</td>\n",
       "      <td>Val13</td>\n",
       "    </tr>\n",
       "    <tr>\n",
       "      <th>2</th>\n",
       "      <td>Row2</td>\n",
       "      <td>Val21</td>\n",
       "      <td>Val22</td>\n",
       "      <td>Val23</td>\n",
       "    </tr>\n",
       "    <tr>\n",
       "      <th>3</th>\n",
       "      <td>Row3</td>\n",
       "      <td>Val31</td>\n",
       "      <td>Val32</td>\n",
       "      <td>Val33</td>\n",
       "    </tr>\n",
       "  </tbody>\n",
       "</table>\n",
       "</div>"
      ],
      "text/plain": [
       "      0      1      2      3\n",
       "0   NaN   Col1   Col2   Col3\n",
       "1  Row1  Val11  Val12  Val13\n",
       "2  Row2  Val21  Val22  Val23\n",
       "3  Row3  Val31  Val32  Val33"
      ]
     },
     "execution_count": 22,
     "metadata": {},
     "output_type": "execute_result"
    },
    {
     "data": {
      "text/html": [
       "<div>\n",
       "<table border=\"1\" class=\"dataframe\">\n",
       "  <thead>\n",
       "    <tr style=\"text-align: right;\">\n",
       "      <th></th>\n",
       "      <th>H1</th>\n",
       "      <th>H2</th>\n",
       "      <th>H3</th>\n",
       "      <th>H4</th>\n",
       "    </tr>\n",
       "  </thead>\n",
       "  <tbody>\n",
       "    <tr>\n",
       "      <th>0</th>\n",
       "      <td>NaN</td>\n",
       "      <td>Col1</td>\n",
       "      <td>Col2</td>\n",
       "      <td>Col3</td>\n",
       "    </tr>\n",
       "    <tr>\n",
       "      <th>1</th>\n",
       "      <td>Row1</td>\n",
       "      <td>Val11</td>\n",
       "      <td>Val12</td>\n",
       "      <td>Val13</td>\n",
       "    </tr>\n",
       "    <tr>\n",
       "      <th>2</th>\n",
       "      <td>Row2</td>\n",
       "      <td>Val21</td>\n",
       "      <td>Val22</td>\n",
       "      <td>Val23</td>\n",
       "    </tr>\n",
       "    <tr>\n",
       "      <th>3</th>\n",
       "      <td>Row3</td>\n",
       "      <td>Val31</td>\n",
       "      <td>Val32</td>\n",
       "      <td>Val33</td>\n",
       "    </tr>\n",
       "  </tbody>\n",
       "</table>\n",
       "</div>"
      ],
      "text/plain": [
       "     H1     H2     H3     H4\n",
       "0   NaN   Col1   Col2   Col3\n",
       "1  Row1  Val11  Val12  Val13\n",
       "2  Row2  Val21  Val22  Val23\n",
       "3  Row3  Val31  Val32  Val33"
      ]
     },
     "execution_count": 22,
     "metadata": {},
     "output_type": "execute_result"
    },
    {
     "data": {
      "text/html": [
       "<div>\n",
       "<table border=\"1\" class=\"dataframe\">\n",
       "  <thead>\n",
       "    <tr style=\"text-align: right;\">\n",
       "      <th></th>\n",
       "      <th>Col1</th>\n",
       "      <th>Col2</th>\n",
       "      <th>Col3</th>\n",
       "    </tr>\n",
       "  </thead>\n",
       "  <tbody>\n",
       "    <tr>\n",
       "      <th>Row1</th>\n",
       "      <td>Val11</td>\n",
       "      <td>Val12</td>\n",
       "      <td>Val13</td>\n",
       "    </tr>\n",
       "    <tr>\n",
       "      <th>Row2</th>\n",
       "      <td>Val21</td>\n",
       "      <td>Val22</td>\n",
       "      <td>Val23</td>\n",
       "    </tr>\n",
       "    <tr>\n",
       "      <th>Row3</th>\n",
       "      <td>Val31</td>\n",
       "      <td>Val32</td>\n",
       "      <td>Val33</td>\n",
       "    </tr>\n",
       "  </tbody>\n",
       "</table>\n",
       "</div>"
      ],
      "text/plain": [
       "       Col1   Col2   Col3\n",
       "Row1  Val11  Val12  Val13\n",
       "Row2  Val21  Val22  Val23\n",
       "Row3  Val31  Val32  Val33"
      ]
     },
     "execution_count": 22,
     "metadata": {},
     "output_type": "execute_result"
    },
    {
     "data": {
      "text/html": [
       "<div>\n",
       "<table border=\"1\" class=\"dataframe\">\n",
       "  <thead>\n",
       "    <tr style=\"text-align: right;\">\n",
       "      <th></th>\n",
       "      <th>Unnamed: 0</th>\n",
       "      <th>Col2</th>\n",
       "      <th>Col3</th>\n",
       "    </tr>\n",
       "    <tr>\n",
       "      <th>Col1</th>\n",
       "      <th></th>\n",
       "      <th></th>\n",
       "      <th></th>\n",
       "    </tr>\n",
       "  </thead>\n",
       "  <tbody>\n",
       "    <tr>\n",
       "      <th>Val11</th>\n",
       "      <td>Row1</td>\n",
       "      <td>Val12</td>\n",
       "      <td>Val13</td>\n",
       "    </tr>\n",
       "    <tr>\n",
       "      <th>Val21</th>\n",
       "      <td>Row2</td>\n",
       "      <td>Val22</td>\n",
       "      <td>Val23</td>\n",
       "    </tr>\n",
       "    <tr>\n",
       "      <th>Val31</th>\n",
       "      <td>Row3</td>\n",
       "      <td>Val32</td>\n",
       "      <td>Val33</td>\n",
       "    </tr>\n",
       "  </tbody>\n",
       "</table>\n",
       "</div>"
      ],
      "text/plain": [
       "      Unnamed: 0   Col2   Col3\n",
       "Col1                          \n",
       "Val11       Row1  Val12  Val13\n",
       "Val21       Row2  Val22  Val23\n",
       "Val31       Row3  Val32  Val33"
      ]
     },
     "execution_count": 22,
     "metadata": {},
     "output_type": "execute_result"
    },
    {
     "data": {
      "text/html": [
       "<div>\n",
       "<table border=\"1\" class=\"dataframe\">\n",
       "  <thead>\n",
       "    <tr style=\"text-align: right;\">\n",
       "      <th></th>\n",
       "      <th>Col1</th>\n",
       "      <th>Col2</th>\n",
       "      <th>Col3</th>\n",
       "    </tr>\n",
       "  </thead>\n",
       "  <tbody>\n",
       "    <tr>\n",
       "      <th>Row1</th>\n",
       "      <td>Val11</td>\n",
       "      <td>Val12</td>\n",
       "      <td>Val13</td>\n",
       "    </tr>\n",
       "    <tr>\n",
       "      <th>Row3</th>\n",
       "      <td>Val31</td>\n",
       "      <td>Val32</td>\n",
       "      <td>Val33</td>\n",
       "    </tr>\n",
       "  </tbody>\n",
       "</table>\n",
       "</div>"
      ],
      "text/plain": [
       "       Col1   Col2   Col3\n",
       "Row1  Val11  Val12  Val13\n",
       "Row3  Val31  Val32  Val33"
      ]
     },
     "execution_count": 22,
     "metadata": {},
     "output_type": "execute_result"
    },
    {
     "data": {
      "text/html": [
       "<div>\n",
       "<table border=\"1\" class=\"dataframe\">\n",
       "  <thead>\n",
       "    <tr style=\"text-align: right;\">\n",
       "      <th></th>\n",
       "      <th>Col1</th>\n",
       "      <th>Col2</th>\n",
       "      <th>Col3</th>\n",
       "    </tr>\n",
       "  </thead>\n",
       "  <tbody>\n",
       "    <tr>\n",
       "      <th>Row1</th>\n",
       "      <td>Val11</td>\n",
       "      <td>Val12</td>\n",
       "      <td>Val13</td>\n",
       "    </tr>\n",
       "    <tr>\n",
       "      <th>Row2</th>\n",
       "      <td>Val21</td>\n",
       "      <td>Val22</td>\n",
       "      <td>Val23</td>\n",
       "    </tr>\n",
       "  </tbody>\n",
       "</table>\n",
       "</div>"
      ],
      "text/plain": [
       "       Col1   Col2   Col3\n",
       "Row1  Val11  Val12  Val13\n",
       "Row2  Val21  Val22  Val23"
      ]
     },
     "execution_count": 22,
     "metadata": {},
     "output_type": "execute_result"
    },
    {
     "data": {
      "text/plain": [
       "<pandas.io.parsers.TextFileReader at 0x10fab8d10>"
      ]
     },
     "execution_count": 22,
     "metadata": {},
     "output_type": "execute_result"
    },
    {
     "name": "stdout",
     "output_type": "stream",
     "text": [
      "Part  0\n"
     ]
    },
    {
     "data": {
      "text/html": [
       "<div>\n",
       "<table border=\"1\" class=\"dataframe\">\n",
       "  <thead>\n",
       "    <tr style=\"text-align: right;\">\n",
       "      <th></th>\n",
       "      <th>Col1</th>\n",
       "      <th>Col2</th>\n",
       "      <th>Col3</th>\n",
       "    </tr>\n",
       "  </thead>\n",
       "  <tbody>\n",
       "    <tr>\n",
       "      <th>Row1</th>\n",
       "      <td>Val11</td>\n",
       "      <td>Val12</td>\n",
       "      <td>Val13</td>\n",
       "    </tr>\n",
       "    <tr>\n",
       "      <th>Row2</th>\n",
       "      <td>Val21</td>\n",
       "      <td>Val22</td>\n",
       "      <td>Val23</td>\n",
       "    </tr>\n",
       "  </tbody>\n",
       "</table>\n",
       "</div>"
      ],
      "text/plain": [
       "       Col1   Col2   Col3\n",
       "Row1  Val11  Val12  Val13\n",
       "Row2  Val21  Val22  Val23"
      ]
     },
     "execution_count": 22,
     "metadata": {},
     "output_type": "execute_result"
    },
    {
     "name": "stdout",
     "output_type": "stream",
     "text": [
      "Part  1\n"
     ]
    },
    {
     "data": {
      "text/html": [
       "<div>\n",
       "<table border=\"1\" class=\"dataframe\">\n",
       "  <thead>\n",
       "    <tr style=\"text-align: right;\">\n",
       "      <th></th>\n",
       "      <th>Col1</th>\n",
       "      <th>Col2</th>\n",
       "      <th>Col3</th>\n",
       "    </tr>\n",
       "  </thead>\n",
       "  <tbody>\n",
       "    <tr>\n",
       "      <th>Row3</th>\n",
       "      <td>Val31</td>\n",
       "      <td>Val32</td>\n",
       "      <td>Val33</td>\n",
       "    </tr>\n",
       "  </tbody>\n",
       "</table>\n",
       "</div>"
      ],
      "text/plain": [
       "       Col1   Col2   Col3\n",
       "Row3  Val31  Val32  Val33"
      ]
     },
     "execution_count": 22,
     "metadata": {},
     "output_type": "execute_result"
    }
   ],
   "source": [
    "# Import data from CSV file\n",
    "!cat sample_data.csv\n",
    "\n",
    "pd.read_csv('sample_data.csv')\n",
    "pd.read_csv('sample_data.csv', header=None)\n",
    "pd.read_csv('sample_data.csv', names=['H1','H2','H3','H4'])\n",
    "pd.read_csv('sample_data.csv', index_col=0)\n",
    "pd.read_csv('sample_data.csv', index_col=1)\n",
    "pd.read_csv('sample_data.csv', index_col=0, skiprows=[2])\n",
    "\n",
    "\n",
    "pd.read_csv('sample_data.csv', index_col=0, nrows=2)\n",
    "part = pd.read_csv('sample_data.csv', index_col=0, chunksize=2)\n",
    "part\n",
    "\n",
    "for i, p in enumerate(part):\n",
    "    print 'Part ', i\n",
    "    p\n",
    "    \n",
    "# See also from_csv to read Series data from file\n"
   ]
  },
  {
   "cell_type": "code",
   "execution_count": 33,
   "metadata": {
    "collapsed": false
   },
   "outputs": [
    {
     "name": "stdout",
     "output_type": "stream",
     "text": [
      ",Unnamed: 0,Col1,Col2,Col3\n",
      "0,Row1,Val11,Val12,Val13\n",
      "1,Row2,Val21,Val22,Val23\n",
      "2,Row3,Val31,Val32,Val33\n",
      "---\n",
      ",Unnamed: 0,Col1,Col2,Col3\n",
      "0,Row1,Val11,Val12,Val13\n",
      "1,Row2,Val21,Val22,Val23\n",
      "2,Row3,Val31,Val32,Val33\n",
      "---\n",
      "Unnamed: 0,Col1,Col2,Col3\n",
      "Row1,Val11,Val12,Val13\n",
      "Row2,Val21,Val22,Val23\n",
      "Row3,Val31,Val32,Val33\n"
     ]
    }
   ],
   "source": [
    "pd.read_csv('sample_data.csv').to_csv('out.csv')\n",
    "! cat out.csv\n",
    "print '---'\n",
    "\n",
    "pd.read_csv('sample_data.csv').to_csv(sys.stdout)\n",
    "print '---'\n",
    "\n",
    "pd.read_csv('sample_data.csv').to_csv(sys.stdout, index=False)\n"
   ]
  }
 ],
 "metadata": {
  "kernelspec": {
   "display_name": "Python 2",
   "language": "python",
   "name": "python2"
  },
  "language_info": {
   "codemirror_mode": {
    "name": "ipython",
    "version": 2
   },
   "file_extension": ".py",
   "mimetype": "text/x-python",
   "name": "python",
   "nbconvert_exporter": "python",
   "pygments_lexer": "ipython2",
   "version": "2.7.10"
  }
 },
 "nbformat": 4,
 "nbformat_minor": 1
}
