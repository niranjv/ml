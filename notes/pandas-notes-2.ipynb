{
 "cells": [
  {
   "cell_type": "markdown",
   "metadata": {},
   "source": [
    "## Task\n",
    "More exploration of pandas basics\n",
    "\n",
    "## Notebook summary\n",
    "* Reading/writing text files (CSV, JSON)\n",
    "* Reading/writing binary files\n",
    "* Getting data from DB\n",
    "\n",
    "## References\n",
    "* *Python for Data Analysis*, Wes McKinney, O'Reilly, 2012\n",
    "* *Numerical Python*, Robert Johansson, APress, 2015\n"
   ]
  },
  {
   "cell_type": "code",
   "execution_count": 1,
   "metadata": {
    "collapsed": false
   },
   "outputs": [
    {
     "name": "stdout",
     "output_type": "stream",
     "text": [
      "python.version =  2.7.10\n",
      "ipython.version = (5, 1, 0, '')\n",
      "pandas.version =  0.19.1\n"
     ]
    }
   ],
   "source": [
    "# display output from all cmds just like Python shell\n",
    "from IPython.core.interactiveshell import InteractiveShell\n",
    "InteractiveShell.ast_node_interactivity = \"all\"\n",
    "\n",
    "import platform\n",
    "print 'python.version = ', platform.python_version()\n",
    "import IPython\n",
    "print 'ipython.version =', IPython.version_info\n",
    "\n",
    "import pandas as pd\n",
    "print 'pandas.version = ', pd.__version__\n",
    "from pandas import Series, DataFrame\n",
    "\n",
    "import sys\n",
    "import json\n",
    "import tables\n",
    "import pandas.io.sql as sql\n",
    "import sqlite3\n"
   ]
  },
  {
   "cell_type": "code",
   "execution_count": 22,
   "metadata": {
    "collapsed": false
   },
   "outputs": [
    {
     "name": "stdout",
     "output_type": "stream",
     "text": [
      ",Col1,Col2,Col3\r\n",
      "Row1,Val11,Val12,Val13\r\n",
      "Row2,Val21,Val22,Val23\r\n",
      "Row3,Val31,Val32,Val33\r\n"
     ]
    },
    {
     "data": {
      "text/html": [
       "<div>\n",
       "<table border=\"1\" class=\"dataframe\">\n",
       "  <thead>\n",
       "    <tr style=\"text-align: right;\">\n",
       "      <th></th>\n",
       "      <th>Unnamed: 0</th>\n",
       "      <th>Col1</th>\n",
       "      <th>Col2</th>\n",
       "      <th>Col3</th>\n",
       "    </tr>\n",
       "  </thead>\n",
       "  <tbody>\n",
       "    <tr>\n",
       "      <th>0</th>\n",
       "      <td>Row1</td>\n",
       "      <td>Val11</td>\n",
       "      <td>Val12</td>\n",
       "      <td>Val13</td>\n",
       "    </tr>\n",
       "    <tr>\n",
       "      <th>1</th>\n",
       "      <td>Row2</td>\n",
       "      <td>Val21</td>\n",
       "      <td>Val22</td>\n",
       "      <td>Val23</td>\n",
       "    </tr>\n",
       "    <tr>\n",
       "      <th>2</th>\n",
       "      <td>Row3</td>\n",
       "      <td>Val31</td>\n",
       "      <td>Val32</td>\n",
       "      <td>Val33</td>\n",
       "    </tr>\n",
       "  </tbody>\n",
       "</table>\n",
       "</div>"
      ],
      "text/plain": [
       "  Unnamed: 0   Col1   Col2   Col3\n",
       "0       Row1  Val11  Val12  Val13\n",
       "1       Row2  Val21  Val22  Val23\n",
       "2       Row3  Val31  Val32  Val33"
      ]
     },
     "execution_count": 22,
     "metadata": {},
     "output_type": "execute_result"
    },
    {
     "data": {
      "text/html": [
       "<div>\n",
       "<table border=\"1\" class=\"dataframe\">\n",
       "  <thead>\n",
       "    <tr style=\"text-align: right;\">\n",
       "      <th></th>\n",
       "      <th>0</th>\n",
       "      <th>1</th>\n",
       "      <th>2</th>\n",
       "      <th>3</th>\n",
       "    </tr>\n",
       "  </thead>\n",
       "  <tbody>\n",
       "    <tr>\n",
       "      <th>0</th>\n",
       "      <td>NaN</td>\n",
       "      <td>Col1</td>\n",
       "      <td>Col2</td>\n",
       "      <td>Col3</td>\n",
       "    </tr>\n",
       "    <tr>\n",
       "      <th>1</th>\n",
       "      <td>Row1</td>\n",
       "      <td>Val11</td>\n",
       "      <td>Val12</td>\n",
       "      <td>Val13</td>\n",
       "    </tr>\n",
       "    <tr>\n",
       "      <th>2</th>\n",
       "      <td>Row2</td>\n",
       "      <td>Val21</td>\n",
       "      <td>Val22</td>\n",
       "      <td>Val23</td>\n",
       "    </tr>\n",
       "    <tr>\n",
       "      <th>3</th>\n",
       "      <td>Row3</td>\n",
       "      <td>Val31</td>\n",
       "      <td>Val32</td>\n",
       "      <td>Val33</td>\n",
       "    </tr>\n",
       "  </tbody>\n",
       "</table>\n",
       "</div>"
      ],
      "text/plain": [
       "      0      1      2      3\n",
       "0   NaN   Col1   Col2   Col3\n",
       "1  Row1  Val11  Val12  Val13\n",
       "2  Row2  Val21  Val22  Val23\n",
       "3  Row3  Val31  Val32  Val33"
      ]
     },
     "execution_count": 22,
     "metadata": {},
     "output_type": "execute_result"
    },
    {
     "data": {
      "text/html": [
       "<div>\n",
       "<table border=\"1\" class=\"dataframe\">\n",
       "  <thead>\n",
       "    <tr style=\"text-align: right;\">\n",
       "      <th></th>\n",
       "      <th>H1</th>\n",
       "      <th>H2</th>\n",
       "      <th>H3</th>\n",
       "      <th>H4</th>\n",
       "    </tr>\n",
       "  </thead>\n",
       "  <tbody>\n",
       "    <tr>\n",
       "      <th>0</th>\n",
       "      <td>NaN</td>\n",
       "      <td>Col1</td>\n",
       "      <td>Col2</td>\n",
       "      <td>Col3</td>\n",
       "    </tr>\n",
       "    <tr>\n",
       "      <th>1</th>\n",
       "      <td>Row1</td>\n",
       "      <td>Val11</td>\n",
       "      <td>Val12</td>\n",
       "      <td>Val13</td>\n",
       "    </tr>\n",
       "    <tr>\n",
       "      <th>2</th>\n",
       "      <td>Row2</td>\n",
       "      <td>Val21</td>\n",
       "      <td>Val22</td>\n",
       "      <td>Val23</td>\n",
       "    </tr>\n",
       "    <tr>\n",
       "      <th>3</th>\n",
       "      <td>Row3</td>\n",
       "      <td>Val31</td>\n",
       "      <td>Val32</td>\n",
       "      <td>Val33</td>\n",
       "    </tr>\n",
       "  </tbody>\n",
       "</table>\n",
       "</div>"
      ],
      "text/plain": [
       "     H1     H2     H3     H4\n",
       "0   NaN   Col1   Col2   Col3\n",
       "1  Row1  Val11  Val12  Val13\n",
       "2  Row2  Val21  Val22  Val23\n",
       "3  Row3  Val31  Val32  Val33"
      ]
     },
     "execution_count": 22,
     "metadata": {},
     "output_type": "execute_result"
    },
    {
     "data": {
      "text/html": [
       "<div>\n",
       "<table border=\"1\" class=\"dataframe\">\n",
       "  <thead>\n",
       "    <tr style=\"text-align: right;\">\n",
       "      <th></th>\n",
       "      <th>Col1</th>\n",
       "      <th>Col2</th>\n",
       "      <th>Col3</th>\n",
       "    </tr>\n",
       "  </thead>\n",
       "  <tbody>\n",
       "    <tr>\n",
       "      <th>Row1</th>\n",
       "      <td>Val11</td>\n",
       "      <td>Val12</td>\n",
       "      <td>Val13</td>\n",
       "    </tr>\n",
       "    <tr>\n",
       "      <th>Row2</th>\n",
       "      <td>Val21</td>\n",
       "      <td>Val22</td>\n",
       "      <td>Val23</td>\n",
       "    </tr>\n",
       "    <tr>\n",
       "      <th>Row3</th>\n",
       "      <td>Val31</td>\n",
       "      <td>Val32</td>\n",
       "      <td>Val33</td>\n",
       "    </tr>\n",
       "  </tbody>\n",
       "</table>\n",
       "</div>"
      ],
      "text/plain": [
       "       Col1   Col2   Col3\n",
       "Row1  Val11  Val12  Val13\n",
       "Row2  Val21  Val22  Val23\n",
       "Row3  Val31  Val32  Val33"
      ]
     },
     "execution_count": 22,
     "metadata": {},
     "output_type": "execute_result"
    },
    {
     "data": {
      "text/html": [
       "<div>\n",
       "<table border=\"1\" class=\"dataframe\">\n",
       "  <thead>\n",
       "    <tr style=\"text-align: right;\">\n",
       "      <th></th>\n",
       "      <th>Unnamed: 0</th>\n",
       "      <th>Col2</th>\n",
       "      <th>Col3</th>\n",
       "    </tr>\n",
       "    <tr>\n",
       "      <th>Col1</th>\n",
       "      <th></th>\n",
       "      <th></th>\n",
       "      <th></th>\n",
       "    </tr>\n",
       "  </thead>\n",
       "  <tbody>\n",
       "    <tr>\n",
       "      <th>Val11</th>\n",
       "      <td>Row1</td>\n",
       "      <td>Val12</td>\n",
       "      <td>Val13</td>\n",
       "    </tr>\n",
       "    <tr>\n",
       "      <th>Val21</th>\n",
       "      <td>Row2</td>\n",
       "      <td>Val22</td>\n",
       "      <td>Val23</td>\n",
       "    </tr>\n",
       "    <tr>\n",
       "      <th>Val31</th>\n",
       "      <td>Row3</td>\n",
       "      <td>Val32</td>\n",
       "      <td>Val33</td>\n",
       "    </tr>\n",
       "  </tbody>\n",
       "</table>\n",
       "</div>"
      ],
      "text/plain": [
       "      Unnamed: 0   Col2   Col3\n",
       "Col1                          \n",
       "Val11       Row1  Val12  Val13\n",
       "Val21       Row2  Val22  Val23\n",
       "Val31       Row3  Val32  Val33"
      ]
     },
     "execution_count": 22,
     "metadata": {},
     "output_type": "execute_result"
    },
    {
     "data": {
      "text/html": [
       "<div>\n",
       "<table border=\"1\" class=\"dataframe\">\n",
       "  <thead>\n",
       "    <tr style=\"text-align: right;\">\n",
       "      <th></th>\n",
       "      <th>Col1</th>\n",
       "      <th>Col2</th>\n",
       "      <th>Col3</th>\n",
       "    </tr>\n",
       "  </thead>\n",
       "  <tbody>\n",
       "    <tr>\n",
       "      <th>Row1</th>\n",
       "      <td>Val11</td>\n",
       "      <td>Val12</td>\n",
       "      <td>Val13</td>\n",
       "    </tr>\n",
       "    <tr>\n",
       "      <th>Row3</th>\n",
       "      <td>Val31</td>\n",
       "      <td>Val32</td>\n",
       "      <td>Val33</td>\n",
       "    </tr>\n",
       "  </tbody>\n",
       "</table>\n",
       "</div>"
      ],
      "text/plain": [
       "       Col1   Col2   Col3\n",
       "Row1  Val11  Val12  Val13\n",
       "Row3  Val31  Val32  Val33"
      ]
     },
     "execution_count": 22,
     "metadata": {},
     "output_type": "execute_result"
    },
    {
     "data": {
      "text/html": [
       "<div>\n",
       "<table border=\"1\" class=\"dataframe\">\n",
       "  <thead>\n",
       "    <tr style=\"text-align: right;\">\n",
       "      <th></th>\n",
       "      <th>Col1</th>\n",
       "      <th>Col2</th>\n",
       "      <th>Col3</th>\n",
       "    </tr>\n",
       "  </thead>\n",
       "  <tbody>\n",
       "    <tr>\n",
       "      <th>Row1</th>\n",
       "      <td>Val11</td>\n",
       "      <td>Val12</td>\n",
       "      <td>Val13</td>\n",
       "    </tr>\n",
       "    <tr>\n",
       "      <th>Row2</th>\n",
       "      <td>Val21</td>\n",
       "      <td>Val22</td>\n",
       "      <td>Val23</td>\n",
       "    </tr>\n",
       "  </tbody>\n",
       "</table>\n",
       "</div>"
      ],
      "text/plain": [
       "       Col1   Col2   Col3\n",
       "Row1  Val11  Val12  Val13\n",
       "Row2  Val21  Val22  Val23"
      ]
     },
     "execution_count": 22,
     "metadata": {},
     "output_type": "execute_result"
    },
    {
     "data": {
      "text/plain": [
       "<pandas.io.parsers.TextFileReader at 0x10fab8d10>"
      ]
     },
     "execution_count": 22,
     "metadata": {},
     "output_type": "execute_result"
    },
    {
     "name": "stdout",
     "output_type": "stream",
     "text": [
      "Part  0\n"
     ]
    },
    {
     "data": {
      "text/html": [
       "<div>\n",
       "<table border=\"1\" class=\"dataframe\">\n",
       "  <thead>\n",
       "    <tr style=\"text-align: right;\">\n",
       "      <th></th>\n",
       "      <th>Col1</th>\n",
       "      <th>Col2</th>\n",
       "      <th>Col3</th>\n",
       "    </tr>\n",
       "  </thead>\n",
       "  <tbody>\n",
       "    <tr>\n",
       "      <th>Row1</th>\n",
       "      <td>Val11</td>\n",
       "      <td>Val12</td>\n",
       "      <td>Val13</td>\n",
       "    </tr>\n",
       "    <tr>\n",
       "      <th>Row2</th>\n",
       "      <td>Val21</td>\n",
       "      <td>Val22</td>\n",
       "      <td>Val23</td>\n",
       "    </tr>\n",
       "  </tbody>\n",
       "</table>\n",
       "</div>"
      ],
      "text/plain": [
       "       Col1   Col2   Col3\n",
       "Row1  Val11  Val12  Val13\n",
       "Row2  Val21  Val22  Val23"
      ]
     },
     "execution_count": 22,
     "metadata": {},
     "output_type": "execute_result"
    },
    {
     "name": "stdout",
     "output_type": "stream",
     "text": [
      "Part  1\n"
     ]
    },
    {
     "data": {
      "text/html": [
       "<div>\n",
       "<table border=\"1\" class=\"dataframe\">\n",
       "  <thead>\n",
       "    <tr style=\"text-align: right;\">\n",
       "      <th></th>\n",
       "      <th>Col1</th>\n",
       "      <th>Col2</th>\n",
       "      <th>Col3</th>\n",
       "    </tr>\n",
       "  </thead>\n",
       "  <tbody>\n",
       "    <tr>\n",
       "      <th>Row3</th>\n",
       "      <td>Val31</td>\n",
       "      <td>Val32</td>\n",
       "      <td>Val33</td>\n",
       "    </tr>\n",
       "  </tbody>\n",
       "</table>\n",
       "</div>"
      ],
      "text/plain": [
       "       Col1   Col2   Col3\n",
       "Row3  Val31  Val32  Val33"
      ]
     },
     "execution_count": 22,
     "metadata": {},
     "output_type": "execute_result"
    }
   ],
   "source": [
    "# Import data from CSV file\n",
    "!cat sample_data.csv\n",
    "\n",
    "pd.read_csv('sample_data.csv')\n",
    "pd.read_csv('sample_data.csv', header=None)\n",
    "pd.read_csv('sample_data.csv', names=['H1','H2','H3','H4'])\n",
    "pd.read_csv('sample_data.csv', index_col=0)\n",
    "pd.read_csv('sample_data.csv', index_col=1)\n",
    "pd.read_csv('sample_data.csv', index_col=0, skiprows=[2])\n",
    "\n",
    "\n",
    "pd.read_csv('sample_data.csv', index_col=0, nrows=2)\n",
    "part = pd.read_csv('sample_data.csv', index_col=0, chunksize=2)\n",
    "part\n",
    "\n",
    "for i, p in enumerate(part):\n",
    "    print 'Part ', i\n",
    "    p\n",
    "    \n",
    "# See also from_csv to read Series data from file\n"
   ]
  },
  {
   "cell_type": "code",
   "execution_count": 21,
   "metadata": {
    "collapsed": false,
    "scrolled": true
   },
   "outputs": [
    {
     "name": "stdout",
     "output_type": "stream",
     "text": [
      ",Unnamed: 0,Col1,Col2,Col3\n",
      "0,Row1,Val11,Val12,Val13\n",
      "1,Row2,Val21,Val22,Val23\n",
      "2,Row3,Val31,Val32,Val33\n",
      "---\n",
      ",Unnamed: 0,Col1,Col2,Col3\n",
      "0,Row1,Val11,Val12,Val13\n",
      "1,Row2,Val21,Val22,Val23\n",
      "2,Row3,Val31,Val32,Val33\n",
      "---\n",
      "Row1,Val11,Val12,Val13\n",
      "Row2,Val21,Val22,Val23\n",
      "Row3,Val31,Val32,Val33\n",
      "---\n",
      "Col1\n",
      "Val11\n",
      "Val21\n",
      "Val31\n"
     ]
    }
   ],
   "source": [
    "pd.read_csv('sample_data.csv').to_csv('out.csv')\n",
    "! cat out.csv\n",
    "print '---'\n",
    "\n",
    "pd.read_csv('sample_data.csv').to_csv(sys.stdout)\n",
    "print '---'\n",
    "\n",
    "pd.read_csv('sample_data.csv').to_csv(sys.stdout, index=False, header=False)\n",
    "print '---' \n",
    "\n",
    "\n",
    "pd.read_csv('sample_data.csv').to_csv(sys.stdout, index=False, columns=['Col1'])\n",
    "\n",
    "\n",
    "# Save to binary format\n",
    "pd.read_csv('sample_data.csv').to_pickle('pickled.out')\n"
   ]
  },
  {
   "cell_type": "code",
   "execution_count": 19,
   "metadata": {
    "collapsed": false
   },
   "outputs": [
    {
     "data": {
      "text/plain": [
       "{u'age': 99, u'city': u'MyCity', u'country': u'MyCountry', u'name': u'MyName'}"
      ]
     },
     "execution_count": 19,
     "metadata": {},
     "output_type": "execute_result"
    },
    {
     "data": {
      "text/plain": [
       "'{\"city\": \"MyCity\", \"age\": 99, \"name\": \"MyName\", \"country\": \"MyCountry\"}'"
      ]
     },
     "execution_count": 19,
     "metadata": {},
     "output_type": "execute_result"
    },
    {
     "data": {
      "text/html": [
       "<div>\n",
       "<table border=\"1\" class=\"dataframe\">\n",
       "  <thead>\n",
       "    <tr style=\"text-align: right;\">\n",
       "      <th></th>\n",
       "      <th>age</th>\n",
       "      <th>city</th>\n",
       "      <th>country</th>\n",
       "      <th>name</th>\n",
       "    </tr>\n",
       "  </thead>\n",
       "  <tbody>\n",
       "    <tr>\n",
       "      <th>Me</th>\n",
       "      <td>99</td>\n",
       "      <td>MyCity</td>\n",
       "      <td>MyCountry</td>\n",
       "      <td>MyName</td>\n",
       "    </tr>\n",
       "  </tbody>\n",
       "</table>\n",
       "</div>"
      ],
      "text/plain": [
       "    age    city    country    name\n",
       "Me   99  MyCity  MyCountry  MyName"
      ]
     },
     "execution_count": 19,
     "metadata": {},
     "output_type": "execute_result"
    }
   ],
   "source": [
    "# JSON\n",
    "\n",
    "myjson = \"\"\"\n",
    "{\n",
    "\"name\": \"MyName\",\n",
    "\"age\": 99,\n",
    "\"city\": \"MyCity\",\n",
    "\"country\": \"MyCountry\"\n",
    "}\n",
    "\"\"\"\n",
    "\n",
    "json.loads(myjson)\n",
    "json.dumps(json.loads(myjson))\n",
    "\n",
    "DataFrame(json.loads(myjson), index=['Me'])\n"
   ]
  },
  {
   "cell_type": "code",
   "execution_count": 29,
   "metadata": {
    "collapsed": false
   },
   "outputs": [
    {
     "name": "stderr",
     "output_type": "stream",
     "text": [
      "/Users/vissan1/GitHub/ml/venv/lib/python2.7/site-packages/ipykernel/__main__.py:4: PerformanceWarning: \n",
      "your performance may suffer as PyTables will pickle object types that it cannot\n",
      "map directly to c-types [inferred_type->unicode,key->axis0] [items->None]\n",
      "\n",
      "/Users/vissan1/GitHub/ml/venv/lib/python2.7/site-packages/ipykernel/__main__.py:4: PerformanceWarning: \n",
      "your performance may suffer as PyTables will pickle object types that it cannot\n",
      "map directly to c-types [inferred_type->unicode,key->block0_items] [items->None]\n",
      "\n",
      "/Users/vissan1/GitHub/ml/venv/lib/python2.7/site-packages/ipykernel/__main__.py:4: PerformanceWarning: \n",
      "your performance may suffer as PyTables will pickle object types that it cannot\n",
      "map directly to c-types [inferred_type->unicode,key->block1_items] [items->None]\n",
      "\n"
     ]
    },
    {
     "data": {
      "text/plain": [
       "<class 'pandas.io.pytables.HDFStore'>\n",
       "File path: MyData.h5\n",
       "/item1            frame        (shape->[1,2])"
      ]
     },
     "execution_count": 29,
     "metadata": {},
     "output_type": "execute_result"
    },
    {
     "data": {
      "text/html": [
       "<div>\n",
       "<table border=\"1\" class=\"dataframe\">\n",
       "  <thead>\n",
       "    <tr style=\"text-align: right;\">\n",
       "      <th></th>\n",
       "      <th>age</th>\n",
       "      <th>city</th>\n",
       "      <th>country</th>\n",
       "      <th>name</th>\n",
       "    </tr>\n",
       "  </thead>\n",
       "  <tbody>\n",
       "    <tr>\n",
       "      <th>Me</th>\n",
       "      <td>99</td>\n",
       "      <td>MyCity</td>\n",
       "      <td>MyCountry</td>\n",
       "      <td>MyName</td>\n",
       "    </tr>\n",
       "  </tbody>\n",
       "</table>\n",
       "</div>"
      ],
      "text/plain": [
       "    age    city    country    name\n",
       "Me   99  MyCity  MyCountry  MyName"
      ]
     },
     "execution_count": 29,
     "metadata": {},
     "output_type": "execute_result"
    }
   ],
   "source": [
    "# HDF5\n",
    "\n",
    "myHDF5Store = pd.HDFStore('MyData.h5')\n",
    "myHDF5Store['item1'] = DataFrame(json.loads(myjson), index=['Me'])\n",
    "myHDF5Store\n",
    "\n",
    "myHDF5Store['item1']\n"
   ]
  },
  {
   "cell_type": "code",
   "execution_count": 67,
   "metadata": {
    "collapsed": false
   },
   "outputs": [
    {
     "data": {
      "text/plain": [
       "<sqlite3.Cursor at 0x109585960>"
      ]
     },
     "execution_count": 67,
     "metadata": {},
     "output_type": "execute_result"
    },
    {
     "data": {
      "text/plain": [
       "<function commit>"
      ]
     },
     "execution_count": 67,
     "metadata": {},
     "output_type": "execute_result"
    },
    {
     "data": {
      "text/plain": [
       "<sqlite3.Cursor at 0x109585810>"
      ]
     },
     "execution_count": 67,
     "metadata": {},
     "output_type": "execute_result"
    },
    {
     "data": {
      "text/plain": [
       "(('Col1', None, None, None, None, None, None),\n",
       " ('Col2', None, None, None, None, None, None),\n",
       " ('Col3', None, None, None, None, None, None))"
      ]
     },
     "execution_count": 67,
     "metadata": {},
     "output_type": "execute_result"
    },
    {
     "data": {
      "text/plain": [
       "(('Col1', None, None, None, None, None, None),\n",
       " ('Col2', None, None, None, None, None, None),\n",
       " ('Col3', None, None, None, None, None, None))"
      ]
     },
     "execution_count": 67,
     "metadata": {},
     "output_type": "execute_result"
    },
    {
     "data": {
      "text/plain": [
       "('Col1', 'Col2', 'Col3')"
      ]
     },
     "execution_count": 67,
     "metadata": {},
     "output_type": "execute_result"
    },
    {
     "data": {
      "text/plain": [
       "[(1, u'This is Row 1', 3.14),\n",
       " (2, u'This is Row 2', 4.15),\n",
       " (3, u'This is Row 3', 5.16),\n",
       " (4, u'This is Row 4', 6.17)]"
      ]
     },
     "execution_count": 67,
     "metadata": {},
     "output_type": "execute_result"
    },
    {
     "data": {
      "text/html": [
       "<div>\n",
       "<table border=\"1\" class=\"dataframe\">\n",
       "  <thead>\n",
       "    <tr style=\"text-align: right;\">\n",
       "      <th></th>\n",
       "      <th>Col1</th>\n",
       "      <th>Col2</th>\n",
       "      <th>Col3</th>\n",
       "    </tr>\n",
       "  </thead>\n",
       "  <tbody>\n",
       "    <tr>\n",
       "      <th>0</th>\n",
       "      <td>1</td>\n",
       "      <td>This is Row 1</td>\n",
       "      <td>3.14</td>\n",
       "    </tr>\n",
       "    <tr>\n",
       "      <th>1</th>\n",
       "      <td>2</td>\n",
       "      <td>This is Row 2</td>\n",
       "      <td>4.15</td>\n",
       "    </tr>\n",
       "    <tr>\n",
       "      <th>2</th>\n",
       "      <td>3</td>\n",
       "      <td>This is Row 3</td>\n",
       "      <td>5.16</td>\n",
       "    </tr>\n",
       "    <tr>\n",
       "      <th>3</th>\n",
       "      <td>4</td>\n",
       "      <td>This is Row 4</td>\n",
       "      <td>6.17</td>\n",
       "    </tr>\n",
       "  </tbody>\n",
       "</table>\n",
       "</div>"
      ],
      "text/plain": [
       "   Col1           Col2  Col3\n",
       "0     1  This is Row 1  3.14\n",
       "1     2  This is Row 2  4.15\n",
       "2     3  This is Row 3  5.16\n",
       "3     4  This is Row 4  6.17"
      ]
     },
     "execution_count": 67,
     "metadata": {},
     "output_type": "execute_result"
    },
    {
     "name": "stdout",
     "output_type": "stream",
     "text": [
      "---\n"
     ]
    },
    {
     "data": {
      "text/html": [
       "<div>\n",
       "<table border=\"1\" class=\"dataframe\">\n",
       "  <thead>\n",
       "    <tr style=\"text-align: right;\">\n",
       "      <th></th>\n",
       "      <th>Col1</th>\n",
       "      <th>Col2</th>\n",
       "      <th>Col3</th>\n",
       "    </tr>\n",
       "  </thead>\n",
       "  <tbody>\n",
       "    <tr>\n",
       "      <th>0</th>\n",
       "      <td>1</td>\n",
       "      <td>This is Row 1</td>\n",
       "      <td>3.14</td>\n",
       "    </tr>\n",
       "    <tr>\n",
       "      <th>1</th>\n",
       "      <td>2</td>\n",
       "      <td>This is Row 2</td>\n",
       "      <td>4.15</td>\n",
       "    </tr>\n",
       "    <tr>\n",
       "      <th>2</th>\n",
       "      <td>3</td>\n",
       "      <td>This is Row 3</td>\n",
       "      <td>5.16</td>\n",
       "    </tr>\n",
       "    <tr>\n",
       "      <th>3</th>\n",
       "      <td>4</td>\n",
       "      <td>This is Row 4</td>\n",
       "      <td>6.17</td>\n",
       "    </tr>\n",
       "  </tbody>\n",
       "</table>\n",
       "</div>"
      ],
      "text/plain": [
       "   Col1           Col2  Col3\n",
       "0     1  This is Row 1  3.14\n",
       "1     2  This is Row 2  4.15\n",
       "2     3  This is Row 3  5.16\n",
       "3     4  This is Row 4  6.17"
      ]
     },
     "execution_count": 67,
     "metadata": {},
     "output_type": "execute_result"
    }
   ],
   "source": [
    "# SQL \n",
    "\n",
    "# Create DB with SQLite\n",
    "\n",
    "query = \"\"\"\n",
    "CREATE TABLE MyTable (\n",
    "Col1 INT,\n",
    "Col2 VARCHAR(50),\n",
    "Col3 FLOAT\n",
    ");\n",
    "\"\"\"\n",
    "\n",
    "conn = sqlite3.connect(\":memory:\")\n",
    "conn.execute(query)\n",
    "conn.commit\n",
    "\n",
    "data = [\n",
    "    (1, 'This is Row 1', 3.14),\n",
    "    (2, 'This is Row 2', 4.15),\n",
    "    (3, 'This is Row 3', 5.16),\n",
    "    (4, 'This is Row 4', 6.17)\n",
    "]\n",
    "statement = \"INSERT INTO MyTable VALUES(?,?,?)\"\n",
    "conn.executemany(statement, data)\n",
    "conn.commit()\n",
    "\n",
    "\n",
    "# Get data from this DB\n",
    "\n",
    "cursor = conn.execute('Select * from MyTable')\n",
    "cursor.description\n",
    "cursor.description\n",
    "colnames = zip(*cursor.description)[0]\n",
    "colnames\n",
    "\n",
    "rows = cursor.fetchall()\n",
    "rows\n",
    "\n",
    "DataFrame(rows, columns=colnames)\n",
    "\n",
    "print '---'\n",
    "# Using pandas function requires only a single statement\n",
    "sql.read_sql_query('SELECT * from MyTable', conn)\n"
   ]
  }
 ],
 "metadata": {
  "kernelspec": {
   "display_name": "Python 2",
   "language": "python",
   "name": "python2"
  },
  "language_info": {
   "codemirror_mode": {
    "name": "ipython",
    "version": 2
   },
   "file_extension": ".py",
   "mimetype": "text/x-python",
   "name": "python",
   "nbconvert_exporter": "python",
   "pygments_lexer": "ipython2",
   "version": "2.7.10"
  }
 },
 "nbformat": 4,
 "nbformat_minor": 1
}
