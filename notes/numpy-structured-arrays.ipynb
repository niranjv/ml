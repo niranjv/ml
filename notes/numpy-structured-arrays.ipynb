{
 "cells": [
  {
   "cell_type": "markdown",
   "metadata": {},
   "source": [
    "## Task\n",
    "Explore structured arrays in NumPy\n",
    "\n",
    "## Notebook Summary\n",
    "* Primarily used when interfacing with C, Fortran, etc. For all other cases, use `pandas`\n",
    "* Custom dtypes\n",
    "* Structured arrays\n",
    "* record arrays - same as structured arrays but allow access as attributes\n",
    "\n",
    "## References\n",
    "* *Python for Data Analysis*, Wes McKinney, O'Reilly, 2012\n",
    "* *Numerical Python*, Robert Johansson, APress, 2015\n",
    "* *Python Data Science Handbook*, Jake VanderPlas, O'Reilly, 2016\n"
   ]
  },
  {
   "cell_type": "code",
   "execution_count": 4,
   "metadata": {
    "collapsed": false
   },
   "outputs": [
    {
     "name": "stdout",
     "output_type": "stream",
     "text": [
      "python.version =  2.7.10\n",
      "ipython.version = (5, 1, 0, '')\n",
      "numpy.version =  1.11.3\n"
     ]
    }
   ],
   "source": [
    "# display output from all cmds just like Python shell\n",
    "from IPython.core.interactiveshell import InteractiveShell\n",
    "InteractiveShell.ast_node_interactivity = \"all\"\n",
    "\n",
    "import platform\n",
    "print 'python.version = ', platform.python_version()\n",
    "import IPython\n",
    "print 'ipython.version =', IPython.version_info\n",
    "\n",
    "import numpy as np\n",
    "print 'numpy.version = ', np.__version__\n"
   ]
  },
  {
   "cell_type": "code",
   "execution_count": 14,
   "metadata": {
    "collapsed": false
   },
   "outputs": [
    {
     "data": {
      "text/plain": [
       "dtype([('type', '<U10'), ('x', '<i4'), ('y', '<i4')])"
      ]
     },
     "execution_count": 14,
     "metadata": {},
     "output_type": "execute_result"
    },
    {
     "data": {
      "text/plain": [
       "dtype([('type', '<U10'), ('x', '<i4'), ('y', '<i4')])"
      ]
     },
     "execution_count": 14,
     "metadata": {},
     "output_type": "execute_result"
    },
    {
     "data": {
      "text/plain": [
       "dtype([('f0', '<U10'), ('f1', '<i4'), ('f2', '<i4')])"
      ]
     },
     "execution_count": 14,
     "metadata": {},
     "output_type": "execute_result"
    }
   ],
   "source": [
    "# custom dtypes - 3 equivalent ways to specify\n",
    "\n",
    "# as a dictionary\n",
    "t1 = np.dtype({\n",
    "    'names': ('type', 'x', 'y'),\n",
    "    'formats': ('U10', 'i4', 'i4')\n",
    "})\n",
    "t1\n",
    "\n",
    "# as list of tuples\n",
    "t2 = np.dtype([\n",
    "    ('type', 'U10'),\n",
    "    ('x', 'i4'),\n",
    "    ('y', 'i4')\n",
    "])\n",
    "t2\n",
    "\n",
    "# as types alone in a comma-separated string\n",
    "t3 = np.dtype('U10,i4,i4')\n",
    "t3\n"
   ]
  },
  {
   "cell_type": "code",
   "execution_count": 19,
   "metadata": {
    "collapsed": false
   },
   "outputs": [
    {
     "data": {
      "text/plain": [
       "array([(u'', 0, 0), (u'', 0, 0), (u'', 0, 0), (u'', 0, 0)], \n",
       "      dtype=[('type', '<U10'), ('x', '<i4'), ('y', '<i4')])"
      ]
     },
     "execution_count": 19,
     "metadata": {},
     "output_type": "execute_result"
    },
    {
     "data": {
      "text/plain": [
       "array([(u'A', 1, 1), (u'B', 2, 2), (u'C', 3, 3), (u'D', 4, 4)], \n",
       "      dtype=[('type', '<U10'), ('x', '<i4'), ('y', '<i4')])"
      ]
     },
     "execution_count": 19,
     "metadata": {},
     "output_type": "execute_result"
    }
   ],
   "source": [
    "# structured array\n",
    "\n",
    "t1 = np.dtype({\n",
    "    'names': ('type', 'x', 'y'),\n",
    "    'formats': ('U10', 'i4', 'i4')\n",
    "})\n",
    "\n",
    "arr = np.zeros(4, dtype=t1)\n",
    "arr\n",
    "\n",
    "arr[0] = ('A', 1, 1)\n",
    "arr[1] = ('B', 2, 2)\n",
    "arr[2] = ('C', 3, 3)\n",
    "arr[3] = ('D', 4, 4)\n",
    "arr\n"
   ]
  },
  {
   "cell_type": "code",
   "execution_count": 35,
   "metadata": {
    "collapsed": false
   },
   "outputs": [
    {
     "name": "stdout",
     "output_type": "stream",
     "text": [
      "----- Access via names\n"
     ]
    },
    {
     "data": {
      "text/plain": [
       "array([u'A', u'B', u'C', u'D'], \n",
       "      dtype='<U10')"
      ]
     },
     "execution_count": 35,
     "metadata": {},
     "output_type": "execute_result"
    },
    {
     "data": {
      "text/plain": [
       "array([1, 2, 3, 4], dtype=int32)"
      ]
     },
     "execution_count": 35,
     "metadata": {},
     "output_type": "execute_result"
    },
    {
     "data": {
      "text/plain": [
       "array([1, 2, 3, 4], dtype=int32)"
      ]
     },
     "execution_count": 35,
     "metadata": {},
     "output_type": "execute_result"
    },
    {
     "name": "stdout",
     "output_type": "stream",
     "text": [
      "\n",
      "----- Access via index\n"
     ]
    },
    {
     "data": {
      "text/plain": [
       "(u'B', 2, 2)"
      ]
     },
     "execution_count": 35,
     "metadata": {},
     "output_type": "execute_result"
    },
    {
     "data": {
      "text/plain": [
       "u'B'"
      ]
     },
     "execution_count": 35,
     "metadata": {},
     "output_type": "execute_result"
    },
    {
     "name": "stdout",
     "output_type": "stream",
     "text": [
      "\n",
      "----- Filtering\n"
     ]
    },
    {
     "data": {
      "text/plain": [
       "array([False, False,  True,  True], dtype=bool)"
      ]
     },
     "execution_count": 35,
     "metadata": {},
     "output_type": "execute_result"
    },
    {
     "data": {
      "text/plain": [
       "array([u'C', u'D'], \n",
       "      dtype='<U10')"
      ]
     },
     "execution_count": 35,
     "metadata": {},
     "output_type": "execute_result"
    },
    {
     "data": {
      "text/plain": [
       "array([False, False,  True,  True], dtype=bool)"
      ]
     },
     "execution_count": 35,
     "metadata": {},
     "output_type": "execute_result"
    }
   ],
   "source": [
    "# accessing values in structured arrays\n",
    "\n",
    "print '----- Access via names'\n",
    "arr['type']\n",
    "arr['x']\n",
    "arr['y']\n",
    "\n",
    "print '\\n----- Access via index'\n",
    "arr[1]\n",
    "arr[1]['type']\n",
    "\n",
    "\n",
    "print '\\n----- Filtering'\n",
    "arr['x'] >= 3\n",
    "arr[arr['x'] >= 3]['type']\n",
    "\n",
    "(arr['x'] >= 3) & (arr['x'] <= 4)\n"
   ]
  }
 ],
 "metadata": {
  "kernelspec": {
   "display_name": "Python 2",
   "language": "python",
   "name": "python2"
  },
  "language_info": {
   "codemirror_mode": {
    "name": "ipython",
    "version": 2
   },
   "file_extension": ".py",
   "mimetype": "text/x-python",
   "name": "python",
   "nbconvert_exporter": "python",
   "pygments_lexer": "ipython2",
   "version": "2.7.10"
  }
 },
 "nbformat": 4,
 "nbformat_minor": 2
}
