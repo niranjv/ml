{
 "cells": [
  {
   "cell_type": "markdown",
   "metadata": {},
   "source": [
    "# Task\n",
    "Explore time series in pandas\n",
    "\n",
    "## Notebook Summary\n",
    "* Python - datetime: date, time, datetime, timedelta\n",
    "* Python - strftime: datetime object to str\n",
    "* Python - strptime: str to datetime object\n",
    "* Python - dateutil.parser (alternative to strptime; parse without format spec)\n",
    "* `to_datetime`\n",
    "* Series with datetime index / TimeSeries object - indexing, slicing\n",
    "* Duplicate indices - is_unique\n",
    "* Date ranges\n",
    "* Frequencies\n",
    "* Shifting\n",
    "* Time zones\n",
    "* Periods\n",
    "* Resampling - downsampling\n",
    "* Resampling - upsampling\n",
    "* Moving windows\n",
    "\n",
    "## References\n",
    "* *Python for Data Analysis*, Wes McKinney, O'Reilly, 2012\n",
    "* *Numerical Python*, Robert Johansson, APress, 2015\n",
    "* *Python Data Science Handbook*, Jake VanderPlas, O'Reilly, 2016\n"
   ]
  },
  {
   "cell_type": "code",
   "execution_count": 1,
   "metadata": {
    "collapsed": false
   },
   "outputs": [
    {
     "name": "stdout",
     "output_type": "stream",
     "text": [
      "python.version =  2.7.10\n",
      "ipython.version = (5, 1, 0, '')\n",
      "numpy.version =  1.11.3\n",
      "pandas.version =  0.19.2\n"
     ]
    }
   ],
   "source": [
    "# display output from all cmds just like Python shell\n",
    "from IPython.core.interactiveshell import InteractiveShell\n",
    "InteractiveShell.ast_node_interactivity = \"all\"\n",
    "\n",
    "import platform\n",
    "print 'python.version = ', platform.python_version()\n",
    "import IPython\n",
    "print 'ipython.version =', IPython.version_info\n",
    "\n",
    "from datetime import datetime\n",
    "\n",
    "import numpy as np\n",
    "print 'numpy.version = ', np.__version__\n",
    "import pandas as pd\n",
    "print 'pandas.version = ', pd.__version__\n",
    "from pandas import Series, DataFrame\n"
   ]
  }
 ],
 "metadata": {
  "kernelspec": {
   "display_name": "Python 2",
   "language": "python",
   "name": "python2"
  },
  "language_info": {
   "codemirror_mode": {
    "name": "ipython",
    "version": 2
   },
   "file_extension": ".py",
   "mimetype": "text/x-python",
   "name": "python",
   "nbconvert_exporter": "python",
   "pygments_lexer": "ipython2",
   "version": "2.7.10"
  }
 },
 "nbformat": 4,
 "nbformat_minor": 2
}
