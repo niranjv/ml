{
 "cells": [
  {
   "cell_type": "markdown",
   "metadata": {},
   "source": [
    "## Task\n",
    "Explore `xboost` in Python/scikit-learn with the Pima Indian dataset from UCI\n",
    "\n",
    "\n",
    "## Notebook Summary\n",
    "* [Import data](#import_data)\n",
    "* [Explore data](#explore_data)\n",
    "* [Train model](#train_model)\n",
    "* [Predict](#predict)\n",
    "* [Save model](#save_model)\n",
    "\n",
    "## References\n",
    "* [Pima Indians Diabetes data set](https://archive.ics.uci.edu/ml/datasets/Pima+Indians+Diabetes)\n",
    "* http://machinelearningmastery.com/develop-first-xgboost-model-python-scikit-learn/\n"
   ]
  },
  {
   "cell_type": "code",
   "execution_count": 97,
   "metadata": {
    "collapsed": false
   },
   "outputs": [
    {
     "name": "stdout",
     "output_type": "stream",
     "text": [
      "python.version =  2.7.10\n",
      "ipython.version = (5, 1, 0, '')\n",
      "pandas.version =  0.19.2\n",
      "sklearn.version =  0.18.1\n",
      "xgboost.version =  0.6\n",
      "matplotlib.version =  1.5.3\n",
      "seaborn.version =  0.7.1\n"
     ]
    }
   ],
   "source": [
    "# display output from all cmds just like Python shell\n",
    "from IPython.core.interactiveshell import InteractiveShell\n",
    "InteractiveShell.ast_node_interactivity = \"all\"\n",
    "\n",
    "import platform\n",
    "print 'python.version = ', platform.python_version()\n",
    "import IPython\n",
    "print 'ipython.version =', IPython.version_info\n",
    "\n",
    "import pandas as pd\n",
    "print 'pandas.version = ', pd.__version__\n",
    "import sklearn\n",
    "print 'sklearn.version = ', sklearn.__version__\n",
    "from sklearn.model_selection import train_test_split\n",
    "from sklearn.metrics import accuracy_score\n",
    "\n",
    "import xgboost\n",
    "print 'xgboost.version = ', xgboost.__version__\n",
    "\n",
    "%matplotlib inline\n",
    "\n",
    "import matplotlib\n",
    "print 'matplotlib.version = ', matplotlib.__version__\n",
    "import matplotlib.pyplot as plt\n",
    "\n",
    "import seaborn as sns\n",
    "print 'seaborn.version = ', sns.__version__\n",
    "\n",
    "import pickle"
   ]
  },
  {
   "cell_type": "markdown",
   "metadata": {},
   "source": [
    "<a id=\"import_data\" />\n",
    "## Data"
   ]
  },
  {
   "cell_type": "markdown",
   "metadata": {},
   "source": [
    "\n",
    "* Data: https://archive.ics.uci.edu/ml/machine-learning-databases/pima-indians-diabetes/pima-indians-diabetes.data\n",
    "* Annotation: https://archive.ics.uci.edu/ml/machine-learning-databases/pima-indians-diabetes/pima-indians-diabetes.names\n",
    "* Data contains only females over the age of 21 \n",
    "* Columns in data file:\n",
    " 1. Number of times pregnant\n",
    " 2. Plasma glucose concentration a 2 hours in an oral glucose tolerance test\n",
    " 3. Diastolic blood pressure (mm Hg)\n",
    " 4. Triceps skin fold thickness (mm)\n",
    " 5. 2-Hour serum insulin (mu U/ml)\n",
    " 6. Body mass index (weight in kg/(height in m)^2)\n",
    " 7. Diabetes pedigree function\n",
    " 8. Age (years)\n",
    " 9. (**Response**) Class variable (0 or 1); 1 => has diabetes\n"
   ]
  },
  {
   "cell_type": "code",
   "execution_count": 98,
   "metadata": {
    "collapsed": false
   },
   "outputs": [
    {
     "data": {
      "text/html": [
       "<div>\n",
       "<table border=\"1\" class=\"dataframe\">\n",
       "  <thead>\n",
       "    <tr style=\"text-align: right;\">\n",
       "      <th></th>\n",
       "      <th>num_pregnancies</th>\n",
       "      <th>gluc_conc</th>\n",
       "      <th>bp</th>\n",
       "      <th>skin_thickness</th>\n",
       "      <th>insulin_conc</th>\n",
       "      <th>bmi</th>\n",
       "      <th>diab_ped_func</th>\n",
       "      <th>age</th>\n",
       "      <th>has_diabetes</th>\n",
       "    </tr>\n",
       "  </thead>\n",
       "  <tbody>\n",
       "    <tr>\n",
       "      <th>0</th>\n",
       "      <td>6</td>\n",
       "      <td>148</td>\n",
       "      <td>72</td>\n",
       "      <td>35</td>\n",
       "      <td>0</td>\n",
       "      <td>33.6</td>\n",
       "      <td>0.627</td>\n",
       "      <td>50</td>\n",
       "      <td>1</td>\n",
       "    </tr>\n",
       "    <tr>\n",
       "      <th>1</th>\n",
       "      <td>1</td>\n",
       "      <td>85</td>\n",
       "      <td>66</td>\n",
       "      <td>29</td>\n",
       "      <td>0</td>\n",
       "      <td>26.6</td>\n",
       "      <td>0.351</td>\n",
       "      <td>31</td>\n",
       "      <td>0</td>\n",
       "    </tr>\n",
       "    <tr>\n",
       "      <th>2</th>\n",
       "      <td>8</td>\n",
       "      <td>183</td>\n",
       "      <td>64</td>\n",
       "      <td>0</td>\n",
       "      <td>0</td>\n",
       "      <td>23.3</td>\n",
       "      <td>0.672</td>\n",
       "      <td>32</td>\n",
       "      <td>1</td>\n",
       "    </tr>\n",
       "    <tr>\n",
       "      <th>3</th>\n",
       "      <td>1</td>\n",
       "      <td>89</td>\n",
       "      <td>66</td>\n",
       "      <td>23</td>\n",
       "      <td>94</td>\n",
       "      <td>28.1</td>\n",
       "      <td>0.167</td>\n",
       "      <td>21</td>\n",
       "      <td>0</td>\n",
       "    </tr>\n",
       "    <tr>\n",
       "      <th>4</th>\n",
       "      <td>0</td>\n",
       "      <td>137</td>\n",
       "      <td>40</td>\n",
       "      <td>35</td>\n",
       "      <td>168</td>\n",
       "      <td>43.1</td>\n",
       "      <td>2.288</td>\n",
       "      <td>33</td>\n",
       "      <td>1</td>\n",
       "    </tr>\n",
       "  </tbody>\n",
       "</table>\n",
       "</div>"
      ],
      "text/plain": [
       "   num_pregnancies  gluc_conc  bp  skin_thickness  insulin_conc   bmi  \\\n",
       "0                6        148  72              35             0  33.6   \n",
       "1                1         85  66              29             0  26.6   \n",
       "2                8        183  64               0             0  23.3   \n",
       "3                1         89  66              23            94  28.1   \n",
       "4                0        137  40              35           168  43.1   \n",
       "\n",
       "   diab_ped_func  age  has_diabetes  \n",
       "0          0.627   50             1  \n",
       "1          0.351   31             0  \n",
       "2          0.672   32             1  \n",
       "3          0.167   21             0  \n",
       "4          2.288   33             1  "
      ]
     },
     "execution_count": 98,
     "metadata": {},
     "output_type": "execute_result"
    },
    {
     "name": "stdout",
     "output_type": "stream",
     "text": [
      "shape=(768, 9)\n",
      "ndim=2\n",
      "size=6912\n",
      "\n",
      "dtype=\n",
      "num_pregnancies      int64\n",
      "gluc_conc            int64\n",
      "bp                   int64\n",
      "skin_thickness       int64\n",
      "insulin_conc         int64\n",
      "bmi                float64\n",
      "diab_ped_func      float64\n",
      "age                  int64\n",
      "has_diabetes         int64\n",
      "dtype: object\n"
     ]
    }
   ],
   "source": [
    "# import data - files were previously downloaded from links above\n",
    "colnames = [\n",
    "    'num_pregnancies',\n",
    "    'gluc_conc',\n",
    "    'bp',\n",
    "    'skin_thickness',\n",
    "    'insulin_conc',\n",
    "    'bmi',\n",
    "    'diab_ped_func',\n",
    "    'age',\n",
    "    'has_diabetes'\n",
    "]\n",
    "data = pd.read_csv('pima-indians-diabetes.data', names=colnames)\n",
    "data.head()\n",
    "\n",
    "print 'shape={}\\n\\\n",
    "ndim={}\\n\\\n",
    "size={}\\n\\n\\\n",
    "dtype=\\n{}'.format(data.shape, data.ndim, data.size, data.dtypes)\n"
   ]
  },
  {
   "cell_type": "markdown",
   "metadata": {},
   "source": [
    "<a id='explore_data' />\n",
    "## Explore data"
   ]
  },
  {
   "cell_type": "code",
   "execution_count": 99,
   "metadata": {
    "collapsed": false,
    "scrolled": false
   },
   "outputs": [
    {
     "name": "stdout",
     "output_type": "stream",
     "text": [
      "Summary of co-variates:\n"
     ]
    },
    {
     "data": {
      "text/html": [
       "<div>\n",
       "<table border=\"1\" class=\"dataframe\">\n",
       "  <thead>\n",
       "    <tr style=\"text-align: right;\">\n",
       "      <th></th>\n",
       "      <th>num_pregnancies</th>\n",
       "      <th>gluc_conc</th>\n",
       "      <th>bp</th>\n",
       "      <th>skin_thickness</th>\n",
       "      <th>insulin_conc</th>\n",
       "      <th>bmi</th>\n",
       "      <th>diab_ped_func</th>\n",
       "      <th>age</th>\n",
       "    </tr>\n",
       "  </thead>\n",
       "  <tbody>\n",
       "    <tr>\n",
       "      <th>count</th>\n",
       "      <td>768.000000</td>\n",
       "      <td>768.000000</td>\n",
       "      <td>768.000000</td>\n",
       "      <td>768.000000</td>\n",
       "      <td>768.000000</td>\n",
       "      <td>768.000000</td>\n",
       "      <td>768.000000</td>\n",
       "      <td>768.000000</td>\n",
       "    </tr>\n",
       "    <tr>\n",
       "      <th>mean</th>\n",
       "      <td>3.845052</td>\n",
       "      <td>120.894531</td>\n",
       "      <td>69.105469</td>\n",
       "      <td>20.536458</td>\n",
       "      <td>79.799479</td>\n",
       "      <td>31.992578</td>\n",
       "      <td>0.471876</td>\n",
       "      <td>33.240885</td>\n",
       "    </tr>\n",
       "    <tr>\n",
       "      <th>std</th>\n",
       "      <td>3.369578</td>\n",
       "      <td>31.972618</td>\n",
       "      <td>19.355807</td>\n",
       "      <td>15.952218</td>\n",
       "      <td>115.244002</td>\n",
       "      <td>7.884160</td>\n",
       "      <td>0.331329</td>\n",
       "      <td>11.760232</td>\n",
       "    </tr>\n",
       "    <tr>\n",
       "      <th>min</th>\n",
       "      <td>0.000000</td>\n",
       "      <td>0.000000</td>\n",
       "      <td>0.000000</td>\n",
       "      <td>0.000000</td>\n",
       "      <td>0.000000</td>\n",
       "      <td>0.000000</td>\n",
       "      <td>0.078000</td>\n",
       "      <td>21.000000</td>\n",
       "    </tr>\n",
       "    <tr>\n",
       "      <th>25%</th>\n",
       "      <td>1.000000</td>\n",
       "      <td>99.000000</td>\n",
       "      <td>62.000000</td>\n",
       "      <td>0.000000</td>\n",
       "      <td>0.000000</td>\n",
       "      <td>27.300000</td>\n",
       "      <td>0.243750</td>\n",
       "      <td>24.000000</td>\n",
       "    </tr>\n",
       "    <tr>\n",
       "      <th>50%</th>\n",
       "      <td>3.000000</td>\n",
       "      <td>117.000000</td>\n",
       "      <td>72.000000</td>\n",
       "      <td>23.000000</td>\n",
       "      <td>30.500000</td>\n",
       "      <td>32.000000</td>\n",
       "      <td>0.372500</td>\n",
       "      <td>29.000000</td>\n",
       "    </tr>\n",
       "    <tr>\n",
       "      <th>75%</th>\n",
       "      <td>6.000000</td>\n",
       "      <td>140.250000</td>\n",
       "      <td>80.000000</td>\n",
       "      <td>32.000000</td>\n",
       "      <td>127.250000</td>\n",
       "      <td>36.600000</td>\n",
       "      <td>0.626250</td>\n",
       "      <td>41.000000</td>\n",
       "    </tr>\n",
       "    <tr>\n",
       "      <th>max</th>\n",
       "      <td>17.000000</td>\n",
       "      <td>199.000000</td>\n",
       "      <td>122.000000</td>\n",
       "      <td>99.000000</td>\n",
       "      <td>846.000000</td>\n",
       "      <td>67.100000</td>\n",
       "      <td>2.420000</td>\n",
       "      <td>81.000000</td>\n",
       "    </tr>\n",
       "  </tbody>\n",
       "</table>\n",
       "</div>"
      ],
      "text/plain": [
       "       num_pregnancies   gluc_conc          bp  skin_thickness  insulin_conc  \\\n",
       "count       768.000000  768.000000  768.000000      768.000000    768.000000   \n",
       "mean          3.845052  120.894531   69.105469       20.536458     79.799479   \n",
       "std           3.369578   31.972618   19.355807       15.952218    115.244002   \n",
       "min           0.000000    0.000000    0.000000        0.000000      0.000000   \n",
       "25%           1.000000   99.000000   62.000000        0.000000      0.000000   \n",
       "50%           3.000000  117.000000   72.000000       23.000000     30.500000   \n",
       "75%           6.000000  140.250000   80.000000       32.000000    127.250000   \n",
       "max          17.000000  199.000000  122.000000       99.000000    846.000000   \n",
       "\n",
       "              bmi  diab_ped_func         age  \n",
       "count  768.000000     768.000000  768.000000  \n",
       "mean    31.992578       0.471876   33.240885  \n",
       "std      7.884160       0.331329   11.760232  \n",
       "min      0.000000       0.078000   21.000000  \n",
       "25%     27.300000       0.243750   24.000000  \n",
       "50%     32.000000       0.372500   29.000000  \n",
       "75%     36.600000       0.626250   41.000000  \n",
       "max     67.100000       2.420000   81.000000  "
      ]
     },
     "execution_count": 99,
     "metadata": {},
     "output_type": "execute_result"
    },
    {
     "name": "stdout",
     "output_type": "stream",
     "text": [
      "Summary of response variable:\n"
     ]
    },
    {
     "data": {
      "text/plain": [
       "count     768\n",
       "unique      2\n",
       "top         0\n",
       "freq      500\n",
       "Name: has_diabetes, dtype: int64"
      ]
     },
     "execution_count": 99,
     "metadata": {},
     "output_type": "execute_result"
    }
   ],
   "source": [
    "# Column summary\n",
    "print 'Summary of co-variates:'\n",
    "data['has_diabetes'] = data['has_diabetes'].astype('category')\n",
    "data.describe()\n",
    "\n",
    "# response is categorical and won't show up in above description\n",
    "print 'Summary of response variable:'\n",
    "data['has_diabetes'].describe()\n"
   ]
  },
  {
   "cell_type": "raw",
   "metadata": {},
   "source": [
    "sns.pairplot(data);\n"
   ]
  },
  {
   "cell_type": "markdown",
   "metadata": {},
   "source": [
    "<a id='prepare_data' />\n",
    "## Prepare data"
   ]
  },
  {
   "cell_type": "code",
   "execution_count": 100,
   "metadata": {
    "collapsed": false
   },
   "outputs": [
    {
     "data": {
      "text/html": [
       "<div>\n",
       "<table border=\"1\" class=\"dataframe\">\n",
       "  <thead>\n",
       "    <tr style=\"text-align: right;\">\n",
       "      <th></th>\n",
       "      <th>num_pregnancies</th>\n",
       "      <th>gluc_conc</th>\n",
       "      <th>bp</th>\n",
       "      <th>skin_thickness</th>\n",
       "      <th>insulin_conc</th>\n",
       "      <th>bmi</th>\n",
       "      <th>diab_ped_func</th>\n",
       "      <th>age</th>\n",
       "    </tr>\n",
       "  </thead>\n",
       "  <tbody>\n",
       "    <tr>\n",
       "      <th>0</th>\n",
       "      <td>6</td>\n",
       "      <td>148</td>\n",
       "      <td>72</td>\n",
       "      <td>35</td>\n",
       "      <td>0</td>\n",
       "      <td>33.6</td>\n",
       "      <td>0.627</td>\n",
       "      <td>50</td>\n",
       "    </tr>\n",
       "    <tr>\n",
       "      <th>1</th>\n",
       "      <td>1</td>\n",
       "      <td>85</td>\n",
       "      <td>66</td>\n",
       "      <td>29</td>\n",
       "      <td>0</td>\n",
       "      <td>26.6</td>\n",
       "      <td>0.351</td>\n",
       "      <td>31</td>\n",
       "    </tr>\n",
       "    <tr>\n",
       "      <th>2</th>\n",
       "      <td>8</td>\n",
       "      <td>183</td>\n",
       "      <td>64</td>\n",
       "      <td>0</td>\n",
       "      <td>0</td>\n",
       "      <td>23.3</td>\n",
       "      <td>0.672</td>\n",
       "      <td>32</td>\n",
       "    </tr>\n",
       "    <tr>\n",
       "      <th>3</th>\n",
       "      <td>1</td>\n",
       "      <td>89</td>\n",
       "      <td>66</td>\n",
       "      <td>23</td>\n",
       "      <td>94</td>\n",
       "      <td>28.1</td>\n",
       "      <td>0.167</td>\n",
       "      <td>21</td>\n",
       "    </tr>\n",
       "    <tr>\n",
       "      <th>4</th>\n",
       "      <td>0</td>\n",
       "      <td>137</td>\n",
       "      <td>40</td>\n",
       "      <td>35</td>\n",
       "      <td>168</td>\n",
       "      <td>43.1</td>\n",
       "      <td>2.288</td>\n",
       "      <td>33</td>\n",
       "    </tr>\n",
       "  </tbody>\n",
       "</table>\n",
       "</div>"
      ],
      "text/plain": [
       "   num_pregnancies  gluc_conc  bp  skin_thickness  insulin_conc   bmi  \\\n",
       "0                6        148  72              35             0  33.6   \n",
       "1                1         85  66              29             0  26.6   \n",
       "2                8        183  64               0             0  23.3   \n",
       "3                1         89  66              23            94  28.1   \n",
       "4                0        137  40              35           168  43.1   \n",
       "\n",
       "   diab_ped_func  age  \n",
       "0          0.627   50  \n",
       "1          0.351   31  \n",
       "2          0.672   32  \n",
       "3          0.167   21  \n",
       "4          2.288   33  "
      ]
     },
     "execution_count": 100,
     "metadata": {},
     "output_type": "execute_result"
    },
    {
     "data": {
      "text/plain": [
       "0    1\n",
       "1    0\n",
       "2    1\n",
       "3    0\n",
       "4    1\n",
       "Name: has_diabetes, dtype: category\n",
       "Categories (2, int64): [0, 1]"
      ]
     },
     "execution_count": 100,
     "metadata": {},
     "output_type": "execute_result"
    },
    {
     "data": {
      "text/plain": [
       "((514, 8), (514,))"
      ]
     },
     "execution_count": 100,
     "metadata": {},
     "output_type": "execute_result"
    },
    {
     "data": {
      "text/plain": [
       "((254, 8), (254,))"
      ]
     },
     "execution_count": 100,
     "metadata": {},
     "output_type": "execute_result"
    }
   ],
   "source": [
    "# Split data into training and test sets\n",
    "# Training - 2/3 rd\n",
    "# Test - 1/3 rd\n",
    "\n",
    "X = data[range(8)]\n",
    "X.head()\n",
    "Y = data['has_diabetes']\n",
    "Y.head()\n",
    "\n",
    "X_train, X_test, Y_train, Y_test = train_test_split(X, Y, test_size=0.33)\n",
    "\n",
    "X_train.shape, Y_train.shape\n",
    "X_test.shape, Y_test.shape\n"
   ]
  },
  {
   "cell_type": "markdown",
   "metadata": {},
   "source": [
    "<a id='train_model' />\n",
    "## Train model"
   ]
  },
  {
   "cell_type": "code",
   "execution_count": 101,
   "metadata": {
    "collapsed": false
   },
   "outputs": [
    {
     "data": {
      "text/plain": [
       "XGBClassifier(base_score=0.5, colsample_bylevel=1, colsample_bytree=1,\n",
       "       gamma=0, learning_rate=0.1, max_delta_step=0, max_depth=3,\n",
       "       min_child_weight=1, missing=None, n_estimators=100, nthread=-1,\n",
       "       objective='binary:logistic', reg_alpha=0, reg_lambda=1,\n",
       "       scale_pos_weight=1, seed=0, silent=True, subsample=1)"
      ]
     },
     "execution_count": 101,
     "metadata": {},
     "output_type": "execute_result"
    }
   ],
   "source": [
    "model = xgboost.XGBClassifier()\n",
    "model.fit(X_train, Y_train)\n"
   ]
  },
  {
   "cell_type": "markdown",
   "metadata": {},
   "source": [
    "<a id='predict' />\n",
    "## Predict & evaluate\n"
   ]
  },
  {
   "cell_type": "code",
   "execution_count": 102,
   "metadata": {
    "collapsed": false,
    "scrolled": false
   },
   "outputs": [
    {
     "name": "stdout",
     "output_type": "stream",
     "text": [
      "Accuracy = 0.713 \n",
      "\n"
     ]
    },
    {
     "data": {
      "image/png": "[encoded data removed]",
      "text/plain": [
       "<matplotlib.figure.Figure at 0x116169410>"
      ]
     },
     "metadata": {},
     "output_type": "display_data"
    }
   ],
   "source": [
    "Y_pred = model.predict(X_test)\n",
    "pd.Series(y_pred, dtype='category').describe()\n",
    "\n",
    "acc = accuracy_score(Y_test, Y_pred)\n",
    "print 'Accuracy =', round(acc,3), '\\n'\n",
    "\n",
    "\n",
    "xgboost.plot_importance(model);\n"
   ]
  },
  {
   "cell_type": "markdown",
   "metadata": {},
   "source": [
    "<a id='save_model' />\n",
    "## Save model"
   ]
  },
  {
   "cell_type": "code",
   "execution_count": 103,
   "metadata": {
    "collapsed": false
   },
   "outputs": [],
   "source": [
    "model_file = open('pima-xgboost.model', 'wb')\n",
    "pickle.dump(model, model_file)\n",
    "\n",
    "# To use model later\n",
    "# model_file = open('pima-xgboost.model', 'rb')\n",
    "# saved_model = pickle.load(model_file)\n",
    "# Y_pred = saved_model.predict(X_new)\n"
   ]
  }
 ],
 "metadata": {
  "kernelspec": {
   "display_name": "Python 2",
   "language": "python",
   "name": "python2"
  },
  "language_info": {
   "codemirror_mode": {
    "name": "ipython",
    "version": 2
   },
   "file_extension": ".py",
   "mimetype": "text/x-python",
   "name": "python",
   "nbconvert_exporter": "python",
   "pygments_lexer": "ipython2",
   "version": "2.7.10"
  }
 },
 "nbformat": 4,
 "nbformat_minor": 2
}
